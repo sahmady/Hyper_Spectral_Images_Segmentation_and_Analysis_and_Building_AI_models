{
  "nbformat": 4,
  "nbformat_minor": 0,
  "metadata": {
    "colab": {
      "name": "RandomFrstReg.ipynb",
      "provenance": [],
      "collapsed_sections": []
    },
    "kernelspec": {
      "name": "python3",
      "display_name": "Python 3"
    },
    "accelerator": "GPU"
  },
  "cells": [
    {
      "cell_type": "code",
      "metadata": {
        "id": "chq7arTjUt4g",
        "colab_type": "code",
        "colab": {}
      },
      "source": [
        "%tensorflow_version 2.x\n",
        "import tensorflow"
      ],
      "execution_count": 0,
      "outputs": []
    },
    {
      "cell_type": "code",
      "metadata": {
        "id": "PwpCrS-umlXp",
        "colab_type": "code",
        "colab": {}
      },
      "source": [
        "import pandas as pd\n",
        "import numpy as np\n",
        "from sklearn import preprocessing\n",
        "from sklearn.model_selection import GridSearchCV, train_test_split\n",
        "# Random Forest\n",
        "from sklearn.ensemble import RandomForestRegressor\n",
        "from sklearn.metrics import r2_score, mean_squared_error\n",
        "import matplotlib.pyplot as plt\n",
        "import seaborn as sns\n",
        "sns.set(style=\"darkgrid\")"
      ],
      "execution_count": 0,
      "outputs": []
    },
    {
      "cell_type": "code",
      "metadata": {
        "id": "JGOstYaT2xZ9",
        "colab_type": "code",
        "colab": {
          "base_uri": "https://localhost:8080/",
          "height": 34
        },
        "outputId": "d7c88022-746f-4135-dd77-a338ddcb7c7e"
      },
      "source": [
        "from google.colab import drive\n",
        "drive.mount('/content/drive')"
      ],
      "execution_count": 18,
      "outputs": [
        {
          "output_type": "stream",
          "text": [
            "Drive already mounted at /content/drive; to attempt to forcibly remount, call drive.mount(\"/content/drive\", force_remount=True).\n"
          ],
          "name": "stdout"
        }
      ]
    },
    {
      "cell_type": "code",
      "metadata": {
        "id": "CZFns5uSnT9i",
        "colab_type": "code",
        "outputId": "a27a7920-a3bd-451f-e4dc-de176b402f72",
        "colab": {
          "base_uri": "https://localhost:8080/",
          "height": 252
        }
      },
      "source": [
        "# Read Attributes/Features from file\n",
        "df_ip = pd.read_csv(\"/content/drive/My Drive/Regression Crops/swir_ds.csv\")\n",
        "print(df_ip.iloc[:,1:])"
      ],
      "execution_count": 19,
      "outputs": [
        {
          "output_type": "stream",
          "text": [
            "     Img_name Var_name  Band_001  ...  Band_254  Band_255  Band_256\n",
            "0       38367     mean  33494.16  ...    907.07    882.74    866.28\n",
            "1       38368     mean  30631.00  ...    662.62    654.40    633.60\n",
            "2       38369     mean  30501.70  ...    812.08    797.25    793.31\n",
            "3       38370     mean  31935.69  ...    894.70    877.91    849.85\n",
            "4       38371     mean  31334.30  ...    839.69    830.51    789.81\n",
            "..        ...      ...       ...  ...       ...       ...       ...\n",
            "450     38847     mean  36645.46  ...    956.51    920.53    893.65\n",
            "451     38848     mean  33674.15  ...    839.43    806.54    783.64\n",
            "452     38849     mean  32276.04  ...    966.73    929.47    906.54\n",
            "453     38850     mean  32733.53  ...    846.66    814.37    791.89\n",
            "454     38851     mean  29857.77  ...    734.84    728.57    713.01\n",
            "\n",
            "[455 rows x 258 columns]\n"
          ],
          "name": "stdout"
        }
      ]
    },
    {
      "cell_type": "code",
      "metadata": {
        "id": "WZPNMQDHo_x9",
        "colab_type": "code",
        "outputId": "46040a55-e8d4-4f40-fff6-9bd7d074b2f8",
        "colab": {
          "base_uri": "https://localhost:8080/",
          "height": 252
        }
      },
      "source": [
        "# Read Targets Class from file\n",
        "df_out = pd.read_csv(\"/content/drive/My Drive/Regression Crops/tgt_sugar.csv\", float_precision='round_trip')\n",
        "print(df_out)"
      ],
      "execution_count": 20,
      "outputs": [
        {
          "output_type": "stream",
          "text": [
            "     Barcode         Print Info  ...  1,1,1-Kestopentaose Total Fructan\n",
            "0      38368    Cabaret-R1_L1P3  ...               0.0690        7.2098\n",
            "1      38369     Hassan-R1_L1P4  ...               0.2214        8.3110\n",
            "2      38370     Goldie-R1_L1P5  ...               1.1188       14.6028\n",
            "3      38371    Foxtrot-R1_L1P6  ...               0.1631        3.2343\n",
            "4      38372    check 3-R1_L1P7  ...               0.1852        6.9215\n",
            "..       ...                ...  ...                  ...           ...\n",
            "471    38864  Foxtrot-R3_L21P19  ...               0.2155       13.3492\n",
            "472    38865     Drum-R3_L21P20  ...               0.2383        5.6861\n",
            "473    38868  Chariot-R3_L21P23  ...               0.4065       21.3713\n",
            "474    38870     Alis-R3_L21P25  ...               0.0514        5.0629\n",
            "475    38859  check 3-R9_L21P14  ...               0.0679        5.7750\n",
            "\n",
            "[476 rows x 17 columns]\n"
          ],
          "name": "stdout"
        }
      ]
    },
    {
      "cell_type": "code",
      "metadata": {
        "id": "PHIE9W9gpwFm",
        "colab_type": "code",
        "outputId": "7fc56ab8-95c6-46f8-edd9-985f14d5f95e",
        "colab": {
          "base_uri": "https://localhost:8080/",
          "height": 151
        }
      },
      "source": [
        "# Joining Attributes & Targets\n",
        "result = pd.merge(df_ip,\n",
        "                  df_out[['Barcode','Print Info','Variety ID','Glucose','Fructose','Sucrose','Raffinose','1-Kestose','Maltose','Nystose','1,1,1-Kestopentaose','Total Fructan']],\n",
        "                  left_on='Img_name',\n",
        "                  right_on='Barcode',\n",
        "                  how='inner')\n",
        "print(result.head())"
      ],
      "execution_count": 21,
      "outputs": [
        {
          "output_type": "stream",
          "text": [
            "   Index  Img_name Var_name  ...  Nystose  1,1,1-Kestopentaose  Total Fructan\n",
            "0      1     38367     mean  ...   0.4549               0.4934         7.4516\n",
            "1      3     38368     mean  ...   0.8382               0.0690         7.2098\n",
            "2      5     38369     mean  ...   1.3786               0.2214         8.3110\n",
            "3      7     38370     mean  ...   2.2351               1.1188        14.6028\n",
            "4      9     38371     mean  ...   0.2620               0.1631         3.2343\n",
            "\n",
            "[5 rows x 271 columns]\n"
          ],
          "name": "stdout"
        }
      ]
    },
    {
      "cell_type": "code",
      "metadata": {
        "id": "vt5RCemup3T8",
        "colab_type": "code",
        "colab": {}
      },
      "source": [
        "y_all = result[['Img_name', 'Var_name', 'Barcode', 'Glucose','Fructose','Sucrose','Raffinose','1-Kestose','Maltose','Nystose','1,1,1-Kestopentaose',\n",
        "                'Total Fructan','Band_001', 'Band_002', 'Band_003', 'Band_004', 'Band_005', 'Band_006', 'Band_007','Band_008', 'Band_009',\n",
        "     'Band_010', 'Band_011', 'Band_012', 'Band_013', 'Band_014', 'Band_015', 'Band_016', 'Band_017', 'Band_018', 'Band_019', 'Band_020',\n",
        "     'Band_021', 'Band_022', 'Band_023', 'Band_024', 'Band_025', 'Band_026', 'Band_027', 'Band_028', 'Band_029','Band_030', 'Band_031',\n",
        "     'Band_032', 'Band_033', 'Band_034', 'Band_035', 'Band_036', 'Band_037', 'Band_038', 'Band_039', 'Band_040','Band_041', 'Band_042',\n",
        "     'Band_043', 'Band_044', 'Band_045', 'Band_046', 'Band_047', 'Band_048', 'Band_049', 'Band_050', 'Band_051','Band_052', 'Band_053',\n",
        "     'Band_054', 'Band_055', 'Band_056', 'Band_057', 'Band_058', 'Band_059', 'Band_060', 'Band_061', 'Band_062','Band_063', 'Band_064',\n",
        "     'Band_065', 'Band_066', 'Band_067', 'Band_068', 'Band_069', 'Band_070', 'Band_071', 'Band_072', 'Band_073','Band_074', 'Band_075',\n",
        "     'Band_076', 'Band_077', 'Band_078', 'Band_079', 'Band_080', 'Band_081', 'Band_082', 'Band_083', 'Band_084','Band_085', 'Band_086',\n",
        "     'Band_087', 'Band_088', 'Band_089', 'Band_090', 'Band_091', 'Band_092', 'Band_093', 'Band_094', 'Band_095','Band_096', 'Band_097',\n",
        "     'Band_098', 'Band_099', 'Band_100', 'Band_101', 'Band_102', 'Band_103', 'Band_104', 'Band_105', 'Band_106','Band_107', 'Band_108',\n",
        "     'Band_109', 'Band_110', 'Band_111', 'Band_112', 'Band_113', 'Band_114', 'Band_115', 'Band_116', 'Band_117','Band_118', 'Band_119',\n",
        "     'Band_120', 'Band_121', 'Band_122', 'Band_123', 'Band_124', 'Band_125', 'Band_126', 'Band_127', 'Band_128','Band_129', 'Band_130',\n",
        "     'Band_131', 'Band_132', 'Band_133', 'Band_134', 'Band_135', 'Band_136', 'Band_137', 'Band_138', 'Band_139','Band_140', 'Band_141',\n",
        "     'Band_142', 'Band_143', 'Band_144', 'Band_145', 'Band_146', 'Band_147', 'Band_148', 'Band_149', 'Band_150','Band_151', 'Band_152',\n",
        "     'Band_153', 'Band_154', 'Band_155', 'Band_156', 'Band_157', 'Band_158', 'Band_159', 'Band_160', 'Band_161','Band_162', 'Band_163',\n",
        "     'Band_164', 'Band_165', 'Band_166', 'Band_167', 'Band_168', 'Band_169', 'Band_170', 'Band_171', 'Band_172','Band_173', 'Band_174',\n",
        "     'Band_175', 'Band_176', 'Band_177', 'Band_178', 'Band_179', 'Band_180', 'Band_181', 'Band_182', 'Band_183','Band_184', 'Band_185',\n",
        "     'Band_186', 'Band_187', 'Band_188', 'Band_189', 'Band_190', 'Band_191', 'Band_192', 'Band_193', 'Band_194','Band_195', 'Band_196',\n",
        "     'Band_197', 'Band_198', 'Band_199', 'Band_200', 'Band_201', 'Band_202', 'Band_203', 'Band_204', 'Band_205','Band_206', 'Band_207',\n",
        "     'Band_208', 'Band_209', 'Band_210', 'Band_211', 'Band_212', 'Band_213', 'Band_214', 'Band_215', 'Band_216','Band_217', 'Band_218',\n",
        "     'Band_219', 'Band_220', 'Band_221', 'Band_222', 'Band_223', 'Band_224', 'Band_225', 'Band_226', 'Band_227','Band_228', 'Band_229',\n",
        "     'Band_230', 'Band_231', 'Band_232', 'Band_233', 'Band_234', 'Band_235', 'Band_236', 'Band_237', 'Band_238','Band_239', 'Band_240',\n",
        "     'Band_241', 'Band_242', 'Band_243', 'Band_244', 'Band_245', 'Band_246', 'Band_247', 'Band_248', 'Band_249','Band_250', 'Band_251',\n",
        "     'Band_252', 'Band_253', 'Band_254', 'Band_255', 'Band_256']]"
      ],
      "execution_count": 0,
      "outputs": []
    },
    {
      "cell_type": "code",
      "metadata": {
        "id": "GZvHVj---NGT",
        "colab_type": "code",
        "colab": {}
      },
      "source": [
        "def mse_score(tgt, mdl, iput):\n",
        "    y_pred = mdl.predict(iput)\n",
        "    mse = mean_squared_error(tgt, y_pred)  #Train error = 0.01248 (mse)\n",
        "    return mse"
      ],
      "execution_count": 0,
      "outputs": []
    },
    {
      "cell_type": "code",
      "metadata": {
        "id": "T7o7ErtmOrWP",
        "colab_type": "code",
        "colab": {}
      },
      "source": [
        "def sugar(i):\n",
        "        switcher={\n",
        "                3:  'Glucose',\n",
        "                4:  'Fructose',\n",
        "                5:  'Sucrose',\n",
        "                6:  'Raffinose',\n",
        "                7:  '1-Kestose',\n",
        "                8:  'Maltose',\n",
        "                9:  'Nystose',\n",
        "                10: 'Kestopentaose',\n",
        "                11: 'Total Fructan'\n",
        "             }\n",
        "        return switcher.get(i,\"Invalid day of week\")"
      ],
      "execution_count": 0,
      "outputs": []
    },
    {
      "cell_type": "code",
      "metadata": {
        "id": "6IGZ1rylr9Lv",
        "colab_type": "code",
        "colab": {}
      },
      "source": [
        "# Select the input features\n",
        "X = y_all.iloc[:, 12:].values"
      ],
      "execution_count": 0,
      "outputs": []
    },
    {
      "cell_type": "code",
      "metadata": {
        "id": "8XBoYqi0qCwh",
        "colab_type": "code",
        "outputId": "9f738362-a04e-4f5d-e71d-f2c974ffa293",
        "colab": {
          "base_uri": "https://localhost:8080/",
          "height": 1000
        }
      },
      "source": [
        "# Select Target Sugar (from position 3, 11)\n",
        "for c in range(3, 13, 1):\n",
        "  y = y_all.iloc[:, c].values\n",
        "  # standardize and train/test split\n",
        "  X = preprocessing.scale( y_all.iloc[:, 12:])\n",
        "  X_train, X_test, y_train, y_test = train_test_split(X, y, test_size=0.30, random_state=10)\n",
        "  #Fitting Random Forest Regression model\n",
        "  regressor = RandomForestRegressor(random_state = 0, criterion=\"mae\")\n",
        "  params = {\"n_estimators\":[90, 100, 120, 150]}\n",
        "  clf = GridSearchCV(regressor, n_jobs=-1,  param_grid=params, cv=10, verbose=10)\n",
        "  clf.fit(X_train, y_train)\n",
        "  mse_test = []\n",
        "  mse_train = []\n",
        "  mse_test.append(mse_score(tgt = y_test, mdl= clf, iput= X_test))\n",
        "  mse_train.append(mse_score(tgt = y_train, mdl= clf, iput= X_train))\n",
        "  ridge_train_pred = []\n",
        "  ridge_test_pred = []\n",
        "  # prediction\n",
        "  ridge_train_pred.append(clf.predict(X_train))\n",
        "  ridge_test_pred.append(clf.predict(X_test))\n",
        "  # R-squared of training set\n",
        "  ridge_r_squared_train = [r2_score(y_train, p) for p in ridge_train_pred]\n",
        "  # R-squared of test set\n",
        "  ridge_r_squared_test = [r2_score(y_test, p) for p in ridge_test_pred]\n",
        "  print('R2 for '+str(sugar(i=c)))\n",
        "  print(ridge_r_squared_train)\n",
        "  print(ridge_r_squared_test)\n",
        "  print('MSE for '+str(sugar(i=c)))\n",
        "  print(mse_train)\n",
        "  print(mse_test)\n",
        "                         "
      ],
      "execution_count": 54,
      "outputs": [
        {
          "output_type": "stream",
          "text": [
            "Fitting 10 folds for each of 1 candidates, totalling 10 fits\n"
          ],
          "name": "stdout"
        },
        {
          "output_type": "stream",
          "text": [
            "[Parallel(n_jobs=-1)]: Using backend LokyBackend with 2 concurrent workers.\n",
            "[Parallel(n_jobs=-1)]: Done   1 tasks      | elapsed:   25.0s\n",
            "[Parallel(n_jobs=-1)]: Done   4 tasks      | elapsed:   52.5s\n",
            "[Parallel(n_jobs=-1)]: Done  10 out of  10 | elapsed:  2.1min finished\n"
          ],
          "name": "stderr"
        },
        {
          "output_type": "stream",
          "text": [
            "R2 for Glucose\n",
            "[0.8426150128899254]\n",
            "[-0.06625074817324883]\n",
            "MSE for Glucose\n",
            "[0.01381787308358843]\n",
            "[0.0764636111129044]\n",
            "Fitting 10 folds for each of 1 candidates, totalling 10 fits\n"
          ],
          "name": "stdout"
        },
        {
          "output_type": "stream",
          "text": [
            "[Parallel(n_jobs=-1)]: Using backend LokyBackend with 2 concurrent workers.\n",
            "[Parallel(n_jobs=-1)]: Done   1 tasks      | elapsed:   23.5s\n",
            "[Parallel(n_jobs=-1)]: Done   4 tasks      | elapsed:   50.7s\n",
            "[Parallel(n_jobs=-1)]: Done  10 out of  10 | elapsed:  2.1min finished\n"
          ],
          "name": "stderr"
        },
        {
          "output_type": "stream",
          "text": [
            "R2 for Fructose\n",
            "[0.8392410790456521]\n",
            "[-0.1896470686448477]\n",
            "MSE for Fructose\n",
            "[0.02224780778710811]\n",
            "[0.13442930174460668]\n",
            "Fitting 10 folds for each of 1 candidates, totalling 10 fits\n"
          ],
          "name": "stdout"
        },
        {
          "output_type": "stream",
          "text": [
            "[Parallel(n_jobs=-1)]: Using backend LokyBackend with 2 concurrent workers.\n",
            "[Parallel(n_jobs=-1)]: Done   1 tasks      | elapsed:   24.9s\n",
            "[Parallel(n_jobs=-1)]: Done   4 tasks      | elapsed:   50.7s\n",
            "[Parallel(n_jobs=-1)]: Done  10 out of  10 | elapsed:  2.1min finished\n"
          ],
          "name": "stderr"
        },
        {
          "output_type": "stream",
          "text": [
            "R2 for Sucrose\n",
            "[0.8415398108306604]\n",
            "[-0.1511073155329712]\n",
            "MSE for Sucrose\n",
            "[0.8602074871719246]\n",
            "[6.053181418551167]\n",
            "Fitting 10 folds for each of 1 candidates, totalling 10 fits\n"
          ],
          "name": "stdout"
        },
        {
          "output_type": "stream",
          "text": [
            "[Parallel(n_jobs=-1)]: Using backend LokyBackend with 2 concurrent workers.\n",
            "[Parallel(n_jobs=-1)]: Done   1 tasks      | elapsed:   22.8s\n",
            "[Parallel(n_jobs=-1)]: Done   4 tasks      | elapsed:   46.7s\n",
            "[Parallel(n_jobs=-1)]: Done  10 out of  10 | elapsed:  1.9min finished\n"
          ],
          "name": "stderr"
        },
        {
          "output_type": "stream",
          "text": [
            "R2 for Raffinose\n",
            "[0.8509970060804186]\n",
            "[-0.016422338120871904]\n",
            "MSE for Raffinose\n",
            "[0.2979695644958606]\n",
            "[1.7000738168673675]\n",
            "Fitting 10 folds for each of 1 candidates, totalling 10 fits\n"
          ],
          "name": "stdout"
        },
        {
          "output_type": "stream",
          "text": [
            "[Parallel(n_jobs=-1)]: Using backend LokyBackend with 2 concurrent workers.\n",
            "[Parallel(n_jobs=-1)]: Done   1 tasks      | elapsed:   26.5s\n",
            "[Parallel(n_jobs=-1)]: Done   4 tasks      | elapsed:   59.8s\n",
            "[Parallel(n_jobs=-1)]: Done  10 out of  10 | elapsed:  2.5min finished\n"
          ],
          "name": "stderr"
        },
        {
          "output_type": "stream",
          "text": [
            "R2 for 1-Kestose\n",
            "[0.8411992649377539]\n",
            "[-0.07934133388863307]\n",
            "MSE for 1-Kestose\n",
            "[0.11706652910038944]\n",
            "[0.8850431811027664]\n",
            "Fitting 10 folds for each of 1 candidates, totalling 10 fits\n"
          ],
          "name": "stdout"
        },
        {
          "output_type": "stream",
          "text": [
            "[Parallel(n_jobs=-1)]: Using backend LokyBackend with 2 concurrent workers.\n",
            "[Parallel(n_jobs=-1)]: Done   1 tasks      | elapsed:   24.7s\n",
            "[Parallel(n_jobs=-1)]: Done   4 tasks      | elapsed:   51.0s\n",
            "[Parallel(n_jobs=-1)]: Done  10 out of  10 | elapsed:  2.1min finished\n"
          ],
          "name": "stderr"
        },
        {
          "output_type": "stream",
          "text": [
            "R2 for Maltose\n",
            "[0.8603268166186931]\n",
            "[-0.022928289985659545]\n",
            "MSE for Maltose\n",
            "[0.011297862800268735]\n",
            "[0.07668524788231051]\n",
            "Fitting 10 folds for each of 1 candidates, totalling 10 fits\n"
          ],
          "name": "stdout"
        },
        {
          "output_type": "stream",
          "text": [
            "[Parallel(n_jobs=-1)]: Using backend LokyBackend with 2 concurrent workers.\n",
            "[Parallel(n_jobs=-1)]: Done   1 tasks      | elapsed:   22.9s\n",
            "[Parallel(n_jobs=-1)]: Done   4 tasks      | elapsed:   50.6s\n",
            "[Parallel(n_jobs=-1)]: Done  10 out of  10 | elapsed:  2.1min finished\n"
          ],
          "name": "stderr"
        },
        {
          "output_type": "stream",
          "text": [
            "R2 for Nystose\n",
            "[0.8446645460556693]\n",
            "[-0.09291853284564411]\n",
            "MSE for Nystose\n",
            "[0.11251938216946294]\n",
            "[0.9120544958060918]\n",
            "Fitting 10 folds for each of 1 candidates, totalling 10 fits\n"
          ],
          "name": "stdout"
        },
        {
          "output_type": "stream",
          "text": [
            "[Parallel(n_jobs=-1)]: Using backend LokyBackend with 2 concurrent workers.\n",
            "[Parallel(n_jobs=-1)]: Done   1 tasks      | elapsed:   23.6s\n",
            "[Parallel(n_jobs=-1)]: Done   4 tasks      | elapsed:   48.8s\n",
            "[Parallel(n_jobs=-1)]: Done  10 out of  10 | elapsed:  2.0min finished\n"
          ],
          "name": "stderr"
        },
        {
          "output_type": "stream",
          "text": [
            "R2 for Kestopentaose\n",
            "[0.8437320374753126]\n",
            "[-0.20784114052989544]\n",
            "MSE for Kestopentaose\n",
            "[0.010870153217759079]\n",
            "[0.09272684121292242]\n",
            "Fitting 10 folds for each of 1 candidates, totalling 10 fits\n"
          ],
          "name": "stdout"
        },
        {
          "output_type": "stream",
          "text": [
            "[Parallel(n_jobs=-1)]: Using backend LokyBackend with 2 concurrent workers.\n",
            "[Parallel(n_jobs=-1)]: Done   1 tasks      | elapsed:   23.6s\n",
            "[Parallel(n_jobs=-1)]: Done   4 tasks      | elapsed:   52.5s\n",
            "[Parallel(n_jobs=-1)]: Done  10 out of  10 | elapsed:  2.2min finished\n"
          ],
          "name": "stderr"
        },
        {
          "output_type": "stream",
          "text": [
            "R2 for Total Fructan\n",
            "[0.8351814503746505]\n",
            "[-0.14367030098763212]\n",
            "MSE for Total Fructan\n",
            "[2.861604693964262]\n",
            "[21.089215465444468]\n",
            "Fitting 10 folds for each of 1 candidates, totalling 10 fits\n"
          ],
          "name": "stdout"
        },
        {
          "output_type": "stream",
          "text": [
            "[Parallel(n_jobs=-1)]: Using backend LokyBackend with 2 concurrent workers.\n",
            "[Parallel(n_jobs=-1)]: Done   1 tasks      | elapsed:   16.1s\n",
            "[Parallel(n_jobs=-1)]: Done   4 tasks      | elapsed:   32.1s\n",
            "[Parallel(n_jobs=-1)]: Done  10 out of  10 | elapsed:  1.3min finished\n"
          ],
          "name": "stderr"
        },
        {
          "output_type": "stream",
          "text": [
            "R2 for Invalid day of week\n",
            "[0.9996866148465618]\n",
            "[0.9942951962786213]\n",
            "MSE for Invalid day of week\n",
            "[1873.8677569502906]\n",
            "[30734.23820550051]\n"
          ],
          "name": "stdout"
        }
      ]
    }
  ]
}