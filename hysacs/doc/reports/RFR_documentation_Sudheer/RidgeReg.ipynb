{
  "nbformat": 4,
  "nbformat_minor": 0,
  "metadata": {
    "colab": {
      "name": "RidgeReg",
      "provenance": []
    },
    "kernelspec": {
      "name": "python3",
      "display_name": "Python 3"
    }
  },
  "cells": [
    {
      "cell_type": "code",
      "metadata": {
        "id": "PwpCrS-umlXp",
        "colab_type": "code",
        "colab": {}
      },
      "source": [
        "import pandas as pd\n",
        "import numpy as np\n",
        "from sklearn import preprocessing\n",
        "from sklearn.model_selection import GridSearchCV, train_test_split\n",
        "# OLS, Ridge\n",
        "from sklearn.linear_model import LinearRegression, Ridge, Lasso\n",
        "from sklearn.metrics import r2_score, mean_squared_error\n",
        "import matplotlib.pyplot as plt"
      ],
      "execution_count": 0,
      "outputs": []
    },
    {
      "cell_type": "code",
      "metadata": {
        "id": "CZFns5uSnT9i",
        "colab_type": "code",
        "outputId": "cbd84d22-0912-4df3-e493-9a8073a145e2",
        "colab": {
          "base_uri": "https://localhost:8080/",
          "height": 252
        }
      },
      "source": [
        "# Read Attributes/Features from file\n",
        "df_ip = pd.read_csv(\"/content/drive/My Drive/Regression Crops/swir_ds.csv\")\n",
        "print(df_ip.iloc[:,1:])"
      ],
      "execution_count": 439,
      "outputs": [
        {
          "output_type": "stream",
          "text": [
            "     Img_name Var_name  Band_001  ...  Band_254  Band_255  Band_256\n",
            "0       38367     mean  33494.16  ...    907.07    882.74    866.28\n",
            "1       38368     mean  30631.00  ...    662.62    654.40    633.60\n",
            "2       38369     mean  30501.70  ...    812.08    797.25    793.31\n",
            "3       38370     mean  31935.69  ...    894.70    877.91    849.85\n",
            "4       38371     mean  31334.30  ...    839.69    830.51    789.81\n",
            "..        ...      ...       ...  ...       ...       ...       ...\n",
            "450     38847     mean  36645.46  ...    956.51    920.53    893.65\n",
            "451     38848     mean  33674.15  ...    839.43    806.54    783.64\n",
            "452     38849     mean  32276.04  ...    966.73    929.47    906.54\n",
            "453     38850     mean  32733.53  ...    846.66    814.37    791.89\n",
            "454     38851     mean  29857.77  ...    734.84    728.57    713.01\n",
            "\n",
            "[455 rows x 258 columns]\n"
          ],
          "name": "stdout"
        }
      ]
    },
    {
      "cell_type": "code",
      "metadata": {
        "id": "WZPNMQDHo_x9",
        "colab_type": "code",
        "outputId": "fd183900-797f-4ae8-cf44-3f371c6cea97",
        "colab": {
          "base_uri": "https://localhost:8080/",
          "height": 252
        }
      },
      "source": [
        "# Read Targets Class from file\n",
        "df_out = pd.read_csv(\"/content/drive/My Drive/Regression Crops/tgt_sugar.csv\", float_precision='round_trip')\n",
        "print(df_out)"
      ],
      "execution_count": 440,
      "outputs": [
        {
          "output_type": "stream",
          "text": [
            "     Barcode         Print Info  ...  1,1,1-Kestopentaose Total Fructan\n",
            "0      38368    Cabaret-R1_L1P3  ...               0.0690        7.2098\n",
            "1      38369     Hassan-R1_L1P4  ...               0.2214        8.3110\n",
            "2      38370     Goldie-R1_L1P5  ...               1.1188       14.6028\n",
            "3      38371    Foxtrot-R1_L1P6  ...               0.1631        3.2343\n",
            "4      38372    check 3-R1_L1P7  ...               0.1852        6.9215\n",
            "..       ...                ...  ...                  ...           ...\n",
            "471    38864  Foxtrot-R3_L21P19  ...               0.2155       13.3492\n",
            "472    38865     Drum-R3_L21P20  ...               0.2383        5.6861\n",
            "473    38868  Chariot-R3_L21P23  ...               0.4065       21.3713\n",
            "474    38870     Alis-R3_L21P25  ...               0.0514        5.0629\n",
            "475    38859  check 3-R9_L21P14  ...               0.0679        5.7750\n",
            "\n",
            "[476 rows x 17 columns]\n"
          ],
          "name": "stdout"
        }
      ]
    },
    {
      "cell_type": "code",
      "metadata": {
        "id": "PHIE9W9gpwFm",
        "colab_type": "code",
        "outputId": "44ff1168-ef18-4115-ac04-d499359d06f0",
        "colab": {
          "base_uri": "https://localhost:8080/",
          "height": 151
        }
      },
      "source": [
        "# Joining Attributes & Targets\n",
        "result = pd.merge(df_ip,\n",
        "                  df_out[['Barcode','Print Info','Variety ID','Glucose','Fructose','Sucrose','Raffinose','1-Kestose','Maltose','Nystose','1,1,1-Kestopentaose','Total Fructan']],\n",
        "                  left_on='Img_name',\n",
        "                  right_on='Barcode',\n",
        "                  how='inner')\n",
        "print(result.head())"
      ],
      "execution_count": 441,
      "outputs": [
        {
          "output_type": "stream",
          "text": [
            "   Index  Img_name Var_name  ...  Nystose  1,1,1-Kestopentaose  Total Fructan\n",
            "0      1     38367     mean  ...   0.4549               0.4934         7.4516\n",
            "1      3     38368     mean  ...   0.8382               0.0690         7.2098\n",
            "2      5     38369     mean  ...   1.3786               0.2214         8.3110\n",
            "3      7     38370     mean  ...   2.2351               1.1188        14.6028\n",
            "4      9     38371     mean  ...   0.2620               0.1631         3.2343\n",
            "\n",
            "[5 rows x 271 columns]\n"
          ],
          "name": "stdout"
        }
      ]
    },
    {
      "cell_type": "code",
      "metadata": {
        "id": "vt5RCemup3T8",
        "colab_type": "code",
        "colab": {}
      },
      "source": [
        "y_all = result[['Img_name', 'Var_name', 'Barcode', 'Glucose','Fructose','Sucrose','Raffinose','1-Kestose','Maltose','Nystose','1,1,1-Kestopentaose',\n",
        "                'Total Fructan','Band_001', 'Band_002', 'Band_003', 'Band_004', 'Band_005', 'Band_006', 'Band_007','Band_008', 'Band_009',\n",
        "     'Band_010', 'Band_011', 'Band_012', 'Band_013', 'Band_014', 'Band_015', 'Band_016', 'Band_017', 'Band_018', 'Band_019', 'Band_020',\n",
        "     'Band_021', 'Band_022', 'Band_023', 'Band_024', 'Band_025', 'Band_026', 'Band_027', 'Band_028', 'Band_029','Band_030', 'Band_031',\n",
        "     'Band_032', 'Band_033', 'Band_034', 'Band_035', 'Band_036', 'Band_037', 'Band_038', 'Band_039', 'Band_040','Band_041', 'Band_042',\n",
        "     'Band_043', 'Band_044', 'Band_045', 'Band_046', 'Band_047', 'Band_048', 'Band_049', 'Band_050', 'Band_051','Band_052', 'Band_053',\n",
        "     'Band_054', 'Band_055', 'Band_056', 'Band_057', 'Band_058', 'Band_059', 'Band_060', 'Band_061', 'Band_062','Band_063', 'Band_064',\n",
        "     'Band_065', 'Band_066', 'Band_067', 'Band_068', 'Band_069', 'Band_070', 'Band_071', 'Band_072', 'Band_073','Band_074', 'Band_075',\n",
        "     'Band_076', 'Band_077', 'Band_078', 'Band_079', 'Band_080', 'Band_081', 'Band_082', 'Band_083', 'Band_084','Band_085', 'Band_086',\n",
        "     'Band_087', 'Band_088', 'Band_089', 'Band_090', 'Band_091', 'Band_092', 'Band_093', 'Band_094', 'Band_095','Band_096', 'Band_097',\n",
        "     'Band_098', 'Band_099', 'Band_100', 'Band_101', 'Band_102', 'Band_103', 'Band_104', 'Band_105', 'Band_106','Band_107', 'Band_108',\n",
        "     'Band_109', 'Band_110', 'Band_111', 'Band_112', 'Band_113', 'Band_114', 'Band_115', 'Band_116', 'Band_117','Band_118', 'Band_119',\n",
        "     'Band_120', 'Band_121', 'Band_122', 'Band_123', 'Band_124', 'Band_125', 'Band_126', 'Band_127', 'Band_128','Band_129', 'Band_130',\n",
        "     'Band_131', 'Band_132', 'Band_133', 'Band_134', 'Band_135', 'Band_136', 'Band_137', 'Band_138', 'Band_139','Band_140', 'Band_141',\n",
        "     'Band_142', 'Band_143', 'Band_144', 'Band_145', 'Band_146', 'Band_147', 'Band_148', 'Band_149', 'Band_150','Band_151', 'Band_152',\n",
        "     'Band_153', 'Band_154', 'Band_155', 'Band_156', 'Band_157', 'Band_158', 'Band_159', 'Band_160', 'Band_161','Band_162', 'Band_163',\n",
        "     'Band_164', 'Band_165', 'Band_166', 'Band_167', 'Band_168', 'Band_169', 'Band_170', 'Band_171', 'Band_172','Band_173', 'Band_174',\n",
        "     'Band_175', 'Band_176', 'Band_177', 'Band_178', 'Band_179', 'Band_180', 'Band_181', 'Band_182', 'Band_183','Band_184', 'Band_185',\n",
        "     'Band_186', 'Band_187', 'Band_188', 'Band_189', 'Band_190', 'Band_191', 'Band_192', 'Band_193', 'Band_194','Band_195', 'Band_196',\n",
        "     'Band_197', 'Band_198', 'Band_199', 'Band_200', 'Band_201', 'Band_202', 'Band_203', 'Band_204', 'Band_205','Band_206', 'Band_207',\n",
        "     'Band_208', 'Band_209', 'Band_210', 'Band_211', 'Band_212', 'Band_213', 'Band_214', 'Band_215', 'Band_216','Band_217', 'Band_218',\n",
        "     'Band_219', 'Band_220', 'Band_221', 'Band_222', 'Band_223', 'Band_224', 'Band_225', 'Band_226', 'Band_227','Band_228', 'Band_229',\n",
        "     'Band_230', 'Band_231', 'Band_232', 'Band_233', 'Band_234', 'Band_235', 'Band_236', 'Band_237', 'Band_238','Band_239', 'Band_240',\n",
        "     'Band_241', 'Band_242', 'Band_243', 'Band_244', 'Band_245', 'Band_246', 'Band_247', 'Band_248', 'Band_249','Band_250', 'Band_251',\n",
        "     'Band_252', 'Band_253', 'Band_254', 'Band_255', 'Band_256']]"
      ],
      "execution_count": 0,
      "outputs": []
    },
    {
      "cell_type": "code",
      "metadata": {
        "id": "8XBoYqi0qCwh",
        "colab_type": "code",
        "colab": {
          "base_uri": "https://localhost:8080/",
          "height": 874
        },
        "outputId": "c8d73b69-702e-436d-a5d4-90d6482b1584"
      },
      "source": [
        "# Select Target Sugar (from position 3, 11)\n",
        "y = y_all.iloc[:, 6].values\n",
        "print(y)"
      ],
      "execution_count": 443,
      "outputs": [
        {
          "output_type": "stream",
          "text": [
            "[ 7.1915  6.9578  5.2362  7.7565  4.6418  5.373   7.196   4.5749  5.46\n",
            "  5.2965  6.8276  6.227   7.7781  6.1418  5.7444  5.8451  7.2133  6.1022\n",
            "  5.4552  4.8594  7.317   5.7955  4.6767  5.876   5.4178  6.9996  5.0145\n",
            "  7.8817  7.2032  5.8125  4.1007  4.9703  6.4496  5.0353  7.2356  5.0887\n",
            "  7.9523  5.5011  5.3098  6.1578  7.1552  7.1504  7.9801  5.9497  7.9265\n",
            "  5.4121  5.7106  5.9555  5.7908  7.9068  5.0967  3.5349  5.3991  7.8363\n",
            "  5.8534  6.3998  7.4884  7.5106  7.8879  5.2679  4.0842  6.3807  6.4224\n",
            "  6.9299  6.4802  8.2989  7.8593  7.7024  6.9811  7.4835  6.3916  5.4079\n",
            "  4.6689  5.2813  5.8851  8.465   6.2669  8.1878  6.4726  7.4477  7.2288\n",
            "  6.4925  5.8322  5.8027  7.6319  6.6093  5.2157  6.1775  7.6713  6.5021\n",
            "  7.2868  7.4158  6.1266  5.4567  7.5639  5.9222  4.0555  5.1279  7.6546\n",
            "  5.4836  6.0064  5.8105  5.2995  5.3063  6.0986  6.5969  5.1754  5.3196\n",
            "  4.4476  3.7418  5.0104  4.7581  5.3301  5.776   7.1396  4.8861  8.6256\n",
            "  7.2737  6.6827  4.53    3.0861  3.2936  5.7288  7.3716  6.5093  5.6313\n",
            "  6.3323  5.7901  4.9091  5.7216  6.1373  6.4757  5.2565  8.2399  9.1159\n",
            "  7.1166  8.4113  6.9168  5.6252  9.698   4.8676  5.2192  9.4837  7.2478\n",
            "  8.4294  4.8721  5.1503  6.0739  5.4354  4.871   6.6655  5.6767  5.3967\n",
            "  4.3436  2.3113  6.9872  6.5921  4.6348  4.7346  6.3357  4.9646  7.6162\n",
            "  5.8891  6.7425  4.9072  6.5266  4.2847  5.2934  6.7662  5.4668  4.727\n",
            "  5.2615  7.2533  4.7719  6.693   6.421   4.3844  5.1359  5.0511  7.9906\n",
            "  6.593   3.4216  6.5704  5.4606  5.4537  4.5547  4.425   6.3961  7.9624\n",
            "  4.7382  5.8752  5.6484  5.3559  2.2197  5.321   5.2962  5.061   5.9993\n",
            "  5.2378  5.3405  6.3577  5.9957  4.358   4.4473  6.6217  6.8424  8.733\n",
            "  8.3844  5.0865  6.8006  5.3407  6.1393  5.9621  6.9355  5.9237  4.165\n",
            "  4.9504  5.6072  3.8805  5.4508  4.8186  6.0542  5.6527  3.8793  5.0637\n",
            "  7.0375  5.863   6.0993  5.9693  7.2876  9.5315  7.4645  8.6709  5.1898\n",
            "  5.0213  4.6781  8.6574  8.442   6.3399  4.5711  6.9999  8.4519  6.8698\n",
            "  4.7227  5.8309 10.6569  4.457   6.0881  6.0433  5.263   4.7133  8.4575\n",
            "  6.0824  5.6218  6.9315  6.5437  5.5153  7.6755  6.0286  6.5309  5.8051\n",
            "  5.8627  5.2421  7.0249  8.8946  8.3018  7.3046  6.5411  6.2514  5.3521\n",
            "  6.3484  5.8324  7.5629  6.5206  5.7657  8.2435  5.8631  7.8156 11.8726\n",
            "  6.939   4.0879  4.696   7.2553  6.7164  7.836   5.9731  5.3275  7.7142\n",
            "  7.0572  4.7952  7.6635  5.1046  4.2947  6.8434  5.5873  5.1746  5.7677\n",
            "  7.4612  7.7462  4.344   4.9288  5.2412  4.3425  6.2808  6.5924  5.2931\n",
            "  4.3035  4.0985  4.4445  5.6921  5.2621  6.0476  4.2343  6.6411  5.6764\n",
            "  6.1327  5.1583  7.4154  5.1887  4.5206  7.0224  6.7191  7.4702  4.6664\n",
            "  7.7107  6.8821  5.3315  7.4344  5.1804  5.0299  5.7097  7.302   7.5355\n",
            "  6.5405  6.1561  6.1497  3.4873  5.3803  7.0453  4.6171  7.151   4.5435\n",
            "  5.7943  5.5648  5.5817  6.7027  7.107   6.7392  6.556   6.7631  3.7038\n",
            "  6.1716  4.9373  5.777   7.6321  6.167   6.0664  5.7973  6.1326  5.5058\n",
            "  5.1366  4.816   5.941   3.6312  4.3918  7.5054  5.2902  8.1782  5.6304\n",
            "  6.6701  3.7421  4.4891  5.2751  4.3324  6.3701  8.6829  8.6615  5.0809\n",
            "  8.0264  7.6233  7.6151  6.8761  4.7464  6.3039  5.643   4.4614  3.9288\n",
            "  7.3693  7.1559  5.898   5.9846  6.9114  7.3957  8.3615  7.0196  8.0588\n",
            "  8.3706  2.1757  7.1466  5.6527  6.4986  8.3419  8.3213  7.0493  7.5119\n",
            "  5.3883  4.6958  6.6808  9.2338  6.9602  6.3604  7.846   5.3645  4.685\n",
            "  6.1921  5.9555  4.2841  2.8715  6.3833  7.8331  6.5049  6.8726  5.8705\n",
            "  5.0789  7.4701  7.662   5.8255  4.5253  7.2964  7.4216  8.9568  9.8728\n",
            "  8.1216  8.1216  3.6537  4.8825  6.5708  6.5119  7.3695  7.0716  7.4076\n",
            "  6.7976  8.5018  3.7923  6.7216  6.2583  8.3515  5.6015  5.2834  6.4681\n",
            " 10.9041  4.0464  6.4863  6.3277]\n"
          ],
          "name": "stdout"
        }
      ]
    },
    {
      "cell_type": "code",
      "metadata": {
        "id": "6IGZ1rylr9Lv",
        "colab_type": "code",
        "colab": {
          "base_uri": "https://localhost:8080/",
          "height": 134
        },
        "outputId": "b9e0ccae-96ee-4307-a833-2fb46f017794"
      },
      "source": [
        "# Select the input features\n",
        "X = y_all.iloc[:, 12:].values\n",
        "print(X)"
      ],
      "execution_count": 444,
      "outputs": [
        {
          "output_type": "stream",
          "text": [
            "[[33494.16 33716.49 33859.19 ...   907.07   882.74   866.28]\n",
            " [30631.   30815.5  30934.05 ...   662.62   654.4    633.6 ]\n",
            " [30501.7  30677.4  30827.57 ...   812.08   797.25   793.31]\n",
            " ...\n",
            " [32276.04 32447.13 32561.55 ...   966.73   929.47   906.54]\n",
            " [32733.53 32896.95 33042.04 ...   846.66   814.37   791.89]\n",
            " [29857.77 30059.48 30206.71 ...   734.84   728.57   713.01]]\n"
          ],
          "name": "stdout"
        }
      ]
    },
    {
      "cell_type": "code",
      "metadata": {
        "id": "enltAHJ8shTX",
        "colab_type": "code",
        "colab": {}
      },
      "source": [
        "# standardize and train/test split\n",
        "X = preprocessing.scale( y_all.iloc[:, 12:])\n",
        "X_train, X_test, y_train, y_test = train_test_split(X, y, test_size=0.30, random_state=10)"
      ],
      "execution_count": 0,
      "outputs": []
    },
    {
      "cell_type": "code",
      "metadata": {
        "id": "OU0UDVnvtAE5",
        "colab_type": "code",
        "colab": {}
      },
      "source": [
        "ols_reg = LinearRegression()\n",
        "ols_reg.fit(X_train, y_train)\n",
        "ols_pred = ols_reg.predict(X_test)"
      ],
      "execution_count": 0,
      "outputs": []
    },
    {
      "cell_type": "code",
      "metadata": {
        "id": "ZaCyUSRjtGfR",
        "colab_type": "code",
        "colab": {
          "base_uri": "https://localhost:8080/",
          "height": 54
        },
        "outputId": "5a68161a-c0e7-4c25-dad9-90af98f2ee30"
      },
      "source": [
        "# Capturing the column names\n",
        "col_vals=[]\n",
        "for i in y_all.columns[12:]:\n",
        "     col_vals.append(i)\n",
        "\n",
        "print(col_vals)"
      ],
      "execution_count": 447,
      "outputs": [
        {
          "output_type": "stream",
          "text": [
            "['Band_001', 'Band_002', 'Band_003', 'Band_004', 'Band_005', 'Band_006', 'Band_007', 'Band_008', 'Band_009', 'Band_010', 'Band_011', 'Band_012', 'Band_013', 'Band_014', 'Band_015', 'Band_016', 'Band_017', 'Band_018', 'Band_019', 'Band_020', 'Band_021', 'Band_022', 'Band_023', 'Band_024', 'Band_025', 'Band_026', 'Band_027', 'Band_028', 'Band_029', 'Band_030', 'Band_031', 'Band_032', 'Band_033', 'Band_034', 'Band_035', 'Band_036', 'Band_037', 'Band_038', 'Band_039', 'Band_040', 'Band_041', 'Band_042', 'Band_043', 'Band_044', 'Band_045', 'Band_046', 'Band_047', 'Band_048', 'Band_049', 'Band_050', 'Band_051', 'Band_052', 'Band_053', 'Band_054', 'Band_055', 'Band_056', 'Band_057', 'Band_058', 'Band_059', 'Band_060', 'Band_061', 'Band_062', 'Band_063', 'Band_064', 'Band_065', 'Band_066', 'Band_067', 'Band_068', 'Band_069', 'Band_070', 'Band_071', 'Band_072', 'Band_073', 'Band_074', 'Band_075', 'Band_076', 'Band_077', 'Band_078', 'Band_079', 'Band_080', 'Band_081', 'Band_082', 'Band_083', 'Band_084', 'Band_085', 'Band_086', 'Band_087', 'Band_088', 'Band_089', 'Band_090', 'Band_091', 'Band_092', 'Band_093', 'Band_094', 'Band_095', 'Band_096', 'Band_097', 'Band_098', 'Band_099', 'Band_100', 'Band_101', 'Band_102', 'Band_103', 'Band_104', 'Band_105', 'Band_106', 'Band_107', 'Band_108', 'Band_109', 'Band_110', 'Band_111', 'Band_112', 'Band_113', 'Band_114', 'Band_115', 'Band_116', 'Band_117', 'Band_118', 'Band_119', 'Band_120', 'Band_121', 'Band_122', 'Band_123', 'Band_124', 'Band_125', 'Band_126', 'Band_127', 'Band_128', 'Band_129', 'Band_130', 'Band_131', 'Band_132', 'Band_133', 'Band_134', 'Band_135', 'Band_136', 'Band_137', 'Band_138', 'Band_139', 'Band_140', 'Band_141', 'Band_142', 'Band_143', 'Band_144', 'Band_145', 'Band_146', 'Band_147', 'Band_148', 'Band_149', 'Band_150', 'Band_151', 'Band_152', 'Band_153', 'Band_154', 'Band_155', 'Band_156', 'Band_157', 'Band_158', 'Band_159', 'Band_160', 'Band_161', 'Band_162', 'Band_163', 'Band_164', 'Band_165', 'Band_166', 'Band_167', 'Band_168', 'Band_169', 'Band_170', 'Band_171', 'Band_172', 'Band_173', 'Band_174', 'Band_175', 'Band_176', 'Band_177', 'Band_178', 'Band_179', 'Band_180', 'Band_181', 'Band_182', 'Band_183', 'Band_184', 'Band_185', 'Band_186', 'Band_187', 'Band_188', 'Band_189', 'Band_190', 'Band_191', 'Band_192', 'Band_193', 'Band_194', 'Band_195', 'Band_196', 'Band_197', 'Band_198', 'Band_199', 'Band_200', 'Band_201', 'Band_202', 'Band_203', 'Band_204', 'Band_205', 'Band_206', 'Band_207', 'Band_208', 'Band_209', 'Band_210', 'Band_211', 'Band_212', 'Band_213', 'Band_214', 'Band_215', 'Band_216', 'Band_217', 'Band_218', 'Band_219', 'Band_220', 'Band_221', 'Band_222', 'Band_223', 'Band_224', 'Band_225', 'Band_226', 'Band_227', 'Band_228', 'Band_229', 'Band_230', 'Band_231', 'Band_232', 'Band_233', 'Band_234', 'Band_235', 'Band_236', 'Band_237', 'Band_238', 'Band_239', 'Band_240', 'Band_241', 'Band_242', 'Band_243', 'Band_244', 'Band_245', 'Band_246', 'Band_247', 'Band_248', 'Band_249', 'Band_250', 'Band_251', 'Band_252', 'Band_253', 'Band_254', 'Band_255', 'Band_256']\n"
          ],
          "name": "stdout"
        }
      ]
    },
    {
      "cell_type": "code",
      "metadata": {
        "id": "o05_Z20ctnHQ",
        "colab_type": "code",
        "colab": {}
      },
      "source": [
        "# initialize\n",
        "ridge_reg = Ridge(alpha=0)\n",
        "ridge_reg.fit(X_train, y_train)\n",
        "ridge_df = pd.DataFrame({'variable': col_vals, 'estimate': ridge_reg.coef_})\n",
        "ridge_train_pred = []\n",
        "ridge_test_pred = []"
      ],
      "execution_count": 0,
      "outputs": []
    },
    {
      "cell_type": "code",
      "metadata": {
        "id": "XDx95asYtaPD",
        "colab_type": "code",
        "colab": {}
      },
      "source": [
        "# iterate lambdas from 0 to 25 (increase model complexity)\n",
        "for alpha in np.arange(0, 25, 1):\n",
        "    # training\n",
        "    ridge_reg = Ridge(alpha=alpha)\n",
        "    ridge_reg.fit(X_train, y_train)\n",
        "    var_name = 'estimate' + str(alpha)\n",
        "    ridge_df[var_name] = ridge_reg.coef_\n",
        "    # prediction\n",
        "    ridge_train_pred.append(ridge_reg.predict(X_train))\n",
        "    ridge_test_pred.append(ridge_reg.predict(X_test))"
      ],
      "execution_count": 0,
      "outputs": []
    },
    {
      "cell_type": "markdown",
      "metadata": {
        "id": "HXw-hmThExsr",
        "colab_type": "text"
      },
      "source": [
        ""
      ]
    },
    {
      "cell_type": "code",
      "metadata": {
        "id": "pVQ8xpdevRfe",
        "colab_type": "code",
        "colab": {}
      },
      "source": [
        "# organize dataframe\n",
        "ridge_df = ridge_df.set_index('variable').T.rename_axis('estimate').reset_index()"
      ],
      "execution_count": 0,
      "outputs": []
    },
    {
      "cell_type": "code",
      "metadata": {
        "id": "pTsBETYqvSlm",
        "colab_type": "code",
        "colab": {
          "base_uri": "https://localhost:8080/",
          "height": 352
        },
        "outputId": "6f7f8ec9-7c74-4d50-c7a8-bf4b7f2b2519"
      },
      "source": [
        "# plot betas by lambda\n",
        "fig, ax = plt.subplots(figsize=(10, 5))\n",
        "ax.plot(ridge_df.Band_150, 'r', ridge_df.Band_155, 'g', ridge_df.Band_160, 'b', ridge_df.Band_165, 'c', ridge_df.Band_170, 'y')\n",
        "ax.axhline(y=0, color='black', linestyle='--')\n",
        "ax.set_xlabel(\"Lambda\")\n",
        "ax.set_ylabel(\"Beta Estimate\")\n",
        "ax.set_title(\"Ridge Regression Trace\", fontsize=16)\n",
        "ax.legend(labels=['Band_150', 'Band_155', 'Band_160', 'Band_165', 'Band_170'])\n",
        "ax.grid(True)\n",
        "\n",
        "plt.show()"
      ],
      "execution_count": 451,
      "outputs": [
        {
          "output_type": "display_data",
          "data": {
            "image/png": "[encoded data removed]",
            "text/plain": [
              "<Figure size 720x360 with 1 Axes>"
            ]
          },
          "metadata": {
            "tags": [],
            "needs_background": "light"
          }
        }
      ]
    },
    {
      "cell_type": "code",
      "metadata": {
        "id": "vS3L8ndGvZPf",
        "colab_type": "code",
        "colab": {
          "base_uri": "https://localhost:8080/",
          "height": 301
        },
        "outputId": "c9e2af07-f4f7-419a-f1b8-d08a56ee55be"
      },
      "source": [
        "# MSE of Ridge and OLS\n",
        "ridge_mse_test = [mean_squared_error(y_test, p) for p in ridge_test_pred]\n",
        "ols_mse = mean_squared_error(y_test, ols_pred)\n",
        "\n",
        "# plot mse\n",
        "plt.plot(ridge_mse_test[:25], 'ro')\n",
        "plt.axhline(y=ols_mse, color='g', linestyle='--')\n",
        "plt.title(\"Ridge Test Set MSE\", fontsize=16)\n",
        "plt.xlabel(\"Model Simplicity$\\longrightarrow$\")\n",
        "plt.ylabel(\"MSE\")\n",
        "plt.show()"
      ],
      "execution_count": 452,
      "outputs": [
        {
          "output_type": "display_data",
          "data": {
            "image/png": "[encoded data removed]",
            "text/plain": [
              "<Figure size 432x288 with 1 Axes>"
            ]
          },
          "metadata": {
            "tags": [],
            "needs_background": "light"
          }
        }
      ]
    },
    {
      "cell_type": "code",
      "metadata": {
        "id": "Mb1fkwC1aIE7",
        "colab_type": "code",
        "colab": {
          "base_uri": "https://localhost:8080/",
          "height": 296
        },
        "outputId": "4b007553-07f6-4007-eee9-a5f1b1227adb"
      },
      "source": [
        "# How the Input is correlated to Target value in Training Set\n",
        "y_predic = ridge_reg.predict(X_train)\n",
        "\n",
        "plt.scatter(X_test[:, 0], y_test, color = 'red')\n",
        "# plt.plot(X_train, y_predic, color = 'blue')\n",
        "plt.title('Band_001 vs Sucrose (Test set)')\n",
        "plt.xlabel('Band_001')\n",
        "plt.ylabel('Raffinose')\n",
        "plt.show()\n",
        "\n"
      ],
      "execution_count": 453,
      "outputs": [
        {
          "output_type": "display_data",
          "data": {
            "image/png": "[encoded data removed]",
            "text/plain": [
              "<Figure size 432x288 with 1 Axes>"
            ]
          },
          "metadata": {
            "tags": [],
            "needs_background": "light"
          }
        }
      ]
    },
    {
      "cell_type": "code",
      "metadata": {
        "id": "mcn-Tb0rkp6d",
        "colab_type": "code",
        "colab": {
          "base_uri": "https://localhost:8080/",
          "height": 295
        },
        "outputId": "df66d1ea-a35e-411d-869c-c83bd617186a"
      },
      "source": [
        "# Ridge Regression Actual vs Predicted on Test Data set\n",
        "y_predicted = ridge_reg.predict(X_test)\n",
        "plt.scatter(y_test, y_predicted, color = 'blue')\n",
        "plt.title('actual vs predicted (Test set: Raffinose)')\n",
        "plt.xlabel('actual')\n",
        "plt.ylabel('predicted')\n",
        "plt.show()"
      ],
      "execution_count": 454,
      "outputs": [
        {
          "output_type": "display_data",
          "data": {
            "image/png": "[encoded data removed]",
            "text/plain": [
              "<Figure size 432x288 with 1 Axes>"
            ]
          },
          "metadata": {
            "tags": [],
            "needs_background": "light"
          }
        }
      ]
    },
    {
      "cell_type": "code",
      "metadata": {
        "id": "i78XzET3xDRM",
        "colab_type": "code",
        "colab": {
          "base_uri": "https://localhost:8080/",
          "height": 355
        },
        "outputId": "1b4f1a93-6b05-4640-af7a-75343b2d9dc3"
      },
      "source": [
        "# R-squared of training set\n",
        "ridge_r_squared_train = [r2_score(y_train, p) for p in ridge_train_pred]\n",
        "# R-squared of test set\n",
        "ridge_r_squared_test = [r2_score(y_test, p) for p in ridge_test_pred]\n",
        "# ols for benchmark\n",
        "ols_r_squared = r2_score(y_test, ols_pred)\n",
        "\n",
        "# plot R-squared of training and test\n",
        "fig, axes = plt.subplots(figsize=(10, 5))\n",
        "plt.rcParams['axes.grid'] = True\n",
        "\n",
        "# training set and test set together\n",
        "axes.plot(ridge_r_squared_train, 'b', ridge_r_squared_test, 'r')\n",
        "axes.set_title(\"Ridge Reg:R-squared for Raffinose \", fontsize=16)\n",
        "axes.legend(labels=['Train set', 'Test set'])\n",
        "axes.set_ylabel(\"R-squared\")"
      ],
      "execution_count": 455,
      "outputs": [
        {
          "output_type": "execute_result",
          "data": {
            "text/plain": [
              "Text(0, 0.5, 'R-squared')"
            ]
          },
          "metadata": {
            "tags": []
          },
          "execution_count": 455
        },
        {
          "output_type": "display_data",
          "data": {
            "image/png": "[encoded data removed]",
            "text/plain": [
              "<Figure size 720x360 with 1 Axes>"
            ]
          },
          "metadata": {
            "tags": [],
            "needs_background": "light"
          }
        }
      ]
    },
    {
      "cell_type": "code",
      "metadata": {
        "id": "6AV9Ik_3vaG8",
        "colab_type": "code",
        "colab": {
          "base_uri": "https://localhost:8080/",
          "height": 50
        },
        "outputId": "522356ca-5578-48b6-fb9c-f116e0afb8c8"
      },
      "source": [
        "print(ridge_reg.intercept_)\n",
        "print(\n",
        "    \n",
        ")"
      ],
      "execution_count": 456,
      "outputs": [
        {
          "output_type": "stream",
          "text": [
            "6.177895592419269\n",
            "\n"
          ],
          "name": "stdout"
        }
      ]
    },
    {
      "cell_type": "code",
      "metadata": {
        "id": "rz1OTvM_4CD3",
        "colab_type": "code",
        "colab": {
          "base_uri": "https://localhost:8080/",
          "height": 406
        },
        "outputId": "3c395cb9-0cc9-482c-f2d7-542dac7b0513"
      },
      "source": [
        "# initialize\n",
        "lasso_reg = Lasso(alpha=1, max_iter = 1000, tol = 1e-20)\n",
        "lasso_reg.fit(X_train, y_train)\n",
        "lasso_df = pd.DataFrame({'variable': col_vals, 'estimate': ridge_reg.coef_})\n",
        "lasso_train_pred = []\n",
        "lasso_test_pred = []\n",
        "\n",
        "alphas = np.arange(0.01, 8.01, 0.04)\n",
        "\n",
        "for alpha in alphas:\n",
        "    lasso_reg = Lasso(alpha=alpha)\n",
        "    lasso_reg.fit(X_train, y_train)\n",
        "    var_name = 'estimate' + str(alpha)\n",
        "    lasso_df[var_name] = lasso_reg.coef_\n",
        "    # prediction\n",
        "    lasso_train_pred.append(lasso_reg.predict(X_train))\n",
        "    lasso_test_pred.append(lasso_reg.predict(X_test))\n",
        "\n",
        "lasso_df = lasso_df.set_index('variable').T.rename_axis('estimate').reset_index()\n",
        "\n",
        "fig, ax = plt.subplots(figsize=(10, 5))\n",
        "ax.plot(lasso_df.Band_150, 'r', lasso_df.Band_155, 'g', lasso_df.Band_160, 'b', lasso_df.Band_165, 'c', lasso_df.Band_170, 'y')\n",
        "ax.set_xlabel(\"Lambda\")\n",
        "ax.set_xticklabels(np.arange(-1, 10, 1))\n",
        "ax.set_ylabel(\"Beta Estimate\")\n",
        "ax.set_title(\"Lasso Regression Trace\", fontsize=16)\n",
        "ax.legend(labels=['Band_150','Band_155','Band_160','Band_165','Band_170'])\n",
        "ax.grid(True)"
      ],
      "execution_count": 457,
      "outputs": [
        {
          "output_type": "stream",
          "text": [
            "/usr/local/lib/python3.6/dist-packages/sklearn/linear_model/_coordinate_descent.py:476: ConvergenceWarning: Objective did not converge. You might want to increase the number of iterations. Duality gap: 0.11401462944979812, tolerance: 0.06339225102830286\n",
            "  positive)\n"
          ],
          "name": "stderr"
        },
        {
          "output_type": "display_data",
          "data": {
            "image/png": "[encoded data removed]",
            "text/plain": [
              "<Figure size 720x360 with 1 Axes>"
            ]
          },
          "metadata": {
            "tags": [],
            "needs_background": "light"
          }
        }
      ]
    },
    {
      "cell_type": "code",
      "metadata": {
        "id": "P2F7D-rG4r4r",
        "colab_type": "code",
        "colab": {
          "base_uri": "https://localhost:8080/",
          "height": 638
        },
        "outputId": "7deba834-fb2d-4c8c-bfb1-8f05a7413a25"
      },
      "source": [
        "# # plot mse\n",
        "# plt.plot(ridge_test_pred[0], y_test)\n",
        "# # plt.axhline(y=ols_mse, color='g', linestyle='--')\n",
        "# plt.title(\"Ridge Test Prediction\", fontsize=16)\n",
        "# plt.xlabel(\"y_test\")\n",
        "# plt.ylabel(\"y_predict\")\n",
        "# plt.show()\n",
        "\n",
        "print(ridge_test_pred[0])\n",
        "print(y_test)"
      ],
      "execution_count": 458,
      "outputs": [
        {
          "output_type": "stream",
          "text": [
            "[-0.31149094 11.76270864  8.18443963  9.51316719  1.08818294  6.97458261\n",
            "  8.20746078  4.03888935  7.01337284  2.18424302  7.65428058  8.66305681\n",
            "  8.77183446  6.04384157  5.89131676 11.0855245   8.91134037  0.39485328\n",
            " -0.36070516  5.48131513  6.72775441  4.38041958  7.49346045  5.43338262\n",
            "  5.80043727  4.76580778  4.5341957   6.73024784  8.41491444 10.95876793\n",
            "  6.1462187   2.31853758  6.38750608  5.90265609  6.6001263   8.775861\n",
            "  8.38182194  8.4405298   1.95751229 -0.04931732  3.66464849  7.6753301\n",
            "  4.91417283  8.53711212  9.42311284  5.53049535  5.13891179  4.5213492\n",
            "  5.28179377  9.48492276  2.45117741  7.23468649  5.77845854  6.30386827\n",
            " 13.99705711  9.74940633  7.85641967  2.68692732  1.59497166  8.8356592\n",
            "  8.65468687  4.66531734 15.48744877  8.05992649  7.37214644 10.71791736\n",
            "  5.22635017  3.38433614  4.71599516  4.97171907  9.25884229  7.01593483\n",
            "  2.3891269   6.61530109  4.2693477   2.73124314  7.75622647  6.52968962\n",
            "  5.03178824  5.65193101 13.2911767   4.44602643  8.78561984  6.35005353\n",
            "  6.32379899  8.52577034  3.58784331  4.38823974 10.15174284  9.17937251\n",
            "  4.68536586  6.79623562  5.09446182  5.28324267  7.75684105  6.5963451\n",
            "  5.74342463  3.74882722  4.35659757  2.05779501  5.12555892  7.71505108\n",
            "  4.56546106  6.74211347  4.77550094  8.71235596  8.78507749  5.91436933\n",
            "  2.68570035  3.45057293  5.39303198  4.88392038  7.40581145  8.17065605\n",
            "  6.6180538   4.86394003  5.93359998  8.35246666 14.7988934   2.21439681\n",
            "  6.80725259  4.52184876  9.99388176  4.56868606  0.69138134  9.01032132\n",
            "  2.64321942  4.45649978  7.09898076  3.30331046  7.71462128  6.99272319\n",
            "  8.44653975  8.18732415  3.40977699  3.41308426  7.84165378]\n",
            "[5.863  6.4757 8.6256 4.0985 8.2989 6.4726 7.2533 8.3844 5.5058 7.5355\n",
            " 6.1373 5.4178 6.3323 7.4645 7.6321 5.2995 5.7216 5.6072 6.2808 4.9288\n",
            " 6.9872 7.0572 6.5119 5.3407 7.1396 6.0064 5.2421 6.1561 4.8825 7.4154\n",
            " 7.196  6.3807 5.9497 3.8793 4.53   5.8627 6.5405 5.6484 5.3803 4.7581\n",
            " 6.9578 8.6829 6.8276 5.4606 4.9646 5.1804 6.0824 5.3196 7.2356 8.4519\n",
            " 5.5873 6.3604 4.727  6.6808 5.263  7.4158 5.9555 4.344  2.2197 8.3419\n",
            " 4.5206 3.9288 8.9568 4.5749 6.421  3.7923 5.0145 6.3961 6.3701 6.8698\n",
            " 7.846  6.0739 5.321  6.5924 4.6689 7.6755 6.3916 6.693  7.6546 3.4216\n",
            " 5.2412 7.2288 5.3405 6.4986 7.1466 6.7976 7.6713 5.6767 6.4925 7.4884\n",
            " 5.3559 5.5011 7.8593 4.2343 6.1327 7.7781 4.871  7.2964 6.0993 5.643\n",
            " 5.1746 8.3213 6.1716 8.3706 4.4445 5.4836 7.1559 4.816  7.6319 5.1503\n",
            " 5.8105 7.7142 7.8331 7.6162 7.5119 5.2931 6.2669 5.1279 7.4701 6.4863\n",
            " 2.3113 4.7719 6.7392 5.6527 5.776  5.2751 4.358  5.0299 5.3991 7.8817\n",
            " 5.6218 6.4802 3.7418 6.0476 5.0104 6.0881 6.5969]\n"
          ],
          "name": "stdout"
        }
      ]
    },
    {
      "cell_type": "code",
      "metadata": {
        "id": "Ie78m3v7D48x",
        "colab_type": "code",
        "colab": {
          "base_uri": "https://localhost:8080/",
          "height": 295
        },
        "outputId": "0291395a-3e9f-48f2-855c-630b87bda93e"
      },
      "source": [
        "# Plot the results\n",
        "plt.figure()\n",
        "s = 30\n",
        "a = 0.4\n",
        "\n",
        "plt.scatter(y_test[0], y_test[1], edgecolor='k',\n",
        "            c=\"navy\", s=s, marker=\"s\", alpha=a, label=\"Data\")\n",
        "plt.scatter(ridge_test_pred[0], ridge_test_pred[1], edgecolor='k',\n",
        "            c=\"cornflowerblue\", s=s, alpha=a,\n",
        "            label=\"Multi RF score=%.2f\" % ridge_reg.score(X_test, y_test))\n",
        "plt.xlim([-10, 10])\n",
        "plt.ylim([-10, 10])\n",
        "plt.xlabel(\"target Raffinose\")\n",
        "# plt.ylabel(\"target 2\")\n",
        "plt.title(\"Comparing random forests and the multi-output meta estimator\")\n",
        "plt.legend()\n",
        "plt.show()"
      ],
      "execution_count": 459,
      "outputs": [
        {
          "output_type": "display_data",
          "data": {
            "image/png": "[encoded data removed]",
            "text/plain": [
              "<Figure size 432x288 with 1 Axes>"
            ]
          },
          "metadata": {
            "tags": [],
            "needs_background": "light"
          }
        }
      ]
    }
  ]
}