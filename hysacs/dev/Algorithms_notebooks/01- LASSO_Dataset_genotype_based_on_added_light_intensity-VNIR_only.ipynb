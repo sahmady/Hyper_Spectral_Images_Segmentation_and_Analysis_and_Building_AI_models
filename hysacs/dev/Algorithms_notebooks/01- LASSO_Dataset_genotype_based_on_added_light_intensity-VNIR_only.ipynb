{
 "cells": [
  {
   "cell_type": "markdown",
   "metadata": {},
   "source": [
    "## Import Libraries"
   ]
  },
  {
   "cell_type": "code",
   "execution_count": 1,
   "metadata": {},
   "outputs": [],
   "source": [
    "import pandas as pd\n",
    "import numpy as np\n",
    "from sklearn import linear_model\n",
    "from sklearn.model_selection import train_test_split\n",
    "from sklearn.model_selection import cross_val_score\n",
    "from sklearn.model_selection import GridSearchCV\n",
    "from sklearn.preprocessing import MinMaxScaler\n",
    "from sklearn import metrics\n",
    "from sklearn.metrics import mean_squared_error\n",
    "from sklearn.metrics import mean_absolute_error\n",
    "from sklearn.metrics import r2_score\n",
    "import matplotlib.pyplot as plt\n",
    "%matplotlib inline\n",
    "import seaborn as sns"
   ]
  },
  {
   "cell_type": "markdown",
   "metadata": {},
   "source": [
    "## Import Data"
   ]
  },
  {
   "cell_type": "code",
   "execution_count": 4,
   "metadata": {},
   "outputs": [],
   "source": [
    "dataset = pd.read_excel(\"Prepared_Datasets/VNIR_dataset_add_light_intensity.xlsx\")\n",
    "target = pd.read_excel(\"Sugar_Quantities.xlsx\")"
   ]
  },
  {
   "cell_type": "code",
   "execution_count": 5,
   "metadata": {},
   "outputs": [
    {
     "data": {
      "text/html": [
       "<div>\n",
       "<style scoped>\n",
       "    .dataframe tbody tr th:only-of-type {\n",
       "        vertical-align: middle;\n",
       "    }\n",
       "\n",
       "    .dataframe tbody tr th {\n",
       "        vertical-align: top;\n",
       "    }\n",
       "\n",
       "    .dataframe thead th {\n",
       "        text-align: right;\n",
       "    }\n",
       "</style>\n",
       "<table border=\"1\" class=\"dataframe\">\n",
       "  <thead>\n",
       "    <tr style=\"text-align: right;\">\n",
       "      <th></th>\n",
       "      <th>Img_name</th>\n",
       "      <th>Band_001</th>\n",
       "      <th>Band_002</th>\n",
       "      <th>Band_003</th>\n",
       "      <th>Band_004</th>\n",
       "      <th>Band_005</th>\n",
       "      <th>Band_006</th>\n",
       "      <th>Band_007</th>\n",
       "      <th>Band_008</th>\n",
       "      <th>Band_009</th>\n",
       "      <th>...</th>\n",
       "      <th>Band_151</th>\n",
       "      <th>Band_152</th>\n",
       "      <th>Band_153</th>\n",
       "      <th>Band_154</th>\n",
       "      <th>Band_155</th>\n",
       "      <th>Band_156</th>\n",
       "      <th>Band_157</th>\n",
       "      <th>Band_158</th>\n",
       "      <th>Band_159</th>\n",
       "      <th>Band_160</th>\n",
       "    </tr>\n",
       "  </thead>\n",
       "  <tbody>\n",
       "    <tr>\n",
       "      <td>0</td>\n",
       "      <td>38367</td>\n",
       "      <td>2350.74</td>\n",
       "      <td>2503.44</td>\n",
       "      <td>2618.51</td>\n",
       "      <td>2702.48</td>\n",
       "      <td>2812.56</td>\n",
       "      <td>2923.92</td>\n",
       "      <td>2977.99</td>\n",
       "      <td>3179.99</td>\n",
       "      <td>3341.41</td>\n",
       "      <td>...</td>\n",
       "      <td>43322.10</td>\n",
       "      <td>43235.76</td>\n",
       "      <td>43079.62</td>\n",
       "      <td>43033.55</td>\n",
       "      <td>43024.23</td>\n",
       "      <td>43113.70</td>\n",
       "      <td>43204.23</td>\n",
       "      <td>43545.00</td>\n",
       "      <td>43935.19</td>\n",
       "      <td>43880.61</td>\n",
       "    </tr>\n",
       "    <tr>\n",
       "      <td>1</td>\n",
       "      <td>38368</td>\n",
       "      <td>1943.93</td>\n",
       "      <td>2045.13</td>\n",
       "      <td>2137.17</td>\n",
       "      <td>2218.26</td>\n",
       "      <td>2296.50</td>\n",
       "      <td>2378.83</td>\n",
       "      <td>2427.96</td>\n",
       "      <td>2590.40</td>\n",
       "      <td>2722.22</td>\n",
       "      <td>...</td>\n",
       "      <td>39903.84</td>\n",
       "      <td>39712.49</td>\n",
       "      <td>39435.29</td>\n",
       "      <td>39370.42</td>\n",
       "      <td>39304.76</td>\n",
       "      <td>39306.14</td>\n",
       "      <td>39363.92</td>\n",
       "      <td>39600.45</td>\n",
       "      <td>39972.84</td>\n",
       "      <td>39928.45</td>\n",
       "    </tr>\n",
       "    <tr>\n",
       "      <td>2</td>\n",
       "      <td>38369</td>\n",
       "      <td>2687.16</td>\n",
       "      <td>2853.17</td>\n",
       "      <td>2974.04</td>\n",
       "      <td>3099.90</td>\n",
       "      <td>3219.05</td>\n",
       "      <td>3353.07</td>\n",
       "      <td>3414.18</td>\n",
       "      <td>3657.44</td>\n",
       "      <td>3839.36</td>\n",
       "      <td>...</td>\n",
       "      <td>49363.80</td>\n",
       "      <td>49242.31</td>\n",
       "      <td>49010.10</td>\n",
       "      <td>48907.97</td>\n",
       "      <td>48938.23</td>\n",
       "      <td>49031.54</td>\n",
       "      <td>49079.36</td>\n",
       "      <td>49483.66</td>\n",
       "      <td>49973.24</td>\n",
       "      <td>49892.32</td>\n",
       "    </tr>\n",
       "  </tbody>\n",
       "</table>\n",
       "<p>3 rows × 161 columns</p>\n",
       "</div>"
      ],
      "text/plain": [
       "   Img_name  Band_001  Band_002  Band_003  Band_004  Band_005  Band_006  \\\n",
       "0     38367   2350.74   2503.44   2618.51   2702.48   2812.56   2923.92   \n",
       "1     38368   1943.93   2045.13   2137.17   2218.26   2296.50   2378.83   \n",
       "2     38369   2687.16   2853.17   2974.04   3099.90   3219.05   3353.07   \n",
       "\n",
       "   Band_007  Band_008  Band_009  ...  Band_151  Band_152  Band_153  Band_154  \\\n",
       "0   2977.99   3179.99   3341.41  ...  43322.10  43235.76  43079.62  43033.55   \n",
       "1   2427.96   2590.40   2722.22  ...  39903.84  39712.49  39435.29  39370.42   \n",
       "2   3414.18   3657.44   3839.36  ...  49363.80  49242.31  49010.10  48907.97   \n",
       "\n",
       "   Band_155  Band_156  Band_157  Band_158  Band_159  Band_160  \n",
       "0  43024.23  43113.70  43204.23  43545.00  43935.19  43880.61  \n",
       "1  39304.76  39306.14  39363.92  39600.45  39972.84  39928.45  \n",
       "2  48938.23  49031.54  49079.36  49483.66  49973.24  49892.32  \n",
       "\n",
       "[3 rows x 161 columns]"
      ]
     },
     "execution_count": 5,
     "metadata": {},
     "output_type": "execute_result"
    }
   ],
   "source": [
    "dataset.head(3)"
   ]
  },
  {
   "cell_type": "code",
   "execution_count": 6,
   "metadata": {},
   "outputs": [],
   "source": [
    "target_columns = ['Barcode', 'Print_Info', 'Variety_ID', 'Variety', 'Batch', 'Sample', 'Glucose', 'Fructose', 'Sucrose', 'Raffinose',\n",
    "                 'Kestose', 'Maltose', 'Nystose', 'Kestopentaose', 'Total_Fructan']\n",
    "target.columns = target_columns"
   ]
  },
  {
   "cell_type": "code",
   "execution_count": 7,
   "metadata": {},
   "outputs": [],
   "source": [
    "# g = sns.pairplot(target[['Glucose','Fructose','Sucrose', 'Raffinose', 'Kestose', 'Maltose', 'Nystose', 'Kestopentaose']])"
   ]
  },
  {
   "cell_type": "code",
   "execution_count": 8,
   "metadata": {},
   "outputs": [],
   "source": [
    "cor2 = target.iloc[:, [7, 8, 9, 10, 11, 12, 13, 14]].corr()"
   ]
  },
  {
   "cell_type": "code",
   "execution_count": 9,
   "metadata": {
    "scrolled": true
   },
   "outputs": [
    {
     "data": {
      "image/png": "[encoded data removed]",
      "text/plain": [
       "<Figure size 432x288 with 2 Axes>"
      ]
     },
     "metadata": {
      "needs_background": "light"
     },
     "output_type": "display_data"
    }
   ],
   "source": [
    "sns.heatmap(cor2, annot=True, cmap=plt.cm.Reds)\n",
    "plt.show()"
   ]
  },
  {
   "cell_type": "markdown",
   "metadata": {},
   "source": [
    "### adding helper columns on target dataset"
   ]
  },
  {
   "cell_type": "markdown",
   "metadata": {},
   "source": [
    "#### adding counts of varieties"
   ]
  },
  {
   "cell_type": "code",
   "execution_count": 10,
   "metadata": {},
   "outputs": [],
   "source": [
    "counts = pd.value_counts(target['Variety_ID'])\n",
    "counts_index = np.array([counts.index]).reshape(-1, 1)\n",
    "counts_values = np.array([counts.values]).reshape(-1, 1)"
   ]
  },
  {
   "cell_type": "code",
   "execution_count": 11,
   "metadata": {},
   "outputs": [],
   "source": [
    "counts_data = np.concatenate((counts_index, counts_values),axis = 1)"
   ]
  },
  {
   "cell_type": "code",
   "execution_count": 12,
   "metadata": {},
   "outputs": [],
   "source": [
    "counts_df = pd.DataFrame(data = counts_data, columns = ['Variety_ID', 'Variety_counts'])"
   ]
  },
  {
   "cell_type": "code",
   "execution_count": 13,
   "metadata": {},
   "outputs": [],
   "source": [
    "target = pd.merge(left = target, right = counts_df, how = 'outer', left_on = 'Variety_ID', right_on = 'Variety_ID')"
   ]
  },
  {
   "cell_type": "code",
   "execution_count": 14,
   "metadata": {},
   "outputs": [],
   "source": [
    "# target.head(2)"
   ]
  },
  {
   "cell_type": "markdown",
   "metadata": {},
   "source": [
    "#### adding variety number of counts"
   ]
  },
  {
   "cell_type": "code",
   "execution_count": 15,
   "metadata": {},
   "outputs": [],
   "source": [
    "target.insert(loc = 16, column = \"Variety_number\", value = \"\")"
   ]
  },
  {
   "cell_type": "code",
   "execution_count": 16,
   "metadata": {},
   "outputs": [
    {
     "name": "stderr",
     "output_type": "stream",
     "text": [
      "C:\\Users\\ahmad\\Anaconda3\\lib\\site-packages\\ipykernel_launcher.py:7: SettingWithCopyWarning: \n",
      "A value is trying to be set on a copy of a slice from a DataFrame\n",
      "\n",
      "See the caveats in the documentation: http://pandas.pydata.org/pandas-docs/stable/user_guide/indexing.html#returning-a-view-versus-a-copy\n",
      "  import sys\n"
     ]
    }
   ],
   "source": [
    "for r in range(0, target.shape[0]):\n",
    "    num = 0\n",
    "    Variety_ID = target.Variety_ID[r]\n",
    "    for x in range(r, target.shape[0]):\n",
    "        if target.Variety_ID[x] == Variety_ID:\n",
    "            num = num + 1\n",
    "    target.Variety_number[r] = num"
   ]
  },
  {
   "cell_type": "code",
   "execution_count": 17,
   "metadata": {},
   "outputs": [
    {
     "data": {
      "text/html": [
       "<div>\n",
       "<style scoped>\n",
       "    .dataframe tbody tr th:only-of-type {\n",
       "        vertical-align: middle;\n",
       "    }\n",
       "\n",
       "    .dataframe tbody tr th {\n",
       "        vertical-align: top;\n",
       "    }\n",
       "\n",
       "    .dataframe thead th {\n",
       "        text-align: right;\n",
       "    }\n",
       "</style>\n",
       "<table border=\"1\" class=\"dataframe\">\n",
       "  <thead>\n",
       "    <tr style=\"text-align: right;\">\n",
       "      <th></th>\n",
       "      <th>Barcode</th>\n",
       "      <th>Print_Info</th>\n",
       "      <th>Variety_ID</th>\n",
       "      <th>Variety</th>\n",
       "      <th>Batch</th>\n",
       "      <th>Sample</th>\n",
       "      <th>Glucose</th>\n",
       "      <th>Fructose</th>\n",
       "      <th>Sucrose</th>\n",
       "      <th>Raffinose</th>\n",
       "      <th>Kestose</th>\n",
       "      <th>Maltose</th>\n",
       "      <th>Nystose</th>\n",
       "      <th>Kestopentaose</th>\n",
       "      <th>Total_Fructan</th>\n",
       "      <th>Variety_counts</th>\n",
       "      <th>Variety_number</th>\n",
       "    </tr>\n",
       "  </thead>\n",
       "  <tbody>\n",
       "    <tr>\n",
       "      <td>0</td>\n",
       "      <td>38368.0</td>\n",
       "      <td>Cabaret-R1_L1P3</td>\n",
       "      <td>26</td>\n",
       "      <td>Cabaret</td>\n",
       "      <td>1</td>\n",
       "      <td>1</td>\n",
       "      <td>0.525990</td>\n",
       "      <td>0.389049</td>\n",
       "      <td>14.139681</td>\n",
       "      <td>6.957827</td>\n",
       "      <td>2.297757</td>\n",
       "      <td>0.607435</td>\n",
       "      <td>0.838198</td>\n",
       "      <td>0.068990</td>\n",
       "      <td>7.209828</td>\n",
       "      <td>3</td>\n",
       "      <td>3</td>\n",
       "    </tr>\n",
       "    <tr>\n",
       "      <td>1</td>\n",
       "      <td>38632.0</td>\n",
       "      <td>Cabaret-R2_L12P3</td>\n",
       "      <td>26</td>\n",
       "      <td>Cabaret</td>\n",
       "      <td>11</td>\n",
       "      <td>251</td>\n",
       "      <td>0.587680</td>\n",
       "      <td>0.594920</td>\n",
       "      <td>14.475188</td>\n",
       "      <td>5.263027</td>\n",
       "      <td>2.500238</td>\n",
       "      <td>0.577737</td>\n",
       "      <td>0.980051</td>\n",
       "      <td>0.070338</td>\n",
       "      <td>6.219160</td>\n",
       "      <td>3</td>\n",
       "      <td>2</td>\n",
       "    </tr>\n",
       "    <tr>\n",
       "      <td>2</td>\n",
       "      <td>38765.0</td>\n",
       "      <td>Cabaret-R3_L17P16</td>\n",
       "      <td>26</td>\n",
       "      <td>Cabaret</td>\n",
       "      <td>18</td>\n",
       "      <td>413</td>\n",
       "      <td>0.383404</td>\n",
       "      <td>0.329895</td>\n",
       "      <td>9.469324</td>\n",
       "      <td>3.742113</td>\n",
       "      <td>1.605575</td>\n",
       "      <td>0.640902</td>\n",
       "      <td>0.251107</td>\n",
       "      <td>0.015643</td>\n",
       "      <td>4.087977</td>\n",
       "      <td>3</td>\n",
       "      <td>1</td>\n",
       "    </tr>\n",
       "  </tbody>\n",
       "</table>\n",
       "</div>"
      ],
      "text/plain": [
       "   Barcode         Print_Info  Variety_ID  Variety  Batch Sample   Glucose  \\\n",
       "0  38368.0    Cabaret-R1_L1P3          26  Cabaret      1      1  0.525990   \n",
       "1  38632.0   Cabaret-R2_L12P3          26  Cabaret     11    251  0.587680   \n",
       "2  38765.0  Cabaret-R3_L17P16          26  Cabaret     18    413  0.383404   \n",
       "\n",
       "   Fructose    Sucrose  Raffinose   Kestose   Maltose   Nystose  \\\n",
       "0  0.389049  14.139681   6.957827  2.297757  0.607435  0.838198   \n",
       "1  0.594920  14.475188   5.263027  2.500238  0.577737  0.980051   \n",
       "2  0.329895   9.469324   3.742113  1.605575  0.640902  0.251107   \n",
       "\n",
       "   Kestopentaose  Total_Fructan  Variety_counts Variety_number  \n",
       "0       0.068990       7.209828               3              3  \n",
       "1       0.070338       6.219160               3              2  \n",
       "2       0.015643       4.087977               3              1  "
      ]
     },
     "execution_count": 17,
     "metadata": {},
     "output_type": "execute_result"
    }
   ],
   "source": [
    "target.head(3)"
   ]
  },
  {
   "cell_type": "markdown",
   "metadata": {},
   "source": [
    "### Prepare dataset with different scalings to try each and find which one works better"
   ]
  },
  {
   "cell_type": "markdown",
   "metadata": {},
   "source": [
    "#### Max_min scaler, scaling dataset in the range of 0 and 1"
   ]
  },
  {
   "cell_type": "code",
   "execution_count": 18,
   "metadata": {},
   "outputs": [],
   "source": [
    "scaler = MinMaxScaler()\n",
    "scaled_dataset = dataset.iloc[:, 1:]\n",
    "min_max_scaled_dataset = scaler.fit_transform(scaled_dataset)"
   ]
  },
  {
   "cell_type": "code",
   "execution_count": 19,
   "metadata": {},
   "outputs": [],
   "source": [
    "min_max_scaled_dataset = pd.DataFrame(data = min_max_scaled_dataset)\n",
    "min_max_scaled_dataset.insert(loc = 0, column = \"img\", value = dataset.Img_name)\n",
    "min_max_scaled_dataset.columns = dataset.columns"
   ]
  },
  {
   "cell_type": "code",
   "execution_count": 20,
   "metadata": {},
   "outputs": [
    {
     "data": {
      "text/html": [
       "<div>\n",
       "<style scoped>\n",
       "    .dataframe tbody tr th:only-of-type {\n",
       "        vertical-align: middle;\n",
       "    }\n",
       "\n",
       "    .dataframe tbody tr th {\n",
       "        vertical-align: top;\n",
       "    }\n",
       "\n",
       "    .dataframe thead th {\n",
       "        text-align: right;\n",
       "    }\n",
       "</style>\n",
       "<table border=\"1\" class=\"dataframe\">\n",
       "  <thead>\n",
       "    <tr style=\"text-align: right;\">\n",
       "      <th></th>\n",
       "      <th>Img_name</th>\n",
       "      <th>Band_001</th>\n",
       "      <th>Band_002</th>\n",
       "      <th>Band_003</th>\n",
       "      <th>Band_004</th>\n",
       "      <th>Band_005</th>\n",
       "      <th>Band_006</th>\n",
       "      <th>Band_007</th>\n",
       "      <th>Band_008</th>\n",
       "      <th>Band_009</th>\n",
       "      <th>...</th>\n",
       "      <th>Fructose</th>\n",
       "      <th>Sucrose</th>\n",
       "      <th>Raffinose</th>\n",
       "      <th>Kestose</th>\n",
       "      <th>Maltose</th>\n",
       "      <th>Nystose</th>\n",
       "      <th>Kestopentaose</th>\n",
       "      <th>Total_Fructan</th>\n",
       "      <th>Variety_counts</th>\n",
       "      <th>Variety_number</th>\n",
       "    </tr>\n",
       "  </thead>\n",
       "  <tbody>\n",
       "    <tr>\n",
       "      <td>0</td>\n",
       "      <td>38367</td>\n",
       "      <td>0.313722</td>\n",
       "      <td>0.308081</td>\n",
       "      <td>0.306925</td>\n",
       "      <td>0.310349</td>\n",
       "      <td>0.316459</td>\n",
       "      <td>0.328144</td>\n",
       "      <td>0.352175</td>\n",
       "      <td>0.327589</td>\n",
       "      <td>0.329384</td>\n",
       "      <td>...</td>\n",
       "      <td>0.938528</td>\n",
       "      <td>11.580359</td>\n",
       "      <td>7.191522</td>\n",
       "      <td>2.508236</td>\n",
       "      <td>1.132254</td>\n",
       "      <td>0.454942</td>\n",
       "      <td>0.493446</td>\n",
       "      <td>7.451642</td>\n",
       "      <td>3</td>\n",
       "      <td>2</td>\n",
       "    </tr>\n",
       "    <tr>\n",
       "      <td>1</td>\n",
       "      <td>38368</td>\n",
       "      <td>0.247693</td>\n",
       "      <td>0.241106</td>\n",
       "      <td>0.240679</td>\n",
       "      <td>0.245636</td>\n",
       "      <td>0.249189</td>\n",
       "      <td>0.257543</td>\n",
       "      <td>0.277158</td>\n",
       "      <td>0.257827</td>\n",
       "      <td>0.259397</td>\n",
       "      <td>...</td>\n",
       "      <td>0.389049</td>\n",
       "      <td>14.139681</td>\n",
       "      <td>6.957827</td>\n",
       "      <td>2.297757</td>\n",
       "      <td>0.607435</td>\n",
       "      <td>0.838198</td>\n",
       "      <td>0.068990</td>\n",
       "      <td>7.209828</td>\n",
       "      <td>3</td>\n",
       "      <td>3</td>\n",
       "    </tr>\n",
       "    <tr>\n",
       "      <td>2</td>\n",
       "      <td>38369</td>\n",
       "      <td>0.368325</td>\n",
       "      <td>0.359189</td>\n",
       "      <td>0.355855</td>\n",
       "      <td>0.363462</td>\n",
       "      <td>0.369446</td>\n",
       "      <td>0.383728</td>\n",
       "      <td>0.411665</td>\n",
       "      <td>0.384082</td>\n",
       "      <td>0.385668</td>\n",
       "      <td>...</td>\n",
       "      <td>0.364791</td>\n",
       "      <td>11.247442</td>\n",
       "      <td>5.236240</td>\n",
       "      <td>2.417849</td>\n",
       "      <td>0.497984</td>\n",
       "      <td>1.378649</td>\n",
       "      <td>0.221425</td>\n",
       "      <td>8.311020</td>\n",
       "      <td>3</td>\n",
       "      <td>3</td>\n",
       "    </tr>\n",
       "  </tbody>\n",
       "</table>\n",
       "<p>3 rows × 178 columns</p>\n",
       "</div>"
      ],
      "text/plain": [
       "   Img_name  Band_001  Band_002  Band_003  Band_004  Band_005  Band_006  \\\n",
       "0     38367  0.313722  0.308081  0.306925  0.310349  0.316459  0.328144   \n",
       "1     38368  0.247693  0.241106  0.240679  0.245636  0.249189  0.257543   \n",
       "2     38369  0.368325  0.359189  0.355855  0.363462  0.369446  0.383728   \n",
       "\n",
       "   Band_007  Band_008  Band_009  ...  Fructose    Sucrose  Raffinose  \\\n",
       "0  0.352175  0.327589  0.329384  ...  0.938528  11.580359   7.191522   \n",
       "1  0.277158  0.257827  0.259397  ...  0.389049  14.139681   6.957827   \n",
       "2  0.411665  0.384082  0.385668  ...  0.364791  11.247442   5.236240   \n",
       "\n",
       "    Kestose   Maltose   Nystose  Kestopentaose  Total_Fructan  Variety_counts  \\\n",
       "0  2.508236  1.132254  0.454942       0.493446       7.451642               3   \n",
       "1  2.297757  0.607435  0.838198       0.068990       7.209828               3   \n",
       "2  2.417849  0.497984  1.378649       0.221425       8.311020               3   \n",
       "\n",
       "   Variety_number  \n",
       "0               2  \n",
       "1               3  \n",
       "2               3  \n",
       "\n",
       "[3 rows x 178 columns]"
      ]
     },
     "execution_count": 20,
     "metadata": {},
     "output_type": "execute_result"
    }
   ],
   "source": [
    "min_max_scaled_dataset = pd.merge(left = min_max_scaled_dataset, right = target, how = \"inner\", left_on = \"Img_name\", right_on = \"Barcode\")\n",
    "min_max_scaled_dataset.head(3)"
   ]
  },
  {
   "cell_type": "markdown",
   "metadata": {},
   "source": [
    "#### not scaled dataset"
   ]
  },
  {
   "cell_type": "code",
   "execution_count": 21,
   "metadata": {},
   "outputs": [
    {
     "data": {
      "text/html": [
       "<div>\n",
       "<style scoped>\n",
       "    .dataframe tbody tr th:only-of-type {\n",
       "        vertical-align: middle;\n",
       "    }\n",
       "\n",
       "    .dataframe tbody tr th {\n",
       "        vertical-align: top;\n",
       "    }\n",
       "\n",
       "    .dataframe thead th {\n",
       "        text-align: right;\n",
       "    }\n",
       "</style>\n",
       "<table border=\"1\" class=\"dataframe\">\n",
       "  <thead>\n",
       "    <tr style=\"text-align: right;\">\n",
       "      <th></th>\n",
       "      <th>Img_name</th>\n",
       "      <th>Band_001</th>\n",
       "      <th>Band_002</th>\n",
       "      <th>Band_003</th>\n",
       "      <th>Band_004</th>\n",
       "      <th>Band_005</th>\n",
       "      <th>Band_006</th>\n",
       "      <th>Band_007</th>\n",
       "      <th>Band_008</th>\n",
       "      <th>Band_009</th>\n",
       "      <th>...</th>\n",
       "      <th>Fructose</th>\n",
       "      <th>Sucrose</th>\n",
       "      <th>Raffinose</th>\n",
       "      <th>Kestose</th>\n",
       "      <th>Maltose</th>\n",
       "      <th>Nystose</th>\n",
       "      <th>Kestopentaose</th>\n",
       "      <th>Total_Fructan</th>\n",
       "      <th>Variety_counts</th>\n",
       "      <th>Variety_number</th>\n",
       "    </tr>\n",
       "  </thead>\n",
       "  <tbody>\n",
       "    <tr>\n",
       "      <td>0</td>\n",
       "      <td>38367</td>\n",
       "      <td>2350.74</td>\n",
       "      <td>2503.44</td>\n",
       "      <td>2618.51</td>\n",
       "      <td>2702.48</td>\n",
       "      <td>2812.56</td>\n",
       "      <td>2923.92</td>\n",
       "      <td>2977.99</td>\n",
       "      <td>3179.99</td>\n",
       "      <td>3341.41</td>\n",
       "      <td>...</td>\n",
       "      <td>0.938528</td>\n",
       "      <td>11.580359</td>\n",
       "      <td>7.191522</td>\n",
       "      <td>2.508236</td>\n",
       "      <td>1.132254</td>\n",
       "      <td>0.454942</td>\n",
       "      <td>0.493446</td>\n",
       "      <td>7.451642</td>\n",
       "      <td>3</td>\n",
       "      <td>2</td>\n",
       "    </tr>\n",
       "    <tr>\n",
       "      <td>1</td>\n",
       "      <td>38368</td>\n",
       "      <td>1943.93</td>\n",
       "      <td>2045.13</td>\n",
       "      <td>2137.17</td>\n",
       "      <td>2218.26</td>\n",
       "      <td>2296.50</td>\n",
       "      <td>2378.83</td>\n",
       "      <td>2427.96</td>\n",
       "      <td>2590.40</td>\n",
       "      <td>2722.22</td>\n",
       "      <td>...</td>\n",
       "      <td>0.389049</td>\n",
       "      <td>14.139681</td>\n",
       "      <td>6.957827</td>\n",
       "      <td>2.297757</td>\n",
       "      <td>0.607435</td>\n",
       "      <td>0.838198</td>\n",
       "      <td>0.068990</td>\n",
       "      <td>7.209828</td>\n",
       "      <td>3</td>\n",
       "      <td>3</td>\n",
       "    </tr>\n",
       "    <tr>\n",
       "      <td>2</td>\n",
       "      <td>38369</td>\n",
       "      <td>2687.16</td>\n",
       "      <td>2853.17</td>\n",
       "      <td>2974.04</td>\n",
       "      <td>3099.90</td>\n",
       "      <td>3219.05</td>\n",
       "      <td>3353.07</td>\n",
       "      <td>3414.18</td>\n",
       "      <td>3657.44</td>\n",
       "      <td>3839.36</td>\n",
       "      <td>...</td>\n",
       "      <td>0.364791</td>\n",
       "      <td>11.247442</td>\n",
       "      <td>5.236240</td>\n",
       "      <td>2.417849</td>\n",
       "      <td>0.497984</td>\n",
       "      <td>1.378649</td>\n",
       "      <td>0.221425</td>\n",
       "      <td>8.311020</td>\n",
       "      <td>3</td>\n",
       "      <td>3</td>\n",
       "    </tr>\n",
       "  </tbody>\n",
       "</table>\n",
       "<p>3 rows × 178 columns</p>\n",
       "</div>"
      ],
      "text/plain": [
       "   Img_name  Band_001  Band_002  Band_003  Band_004  Band_005  Band_006  \\\n",
       "0     38367   2350.74   2503.44   2618.51   2702.48   2812.56   2923.92   \n",
       "1     38368   1943.93   2045.13   2137.17   2218.26   2296.50   2378.83   \n",
       "2     38369   2687.16   2853.17   2974.04   3099.90   3219.05   3353.07   \n",
       "\n",
       "   Band_007  Band_008  Band_009  ...  Fructose    Sucrose  Raffinose  \\\n",
       "0   2977.99   3179.99   3341.41  ...  0.938528  11.580359   7.191522   \n",
       "1   2427.96   2590.40   2722.22  ...  0.389049  14.139681   6.957827   \n",
       "2   3414.18   3657.44   3839.36  ...  0.364791  11.247442   5.236240   \n",
       "\n",
       "    Kestose   Maltose   Nystose  Kestopentaose  Total_Fructan  Variety_counts  \\\n",
       "0  2.508236  1.132254  0.454942       0.493446       7.451642               3   \n",
       "1  2.297757  0.607435  0.838198       0.068990       7.209828               3   \n",
       "2  2.417849  0.497984  1.378649       0.221425       8.311020               3   \n",
       "\n",
       "   Variety_number  \n",
       "0               2  \n",
       "1               3  \n",
       "2               3  \n",
       "\n",
       "[3 rows x 178 columns]"
      ]
     },
     "execution_count": 21,
     "metadata": {},
     "output_type": "execute_result"
    }
   ],
   "source": [
    "not_scaled_dataset = pd.merge(left = dataset, right = target, how = \"inner\", left_on = \"Img_name\", right_on = \"Barcode\")\n",
    "not_scaled_dataset.head(3)"
   ]
  },
  {
   "cell_type": "markdown",
   "metadata": {},
   "source": [
    "## Datasets"
   ]
  },
  {
   "cell_type": "markdown",
   "metadata": {},
   "source": [
    "### Split based on Variety_ID"
   ]
  },
  {
   "cell_type": "code",
   "execution_count": 22,
   "metadata": {},
   "outputs": [],
   "source": [
    "dataset_test_no_scale = not_scaled_dataset[not_scaled_dataset.Variety_number == 1]\n",
    "dataset_train_no_scale = not_scaled_dataset[not_scaled_dataset.Variety_number > 1]\n",
    "\n",
    "dataset_test_min_max = min_max_scaled_dataset[min_max_scaled_dataset.Variety_number == 1]\n",
    "dataset_train_min_max = min_max_scaled_dataset[min_max_scaled_dataset.Variety_number > 1]"
   ]
  },
  {
   "cell_type": "code",
   "execution_count": 23,
   "metadata": {},
   "outputs": [],
   "source": [
    "# min_max_scaled_dataset.Variety_number.unique()\n",
    "# min_max_scaled_dataset.sort_values(by = ['Variety_ID'], axis=0, ascending=True, inplace=True, kind='quicksort', na_position='last')"
   ]
  },
  {
   "cell_type": "code",
   "execution_count": 40,
   "metadata": {},
   "outputs": [],
   "source": [
    "# ************************** no scaled training and test split based on varieties ***************************\n",
    "X_train_no_scale = dataset_train_no_scale.iloc[:,1:161]\n",
    "y_train_no_scale = dataset_train_no_scale.iloc[:,167:176]\n",
    "\n",
    "X_test_no_scale = dataset_test_no_scale.iloc[:,1:161]\n",
    "y_test_no_scale = dataset_test_no_scale.iloc[:,167:176]\n",
    "\n",
    "# *************************** min max training and test split based on varieties ****************************\n",
    "# X_train_min_max = dataset_train_min_max.iloc[:,1:417]\n",
    "# y_train_min_max = dataset_train_min_max.iloc[:,423:432]\n",
    "\n",
    "# X_test_min_max = dataset_test_min_max.iloc[:,1:417]\n",
    "# y_test_min_max = dataset_test_min_max.iloc[:,423:432]\n",
    "\n",
    "# Note: min max transformation of dataset do not give proper result"
   ]
  },
  {
   "cell_type": "markdown",
   "metadata": {},
   "source": [
    "# Algorithms"
   ]
  },
  {
   "cell_type": "markdown",
   "metadata": {},
   "source": [
    "## Lasso"
   ]
  },
  {
   "cell_type": "code",
   "execution_count": 41,
   "metadata": {},
   "outputs": [
    {
     "data": {
      "text/plain": [
       "Index(['Barcode', 'Print_Info', 'Variety_ID', 'Variety', 'Batch', 'Sample',\n",
       "       'Glucose', 'Fructose', 'Sucrose', 'Raffinose', 'Kestose', 'Maltose',\n",
       "       'Nystose', 'Kestopentaose', 'Total_Fructan', 'Variety_counts',\n",
       "       'Variety_number'],\n",
       "      dtype='object')"
      ]
     },
     "execution_count": 41,
     "metadata": {},
     "output_type": "execute_result"
    }
   ],
   "source": [
    "target.columns"
   ]
  },
  {
   "cell_type": "code",
   "execution_count": 42,
   "metadata": {},
   "outputs": [],
   "source": [
    "y_train_no_scale_Glucose = y_train_no_scale.Glucose\n",
    "y_train_no_scale_Fructose = y_train_no_scale.Fructose\n",
    "y_train_no_scale_Sucrose = y_train_no_scale.Sucrose\n",
    "y_train_no_scale_Raffinose = y_train_no_scale.Raffinose\n",
    "y_train_no_scale_Kestose = y_train_no_scale.Kestose\n",
    "y_train_no_scale_Maltose = y_train_no_scale.Maltose\n",
    "y_train_no_scale_Nystose = y_train_no_scale.Nystose\n",
    "y_train_no_scale_Kestopentaose = y_train_no_scale.Kestopentaose\n",
    "y_train_no_scale_Total_Fructan = y_train_no_scale.Total_Fructan\n",
    "\n",
    "y_test_no_scale_Glucose = y_test_no_scale.Glucose\n",
    "y_test_no_scale_Fructose = y_test_no_scale.Fructose\n",
    "y_test_no_scale_Sucrose = y_test_no_scale.Sucrose\n",
    "y_test_no_scale_Raffinose = y_test_no_scale.Raffinose\n",
    "y_test_no_scale_Kestose = y_test_no_scale.Kestose\n",
    "y_test_no_scale_Maltose = y_test_no_scale.Maltose\n",
    "y_test_no_scale_Nystose = y_test_no_scale.Nystose\n",
    "y_test_no_scale_Kestopentaose = y_test_no_scale.Kestopentaose\n",
    "y_test_no_scale_Total_Fructan = y_test_no_scale.Total_Fructan"
   ]
  },
  {
   "cell_type": "code",
   "execution_count": 43,
   "metadata": {},
   "outputs": [],
   "source": [
    "lasso_no_scale_Glucose = linear_model.Lasso(max_iter=100000, tol=0.001)\n",
    "lasso_no_scale_Fructose = linear_model.Lasso(max_iter=100000, tol=0.001)\n",
    "lasso_no_scale_Sucrose = linear_model.Lasso(max_iter=100000, tol=0.001)\n",
    "lasso_no_scale_Raffinose = linear_model.Lasso(max_iter=100000, tol=0.001)\n",
    "lasso_no_scale_Kestose = linear_model.Lasso(max_iter=100000, tol=0.001)\n",
    "lasso_no_scale_Maltose = linear_model.Lasso(max_iter=100000, tol=0.001)\n",
    "lasso_no_scale_Nystose = linear_model.Lasso(max_iter=100000, tol=0.001)\n",
    "lasso_no_scale_Kestopentaose = linear_model.Lasso(max_iter=100000, tol=0.001)\n",
    "lasso_no_scale_Total_Fructan = linear_model.Lasso(max_iter=100000, tol=0.001)"
   ]
  },
  {
   "cell_type": "code",
   "execution_count": 44,
   "metadata": {},
   "outputs": [
    {
     "name": "stderr",
     "output_type": "stream",
     "text": [
      "C:\\Users\\ahmad\\Anaconda3\\lib\\site-packages\\sklearn\\linear_model\\coordinate_descent.py:475: ConvergenceWarning: Objective did not converge. You might want to increase the number of iterations. Duality gap: 318.97208554420337, tolerance: 1.6247929290861747\n",
      "  positive)\n",
      "C:\\Users\\ahmad\\Anaconda3\\lib\\site-packages\\sklearn\\linear_model\\coordinate_descent.py:475: ConvergenceWarning: Objective did not converge. You might want to increase the number of iterations. Duality gap: 54.501612339602474, tolerance: 0.5581802772180995\n",
      "  positive)\n",
      "C:\\Users\\ahmad\\Anaconda3\\lib\\site-packages\\sklearn\\linear_model\\coordinate_descent.py:475: ConvergenceWarning: Objective did not converge. You might want to increase the number of iterations. Duality gap: 5.848244756700126, tolerance: 0.24458650273255622\n",
      "  positive)\n",
      "C:\\Users\\ahmad\\Anaconda3\\lib\\site-packages\\sklearn\\linear_model\\coordinate_descent.py:475: ConvergenceWarning: Objective did not converge. You might want to increase the number of iterations. Duality gap: 3.073205201387424, tolerance: 0.25535775452204273\n",
      "  positive)\n",
      "C:\\Users\\ahmad\\Anaconda3\\lib\\site-packages\\sklearn\\linear_model\\coordinate_descent.py:475: ConvergenceWarning: Objective did not converge. You might want to increase the number of iterations. Duality gap: 1478.4242761215507, tolerance: 6.122139856404478\n",
      "  positive)\n"
     ]
    },
    {
     "data": {
      "text/plain": [
       "Lasso(alpha=1.0, copy_X=True, fit_intercept=True, max_iter=100000,\n",
       "      normalize=False, positive=False, precompute=False, random_state=None,\n",
       "      selection='cyclic', tol=0.001, warm_start=False)"
      ]
     },
     "execution_count": 44,
     "metadata": {},
     "output_type": "execute_result"
    }
   ],
   "source": [
    "lasso_no_scale_Glucose.fit(X_train_no_scale, y_train_no_scale_Glucose)\n",
    "lasso_no_scale_Fructose.fit(X_train_no_scale, y_train_no_scale_Fructose)\n",
    "lasso_no_scale_Sucrose.fit(X_train_no_scale, y_train_no_scale_Sucrose)\n",
    "lasso_no_scale_Raffinose.fit(X_train_no_scale, y_train_no_scale_Raffinose)\n",
    "lasso_no_scale_Kestose.fit(X_train_no_scale, y_train_no_scale_Kestose)\n",
    "lasso_no_scale_Maltose.fit(X_train_no_scale, y_train_no_scale_Maltose)\n",
    "lasso_no_scale_Nystose.fit(X_train_no_scale, y_train_no_scale_Nystose)\n",
    "lasso_no_scale_Kestopentaose.fit(X_train_no_scale, y_train_no_scale_Kestopentaose)\n",
    "lasso_no_scale_Total_Fructan.fit(X_train_no_scale, y_train_no_scale_Total_Fructan)"
   ]
  },
  {
   "cell_type": "code",
   "execution_count": 45,
   "metadata": {},
   "outputs": [],
   "source": [
    "prediction_no_scale_Glucose = lasso_no_scale_Glucose.predict(X_test_no_scale)\n",
    "prediction_no_scale_Fructose = lasso_no_scale_Fructose.predict(X_test_no_scale)\n",
    "prediction_no_scale_Sucrose = lasso_no_scale_Sucrose.predict(X_test_no_scale)\n",
    "prediction_no_scale_Raffinose = lasso_no_scale_Raffinose.predict(X_test_no_scale)\n",
    "prediction_no_scale_Kestose = lasso_no_scale_Kestose.predict(X_test_no_scale)\n",
    "prediction_no_scale_Maltose = lasso_no_scale_Maltose.predict(X_test_no_scale)\n",
    "prediction_no_scale_Nystose = lasso_no_scale_Nystose.predict(X_test_no_scale)\n",
    "prediction_no_scale_Kestopentaose = lasso_no_scale_Kestopentaose.predict(X_test_no_scale)\n",
    "prediction_no_scale_Total_Fructan = lasso_no_scale_Total_Fructan.predict(X_test_no_scale)"
   ]
  },
  {
   "cell_type": "code",
   "execution_count": 46,
   "metadata": {},
   "outputs": [],
   "source": [
    "variance_no_scale_Glucose = lasso_no_scale_Glucose.score(X_test_no_scale, y_test_no_scale_Glucose)\n",
    "variance_no_scale_Fructose = lasso_no_scale_Fructose.score(X_test_no_scale, y_test_no_scale_Fructose)\n",
    "variance_no_scale_Sucrose = lasso_no_scale_Sucrose.score(X_test_no_scale, y_test_no_scale_Sucrose)\n",
    "variance_no_scale_Raffinose = lasso_no_scale_Raffinose.score(X_test_no_scale, y_test_no_scale_Raffinose)\n",
    "variance_no_scale_Kestose = lasso_no_scale_Kestose.score(X_test_no_scale, y_test_no_scale_Kestose)\n",
    "variance_no_scale_Maltose = lasso_no_scale_Maltose.score(X_test_no_scale, y_test_no_scale_Maltose)\n",
    "variance_no_scale_Nystose = lasso_no_scale_Nystose.score(X_test_no_scale, y_test_no_scale_Nystose)\n",
    "variance_no_scale_Kestopentaose = lasso_no_scale_Kestopentaose.score(X_test_no_scale, y_test_no_scale_Kestopentaose)\n",
    "variance_no_scale_Total_Fructan = lasso_no_scale_Total_Fructan.score(X_test_no_scale, y_test_no_scale_Total_Fructan)"
   ]
  },
  {
   "cell_type": "code",
   "execution_count": 47,
   "metadata": {},
   "outputs": [
    {
     "name": "stdout",
     "output_type": "stream",
     "text": [
      "-0.1825279143679508\n",
      "-0.3098712011392779\n",
      "-0.23406032945597688\n",
      "-0.2848847763605922\n",
      "-0.2300228875460566\n",
      "-0.2253537198694886\n",
      "-0.4114789630471394\n",
      "-0.11383600888003521\n",
      "-1.0389008932976114\n"
     ]
    }
   ],
   "source": [
    "print(variance_no_scale_Glucose)\n",
    "print(variance_no_scale_Fructose)\n",
    "print(variance_no_scale_Sucrose)\n",
    "print(variance_no_scale_Raffinose)\n",
    "print(variance_no_scale_Kestose)\n",
    "print(variance_no_scale_Maltose)\n",
    "print(variance_no_scale_Nystose)\n",
    "print(variance_no_scale_Kestopentaose)\n",
    "print(variance_no_scale_Total_Fructan)"
   ]
  },
  {
   "cell_type": "code",
   "execution_count": 48,
   "metadata": {},
   "outputs": [],
   "source": [
    "# r2_score_min_max_Glucose = r2_score(y_test_min_max_Glucose, prediction_min_max_Glucose)\n",
    "# r2_score_min_max_Fructose = r2_score(y_test_min_max_Fructose, prediction_min_max_Fructose)\n",
    "# r2_score_min_max_Sucrose = r2_score(y_test_min_max_Sucrose, prediction_min_max_Sucrose)\n",
    "# r2_score_min_max_Raffinose = r2_score(y_test_min_max_Raffinose, prediction_min_max_Raffinose)\n",
    "# r2_score_min_max_Kestose = r2_score(y_test_min_max_Kestose, prediction_min_max_Kestose)\n",
    "# r2_score_min_max_Maltose = r2_score(y_test_min_max_Maltose, prediction_min_max_Maltose)\n",
    "# r2_score_min_max_Nystose = r2_score(y_test_min_max_Nystose, prediction_min_max_Nystose)\n",
    "# r2_score_min_max_Kestopentaose = r2_score(y_test_min_max_Kestopentaose, prediction_min_max_Kestopentaose)\n",
    "# r2_score_min_max_Total_Fructan = r2_score(y_test_min_max_Total_Fructan, prediction_min_max_Total_Fructan)"
   ]
  },
  {
   "cell_type": "code",
   "execution_count": 49,
   "metadata": {},
   "outputs": [],
   "source": [
    "# print(r2_score_min_max_Glucose)\n",
    "# print(r2_score_min_max_Fructose)\n",
    "# print(r2_score_min_max_Sucrose)\n",
    "# print(r2_score_min_max_Raffinose)\n",
    "# print(r2_score_min_max_Kestose)\n",
    "# print(r2_score_min_max_Maltose)\n",
    "# print(r2_score_min_max_Nystose)\n",
    "# print(r2_score_min_max_Kestopentaose)\n",
    "# print(r2_score_min_max_Total_Fructan)"
   ]
  },
  {
   "cell_type": "code",
   "execution_count": 50,
   "metadata": {},
   "outputs": [],
   "source": [
    "mean_absolute_error_no_scale_Glucose = mean_absolute_error(y_test_no_scale_Glucose, prediction_no_scale_Glucose)\n",
    "mean_absolute_error_no_scale_Fructose = mean_absolute_error(y_test_no_scale_Fructose, prediction_no_scale_Fructose)\n",
    "mean_absolute_error_no_scale_Sucrose = mean_absolute_error(y_test_no_scale_Sucrose, prediction_no_scale_Sucrose)\n",
    "mean_absolute_error_no_scale_Raffinose = mean_absolute_error(y_test_no_scale_Raffinose, prediction_no_scale_Raffinose)\n",
    "mean_absolute_error_no_scale_Kestose = mean_absolute_error(y_test_no_scale_Kestose, prediction_no_scale_Kestose)\n",
    "mean_absolute_error_no_scale_Maltose = mean_absolute_error(y_test_no_scale_Maltose, prediction_no_scale_Maltose)\n",
    "mean_absolute_error_no_scale_Nystose = mean_absolute_error(y_test_no_scale_Nystose, prediction_no_scale_Nystose)\n",
    "mean_absolute_error_no_scale_Kestopentaose = mean_absolute_error(y_test_no_scale_Kestopentaose, prediction_no_scale_Kestopentaose)\n",
    "mean_absolute_error_no_scale_Total_Fructan = mean_absolute_error(y_test_no_scale_Total_Fructan, prediction_no_scale_Total_Fructan)"
   ]
  },
  {
   "cell_type": "code",
   "execution_count": 51,
   "metadata": {},
   "outputs": [
    {
     "name": "stdout",
     "output_type": "stream",
     "text": [
      "0.24274615059755142\n",
      "0.29791162634810237\n",
      "2.154815646036846\n",
      "1.2749619215342054\n",
      "0.6885060018935734\n",
      "0.20173082608279477\n",
      "0.65470580645067\n",
      "0.16904785102747324\n",
      "3.6790887937589205\n"
     ]
    }
   ],
   "source": [
    "print(mean_absolute_error_no_scale_Glucose)\n",
    "print(mean_absolute_error_no_scale_Fructose)\n",
    "print(mean_absolute_error_no_scale_Sucrose)\n",
    "print(mean_absolute_error_no_scale_Raffinose)\n",
    "print(mean_absolute_error_no_scale_Kestose)\n",
    "print(mean_absolute_error_no_scale_Maltose)\n",
    "print(mean_absolute_error_no_scale_Nystose)\n",
    "print(mean_absolute_error_no_scale_Kestopentaose)\n",
    "print(mean_absolute_error_no_scale_Total_Fructan)"
   ]
  },
  {
   "cell_type": "code",
   "execution_count": 52,
   "metadata": {},
   "outputs": [],
   "source": [
    "y_test_no_scale_Glucose = y_test_no_scale.Glucose\n",
    "y_test_no_scale_Fructose = y_test_no_scale.Fructose\n",
    "y_test_no_scale_Sucrose = y_test_no_scale.Sucrose\n",
    "y_test_no_scale_Raffinose = y_test_no_scale.Raffinose\n",
    "y_test_no_scale_Kestose = y_test_no_scale.Kestose\n",
    "y_test_no_scale_Maltose = y_test_no_scale.Maltose\n",
    "y_test_no_scale_Nystose = y_test_no_scale.Nystose\n",
    "y_test_no_scale_Kestopentaose = y_test_no_scale.Kestopentaose\n",
    "y_test_no_scale_Total_Fructan = y_test_no_scale.Total_Fructan"
   ]
  },
  {
   "cell_type": "code",
   "execution_count": 53,
   "metadata": {},
   "outputs": [],
   "source": [
    "mean_squared_error_Glucose = mean_squared_error(y_test_no_scale_Glucose, prediction_no_scale_Glucose)\n",
    "mean_squared_error_Fructose = mean_squared_error(y_test_no_scale_Fructose, prediction_no_scale_Fructose)\n",
    "mean_squared_error_Sucrose = mean_squared_error(y_test_no_scale_Sucrose, prediction_no_scale_Sucrose)\n",
    "mean_squared_error_Raffinose = mean_squared_error(y_test_no_scale_Raffinose, prediction_no_scale_Raffinose)\n",
    "mean_squared_error_Kestose = mean_squared_error(y_test_no_scale_Kestose, prediction_no_scale_Kestose)\n",
    "mean_squared_error_Maltose = mean_squared_error(y_test_no_scale_Maltose, prediction_no_scale_Maltose)\n",
    "mean_squared_error_Nystose = mean_squared_error(y_test_no_scale_Nystose, prediction_no_scale_Nystose)\n",
    "mean_squared_error_Kestopentaose = mean_squared_error(y_test_no_scale_Kestopentaose, prediction_no_scale_Kestopentaose)\n",
    "mean_squared_error_Total_Fructan = mean_squared_error(y_test_no_scale_Total_Fructan, prediction_no_scale_Total_Fructan)"
   ]
  },
  {
   "cell_type": "code",
   "execution_count": 54,
   "metadata": {},
   "outputs": [
    {
     "name": "stdout",
     "output_type": "stream",
     "text": [
      "0.10713583451994904\n",
      "0.18754666480241716\n",
      "6.904079990362615\n",
      "2.7149488452066968\n",
      "0.8284751479964392\n",
      "0.0674044847290459\n",
      "0.7984992980310738\n",
      "0.05137859907273854\n",
      "30.91383158132728\n"
     ]
    }
   ],
   "source": [
    "print(mean_squared_error_Glucose)\n",
    "print(mean_squared_error_Fructose)\n",
    "print(mean_squared_error_Sucrose)\n",
    "print(mean_squared_error_Raffinose)\n",
    "print(mean_squared_error_Kestose)\n",
    "print(mean_squared_error_Maltose)\n",
    "print(mean_squared_error_Nystose)\n",
    "print(mean_squared_error_Kestopentaose)\n",
    "print(mean_squared_error_Total_Fructan)"
   ]
  },
  {
   "cell_type": "markdown",
   "metadata": {},
   "source": [
    "##### visualization"
   ]
  },
  {
   "cell_type": "code",
   "execution_count": 55,
   "metadata": {},
   "outputs": [
    {
     "data": {
      "text/plain": [
       "<matplotlib.collections.PathCollection at 0x1d99a594448>"
      ]
     },
     "execution_count": 55,
     "metadata": {},
     "output_type": "execute_result"
    },
    {
     "data": {
      "image/png": "[encoded data removed]",
      "text/plain": [
       "<Figure size 360x360 with 1 Axes>"
      ]
     },
     "metadata": {
      "needs_background": "light"
     },
     "output_type": "display_data"
    }
   ],
   "source": [
    "plt.figure(figsize=(5,5))\n",
    "plt.title(\"Lasso Regression \\n Glucose\")\n",
    "plt.xlabel(\"actual\")\n",
    "plt.ylabel(\"predicted\")\n",
    "plt.scatter(y_test_no_scale_Glucose, prediction_no_scale_Glucose)"
   ]
  },
  {
   "cell_type": "code",
   "execution_count": 56,
   "metadata": {},
   "outputs": [
    {
     "data": {
      "text/plain": [
       "<matplotlib.collections.PathCollection at 0x1d99a61f8c8>"
      ]
     },
     "execution_count": 56,
     "metadata": {},
     "output_type": "execute_result"
    },
    {
     "data": {
      "image/png": "[encoded data removed]",
      "text/plain": [
       "<Figure size 360x360 with 1 Axes>"
      ]
     },
     "metadata": {
      "needs_background": "light"
     },
     "output_type": "display_data"
    }
   ],
   "source": [
    "plt.figure(figsize=(5,5))\n",
    "plt.title(\"Lasso Regression \\n Fructose\")\n",
    "plt.xlabel(\"actual\")\n",
    "plt.ylabel(\"predicted\")\n",
    "plt.scatter(y_test_no_scale_Fructose, prediction_no_scale_Fructose)"
   ]
  },
  {
   "cell_type": "code",
   "execution_count": 57,
   "metadata": {},
   "outputs": [
    {
     "data": {
      "text/plain": [
       "<matplotlib.collections.PathCollection at 0x1d99a4b5b08>"
      ]
     },
     "execution_count": 57,
     "metadata": {},
     "output_type": "execute_result"
    },
    {
     "data": {
      "image/png": "[encoded data removed]",
      "text/plain": [
       "<Figure size 360x360 with 1 Axes>"
      ]
     },
     "metadata": {
      "needs_background": "light"
     },
     "output_type": "display_data"
    }
   ],
   "source": [
    "plt.figure(figsize=(5,5))\n",
    "plt.title(\"Lasso Regression \\n Sucrose\")\n",
    "plt.xlabel(\"actual\")\n",
    "plt.ylabel(\"predicted\")\n",
    "plt.scatter(y_test_no_scale_Sucrose, prediction_no_scale_Sucrose)"
   ]
  },
  {
   "cell_type": "code",
   "execution_count": 58,
   "metadata": {},
   "outputs": [
    {
     "data": {
      "text/plain": [
       "<matplotlib.collections.PathCollection at 0x1d99a2a0f48>"
      ]
     },
     "execution_count": 58,
     "metadata": {},
     "output_type": "execute_result"
    },
    {
     "data": {
      "image/png": "[encoded data removed]",
      "text/plain": [
       "<Figure size 360x360 with 1 Axes>"
      ]
     },
     "metadata": {
      "needs_background": "light"
     },
     "output_type": "display_data"
    }
   ],
   "source": [
    "plt.figure(figsize=(5,5))\n",
    "plt.title(\"Lasso Regression \\n Raffinose\")\n",
    "plt.xlabel(\"actual\")\n",
    "plt.ylabel(\"predicted\")\n",
    "plt.scatter(y_test_no_scale_Raffinose, prediction_no_scale_Raffinose)"
   ]
  },
  {
   "cell_type": "code",
   "execution_count": 59,
   "metadata": {},
   "outputs": [
    {
     "data": {
      "text/plain": [
       "<matplotlib.collections.PathCollection at 0x1d99a34fe88>"
      ]
     },
     "execution_count": 59,
     "metadata": {},
     "output_type": "execute_result"
    },
    {
     "data": {
      "image/png": "[encoded data removed]",
      "text/plain": [
       "<Figure size 360x360 with 1 Axes>"
      ]
     },
     "metadata": {
      "needs_background": "light"
     },
     "output_type": "display_data"
    }
   ],
   "source": [
    "plt.figure(figsize=(5,5))\n",
    "plt.title(\"Lasso Regression \\n Kestose\")\n",
    "plt.xlabel(\"actual\")\n",
    "plt.ylabel(\"predicted\")\n",
    "plt.scatter(y_test_no_scale_Kestose, prediction_no_scale_Kestose)"
   ]
  },
  {
   "cell_type": "code",
   "execution_count": 60,
   "metadata": {},
   "outputs": [
    {
     "data": {
      "text/plain": [
       "<matplotlib.collections.PathCollection at 0x1d99a4f5a48>"
      ]
     },
     "execution_count": 60,
     "metadata": {},
     "output_type": "execute_result"
    },
    {
     "data": {
      "image/png": "[encoded data removed]",
      "text/plain": [
       "<Figure size 360x360 with 1 Axes>"
      ]
     },
     "metadata": {
      "needs_background": "light"
     },
     "output_type": "display_data"
    }
   ],
   "source": [
    "plt.figure(figsize=(5,5))\n",
    "plt.title(\"Lasso Regression \\n Maltose\")\n",
    "plt.xlabel(\"actual\")\n",
    "plt.ylabel(\"predicted\")\n",
    "plt.scatter(y_test_no_scale_Maltose, prediction_no_scale_Maltose)"
   ]
  },
  {
   "cell_type": "code",
   "execution_count": 61,
   "metadata": {},
   "outputs": [
    {
     "data": {
      "text/plain": [
       "<matplotlib.collections.PathCollection at 0x1d99ba52388>"
      ]
     },
     "execution_count": 61,
     "metadata": {},
     "output_type": "execute_result"
    },
    {
     "data": {
      "image/png": "[encoded data removed]",
      "text/plain": [
       "<Figure size 360x360 with 1 Axes>"
      ]
     },
     "metadata": {
      "needs_background": "light"
     },
     "output_type": "display_data"
    }
   ],
   "source": [
    "plt.figure(figsize=(5,5))\n",
    "plt.title(\"Lasso Regression \\n Nystose\")\n",
    "plt.xlabel(\"actual\")\n",
    "plt.ylabel(\"predicted\")\n",
    "plt.scatter(y_test_no_scale_Nystose, prediction_no_scale_Nystose)"
   ]
  },
  {
   "cell_type": "code",
   "execution_count": 62,
   "metadata": {},
   "outputs": [
    {
     "data": {
      "text/plain": [
       "<matplotlib.collections.PathCollection at 0x1d99bab8448>"
      ]
     },
     "execution_count": 62,
     "metadata": {},
     "output_type": "execute_result"
    },
    {
     "data": {
      "image/png": "[encoded data removed]",
      "text/plain": [
       "<Figure size 360x360 with 1 Axes>"
      ]
     },
     "metadata": {
      "needs_background": "light"
     },
     "output_type": "display_data"
    }
   ],
   "source": [
    "plt.figure(figsize=(5,5))\n",
    "plt.title(\"Lasso Regression \\n Kestopentaose\")\n",
    "plt.xlabel(\"actual\")\n",
    "plt.ylabel(\"predicted\")\n",
    "plt.scatter(y_test_no_scale_Kestopentaose, prediction_no_scale_Kestopentaose)"
   ]
  },
  {
   "cell_type": "code",
   "execution_count": 63,
   "metadata": {},
   "outputs": [
    {
     "data": {
      "text/plain": [
       "<matplotlib.collections.PathCollection at 0x1d99bb2c5c8>"
      ]
     },
     "execution_count": 63,
     "metadata": {},
     "output_type": "execute_result"
    },
    {
     "data": {
      "image/png": "[encoded data removed]",
      "text/plain": [
       "<Figure size 360x360 with 1 Axes>"
      ]
     },
     "metadata": {
      "needs_background": "light"
     },
     "output_type": "display_data"
    }
   ],
   "source": [
    "plt.figure(figsize=(5,5))\n",
    "plt.title(\"Lasso Regression \\n Total_Fructan\")\n",
    "plt.xlabel(\"actual\")\n",
    "plt.ylabel(\"predicted\")\n",
    "plt.scatter(y_test_no_scale_Total_Fructan, prediction_no_scale_Total_Fructan)"
   ]
  },
  {
   "cell_type": "code",
   "execution_count": 92,
   "metadata": {},
   "outputs": [],
   "source": [
    "# slope = elasticNet.coef_\n",
    "# slope.max()"
   ]
  },
  {
   "cell_type": "code",
   "execution_count": 69,
   "metadata": {},
   "outputs": [],
   "source": [
    "# intercept = elasticNet.intercept_\n",
    "# print(intercept)"
   ]
  }
 ],
 "metadata": {
  "kernelspec": {
   "display_name": "Python 3",
   "language": "python",
   "name": "python3"
  },
  "language_info": {
   "codemirror_mode": {
    "name": "ipython",
    "version": 3
   },
   "file_extension": ".py",
   "mimetype": "text/x-python",
   "name": "python",
   "nbconvert_exporter": "python",
   "pygments_lexer": "ipython3",
   "version": "3.7.4"
  }
 },
 "nbformat": 4,
 "nbformat_minor": 2
}
