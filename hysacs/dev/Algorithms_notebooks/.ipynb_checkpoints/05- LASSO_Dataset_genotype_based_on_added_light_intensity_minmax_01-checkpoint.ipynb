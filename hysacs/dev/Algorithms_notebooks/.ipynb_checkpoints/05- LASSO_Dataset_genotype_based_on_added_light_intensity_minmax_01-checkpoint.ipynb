{
 "cells": [
  {
   "cell_type": "markdown",
   "metadata": {},
   "source": [
    "## Import Libraries"
   ]
  },
  {
   "cell_type": "code",
   "execution_count": null,
   "metadata": {},
   "outputs": [],
   "source": [
    "import pandas as pd\n",
    "import numpy as np\n",
    "from sklearn import linear_model\n",
    "from sklearn.model_selection import train_test_split\n",
    "from sklearn.model_selection import cross_val_score\n",
    "from sklearn.model_selection import GridSearchCV\n",
    "from sklearn.preprocessing import MinMaxScaler\n",
    "from sklearn import metrics\n",
    "from sklearn.metrics import mean_squared_error\n",
    "from sklearn.metrics import mean_absolute_error\n",
    "from sklearn.metrics import r2_score\n",
    "import matplotlib.pyplot as plt\n",
    "%matplotlib inline\n",
    "import seaborn as sns"
   ]
  },
  {
   "cell_type": "markdown",
   "metadata": {},
   "source": [
    "## Import Data"
   ]
  },
  {
   "cell_type": "code",
   "execution_count": null,
   "metadata": {},
   "outputs": [],
   "source": [
    "dataset = pd.read_excel(\"Prepared_Datasets/merged_VNIR_SWIR_add_light_intensity.xlsx\")\n",
    "target = pd.read_excel(\"Sugar_Quantities.xlsx\")"
   ]
  },
  {
   "cell_type": "code",
   "execution_count": null,
   "metadata": {},
   "outputs": [],
   "source": [
    "dataset.head(3)"
   ]
  },
  {
   "cell_type": "code",
   "execution_count": null,
   "metadata": {},
   "outputs": [],
   "source": [
    "target_columns = ['Barcode', 'Print_Info', 'Variety_ID', 'Variety', 'Batch', 'Sample', 'Glucose', 'Fructose', 'Sucrose', 'Raffinose',\n",
    "                 'Kestose', 'Maltose', 'Nystose', 'Kestopentaose', 'Total_Fructan']\n",
    "target.columns = target_columns"
   ]
  },
  {
   "cell_type": "code",
   "execution_count": null,
   "metadata": {},
   "outputs": [],
   "source": [
    "# g = sns.pairplot(target[['Glucose','Fructose','Sucrose', 'Raffinose', 'Kestose', 'Maltose', 'Nystose', 'Kestopentaose']])"
   ]
  },
  {
   "cell_type": "code",
   "execution_count": null,
   "metadata": {},
   "outputs": [],
   "source": [
    "cor2 = target.iloc[:, [7, 8, 9, 10, 11, 12, 13, 14]].corr()"
   ]
  },
  {
   "cell_type": "code",
   "execution_count": null,
   "metadata": {
    "scrolled": true
   },
   "outputs": [],
   "source": [
    "sns.heatmap(cor2, annot=True, cmap=plt.cm.Reds)\n",
    "plt.show()"
   ]
  },
  {
   "cell_type": "markdown",
   "metadata": {},
   "source": [
    "### adding helper columns on target dataset"
   ]
  },
  {
   "cell_type": "markdown",
   "metadata": {},
   "source": [
    "#### adding counts of varieties"
   ]
  },
  {
   "cell_type": "code",
   "execution_count": null,
   "metadata": {},
   "outputs": [],
   "source": [
    "counts = pd.value_counts(target['Variety_ID'])\n",
    "counts_index = np.array([counts.index]).reshape(-1, 1)\n",
    "counts_values = np.array([counts.values]).reshape(-1, 1)"
   ]
  },
  {
   "cell_type": "code",
   "execution_count": null,
   "metadata": {},
   "outputs": [],
   "source": [
    "counts_data = np.concatenate((counts_index, counts_values),axis = 1)"
   ]
  },
  {
   "cell_type": "code",
   "execution_count": null,
   "metadata": {},
   "outputs": [],
   "source": [
    "counts_df = pd.DataFrame(data = counts_data, columns = ['Variety_ID', 'Variety_counts'])"
   ]
  },
  {
   "cell_type": "code",
   "execution_count": null,
   "metadata": {},
   "outputs": [],
   "source": [
    "target = pd.merge(left = target, right = counts_df, how = 'outer', left_on = 'Variety_ID', right_on = 'Variety_ID')"
   ]
  },
  {
   "cell_type": "code",
   "execution_count": null,
   "metadata": {},
   "outputs": [],
   "source": [
    "# target.head(2)"
   ]
  },
  {
   "cell_type": "markdown",
   "metadata": {},
   "source": [
    "#### adding variety number of counts"
   ]
  },
  {
   "cell_type": "code",
   "execution_count": null,
   "metadata": {},
   "outputs": [],
   "source": [
    "target.insert(loc = 16, column = \"Variety_number\", value = \"\")"
   ]
  },
  {
   "cell_type": "code",
   "execution_count": null,
   "metadata": {},
   "outputs": [],
   "source": [
    "for r in range(0, target.shape[0]):\n",
    "    num = 0\n",
    "    Variety_ID = target.Variety_ID[r]\n",
    "    for x in range(r, target.shape[0]):\n",
    "        if target.Variety_ID[x] == Variety_ID:\n",
    "            num = num + 1\n",
    "    target.Variety_number[r] = num"
   ]
  },
  {
   "cell_type": "code",
   "execution_count": null,
   "metadata": {},
   "outputs": [],
   "source": [
    "target.head(3)"
   ]
  },
  {
   "cell_type": "markdown",
   "metadata": {},
   "source": [
    "### Prepare dataset with different scalings to try each and find which one works better"
   ]
  },
  {
   "cell_type": "markdown",
   "metadata": {},
   "source": [
    "#### Max_min scaler, scaling dataset in the range of 0 and 1"
   ]
  },
  {
   "cell_type": "code",
   "execution_count": null,
   "metadata": {},
   "outputs": [],
   "source": [
    "scaler = MinMaxScaler()\n",
    "scaled_dataset = dataset.iloc[:, 1:]\n",
    "min_max_scaled_dataset = scaler.fit_transform(scaled_dataset)"
   ]
  },
  {
   "cell_type": "code",
   "execution_count": null,
   "metadata": {},
   "outputs": [],
   "source": [
    "min_max_scaled_dataset = pd.DataFrame(data = min_max_scaled_dataset)\n",
    "min_max_scaled_dataset.insert(loc = 0, column = \"img\", value = dataset.Img_name)\n",
    "min_max_scaled_dataset.columns = dataset.columns"
   ]
  },
  {
   "cell_type": "code",
   "execution_count": null,
   "metadata": {},
   "outputs": [],
   "source": [
    "min_max_scaled_dataset = pd.merge(left = min_max_scaled_dataset, right = target, how = \"inner\", left_on = \"Img_name\", right_on = \"Barcode\")\n",
    "min_max_scaled_dataset.head(3)"
   ]
  },
  {
   "cell_type": "markdown",
   "metadata": {},
   "source": [
    "#### not scaled dataset"
   ]
  },
  {
   "cell_type": "code",
   "execution_count": null,
   "metadata": {},
   "outputs": [],
   "source": [
    "not_scaled_dataset = pd.merge(left = dataset, right = target, how = \"inner\", left_on = \"Img_name\", right_on = \"Barcode\")\n",
    "not_scaled_dataset.head(3)"
   ]
  },
  {
   "cell_type": "markdown",
   "metadata": {},
   "source": [
    "## Datasets"
   ]
  },
  {
   "cell_type": "markdown",
   "metadata": {},
   "source": [
    "### Split based on Variety_ID"
   ]
  },
  {
   "cell_type": "code",
   "execution_count": null,
   "metadata": {},
   "outputs": [],
   "source": [
    "dataset_test_no_scale = not_scaled_dataset[not_scaled_dataset.Variety_number == 1]\n",
    "dataset_train_no_scale = not_scaled_dataset[not_scaled_dataset.Variety_number > 1]\n",
    "\n",
    "dataset_test_min_max = min_max_scaled_dataset[min_max_scaled_dataset.Variety_number == 1]\n",
    "dataset_train_min_max = min_max_scaled_dataset[min_max_scaled_dataset.Variety_number > 1]"
   ]
  },
  {
   "cell_type": "code",
   "execution_count": null,
   "metadata": {},
   "outputs": [],
   "source": [
    "# min_max_scaled_dataset.Variety_number.unique()\n",
    "# min_max_scaled_dataset.sort_values(by = ['Variety_ID'], axis=0, ascending=True, inplace=True, kind='quicksort', na_position='last')"
   ]
  },
  {
   "cell_type": "code",
   "execution_count": null,
   "metadata": {},
   "outputs": [],
   "source": [
    "# ************************** no scaled training and test split based on varieties ***************************\n",
    "X_train_no_scale = dataset_train_no_scale.iloc[:,1:417]\n",
    "y_train_no_scale = dataset_train_no_scale.iloc[:,263:272]\n",
    "\n",
    "X_test_no_scale = dataset_test_no_scale.iloc[:,1:417]\n",
    "y_test_no_scale = dataset_test_no_scale.iloc[:,423:432]\n",
    "\n",
    "# *************************** min max training and test split based on varieties ****************************\n",
    "X_train_min_max = dataset_train_min_max.iloc[:,1:417]\n",
    "y_train_min_max = dataset_train_min_max.iloc[:,423:432]\n",
    "\n",
    "X_test_min_max = dataset_test_min_max.iloc[:,1:417]\n",
    "y_test_min_max = dataset_test_min_max.iloc[:,423:432]"
   ]
  },
  {
   "cell_type": "markdown",
   "metadata": {},
   "source": [
    "# Algorithms"
   ]
  },
  {
   "cell_type": "markdown",
   "metadata": {},
   "source": [
    "## Lasso"
   ]
  },
  {
   "cell_type": "code",
   "execution_count": null,
   "metadata": {},
   "outputs": [],
   "source": [
    "target.columns"
   ]
  },
  {
   "cell_type": "code",
   "execution_count": null,
   "metadata": {},
   "outputs": [],
   "source": [
    "y_train_min_max_Glucose = y_train_min_max.Glucose\n",
    "y_train_min_max_Fructose = y_train_min_max.Fructose\n",
    "y_train_min_max_Sucrose = y_train_min_max.Sucrose\n",
    "y_train_min_max_Raffinose = y_train_min_max.Raffinose\n",
    "y_train_min_max_Kestose = y_train_min_max.Kestose\n",
    "y_train_min_max_Maltose = y_train_min_max.Maltose\n",
    "y_train_min_max_Nystose = y_train_min_max.Nystose\n",
    "y_train_min_max_Kestopentaose = y_train_min_max.Kestopentaose\n",
    "y_train_min_max_Total_Fructan = y_train_min_max.Total_Fructan\n",
    "\n",
    "y_test_min_max_Glucose = y_test_min_max.Glucose\n",
    "y_test_min_max_Fructose = y_test_min_max.Fructose\n",
    "y_test_min_max_Sucrose = y_test_min_max.Sucrose\n",
    "y_test_min_max_Raffinose = y_test_min_max.Raffinose\n",
    "y_test_min_max_Kestose = y_test_min_max.Kestose\n",
    "y_test_min_max_Maltose = y_test_min_max.Maltose\n",
    "y_test_min_max_Nystose = y_test_min_max.Nystose\n",
    "y_test_min_max_Kestopentaose = y_test_min_max.Kestopentaose\n",
    "y_test_min_max_Total_Fructan = y_test_min_max.Total_Fructan"
   ]
  },
  {
   "cell_type": "code",
   "execution_count": null,
   "metadata": {},
   "outputs": [],
   "source": [
    "lasso_min_max_Glucose = linear_model.Lasso(max_iter=100000, tol=0.001)\n",
    "lasso_min_max_Fructose = linear_model.Lasso(max_iter=100000, tol=0.001)\n",
    "lasso_min_max_Sucrose = linear_model.Lasso(max_iter=100000, tol=0.001)\n",
    "lasso_min_max_Raffinose = linear_model.Lasso(max_iter=100000, tol=0.001)\n",
    "lasso_min_max_Kestose = linear_model.Lasso(max_iter=100000, tol=0.001)\n",
    "lasso_min_max_Maltose = linear_model.Lasso(max_iter=100000, tol=0.001)\n",
    "lasso_min_max_Nystose = linear_model.Lasso(max_iter=100000, tol=0.001)\n",
    "lasso_min_max_Kestopentaose = linear_model.Lasso(max_iter=100000, tol=0.001)\n",
    "lasso_min_max_Total_Fructan = linear_model.Lasso(max_iter=100000, tol=0.001)"
   ]
  },
  {
   "cell_type": "code",
   "execution_count": null,
   "metadata": {},
   "outputs": [],
   "source": [
    "lasso_min_max_Glucose.fit(X_train_min_max, y_train_min_max_Glucose)\n",
    "lasso_min_max_Fructose.fit(X_train_min_max, y_train_min_max_Fructose)\n",
    "lasso_min_max_Sucrose.fit(X_train_min_max, y_train_min_max_Sucrose)\n",
    "lasso_min_max_Raffinose.fit(X_train_min_max, y_train_min_max_Raffinose)\n",
    "lasso_min_max_Kestose.fit(X_train_min_max, y_train_min_max_Kestose)\n",
    "lasso_min_max_Maltose.fit(X_train_min_max, y_train_min_max_Maltose)\n",
    "lasso_min_max_Nystose.fit(X_train_min_max, y_train_min_max_Nystose)\n",
    "lasso_min_max_Kestopentaose.fit(X_train_min_max, y_train_min_max_Kestopentaose)\n",
    "lasso_min_max_Total_Fructan.fit(X_train_min_max, y_train_min_max_Total_Fructan)"
   ]
  },
  {
   "cell_type": "code",
   "execution_count": null,
   "metadata": {},
   "outputs": [],
   "source": [
    "prediction_min_max_Glucose = lasso_min_max_Glucose.predict(X_test_min_max)\n",
    "prediction_min_max_Fructose = lasso_min_max_Fructose.predict(X_test_min_max)\n",
    "prediction_min_max_Sucrose = lasso_min_max_Sucrose.predict(X_test_min_max)\n",
    "prediction_min_max_Raffinose = lasso_min_max_Raffinose.predict(X_test_min_max)\n",
    "prediction_min_max_Kestose = lasso_min_max_Kestose.predict(X_test_min_max)\n",
    "prediction_min_max_Maltose = lasso_min_max_Maltose.predict(X_test_min_max)\n",
    "prediction_min_max_Nystose = lasso_min_max_Nystose.predict(X_test_min_max)\n",
    "prediction_min_max_Kestopentaose = lasso_min_max_Kestopentaose.predict(X_test_min_max)\n",
    "prediction_min_max_Total_Fructan = lasso_min_max_Total_Fructan.predict(X_test_min_max)"
   ]
  },
  {
   "cell_type": "code",
   "execution_count": null,
   "metadata": {},
   "outputs": [],
   "source": [
    "variance_min_max_Glucose = lasso_min_max_Glucose.score(X_test_min_max, y_test_min_max_Glucose)\n",
    "variance_min_max_Fructose = lasso_min_max_Fructose.score(X_test_min_max, y_test_min_max_Fructose)\n",
    "variance_min_max_Sucrose = lasso_min_max_Sucrose.score(X_test_min_max, y_test_min_max_Sucrose)\n",
    "variance_min_max_Raffinose = lasso_min_max_Raffinose.score(X_test_min_max, y_test_min_max_Raffinose)\n",
    "variance_min_max_Kestose = lasso_min_max_Kestose.score(X_test_min_max, y_test_min_max_Kestose)\n",
    "variance_min_max_Maltose = lasso_min_max_Maltose.score(X_test_min_max, y_test_min_max_Maltose)\n",
    "variance_min_max_Nystose = lasso_min_max_Nystose.score(X_test_min_max, y_test_min_max_Nystose)\n",
    "variance_min_max_Kestopentaose = lasso_min_max_Kestopentaose.score(X_test_min_max, y_test_min_max_Kestopentaose)\n",
    "variance_min_max_Total_Fructan = lasso_min_max_Total_Fructan.score(X_test_min_max, y_test_min_max_Total_Fructan)"
   ]
  },
  {
   "cell_type": "code",
   "execution_count": null,
   "metadata": {},
   "outputs": [],
   "source": [
    "print(variance_min_max_Glucose)\n",
    "print(variance_min_max_Fructose)\n",
    "print(variance_min_max_Sucrose)\n",
    "print(variance_min_max_Raffinose)\n",
    "print(variance_min_max_Kestose)\n",
    "print(variance_min_max_Maltose)\n",
    "print(variance_min_max_Nystose)\n",
    "print(variance_min_max_Kestopentaose)\n",
    "print(variance_min_max_Total_Fructan)"
   ]
  },
  {
   "cell_type": "code",
   "execution_count": null,
   "metadata": {},
   "outputs": [],
   "source": [
    "# r2_score_min_max_Glucose = r2_score(y_test_min_max_Glucose, prediction_min_max_Glucose)\n",
    "# r2_score_min_max_Fructose = r2_score(y_test_min_max_Fructose, prediction_min_max_Fructose)\n",
    "# r2_score_min_max_Sucrose = r2_score(y_test_min_max_Sucrose, prediction_min_max_Sucrose)\n",
    "# r2_score_min_max_Raffinose = r2_score(y_test_min_max_Raffinose, prediction_min_max_Raffinose)\n",
    "# r2_score_min_max_Kestose = r2_score(y_test_min_max_Kestose, prediction_min_max_Kestose)\n",
    "# r2_score_min_max_Maltose = r2_score(y_test_min_max_Maltose, prediction_min_max_Maltose)\n",
    "# r2_score_min_max_Nystose = r2_score(y_test_min_max_Nystose, prediction_min_max_Nystose)\n",
    "# r2_score_min_max_Kestopentaose = r2_score(y_test_min_max_Kestopentaose, prediction_min_max_Kestopentaose)\n",
    "# r2_score_min_max_Total_Fructan = r2_score(y_test_min_max_Total_Fructan, prediction_min_max_Total_Fructan)"
   ]
  },
  {
   "cell_type": "code",
   "execution_count": null,
   "metadata": {},
   "outputs": [],
   "source": [
    "# print(r2_score_min_max_Glucose)\n",
    "# print(r2_score_min_max_Fructose)\n",
    "# print(r2_score_min_max_Sucrose)\n",
    "# print(r2_score_min_max_Raffinose)\n",
    "# print(r2_score_min_max_Kestose)\n",
    "# print(r2_score_min_max_Maltose)\n",
    "# print(r2_score_min_max_Nystose)\n",
    "# print(r2_score_min_max_Kestopentaose)\n",
    "# print(r2_score_min_max_Total_Fructan)"
   ]
  },
  {
   "cell_type": "code",
   "execution_count": null,
   "metadata": {},
   "outputs": [],
   "source": [
    "mean_absolute_error_min_max_Glucose = mean_absolute_error(y_test_min_max_Glucose, prediction_min_max_Glucose)\n",
    "mean_absolute_error_min_max_Fructose = mean_absolute_error(y_test_min_max_Fructose, prediction_min_max_Fructose)\n",
    "mean_absolute_error_min_max_Sucrose = mean_absolute_error(y_test_min_max_Sucrose, prediction_min_max_Sucrose)\n",
    "mean_absolute_error_min_max_Raffinose = mean_absolute_error(y_test_min_max_Raffinose, prediction_min_max_Raffinose)\n",
    "mean_absolute_error_min_max_Kestose = mean_absolute_error(y_test_min_max_Kestose, prediction_min_max_Kestose)\n",
    "mean_absolute_error_min_max_Maltose = mean_absolute_error(y_test_min_max_Maltose, prediction_min_max_Maltose)\n",
    "mean_absolute_error_min_max_Nystose = mean_absolute_error(y_test_min_max_Nystose, prediction_min_max_Nystose)\n",
    "mean_absolute_error_min_max_Kestopentaose = mean_absolute_error(y_test_min_max_Kestopentaose, prediction_min_max_Kestopentaose)\n",
    "mean_absolute_error_min_max_Total_Fructan = mean_absolute_error(y_test_min_max_Total_Fructan, prediction_min_max_Total_Fructan)"
   ]
  },
  {
   "cell_type": "code",
   "execution_count": null,
   "metadata": {},
   "outputs": [],
   "source": [
    "print(mean_absolute_error_min_max_Glucose)\n",
    "print(mean_absolute_error_min_max_Fructose)\n",
    "print(mean_absolute_error_min_max_Sucrose)\n",
    "print(mean_absolute_error_min_max_Raffinose)\n",
    "print(mean_absolute_error_min_max_Kestose)\n",
    "print(mean_absolute_error_min_max_Maltose)\n",
    "print(mean_absolute_error_min_max_Nystose)\n",
    "print(mean_absolute_error_min_max_Kestopentaose)\n",
    "print(mean_absolute_error_min_max_Total_Fructan)"
   ]
  },
  {
   "cell_type": "code",
   "execution_count": null,
   "metadata": {},
   "outputs": [],
   "source": [
    "y_test_min_max_Glucose = y_test_min_max.Glucose\n",
    "y_test_min_max_Fructose = y_test_min_max.Fructose\n",
    "y_test_min_max_Sucrose = y_test_min_max.Sucrose\n",
    "y_test_min_max_Raffinose = y_test_min_max.Raffinose\n",
    "y_test_min_max_Kestose = y_test_min_max.Kestose\n",
    "y_test_min_max_Maltose = y_test_min_max.Maltose\n",
    "y_test_min_max_Nystose = y_test_min_max.Nystose\n",
    "y_test_min_max_Kestopentaose = y_test_min_max.Kestopentaose\n",
    "y_test_min_max_Total_Fructan = y_test_min_max.Total_Fructan"
   ]
  },
  {
   "cell_type": "code",
   "execution_count": null,
   "metadata": {},
   "outputs": [],
   "source": [
    "mean_squared_error_Glucose = mean_squared_error(y_test_min_max_Glucose, prediction_min_max_Glucose)\n",
    "mean_squared_error_Fructose = mean_squared_error(y_test_min_max_Fructose, prediction_min_max_Fructose)\n",
    "mean_squared_error_Sucrose = mean_squared_error(y_test_min_max_Sucrose, prediction_min_max_Sucrose)\n",
    "mean_squared_error_Raffinose = mean_squared_error(y_test_min_max_Raffinose, prediction_min_max_Raffinose)\n",
    "mean_squared_error_Kestose = mean_squared_error(y_test_min_max_Kestose, prediction_min_max_Kestose)\n",
    "mean_squared_error_Maltose = mean_squared_error(y_test_min_max_Maltose, prediction_min_max_Maltose)\n",
    "mean_squared_error_Nystose = mean_squared_error(y_test_min_max_Nystose, prediction_min_max_Nystose)\n",
    "mean_squared_error_Kestopentaose = mean_squared_error(y_test_min_max_Kestopentaose, prediction_min_max_Kestopentaose)\n",
    "mean_squared_error_Total_Fructan = mean_squared_error(y_test_min_max_Total_Fructan, prediction_min_max_Total_Fructan)"
   ]
  },
  {
   "cell_type": "code",
   "execution_count": null,
   "metadata": {},
   "outputs": [],
   "source": [
    "print(mean_squared_error_Glucose)\n",
    "print(mean_squared_error_Fructose)\n",
    "print(mean_squared_error_Sucrose)\n",
    "print(mean_squared_error_Raffinose)\n",
    "print(mean_squared_error_Kestose)\n",
    "print(mean_squared_error_Maltose)\n",
    "print(mean_squared_error_Nystose)\n",
    "print(mean_squared_error_Kestopentaose)\n",
    "print(mean_squared_error_Total_Fructan)"
   ]
  },
  {
   "cell_type": "markdown",
   "metadata": {},
   "source": [
    "##### visualization"
   ]
  },
  {
   "cell_type": "code",
   "execution_count": null,
   "metadata": {},
   "outputs": [],
   "source": [
    "plt.figure(figsize=(5,5))\n",
    "plt.title(\"Lasso Regression \\n Glucose\")\n",
    "plt.xlabel(\"actual\")\n",
    "plt.ylabel(\"predicted\")\n",
    "plt.scatter(y_test_min_max_Glucose, prediction_min_max_Glucose)"
   ]
  },
  {
   "cell_type": "code",
   "execution_count": null,
   "metadata": {},
   "outputs": [],
   "source": [
    "plt.figure(figsize=(5,5))\n",
    "plt.title(\"Lasso Regression \\n Fructose\")\n",
    "plt.xlabel(\"actual\")\n",
    "plt.ylabel(\"predicted\")\n",
    "plt.scatter(y_test_min_max_Fructose, prediction_min_max_Fructose)"
   ]
  },
  {
   "cell_type": "code",
   "execution_count": null,
   "metadata": {},
   "outputs": [],
   "source": [
    "plt.figure(figsize=(5,5))\n",
    "plt.title(\"Lasso Regression \\n Sucrose\")\n",
    "plt.xlabel(\"actual\")\n",
    "plt.ylabel(\"predicted\")\n",
    "plt.scatter(y_test_min_max_Sucrose, prediction_min_max_Sucrose)"
   ]
  },
  {
   "cell_type": "code",
   "execution_count": null,
   "metadata": {},
   "outputs": [],
   "source": [
    "plt.figure(figsize=(5,5))\n",
    "plt.title(\"Lasso Regression \\n Raffinose\")\n",
    "plt.xlabel(\"actual\")\n",
    "plt.ylabel(\"predicted\")\n",
    "plt.scatter(y_test_min_max_Raffinose, prediction_min_max_Raffinose)"
   ]
  },
  {
   "cell_type": "code",
   "execution_count": null,
   "metadata": {},
   "outputs": [],
   "source": [
    "plt.figure(figsize=(5,5))\n",
    "plt.title(\"Lasso Regression \\n Kestose\")\n",
    "plt.xlabel(\"actual\")\n",
    "plt.ylabel(\"predicted\")\n",
    "plt.scatter(y_test_min_max_Kestose, prediction_min_max_Kestose)"
   ]
  },
  {
   "cell_type": "code",
   "execution_count": null,
   "metadata": {},
   "outputs": [],
   "source": [
    "plt.figure(figsize=(5,5))\n",
    "plt.title(\"Lasso Regression \\n Maltose\")\n",
    "plt.xlabel(\"actual\")\n",
    "plt.ylabel(\"predicted\")\n",
    "plt.scatter(y_test_min_max_Maltose, prediction_min_max_Maltose)"
   ]
  },
  {
   "cell_type": "code",
   "execution_count": null,
   "metadata": {},
   "outputs": [],
   "source": [
    "plt.figure(figsize=(5,5))\n",
    "plt.title(\"Lasso Regression \\n Nystose\")\n",
    "plt.xlabel(\"actual\")\n",
    "plt.ylabel(\"predicted\")\n",
    "plt.scatter(y_test_min_max_Nystose, prediction_min_max_Nystose)"
   ]
  },
  {
   "cell_type": "code",
   "execution_count": null,
   "metadata": {},
   "outputs": [],
   "source": [
    "plt.figure(figsize=(5,5))\n",
    "plt.title(\"Lasso Regression \\n Kestopentaose\")\n",
    "plt.xlabel(\"actual\")\n",
    "plt.ylabel(\"predicted\")\n",
    "plt.scatter(y_test_min_max_Kestopentaose, prediction_min_max_Kestopentaose)"
   ]
  },
  {
   "cell_type": "code",
   "execution_count": null,
   "metadata": {},
   "outputs": [],
   "source": [
    "plt.figure(figsize=(5,5))\n",
    "plt.title(\"Lasso Regression \\n Total_Fructan\")\n",
    "plt.xlabel(\"actual\")\n",
    "plt.ylabel(\"predicted\")\n",
    "plt.scatter(y_test_min_max_Total_Fructan, prediction_min_max_Total_Fructan)"
   ]
  },
  {
   "cell_type": "code",
   "execution_count": null,
   "metadata": {},
   "outputs": [],
   "source": [
    "# slope = elasticNet.coef_\n",
    "# slope.max()"
   ]
  },
  {
   "cell_type": "code",
   "execution_count": null,
   "metadata": {},
   "outputs": [],
   "source": [
    "# intercept = elasticNet.intercept_\n",
    "# print(intercept)"
   ]
  }
 ],
 "metadata": {
  "kernelspec": {
   "display_name": "Python 3",
   "language": "python",
   "name": "python3"
  },
  "language_info": {
   "codemirror_mode": {
    "name": "ipython",
    "version": 3
   },
   "file_extension": ".py",
   "mimetype": "text/x-python",
   "name": "python",
   "nbconvert_exporter": "python",
   "pygments_lexer": "ipython3",
   "version": "3.7.4"
  }
 },
 "nbformat": 4,
 "nbformat_minor": 2
}
