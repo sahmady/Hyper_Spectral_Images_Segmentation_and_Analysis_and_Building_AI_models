{
 "cells": [
  {
   "cell_type": "markdown",
   "metadata": {},
   "source": [
    "## Import Libraries"
   ]
  },
  {
   "cell_type": "code",
   "execution_count": 1,
   "metadata": {},
   "outputs": [],
   "source": [
    "import pandas as pd\n",
    "import numpy as np\n",
    "from sklearn import linear_model\n",
    "from sklearn.model_selection import train_test_split\n",
    "from sklearn.model_selection import cross_val_score\n",
    "from sklearn.model_selection import GridSearchCV\n",
    "from sklearn.preprocessing import MinMaxScaler\n",
    "from sklearn import metrics\n",
    "from sklearn.metrics import mean_squared_error\n",
    "from sklearn.metrics import mean_absolute_error\n",
    "from sklearn.metrics import r2_score\n",
    "import matplotlib.pyplot as plt\n",
    "%matplotlib inline\n",
    "import seaborn as sns"
   ]
  },
  {
   "cell_type": "markdown",
   "metadata": {},
   "source": [
    "## Import Data"
   ]
  },
  {
   "cell_type": "code",
   "execution_count": 2,
   "metadata": {},
   "outputs": [],
   "source": [
    "SWIRdataset = pd.read_excel(\"dataset_based_on_mean_SWIR.xlsx\")\n",
    "lightIntensity = pd.read_excel(\"dayLightIntensitySWIR_256Bands.xlsx\")\n",
    "target = pd.read_excel(\"Sugar_Quantities.xlsx\")\n",
    "excluding_imgs = pd.read_excel(\"exclude_imgs.xlsx\")"
   ]
  },
  {
   "cell_type": "code",
   "execution_count": 3,
   "metadata": {},
   "outputs": [
    {
     "data": {
      "text/html": [
       "<div>\n",
       "<style scoped>\n",
       "    .dataframe tbody tr th:only-of-type {\n",
       "        vertical-align: middle;\n",
       "    }\n",
       "\n",
       "    .dataframe tbody tr th {\n",
       "        vertical-align: top;\n",
       "    }\n",
       "\n",
       "    .dataframe thead th {\n",
       "        text-align: right;\n",
       "    }\n",
       "</style>\n",
       "<table border=\"1\" class=\"dataframe\">\n",
       "  <thead>\n",
       "    <tr style=\"text-align: right;\">\n",
       "      <th></th>\n",
       "      <th>Img_name</th>\n",
       "      <th>Band_001</th>\n",
       "      <th>Band_002</th>\n",
       "      <th>Band_003</th>\n",
       "      <th>Band_004</th>\n",
       "      <th>Band_005</th>\n",
       "      <th>Band_006</th>\n",
       "      <th>Band_007</th>\n",
       "      <th>Band_008</th>\n",
       "      <th>Band_009</th>\n",
       "      <th>...</th>\n",
       "      <th>Band_247</th>\n",
       "      <th>Band_248</th>\n",
       "      <th>Band_249</th>\n",
       "      <th>Band_250</th>\n",
       "      <th>Band_251</th>\n",
       "      <th>Band_252</th>\n",
       "      <th>Band_253</th>\n",
       "      <th>Band_254</th>\n",
       "      <th>Band_255</th>\n",
       "      <th>Band_256</th>\n",
       "    </tr>\n",
       "  </thead>\n",
       "  <tbody>\n",
       "    <tr>\n",
       "      <td>0</td>\n",
       "      <td>38367</td>\n",
       "      <td>33859.313576</td>\n",
       "      <td>34107.264818</td>\n",
       "      <td>34253.917782</td>\n",
       "      <td>34424.619503</td>\n",
       "      <td>34960.152964</td>\n",
       "      <td>35552.965583</td>\n",
       "      <td>35920.704589</td>\n",
       "      <td>36206.098470</td>\n",
       "      <td>36719.583174</td>\n",
       "      <td>...</td>\n",
       "      <td>1092.113767</td>\n",
       "      <td>1067.782027</td>\n",
       "      <td>1046.122371</td>\n",
       "      <td>1031.165392</td>\n",
       "      <td>1008.430210</td>\n",
       "      <td>948.335564</td>\n",
       "      <td>924.640535</td>\n",
       "      <td>909.735182</td>\n",
       "      <td>884.218929</td>\n",
       "      <td>877.068834</td>\n",
       "    </tr>\n",
       "    <tr>\n",
       "      <td>1</td>\n",
       "      <td>38368</td>\n",
       "      <td>30172.204808</td>\n",
       "      <td>30337.930769</td>\n",
       "      <td>30461.566346</td>\n",
       "      <td>30564.125000</td>\n",
       "      <td>30964.919231</td>\n",
       "      <td>31502.640385</td>\n",
       "      <td>31781.560577</td>\n",
       "      <td>32020.109615</td>\n",
       "      <td>32406.461538</td>\n",
       "      <td>...</td>\n",
       "      <td>818.613462</td>\n",
       "      <td>791.553846</td>\n",
       "      <td>772.365385</td>\n",
       "      <td>749.420192</td>\n",
       "      <td>702.768269</td>\n",
       "      <td>676.392308</td>\n",
       "      <td>647.699038</td>\n",
       "      <td>617.491346</td>\n",
       "      <td>615.997115</td>\n",
       "      <td>597.363462</td>\n",
       "    </tr>\n",
       "    <tr>\n",
       "      <td>2</td>\n",
       "      <td>38369</td>\n",
       "      <td>28906.612426</td>\n",
       "      <td>29083.738659</td>\n",
       "      <td>29221.063116</td>\n",
       "      <td>29342.133136</td>\n",
       "      <td>29790.493097</td>\n",
       "      <td>30328.751479</td>\n",
       "      <td>30596.142998</td>\n",
       "      <td>30861.216963</td>\n",
       "      <td>31314.953649</td>\n",
       "      <td>...</td>\n",
       "      <td>958.072978</td>\n",
       "      <td>931.096647</td>\n",
       "      <td>917.266272</td>\n",
       "      <td>896.531558</td>\n",
       "      <td>879.061144</td>\n",
       "      <td>841.604536</td>\n",
       "      <td>799.390533</td>\n",
       "      <td>789.290927</td>\n",
       "      <td>771.957594</td>\n",
       "      <td>762.616371</td>\n",
       "    </tr>\n",
       "  </tbody>\n",
       "</table>\n",
       "<p>3 rows × 257 columns</p>\n",
       "</div>"
      ],
      "text/plain": [
       "   Img_name      Band_001      Band_002      Band_003      Band_004  \\\n",
       "0     38367  33859.313576  34107.264818  34253.917782  34424.619503   \n",
       "1     38368  30172.204808  30337.930769  30461.566346  30564.125000   \n",
       "2     38369  28906.612426  29083.738659  29221.063116  29342.133136   \n",
       "\n",
       "       Band_005      Band_006      Band_007      Band_008      Band_009  ...  \\\n",
       "0  34960.152964  35552.965583  35920.704589  36206.098470  36719.583174  ...   \n",
       "1  30964.919231  31502.640385  31781.560577  32020.109615  32406.461538  ...   \n",
       "2  29790.493097  30328.751479  30596.142998  30861.216963  31314.953649  ...   \n",
       "\n",
       "      Band_247     Band_248     Band_249     Band_250     Band_251  \\\n",
       "0  1092.113767  1067.782027  1046.122371  1031.165392  1008.430210   \n",
       "1   818.613462   791.553846   772.365385   749.420192   702.768269   \n",
       "2   958.072978   931.096647   917.266272   896.531558   879.061144   \n",
       "\n",
       "     Band_252    Band_253    Band_254    Band_255    Band_256  \n",
       "0  948.335564  924.640535  909.735182  884.218929  877.068834  \n",
       "1  676.392308  647.699038  617.491346  615.997115  597.363462  \n",
       "2  841.604536  799.390533  789.290927  771.957594  762.616371  \n",
       "\n",
       "[3 rows x 257 columns]"
      ]
     },
     "execution_count": 3,
     "metadata": {},
     "output_type": "execute_result"
    }
   ],
   "source": [
    "SWIRdataset.head(3)"
   ]
  },
  {
   "cell_type": "code",
   "execution_count": 4,
   "metadata": {},
   "outputs": [
    {
     "data": {
      "text/html": [
       "<div>\n",
       "<style scoped>\n",
       "    .dataframe tbody tr th:only-of-type {\n",
       "        vertical-align: middle;\n",
       "    }\n",
       "\n",
       "    .dataframe tbody tr th {\n",
       "        vertical-align: top;\n",
       "    }\n",
       "\n",
       "    .dataframe thead th {\n",
       "        text-align: right;\n",
       "    }\n",
       "</style>\n",
       "<table border=\"1\" class=\"dataframe\">\n",
       "  <thead>\n",
       "    <tr style=\"text-align: right;\">\n",
       "      <th></th>\n",
       "      <th>Img_name</th>\n",
       "      <th>Band_001</th>\n",
       "      <th>Band_002</th>\n",
       "      <th>Band_003</th>\n",
       "      <th>Band_004</th>\n",
       "      <th>Band_005</th>\n",
       "      <th>Band_006</th>\n",
       "      <th>Band_007</th>\n",
       "      <th>Band_008</th>\n",
       "      <th>Band_009</th>\n",
       "      <th>...</th>\n",
       "      <th>Band_247</th>\n",
       "      <th>Band_248</th>\n",
       "      <th>Band_249</th>\n",
       "      <th>Band_250</th>\n",
       "      <th>Band_251</th>\n",
       "      <th>Band_252</th>\n",
       "      <th>Band_253</th>\n",
       "      <th>Band_254</th>\n",
       "      <th>Band_255</th>\n",
       "      <th>Band_256</th>\n",
       "    </tr>\n",
       "  </thead>\n",
       "  <tbody>\n",
       "    <tr>\n",
       "      <td>0</td>\n",
       "      <td>38367</td>\n",
       "      <td>35485.10</td>\n",
       "      <td>35734.18</td>\n",
       "      <td>35786.31</td>\n",
       "      <td>35811.62</td>\n",
       "      <td>36045.66</td>\n",
       "      <td>36249.65</td>\n",
       "      <td>36193.05</td>\n",
       "      <td>36032.37</td>\n",
       "      <td>36136.39</td>\n",
       "      <td>...</td>\n",
       "      <td>7758.75</td>\n",
       "      <td>7668.10</td>\n",
       "      <td>7589.64</td>\n",
       "      <td>7484.82</td>\n",
       "      <td>7280.06</td>\n",
       "      <td>7088.52</td>\n",
       "      <td>6820.32</td>\n",
       "      <td>6587.72</td>\n",
       "      <td>6348.16</td>\n",
       "      <td>6049.28</td>\n",
       "    </tr>\n",
       "    <tr>\n",
       "      <td>1</td>\n",
       "      <td>38368</td>\n",
       "      <td>34196.24</td>\n",
       "      <td>34430.02</td>\n",
       "      <td>34508.65</td>\n",
       "      <td>34500.87</td>\n",
       "      <td>34706.06</td>\n",
       "      <td>34938.80</td>\n",
       "      <td>34836.58</td>\n",
       "      <td>34750.85</td>\n",
       "      <td>34808.90</td>\n",
       "      <td>...</td>\n",
       "      <td>7453.76</td>\n",
       "      <td>7374.04</td>\n",
       "      <td>7300.39</td>\n",
       "      <td>7174.87</td>\n",
       "      <td>6988.93</td>\n",
       "      <td>6779.55</td>\n",
       "      <td>6561.67</td>\n",
       "      <td>6332.32</td>\n",
       "      <td>6073.54</td>\n",
       "      <td>5807.72</td>\n",
       "    </tr>\n",
       "    <tr>\n",
       "      <td>2</td>\n",
       "      <td>38369</td>\n",
       "      <td>33893.37</td>\n",
       "      <td>34112.45</td>\n",
       "      <td>34188.68</td>\n",
       "      <td>34194.48</td>\n",
       "      <td>34405.31</td>\n",
       "      <td>34621.74</td>\n",
       "      <td>34521.84</td>\n",
       "      <td>34401.89</td>\n",
       "      <td>34485.40</td>\n",
       "      <td>...</td>\n",
       "      <td>7412.33</td>\n",
       "      <td>7345.28</td>\n",
       "      <td>7267.33</td>\n",
       "      <td>7163.35</td>\n",
       "      <td>6985.25</td>\n",
       "      <td>6783.33</td>\n",
       "      <td>6537.00</td>\n",
       "      <td>6311.32</td>\n",
       "      <td>6086.13</td>\n",
       "      <td>5803.59</td>\n",
       "    </tr>\n",
       "  </tbody>\n",
       "</table>\n",
       "<p>3 rows × 257 columns</p>\n",
       "</div>"
      ],
      "text/plain": [
       "   Img_name  Band_001  Band_002  Band_003  Band_004  Band_005  Band_006  \\\n",
       "0     38367  35485.10  35734.18  35786.31  35811.62  36045.66  36249.65   \n",
       "1     38368  34196.24  34430.02  34508.65  34500.87  34706.06  34938.80   \n",
       "2     38369  33893.37  34112.45  34188.68  34194.48  34405.31  34621.74   \n",
       "\n",
       "   Band_007  Band_008  Band_009  ...  Band_247  Band_248  Band_249  Band_250  \\\n",
       "0  36193.05  36032.37  36136.39  ...   7758.75   7668.10   7589.64   7484.82   \n",
       "1  34836.58  34750.85  34808.90  ...   7453.76   7374.04   7300.39   7174.87   \n",
       "2  34521.84  34401.89  34485.40  ...   7412.33   7345.28   7267.33   7163.35   \n",
       "\n",
       "   Band_251  Band_252  Band_253  Band_254  Band_255  Band_256  \n",
       "0   7280.06   7088.52   6820.32   6587.72   6348.16   6049.28  \n",
       "1   6988.93   6779.55   6561.67   6332.32   6073.54   5807.72  \n",
       "2   6985.25   6783.33   6537.00   6311.32   6086.13   5803.59  \n",
       "\n",
       "[3 rows x 257 columns]"
      ]
     },
     "execution_count": 4,
     "metadata": {},
     "output_type": "execute_result"
    }
   ],
   "source": [
    "lightIntensity.head(3)"
   ]
  },
  {
   "cell_type": "code",
   "execution_count": 5,
   "metadata": {},
   "outputs": [],
   "source": [
    "target_columns = ['Barcode', 'Print_Info', 'Variety_ID', 'Variety', 'Batch', 'Sample', 'Glucose', 'Fructose', 'Sucrose', 'Raffinose',\n",
    "                 'Kestose', 'Maltose', 'Nystose', 'Kestopentaose', 'Total_Fructan']\n",
    "target.columns = target_columns"
   ]
  },
  {
   "cell_type": "code",
   "execution_count": 6,
   "metadata": {},
   "outputs": [],
   "source": [
    "# g = sns.pairplot(target[['Glucose','Fructose','Sucrose', 'Raffinose', 'Kestose', 'Maltose', 'Nystose', 'Kestopentaose']])"
   ]
  },
  {
   "cell_type": "markdown",
   "metadata": {},
   "source": [
    "### adding helper columns on target dataset"
   ]
  },
  {
   "cell_type": "markdown",
   "metadata": {},
   "source": [
    "#### adding counts of varieties"
   ]
  },
  {
   "cell_type": "code",
   "execution_count": 7,
   "metadata": {},
   "outputs": [],
   "source": [
    "counts = pd.value_counts(target['Variety_ID'])\n",
    "counts_index = np.array([counts.index]).reshape(-1, 1)\n",
    "counts_values = np.array([counts.values]).reshape(-1, 1)"
   ]
  },
  {
   "cell_type": "code",
   "execution_count": 8,
   "metadata": {},
   "outputs": [],
   "source": [
    "counts_data = np.concatenate((counts_index, counts_values),axis = 1)"
   ]
  },
  {
   "cell_type": "code",
   "execution_count": 9,
   "metadata": {},
   "outputs": [],
   "source": [
    "counts_df = pd.DataFrame(data = counts_data, columns = ['Variety_ID', 'Variety_counts'])"
   ]
  },
  {
   "cell_type": "code",
   "execution_count": 10,
   "metadata": {},
   "outputs": [],
   "source": [
    "target = pd.merge(left = target, right = counts_df, how = 'outer', left_on = 'Variety_ID', right_on = 'Variety_ID')"
   ]
  },
  {
   "cell_type": "code",
   "execution_count": 11,
   "metadata": {},
   "outputs": [],
   "source": [
    "# target.head(2)"
   ]
  },
  {
   "cell_type": "markdown",
   "metadata": {},
   "source": [
    "#### adding variety number of counts"
   ]
  },
  {
   "cell_type": "code",
   "execution_count": 12,
   "metadata": {},
   "outputs": [],
   "source": [
    "target.insert(loc = 16, column = \"Variety_number\", value = \"\")"
   ]
  },
  {
   "cell_type": "code",
   "execution_count": 13,
   "metadata": {},
   "outputs": [
    {
     "name": "stderr",
     "output_type": "stream",
     "text": [
      "C:\\Users\\ahmad\\Anaconda3\\lib\\site-packages\\ipykernel_launcher.py:7: SettingWithCopyWarning: \n",
      "A value is trying to be set on a copy of a slice from a DataFrame\n",
      "\n",
      "See the caveats in the documentation: http://pandas.pydata.org/pandas-docs/stable/user_guide/indexing.html#returning-a-view-versus-a-copy\n",
      "  import sys\n"
     ]
    }
   ],
   "source": [
    "for r in range(0, target.shape[0]):\n",
    "    num = 0\n",
    "    Variety_ID = target.Variety_ID[r]\n",
    "    for x in range(r, target.shape[0]):\n",
    "        if target.Variety_ID[x] == Variety_ID:\n",
    "            num = num + 1\n",
    "    target.Variety_number[r] = num"
   ]
  },
  {
   "cell_type": "code",
   "execution_count": 14,
   "metadata": {},
   "outputs": [
    {
     "data": {
      "text/html": [
       "<div>\n",
       "<style scoped>\n",
       "    .dataframe tbody tr th:only-of-type {\n",
       "        vertical-align: middle;\n",
       "    }\n",
       "\n",
       "    .dataframe tbody tr th {\n",
       "        vertical-align: top;\n",
       "    }\n",
       "\n",
       "    .dataframe thead th {\n",
       "        text-align: right;\n",
       "    }\n",
       "</style>\n",
       "<table border=\"1\" class=\"dataframe\">\n",
       "  <thead>\n",
       "    <tr style=\"text-align: right;\">\n",
       "      <th></th>\n",
       "      <th>Barcode</th>\n",
       "      <th>Print_Info</th>\n",
       "      <th>Variety_ID</th>\n",
       "      <th>Variety</th>\n",
       "      <th>Batch</th>\n",
       "      <th>Sample</th>\n",
       "      <th>Glucose</th>\n",
       "      <th>Fructose</th>\n",
       "      <th>Sucrose</th>\n",
       "      <th>Raffinose</th>\n",
       "      <th>Kestose</th>\n",
       "      <th>Maltose</th>\n",
       "      <th>Nystose</th>\n",
       "      <th>Kestopentaose</th>\n",
       "      <th>Total_Fructan</th>\n",
       "      <th>Variety_counts</th>\n",
       "      <th>Variety_number</th>\n",
       "    </tr>\n",
       "  </thead>\n",
       "  <tbody>\n",
       "    <tr>\n",
       "      <td>0</td>\n",
       "      <td>38368.0</td>\n",
       "      <td>Cabaret-R1_L1P3</td>\n",
       "      <td>26</td>\n",
       "      <td>Cabaret</td>\n",
       "      <td>1</td>\n",
       "      <td>1</td>\n",
       "      <td>0.525990</td>\n",
       "      <td>0.389049</td>\n",
       "      <td>14.139681</td>\n",
       "      <td>6.957827</td>\n",
       "      <td>2.297757</td>\n",
       "      <td>0.607435</td>\n",
       "      <td>0.838198</td>\n",
       "      <td>0.068990</td>\n",
       "      <td>7.209828</td>\n",
       "      <td>3</td>\n",
       "      <td>3</td>\n",
       "    </tr>\n",
       "    <tr>\n",
       "      <td>1</td>\n",
       "      <td>38632.0</td>\n",
       "      <td>Cabaret-R2_L12P3</td>\n",
       "      <td>26</td>\n",
       "      <td>Cabaret</td>\n",
       "      <td>11</td>\n",
       "      <td>251</td>\n",
       "      <td>0.587680</td>\n",
       "      <td>0.594920</td>\n",
       "      <td>14.475188</td>\n",
       "      <td>5.263027</td>\n",
       "      <td>2.500238</td>\n",
       "      <td>0.577737</td>\n",
       "      <td>0.980051</td>\n",
       "      <td>0.070338</td>\n",
       "      <td>6.219160</td>\n",
       "      <td>3</td>\n",
       "      <td>2</td>\n",
       "    </tr>\n",
       "    <tr>\n",
       "      <td>2</td>\n",
       "      <td>38765.0</td>\n",
       "      <td>Cabaret-R3_L17P16</td>\n",
       "      <td>26</td>\n",
       "      <td>Cabaret</td>\n",
       "      <td>18</td>\n",
       "      <td>413</td>\n",
       "      <td>0.383404</td>\n",
       "      <td>0.329895</td>\n",
       "      <td>9.469324</td>\n",
       "      <td>3.742113</td>\n",
       "      <td>1.605575</td>\n",
       "      <td>0.640902</td>\n",
       "      <td>0.251107</td>\n",
       "      <td>0.015643</td>\n",
       "      <td>4.087977</td>\n",
       "      <td>3</td>\n",
       "      <td>1</td>\n",
       "    </tr>\n",
       "  </tbody>\n",
       "</table>\n",
       "</div>"
      ],
      "text/plain": [
       "   Barcode         Print_Info  Variety_ID  Variety  Batch Sample   Glucose  \\\n",
       "0  38368.0    Cabaret-R1_L1P3          26  Cabaret      1      1  0.525990   \n",
       "1  38632.0   Cabaret-R2_L12P3          26  Cabaret     11    251  0.587680   \n",
       "2  38765.0  Cabaret-R3_L17P16          26  Cabaret     18    413  0.383404   \n",
       "\n",
       "   Fructose    Sucrose  Raffinose   Kestose   Maltose   Nystose  \\\n",
       "0  0.389049  14.139681   6.957827  2.297757  0.607435  0.838198   \n",
       "1  0.594920  14.475188   5.263027  2.500238  0.577737  0.980051   \n",
       "2  0.329895   9.469324   3.742113  1.605575  0.640902  0.251107   \n",
       "\n",
       "   Kestopentaose  Total_Fructan  Variety_counts Variety_number  \n",
       "0       0.068990       7.209828               3              3  \n",
       "1       0.070338       6.219160               3              2  \n",
       "2       0.015643       4.087977               3              1  "
      ]
     },
     "execution_count": 14,
     "metadata": {},
     "output_type": "execute_result"
    }
   ],
   "source": [
    "target.head(3)"
   ]
  },
  {
   "cell_type": "markdown",
   "metadata": {},
   "source": [
    "## Manipulate data"
   ]
  },
  {
   "cell_type": "markdown",
   "metadata": {},
   "source": [
    "### Integrate daylight intensity level with dataset"
   ]
  },
  {
   "cell_type": "code",
   "execution_count": 15,
   "metadata": {},
   "outputs": [
    {
     "data": {
      "text/plain": [
       "209"
      ]
     },
     "execution_count": 15,
     "metadata": {},
     "output_type": "execute_result"
    }
   ],
   "source": [
    "# get index of minimum intensity level and fix it as reference\n",
    "min_intensity_index = lightIntensity.Band_001.idxmin()\n",
    "min_intensity_index"
   ]
  },
  {
   "cell_type": "code",
   "execution_count": 16,
   "metadata": {},
   "outputs": [],
   "source": [
    "min_intensity_array = lightIntensity.iloc[min_intensity_index:min_intensity_index+1,1:]"
   ]
  },
  {
   "cell_type": "code",
   "execution_count": 17,
   "metadata": {},
   "outputs": [
    {
     "data": {
      "text/html": [
       "<div>\n",
       "<style scoped>\n",
       "    .dataframe tbody tr th:only-of-type {\n",
       "        vertical-align: middle;\n",
       "    }\n",
       "\n",
       "    .dataframe tbody tr th {\n",
       "        vertical-align: top;\n",
       "    }\n",
       "\n",
       "    .dataframe thead th {\n",
       "        text-align: right;\n",
       "    }\n",
       "</style>\n",
       "<table border=\"1\" class=\"dataframe\">\n",
       "  <thead>\n",
       "    <tr style=\"text-align: right;\">\n",
       "      <th></th>\n",
       "      <th>Img_name</th>\n",
       "      <th>Band_001</th>\n",
       "      <th>Band_002</th>\n",
       "      <th>Band_003</th>\n",
       "      <th>Band_004</th>\n",
       "      <th>Band_005</th>\n",
       "      <th>Band_006</th>\n",
       "      <th>Band_007</th>\n",
       "      <th>Band_008</th>\n",
       "      <th>Band_009</th>\n",
       "      <th>...</th>\n",
       "      <th>Band_247</th>\n",
       "      <th>Band_248</th>\n",
       "      <th>Band_249</th>\n",
       "      <th>Band_250</th>\n",
       "      <th>Band_251</th>\n",
       "      <th>Band_252</th>\n",
       "      <th>Band_253</th>\n",
       "      <th>Band_254</th>\n",
       "      <th>Band_255</th>\n",
       "      <th>Band_256</th>\n",
       "    </tr>\n",
       "  </thead>\n",
       "  <tbody>\n",
       "    <tr>\n",
       "      <td>209</td>\n",
       "      <td>38592</td>\n",
       "      <td>26932.64</td>\n",
       "      <td>27109.66</td>\n",
       "      <td>27184.07</td>\n",
       "      <td>27093.55</td>\n",
       "      <td>27359.38</td>\n",
       "      <td>27521.46</td>\n",
       "      <td>27419.33</td>\n",
       "      <td>27284.31</td>\n",
       "      <td>27368.96</td>\n",
       "      <td>...</td>\n",
       "      <td>6101.77</td>\n",
       "      <td>6051.95</td>\n",
       "      <td>5951.85</td>\n",
       "      <td>5887.8</td>\n",
       "      <td>5725.21</td>\n",
       "      <td>5599.06</td>\n",
       "      <td>5404.49</td>\n",
       "      <td>5228.64</td>\n",
       "      <td>5038.93</td>\n",
       "      <td>4774.77</td>\n",
       "    </tr>\n",
       "  </tbody>\n",
       "</table>\n",
       "<p>1 rows × 257 columns</p>\n",
       "</div>"
      ],
      "text/plain": [
       "     Img_name  Band_001  Band_002  Band_003  Band_004  Band_005  Band_006  \\\n",
       "209     38592  26932.64  27109.66  27184.07  27093.55  27359.38  27521.46   \n",
       "\n",
       "     Band_007  Band_008  Band_009  ...  Band_247  Band_248  Band_249  \\\n",
       "209  27419.33  27284.31  27368.96  ...   6101.77   6051.95   5951.85   \n",
       "\n",
       "     Band_250  Band_251  Band_252  Band_253  Band_254  Band_255  Band_256  \n",
       "209    5887.8   5725.21   5599.06   5404.49   5228.64   5038.93   4774.77  \n",
       "\n",
       "[1 rows x 257 columns]"
      ]
     },
     "execution_count": 17,
     "metadata": {},
     "output_type": "execute_result"
    }
   ],
   "source": [
    "min_intensity_array.insert(loc = 0, column = 'Img_name', value = lightIntensity.Img_name)\n",
    "min_intensity_array"
   ]
  },
  {
   "cell_type": "code",
   "execution_count": 18,
   "metadata": {},
   "outputs": [],
   "source": [
    "# build the difference values of intensity level to be added on top of dataset\n",
    "differences = lightIntensity.subtract(min_intensity_array.squeeze())\n",
    "differences.Img_name = lightIntensity.Img_name"
   ]
  },
  {
   "cell_type": "code",
   "execution_count": 19,
   "metadata": {},
   "outputs": [
    {
     "data": {
      "text/html": [
       "<div>\n",
       "<style scoped>\n",
       "    .dataframe tbody tr th:only-of-type {\n",
       "        vertical-align: middle;\n",
       "    }\n",
       "\n",
       "    .dataframe tbody tr th {\n",
       "        vertical-align: top;\n",
       "    }\n",
       "\n",
       "    .dataframe thead th {\n",
       "        text-align: right;\n",
       "    }\n",
       "</style>\n",
       "<table border=\"1\" class=\"dataframe\">\n",
       "  <thead>\n",
       "    <tr style=\"text-align: right;\">\n",
       "      <th></th>\n",
       "      <th>Img_name</th>\n",
       "      <th>Band_001</th>\n",
       "      <th>Band_002</th>\n",
       "      <th>Band_003</th>\n",
       "      <th>Band_004</th>\n",
       "      <th>Band_005</th>\n",
       "      <th>Band_006</th>\n",
       "      <th>Band_007</th>\n",
       "      <th>Band_008</th>\n",
       "      <th>Band_009</th>\n",
       "      <th>...</th>\n",
       "      <th>Band_247</th>\n",
       "      <th>Band_248</th>\n",
       "      <th>Band_249</th>\n",
       "      <th>Band_250</th>\n",
       "      <th>Band_251</th>\n",
       "      <th>Band_252</th>\n",
       "      <th>Band_253</th>\n",
       "      <th>Band_254</th>\n",
       "      <th>Band_255</th>\n",
       "      <th>Band_256</th>\n",
       "    </tr>\n",
       "  </thead>\n",
       "  <tbody>\n",
       "    <tr>\n",
       "      <td>0</td>\n",
       "      <td>38367</td>\n",
       "      <td>8552.46</td>\n",
       "      <td>8624.52</td>\n",
       "      <td>8602.24</td>\n",
       "      <td>8718.07</td>\n",
       "      <td>8686.28</td>\n",
       "      <td>8728.19</td>\n",
       "      <td>8773.72</td>\n",
       "      <td>8748.06</td>\n",
       "      <td>8767.43</td>\n",
       "      <td>...</td>\n",
       "      <td>1656.98</td>\n",
       "      <td>1616.15</td>\n",
       "      <td>1637.79</td>\n",
       "      <td>1597.02</td>\n",
       "      <td>1554.85</td>\n",
       "      <td>1489.46</td>\n",
       "      <td>1415.83</td>\n",
       "      <td>1359.08</td>\n",
       "      <td>1309.23</td>\n",
       "      <td>1274.51</td>\n",
       "    </tr>\n",
       "    <tr>\n",
       "      <td>1</td>\n",
       "      <td>38368</td>\n",
       "      <td>7263.60</td>\n",
       "      <td>7320.36</td>\n",
       "      <td>7324.58</td>\n",
       "      <td>7407.32</td>\n",
       "      <td>7346.68</td>\n",
       "      <td>7417.34</td>\n",
       "      <td>7417.25</td>\n",
       "      <td>7466.54</td>\n",
       "      <td>7439.94</td>\n",
       "      <td>...</td>\n",
       "      <td>1351.99</td>\n",
       "      <td>1322.09</td>\n",
       "      <td>1348.54</td>\n",
       "      <td>1287.07</td>\n",
       "      <td>1263.72</td>\n",
       "      <td>1180.49</td>\n",
       "      <td>1157.18</td>\n",
       "      <td>1103.68</td>\n",
       "      <td>1034.61</td>\n",
       "      <td>1032.95</td>\n",
       "    </tr>\n",
       "    <tr>\n",
       "      <td>2</td>\n",
       "      <td>38369</td>\n",
       "      <td>6960.73</td>\n",
       "      <td>7002.79</td>\n",
       "      <td>7004.61</td>\n",
       "      <td>7100.93</td>\n",
       "      <td>7045.93</td>\n",
       "      <td>7100.28</td>\n",
       "      <td>7102.51</td>\n",
       "      <td>7117.58</td>\n",
       "      <td>7116.44</td>\n",
       "      <td>...</td>\n",
       "      <td>1310.56</td>\n",
       "      <td>1293.33</td>\n",
       "      <td>1315.48</td>\n",
       "      <td>1275.55</td>\n",
       "      <td>1260.04</td>\n",
       "      <td>1184.27</td>\n",
       "      <td>1132.51</td>\n",
       "      <td>1082.68</td>\n",
       "      <td>1047.20</td>\n",
       "      <td>1028.82</td>\n",
       "    </tr>\n",
       "  </tbody>\n",
       "</table>\n",
       "<p>3 rows × 257 columns</p>\n",
       "</div>"
      ],
      "text/plain": [
       "   Img_name  Band_001  Band_002  Band_003  Band_004  Band_005  Band_006  \\\n",
       "0     38367   8552.46   8624.52   8602.24   8718.07   8686.28   8728.19   \n",
       "1     38368   7263.60   7320.36   7324.58   7407.32   7346.68   7417.34   \n",
       "2     38369   6960.73   7002.79   7004.61   7100.93   7045.93   7100.28   \n",
       "\n",
       "   Band_007  Band_008  Band_009  ...  Band_247  Band_248  Band_249  Band_250  \\\n",
       "0   8773.72   8748.06   8767.43  ...   1656.98   1616.15   1637.79   1597.02   \n",
       "1   7417.25   7466.54   7439.94  ...   1351.99   1322.09   1348.54   1287.07   \n",
       "2   7102.51   7117.58   7116.44  ...   1310.56   1293.33   1315.48   1275.55   \n",
       "\n",
       "   Band_251  Band_252  Band_253  Band_254  Band_255  Band_256  \n",
       "0   1554.85   1489.46   1415.83   1359.08   1309.23   1274.51  \n",
       "1   1263.72   1180.49   1157.18   1103.68   1034.61   1032.95  \n",
       "2   1260.04   1184.27   1132.51   1082.68   1047.20   1028.82  \n",
       "\n",
       "[3 rows x 257 columns]"
      ]
     },
     "execution_count": 19,
     "metadata": {},
     "output_type": "execute_result"
    }
   ],
   "source": [
    "differences.head(3)"
   ]
  },
  {
   "cell_type": "code",
   "execution_count": 20,
   "metadata": {},
   "outputs": [
    {
     "data": {
      "text/html": [
       "<div>\n",
       "<style scoped>\n",
       "    .dataframe tbody tr th:only-of-type {\n",
       "        vertical-align: middle;\n",
       "    }\n",
       "\n",
       "    .dataframe tbody tr th {\n",
       "        vertical-align: top;\n",
       "    }\n",
       "\n",
       "    .dataframe thead th {\n",
       "        text-align: right;\n",
       "    }\n",
       "</style>\n",
       "<table border=\"1\" class=\"dataframe\">\n",
       "  <thead>\n",
       "    <tr style=\"text-align: right;\">\n",
       "      <th></th>\n",
       "      <th>Img_name</th>\n",
       "      <th>Band_001</th>\n",
       "      <th>Band_002</th>\n",
       "      <th>Band_003</th>\n",
       "      <th>Band_004</th>\n",
       "      <th>Band_005</th>\n",
       "      <th>Band_006</th>\n",
       "      <th>Band_007</th>\n",
       "      <th>Band_008</th>\n",
       "      <th>Band_009</th>\n",
       "      <th>...</th>\n",
       "      <th>Band_247</th>\n",
       "      <th>Band_248</th>\n",
       "      <th>Band_249</th>\n",
       "      <th>Band_250</th>\n",
       "      <th>Band_251</th>\n",
       "      <th>Band_252</th>\n",
       "      <th>Band_253</th>\n",
       "      <th>Band_254</th>\n",
       "      <th>Band_255</th>\n",
       "      <th>Band_256</th>\n",
       "    </tr>\n",
       "  </thead>\n",
       "  <tbody>\n",
       "    <tr>\n",
       "      <td>0</td>\n",
       "      <td>38367</td>\n",
       "      <td>42411.773576</td>\n",
       "      <td>42731.784818</td>\n",
       "      <td>42856.157782</td>\n",
       "      <td>43142.689503</td>\n",
       "      <td>43646.432964</td>\n",
       "      <td>44281.155583</td>\n",
       "      <td>44694.424589</td>\n",
       "      <td>44954.158470</td>\n",
       "      <td>45487.013174</td>\n",
       "      <td>...</td>\n",
       "      <td>2749.093767</td>\n",
       "      <td>2683.932027</td>\n",
       "      <td>2683.912371</td>\n",
       "      <td>2628.185392</td>\n",
       "      <td>2563.280210</td>\n",
       "      <td>2437.795564</td>\n",
       "      <td>2340.470535</td>\n",
       "      <td>2268.815182</td>\n",
       "      <td>2193.448929</td>\n",
       "      <td>2151.578834</td>\n",
       "    </tr>\n",
       "    <tr>\n",
       "      <td>1</td>\n",
       "      <td>38368</td>\n",
       "      <td>37435.804808</td>\n",
       "      <td>37658.290769</td>\n",
       "      <td>37786.146346</td>\n",
       "      <td>37971.445000</td>\n",
       "      <td>38311.599231</td>\n",
       "      <td>38919.980385</td>\n",
       "      <td>39198.810577</td>\n",
       "      <td>39486.649615</td>\n",
       "      <td>39846.401538</td>\n",
       "      <td>...</td>\n",
       "      <td>2170.603462</td>\n",
       "      <td>2113.643846</td>\n",
       "      <td>2120.905385</td>\n",
       "      <td>2036.490192</td>\n",
       "      <td>1966.488269</td>\n",
       "      <td>1856.882308</td>\n",
       "      <td>1804.879038</td>\n",
       "      <td>1721.171346</td>\n",
       "      <td>1650.607115</td>\n",
       "      <td>1630.313462</td>\n",
       "    </tr>\n",
       "    <tr>\n",
       "      <td>2</td>\n",
       "      <td>38369</td>\n",
       "      <td>35867.342426</td>\n",
       "      <td>36086.528659</td>\n",
       "      <td>36225.673116</td>\n",
       "      <td>36443.063136</td>\n",
       "      <td>36836.423097</td>\n",
       "      <td>37429.031479</td>\n",
       "      <td>37698.652998</td>\n",
       "      <td>37978.796963</td>\n",
       "      <td>38431.393649</td>\n",
       "      <td>...</td>\n",
       "      <td>2268.632978</td>\n",
       "      <td>2224.426647</td>\n",
       "      <td>2232.746272</td>\n",
       "      <td>2172.081558</td>\n",
       "      <td>2139.101144</td>\n",
       "      <td>2025.874536</td>\n",
       "      <td>1931.900533</td>\n",
       "      <td>1871.970927</td>\n",
       "      <td>1819.157594</td>\n",
       "      <td>1791.436371</td>\n",
       "    </tr>\n",
       "  </tbody>\n",
       "</table>\n",
       "<p>3 rows × 257 columns</p>\n",
       "</div>"
      ],
      "text/plain": [
       "   Img_name      Band_001      Band_002      Band_003      Band_004  \\\n",
       "0     38367  42411.773576  42731.784818  42856.157782  43142.689503   \n",
       "1     38368  37435.804808  37658.290769  37786.146346  37971.445000   \n",
       "2     38369  35867.342426  36086.528659  36225.673116  36443.063136   \n",
       "\n",
       "       Band_005      Band_006      Band_007      Band_008      Band_009  ...  \\\n",
       "0  43646.432964  44281.155583  44694.424589  44954.158470  45487.013174  ...   \n",
       "1  38311.599231  38919.980385  39198.810577  39486.649615  39846.401538  ...   \n",
       "2  36836.423097  37429.031479  37698.652998  37978.796963  38431.393649  ...   \n",
       "\n",
       "      Band_247     Band_248     Band_249     Band_250     Band_251  \\\n",
       "0  2749.093767  2683.932027  2683.912371  2628.185392  2563.280210   \n",
       "1  2170.603462  2113.643846  2120.905385  2036.490192  1966.488269   \n",
       "2  2268.632978  2224.426647  2232.746272  2172.081558  2139.101144   \n",
       "\n",
       "      Band_252     Band_253     Band_254     Band_255     Band_256  \n",
       "0  2437.795564  2340.470535  2268.815182  2193.448929  2151.578834  \n",
       "1  1856.882308  1804.879038  1721.171346  1650.607115  1630.313462  \n",
       "2  2025.874536  1931.900533  1871.970927  1819.157594  1791.436371  \n",
       "\n",
       "[3 rows x 257 columns]"
      ]
     },
     "execution_count": 20,
     "metadata": {},
     "output_type": "execute_result"
    }
   ],
   "source": [
    "dataset = SWIRdataset + differences\n",
    "dataset.Img_name = SWIRdataset.Img_name\n",
    "dataset.head(3)"
   ]
  },
  {
   "cell_type": "markdown",
   "metadata": {},
   "source": [
    "### Prepare dataset with different scalings to try each and find which one works better"
   ]
  },
  {
   "cell_type": "markdown",
   "metadata": {},
   "source": [
    "#### Max_min scaler, scaling dataset in the range of 0 and 1"
   ]
  },
  {
   "cell_type": "code",
   "execution_count": 21,
   "metadata": {},
   "outputs": [],
   "source": [
    "scaler = MinMaxScaler()\n",
    "scaled_dataset = dataset.iloc[:, 1:]\n",
    "min_max_scaled_dataset = scaler.fit_transform(scaled_dataset)"
   ]
  },
  {
   "cell_type": "code",
   "execution_count": 22,
   "metadata": {},
   "outputs": [],
   "source": [
    "min_max_scaled_dataset = pd.DataFrame(data = scaled_dataset)\n",
    "min_max_scaled_dataset.insert(loc = 0, column = \"img\", value = dataset.Img_name)\n",
    "min_max_scaled_dataset.columns = dataset.columns"
   ]
  },
  {
   "cell_type": "code",
   "execution_count": 23,
   "metadata": {},
   "outputs": [],
   "source": [
    "min_val_index = scaled_dataset.Band_001.idxmin()\n",
    "max_val_index = scaled_dataset.Band_001.idxmax()\n",
    "# print(min_val_index)\n",
    "# print(max_val_index)\n",
    "# min_max_scaled_dataset.head(3)"
   ]
  },
  {
   "cell_type": "code",
   "execution_count": 24,
   "metadata": {},
   "outputs": [
    {
     "data": {
      "text/html": [
       "<div>\n",
       "<style scoped>\n",
       "    .dataframe tbody tr th:only-of-type {\n",
       "        vertical-align: middle;\n",
       "    }\n",
       "\n",
       "    .dataframe tbody tr th {\n",
       "        vertical-align: top;\n",
       "    }\n",
       "\n",
       "    .dataframe thead th {\n",
       "        text-align: right;\n",
       "    }\n",
       "</style>\n",
       "<table border=\"1\" class=\"dataframe\">\n",
       "  <thead>\n",
       "    <tr style=\"text-align: right;\">\n",
       "      <th></th>\n",
       "      <th>Img_name</th>\n",
       "      <th>Band_001</th>\n",
       "      <th>Band_002</th>\n",
       "      <th>Band_003</th>\n",
       "      <th>Band_004</th>\n",
       "      <th>Band_005</th>\n",
       "      <th>Band_006</th>\n",
       "      <th>Band_007</th>\n",
       "      <th>Band_008</th>\n",
       "      <th>Band_009</th>\n",
       "      <th>...</th>\n",
       "      <th>Fructose</th>\n",
       "      <th>Sucrose</th>\n",
       "      <th>Raffinose</th>\n",
       "      <th>Kestose</th>\n",
       "      <th>Maltose</th>\n",
       "      <th>Nystose</th>\n",
       "      <th>Kestopentaose</th>\n",
       "      <th>Total_Fructan</th>\n",
       "      <th>Variety_counts</th>\n",
       "      <th>Variety_number</th>\n",
       "    </tr>\n",
       "  </thead>\n",
       "  <tbody>\n",
       "    <tr>\n",
       "      <td>0</td>\n",
       "      <td>38367</td>\n",
       "      <td>42411.773576</td>\n",
       "      <td>42731.784818</td>\n",
       "      <td>42856.157782</td>\n",
       "      <td>43142.689503</td>\n",
       "      <td>43646.432964</td>\n",
       "      <td>44281.155583</td>\n",
       "      <td>44694.424589</td>\n",
       "      <td>44954.158470</td>\n",
       "      <td>45487.013174</td>\n",
       "      <td>...</td>\n",
       "      <td>0.938528</td>\n",
       "      <td>11.580359</td>\n",
       "      <td>7.191522</td>\n",
       "      <td>2.508236</td>\n",
       "      <td>1.132254</td>\n",
       "      <td>0.454942</td>\n",
       "      <td>0.493446</td>\n",
       "      <td>7.451642</td>\n",
       "      <td>3</td>\n",
       "      <td>2</td>\n",
       "    </tr>\n",
       "    <tr>\n",
       "      <td>1</td>\n",
       "      <td>38368</td>\n",
       "      <td>37435.804808</td>\n",
       "      <td>37658.290769</td>\n",
       "      <td>37786.146346</td>\n",
       "      <td>37971.445000</td>\n",
       "      <td>38311.599231</td>\n",
       "      <td>38919.980385</td>\n",
       "      <td>39198.810577</td>\n",
       "      <td>39486.649615</td>\n",
       "      <td>39846.401538</td>\n",
       "      <td>...</td>\n",
       "      <td>0.389049</td>\n",
       "      <td>14.139681</td>\n",
       "      <td>6.957827</td>\n",
       "      <td>2.297757</td>\n",
       "      <td>0.607435</td>\n",
       "      <td>0.838198</td>\n",
       "      <td>0.068990</td>\n",
       "      <td>7.209828</td>\n",
       "      <td>3</td>\n",
       "      <td>3</td>\n",
       "    </tr>\n",
       "    <tr>\n",
       "      <td>2</td>\n",
       "      <td>38369</td>\n",
       "      <td>35867.342426</td>\n",
       "      <td>36086.528659</td>\n",
       "      <td>36225.673116</td>\n",
       "      <td>36443.063136</td>\n",
       "      <td>36836.423097</td>\n",
       "      <td>37429.031479</td>\n",
       "      <td>37698.652998</td>\n",
       "      <td>37978.796963</td>\n",
       "      <td>38431.393649</td>\n",
       "      <td>...</td>\n",
       "      <td>0.364791</td>\n",
       "      <td>11.247442</td>\n",
       "      <td>5.236240</td>\n",
       "      <td>2.417849</td>\n",
       "      <td>0.497984</td>\n",
       "      <td>1.378649</td>\n",
       "      <td>0.221425</td>\n",
       "      <td>8.311020</td>\n",
       "      <td>3</td>\n",
       "      <td>3</td>\n",
       "    </tr>\n",
       "  </tbody>\n",
       "</table>\n",
       "<p>3 rows × 274 columns</p>\n",
       "</div>"
      ],
      "text/plain": [
       "   Img_name      Band_001      Band_002      Band_003      Band_004  \\\n",
       "0     38367  42411.773576  42731.784818  42856.157782  43142.689503   \n",
       "1     38368  37435.804808  37658.290769  37786.146346  37971.445000   \n",
       "2     38369  35867.342426  36086.528659  36225.673116  36443.063136   \n",
       "\n",
       "       Band_005      Band_006      Band_007      Band_008      Band_009  ...  \\\n",
       "0  43646.432964  44281.155583  44694.424589  44954.158470  45487.013174  ...   \n",
       "1  38311.599231  38919.980385  39198.810577  39486.649615  39846.401538  ...   \n",
       "2  36836.423097  37429.031479  37698.652998  37978.796963  38431.393649  ...   \n",
       "\n",
       "   Fructose    Sucrose  Raffinose   Kestose   Maltose   Nystose  \\\n",
       "0  0.938528  11.580359   7.191522  2.508236  1.132254  0.454942   \n",
       "1  0.389049  14.139681   6.957827  2.297757  0.607435  0.838198   \n",
       "2  0.364791  11.247442   5.236240  2.417849  0.497984  1.378649   \n",
       "\n",
       "   Kestopentaose  Total_Fructan  Variety_counts  Variety_number  \n",
       "0       0.493446       7.451642               3               2  \n",
       "1       0.068990       7.209828               3               3  \n",
       "2       0.221425       8.311020               3               3  \n",
       "\n",
       "[3 rows x 274 columns]"
      ]
     },
     "execution_count": 24,
     "metadata": {},
     "output_type": "execute_result"
    }
   ],
   "source": [
    "min_max_scaled_dataset = pd.merge(left = min_max_scaled_dataset, right = target, how = \"inner\", left_on = \"Img_name\", right_on = \"Barcode\")\n",
    "min_max_scaled_dataset.head(3)"
   ]
  },
  {
   "cell_type": "markdown",
   "metadata": {},
   "source": [
    "#### uniformly scaling dataset by dividing all data by 20000 in order to get a better slope"
   ]
  },
  {
   "cell_type": "code",
   "execution_count": 25,
   "metadata": {},
   "outputs": [],
   "source": [
    "smpl_div_scaled_dataset = dataset / 20000\n",
    "smpl_div_scaled_dataset.Img_name = dataset.Img_name"
   ]
  },
  {
   "cell_type": "code",
   "execution_count": 26,
   "metadata": {},
   "outputs": [],
   "source": [
    "# smpl_div_scaled_dataset.head(3)"
   ]
  },
  {
   "cell_type": "code",
   "execution_count": 27,
   "metadata": {},
   "outputs": [
    {
     "data": {
      "text/html": [
       "<div>\n",
       "<style scoped>\n",
       "    .dataframe tbody tr th:only-of-type {\n",
       "        vertical-align: middle;\n",
       "    }\n",
       "\n",
       "    .dataframe tbody tr th {\n",
       "        vertical-align: top;\n",
       "    }\n",
       "\n",
       "    .dataframe thead th {\n",
       "        text-align: right;\n",
       "    }\n",
       "</style>\n",
       "<table border=\"1\" class=\"dataframe\">\n",
       "  <thead>\n",
       "    <tr style=\"text-align: right;\">\n",
       "      <th></th>\n",
       "      <th>Img_name</th>\n",
       "      <th>Band_001</th>\n",
       "      <th>Band_002</th>\n",
       "      <th>Band_003</th>\n",
       "      <th>Band_004</th>\n",
       "      <th>Band_005</th>\n",
       "      <th>Band_006</th>\n",
       "      <th>Band_007</th>\n",
       "      <th>Band_008</th>\n",
       "      <th>Band_009</th>\n",
       "      <th>...</th>\n",
       "      <th>Fructose</th>\n",
       "      <th>Sucrose</th>\n",
       "      <th>Raffinose</th>\n",
       "      <th>Kestose</th>\n",
       "      <th>Maltose</th>\n",
       "      <th>Nystose</th>\n",
       "      <th>Kestopentaose</th>\n",
       "      <th>Total_Fructan</th>\n",
       "      <th>Variety_counts</th>\n",
       "      <th>Variety_number</th>\n",
       "    </tr>\n",
       "  </thead>\n",
       "  <tbody>\n",
       "    <tr>\n",
       "      <td>0</td>\n",
       "      <td>38367</td>\n",
       "      <td>2.120589</td>\n",
       "      <td>2.136589</td>\n",
       "      <td>2.142808</td>\n",
       "      <td>2.157134</td>\n",
       "      <td>2.182322</td>\n",
       "      <td>2.214058</td>\n",
       "      <td>2.234721</td>\n",
       "      <td>2.247708</td>\n",
       "      <td>2.274351</td>\n",
       "      <td>...</td>\n",
       "      <td>0.938528</td>\n",
       "      <td>11.580359</td>\n",
       "      <td>7.191522</td>\n",
       "      <td>2.508236</td>\n",
       "      <td>1.132254</td>\n",
       "      <td>0.454942</td>\n",
       "      <td>0.493446</td>\n",
       "      <td>7.451642</td>\n",
       "      <td>3</td>\n",
       "      <td>2</td>\n",
       "    </tr>\n",
       "    <tr>\n",
       "      <td>1</td>\n",
       "      <td>38368</td>\n",
       "      <td>1.871790</td>\n",
       "      <td>1.882915</td>\n",
       "      <td>1.889307</td>\n",
       "      <td>1.898572</td>\n",
       "      <td>1.915580</td>\n",
       "      <td>1.945999</td>\n",
       "      <td>1.959941</td>\n",
       "      <td>1.974332</td>\n",
       "      <td>1.992320</td>\n",
       "      <td>...</td>\n",
       "      <td>0.389049</td>\n",
       "      <td>14.139681</td>\n",
       "      <td>6.957827</td>\n",
       "      <td>2.297757</td>\n",
       "      <td>0.607435</td>\n",
       "      <td>0.838198</td>\n",
       "      <td>0.068990</td>\n",
       "      <td>7.209828</td>\n",
       "      <td>3</td>\n",
       "      <td>3</td>\n",
       "    </tr>\n",
       "    <tr>\n",
       "      <td>2</td>\n",
       "      <td>38369</td>\n",
       "      <td>1.793367</td>\n",
       "      <td>1.804326</td>\n",
       "      <td>1.811284</td>\n",
       "      <td>1.822153</td>\n",
       "      <td>1.841821</td>\n",
       "      <td>1.871452</td>\n",
       "      <td>1.884933</td>\n",
       "      <td>1.898940</td>\n",
       "      <td>1.921570</td>\n",
       "      <td>...</td>\n",
       "      <td>0.364791</td>\n",
       "      <td>11.247442</td>\n",
       "      <td>5.236240</td>\n",
       "      <td>2.417849</td>\n",
       "      <td>0.497984</td>\n",
       "      <td>1.378649</td>\n",
       "      <td>0.221425</td>\n",
       "      <td>8.311020</td>\n",
       "      <td>3</td>\n",
       "      <td>3</td>\n",
       "    </tr>\n",
       "  </tbody>\n",
       "</table>\n",
       "<p>3 rows × 274 columns</p>\n",
       "</div>"
      ],
      "text/plain": [
       "   Img_name  Band_001  Band_002  Band_003  Band_004  Band_005  Band_006  \\\n",
       "0     38367  2.120589  2.136589  2.142808  2.157134  2.182322  2.214058   \n",
       "1     38368  1.871790  1.882915  1.889307  1.898572  1.915580  1.945999   \n",
       "2     38369  1.793367  1.804326  1.811284  1.822153  1.841821  1.871452   \n",
       "\n",
       "   Band_007  Band_008  Band_009  ...  Fructose    Sucrose  Raffinose  \\\n",
       "0  2.234721  2.247708  2.274351  ...  0.938528  11.580359   7.191522   \n",
       "1  1.959941  1.974332  1.992320  ...  0.389049  14.139681   6.957827   \n",
       "2  1.884933  1.898940  1.921570  ...  0.364791  11.247442   5.236240   \n",
       "\n",
       "    Kestose   Maltose   Nystose  Kestopentaose  Total_Fructan  Variety_counts  \\\n",
       "0  2.508236  1.132254  0.454942       0.493446       7.451642               3   \n",
       "1  2.297757  0.607435  0.838198       0.068990       7.209828               3   \n",
       "2  2.417849  0.497984  1.378649       0.221425       8.311020               3   \n",
       "\n",
       "   Variety_number  \n",
       "0               2  \n",
       "1               3  \n",
       "2               3  \n",
       "\n",
       "[3 rows x 274 columns]"
      ]
     },
     "execution_count": 27,
     "metadata": {},
     "output_type": "execute_result"
    }
   ],
   "source": [
    "smpl_div_scaled_dataset = pd.merge(left = smpl_div_scaled_dataset, right = target, how = \"inner\", left_on = \"Img_name\", right_on = \"Barcode\")\n",
    "smpl_div_scaled_dataset.head(3)"
   ]
  },
  {
   "cell_type": "markdown",
   "metadata": {},
   "source": [
    "#### not scaled dataset"
   ]
  },
  {
   "cell_type": "code",
   "execution_count": 28,
   "metadata": {},
   "outputs": [
    {
     "data": {
      "text/html": [
       "<div>\n",
       "<style scoped>\n",
       "    .dataframe tbody tr th:only-of-type {\n",
       "        vertical-align: middle;\n",
       "    }\n",
       "\n",
       "    .dataframe tbody tr th {\n",
       "        vertical-align: top;\n",
       "    }\n",
       "\n",
       "    .dataframe thead th {\n",
       "        text-align: right;\n",
       "    }\n",
       "</style>\n",
       "<table border=\"1\" class=\"dataframe\">\n",
       "  <thead>\n",
       "    <tr style=\"text-align: right;\">\n",
       "      <th></th>\n",
       "      <th>Img_name</th>\n",
       "      <th>Band_001</th>\n",
       "      <th>Band_002</th>\n",
       "      <th>Band_003</th>\n",
       "      <th>Band_004</th>\n",
       "      <th>Band_005</th>\n",
       "      <th>Band_006</th>\n",
       "      <th>Band_007</th>\n",
       "      <th>Band_008</th>\n",
       "      <th>Band_009</th>\n",
       "      <th>...</th>\n",
       "      <th>Fructose</th>\n",
       "      <th>Sucrose</th>\n",
       "      <th>Raffinose</th>\n",
       "      <th>Kestose</th>\n",
       "      <th>Maltose</th>\n",
       "      <th>Nystose</th>\n",
       "      <th>Kestopentaose</th>\n",
       "      <th>Total_Fructan</th>\n",
       "      <th>Variety_counts</th>\n",
       "      <th>Variety_number</th>\n",
       "    </tr>\n",
       "  </thead>\n",
       "  <tbody>\n",
       "    <tr>\n",
       "      <td>0</td>\n",
       "      <td>38367</td>\n",
       "      <td>42411.773576</td>\n",
       "      <td>42731.784818</td>\n",
       "      <td>42856.157782</td>\n",
       "      <td>43142.689503</td>\n",
       "      <td>43646.432964</td>\n",
       "      <td>44281.155583</td>\n",
       "      <td>44694.424589</td>\n",
       "      <td>44954.158470</td>\n",
       "      <td>45487.013174</td>\n",
       "      <td>...</td>\n",
       "      <td>0.938528</td>\n",
       "      <td>11.580359</td>\n",
       "      <td>7.191522</td>\n",
       "      <td>2.508236</td>\n",
       "      <td>1.132254</td>\n",
       "      <td>0.454942</td>\n",
       "      <td>0.493446</td>\n",
       "      <td>7.451642</td>\n",
       "      <td>3</td>\n",
       "      <td>2</td>\n",
       "    </tr>\n",
       "    <tr>\n",
       "      <td>1</td>\n",
       "      <td>38368</td>\n",
       "      <td>37435.804808</td>\n",
       "      <td>37658.290769</td>\n",
       "      <td>37786.146346</td>\n",
       "      <td>37971.445000</td>\n",
       "      <td>38311.599231</td>\n",
       "      <td>38919.980385</td>\n",
       "      <td>39198.810577</td>\n",
       "      <td>39486.649615</td>\n",
       "      <td>39846.401538</td>\n",
       "      <td>...</td>\n",
       "      <td>0.389049</td>\n",
       "      <td>14.139681</td>\n",
       "      <td>6.957827</td>\n",
       "      <td>2.297757</td>\n",
       "      <td>0.607435</td>\n",
       "      <td>0.838198</td>\n",
       "      <td>0.068990</td>\n",
       "      <td>7.209828</td>\n",
       "      <td>3</td>\n",
       "      <td>3</td>\n",
       "    </tr>\n",
       "    <tr>\n",
       "      <td>2</td>\n",
       "      <td>38369</td>\n",
       "      <td>35867.342426</td>\n",
       "      <td>36086.528659</td>\n",
       "      <td>36225.673116</td>\n",
       "      <td>36443.063136</td>\n",
       "      <td>36836.423097</td>\n",
       "      <td>37429.031479</td>\n",
       "      <td>37698.652998</td>\n",
       "      <td>37978.796963</td>\n",
       "      <td>38431.393649</td>\n",
       "      <td>...</td>\n",
       "      <td>0.364791</td>\n",
       "      <td>11.247442</td>\n",
       "      <td>5.236240</td>\n",
       "      <td>2.417849</td>\n",
       "      <td>0.497984</td>\n",
       "      <td>1.378649</td>\n",
       "      <td>0.221425</td>\n",
       "      <td>8.311020</td>\n",
       "      <td>3</td>\n",
       "      <td>3</td>\n",
       "    </tr>\n",
       "  </tbody>\n",
       "</table>\n",
       "<p>3 rows × 274 columns</p>\n",
       "</div>"
      ],
      "text/plain": [
       "   Img_name      Band_001      Band_002      Band_003      Band_004  \\\n",
       "0     38367  42411.773576  42731.784818  42856.157782  43142.689503   \n",
       "1     38368  37435.804808  37658.290769  37786.146346  37971.445000   \n",
       "2     38369  35867.342426  36086.528659  36225.673116  36443.063136   \n",
       "\n",
       "       Band_005      Band_006      Band_007      Band_008      Band_009  ...  \\\n",
       "0  43646.432964  44281.155583  44694.424589  44954.158470  45487.013174  ...   \n",
       "1  38311.599231  38919.980385  39198.810577  39486.649615  39846.401538  ...   \n",
       "2  36836.423097  37429.031479  37698.652998  37978.796963  38431.393649  ...   \n",
       "\n",
       "   Fructose    Sucrose  Raffinose   Kestose   Maltose   Nystose  \\\n",
       "0  0.938528  11.580359   7.191522  2.508236  1.132254  0.454942   \n",
       "1  0.389049  14.139681   6.957827  2.297757  0.607435  0.838198   \n",
       "2  0.364791  11.247442   5.236240  2.417849  0.497984  1.378649   \n",
       "\n",
       "   Kestopentaose  Total_Fructan  Variety_counts  Variety_number  \n",
       "0       0.493446       7.451642               3               2  \n",
       "1       0.068990       7.209828               3               3  \n",
       "2       0.221425       8.311020               3               3  \n",
       "\n",
       "[3 rows x 274 columns]"
      ]
     },
     "execution_count": 28,
     "metadata": {},
     "output_type": "execute_result"
    }
   ],
   "source": [
    "not_scaled_dataset = pd.merge(left = dataset, right = target, how = \"inner\", left_on = \"Img_name\", right_on = \"Barcode\")\n",
    "not_scaled_dataset.head(3)"
   ]
  },
  {
   "cell_type": "markdown",
   "metadata": {},
   "source": [
    "### Data visualization"
   ]
  },
  {
   "cell_type": "code",
   "execution_count": 29,
   "metadata": {},
   "outputs": [
    {
     "data": {
      "text/html": [
       "<div>\n",
       "<style scoped>\n",
       "    .dataframe tbody tr th:only-of-type {\n",
       "        vertical-align: middle;\n",
       "    }\n",
       "\n",
       "    .dataframe tbody tr th {\n",
       "        vertical-align: top;\n",
       "    }\n",
       "\n",
       "    .dataframe thead th {\n",
       "        text-align: right;\n",
       "    }\n",
       "</style>\n",
       "<table border=\"1\" class=\"dataframe\">\n",
       "  <thead>\n",
       "    <tr style=\"text-align: right;\">\n",
       "      <th>Img_name</th>\n",
       "      <th>38367</th>\n",
       "      <th>38368</th>\n",
       "      <th>38369</th>\n",
       "      <th>38370</th>\n",
       "      <th>38371</th>\n",
       "      <th>38372</th>\n",
       "      <th>38373</th>\n",
       "      <th>38374</th>\n",
       "      <th>38375</th>\n",
       "      <th>38376</th>\n",
       "      <th>...</th>\n",
       "      <th>38861</th>\n",
       "      <th>38862</th>\n",
       "      <th>38863</th>\n",
       "      <th>38864</th>\n",
       "      <th>38865</th>\n",
       "      <th>38866</th>\n",
       "      <th>38867</th>\n",
       "      <th>38868</th>\n",
       "      <th>38869</th>\n",
       "      <th>38870</th>\n",
       "    </tr>\n",
       "  </thead>\n",
       "  <tbody>\n",
       "    <tr>\n",
       "      <td>Band_001</td>\n",
       "      <td>42411.773576</td>\n",
       "      <td>37435.804808</td>\n",
       "      <td>35867.342426</td>\n",
       "      <td>41754.834217</td>\n",
       "      <td>40995.739496</td>\n",
       "      <td>42095.819157</td>\n",
       "      <td>35479.001240</td>\n",
       "      <td>36768.299219</td>\n",
       "      <td>39941.578462</td>\n",
       "      <td>36184.184646</td>\n",
       "      <td>...</td>\n",
       "      <td>37056.378467</td>\n",
       "      <td>42590.997299</td>\n",
       "      <td>32249.518616</td>\n",
       "      <td>37859.594246</td>\n",
       "      <td>35305.651297</td>\n",
       "      <td>34893.712285</td>\n",
       "      <td>36965.963712</td>\n",
       "      <td>41355.620445</td>\n",
       "      <td>42324.013017</td>\n",
       "      <td>33099.219507</td>\n",
       "    </tr>\n",
       "    <tr>\n",
       "      <td>Band_002</td>\n",
       "      <td>42731.784818</td>\n",
       "      <td>37658.290769</td>\n",
       "      <td>36086.528659</td>\n",
       "      <td>42125.890133</td>\n",
       "      <td>41192.064481</td>\n",
       "      <td>42374.614061</td>\n",
       "      <td>35736.224690</td>\n",
       "      <td>37057.485508</td>\n",
       "      <td>40191.974038</td>\n",
       "      <td>36384.910309</td>\n",
       "      <td>...</td>\n",
       "      <td>37277.195087</td>\n",
       "      <td>42840.455581</td>\n",
       "      <td>32497.976784</td>\n",
       "      <td>38015.721349</td>\n",
       "      <td>35480.348184</td>\n",
       "      <td>35122.901273</td>\n",
       "      <td>37215.449659</td>\n",
       "      <td>41625.077755</td>\n",
       "      <td>42554.751381</td>\n",
       "      <td>33318.580099</td>\n",
       "    </tr>\n",
       "    <tr>\n",
       "      <td>Band_003</td>\n",
       "      <td>42856.157782</td>\n",
       "      <td>37786.146346</td>\n",
       "      <td>36225.673116</td>\n",
       "      <td>42208.679896</td>\n",
       "      <td>41291.218932</td>\n",
       "      <td>42582.500192</td>\n",
       "      <td>35789.757481</td>\n",
       "      <td>37187.855625</td>\n",
       "      <td>40318.855962</td>\n",
       "      <td>36381.955735</td>\n",
       "      <td>...</td>\n",
       "      <td>37337.961324</td>\n",
       "      <td>43010.449355</td>\n",
       "      <td>32674.541423</td>\n",
       "      <td>38106.591786</td>\n",
       "      <td>35559.980432</td>\n",
       "      <td>35238.246404</td>\n",
       "      <td>37320.237273</td>\n",
       "      <td>41773.751780</td>\n",
       "      <td>42647.630588</td>\n",
       "      <td>33475.534631</td>\n",
       "    </tr>\n",
       "  </tbody>\n",
       "</table>\n",
       "<p>3 rows × 460 columns</p>\n",
       "</div>"
      ],
      "text/plain": [
       "Img_name         38367         38368         38369         38370  \\\n",
       "Band_001  42411.773576  37435.804808  35867.342426  41754.834217   \n",
       "Band_002  42731.784818  37658.290769  36086.528659  42125.890133   \n",
       "Band_003  42856.157782  37786.146346  36225.673116  42208.679896   \n",
       "\n",
       "Img_name         38371         38372         38373         38374  \\\n",
       "Band_001  40995.739496  42095.819157  35479.001240  36768.299219   \n",
       "Band_002  41192.064481  42374.614061  35736.224690  37057.485508   \n",
       "Band_003  41291.218932  42582.500192  35789.757481  37187.855625   \n",
       "\n",
       "Img_name         38375         38376  ...         38861         38862  \\\n",
       "Band_001  39941.578462  36184.184646  ...  37056.378467  42590.997299   \n",
       "Band_002  40191.974038  36384.910309  ...  37277.195087  42840.455581   \n",
       "Band_003  40318.855962  36381.955735  ...  37337.961324  43010.449355   \n",
       "\n",
       "Img_name         38863         38864         38865         38866  \\\n",
       "Band_001  32249.518616  37859.594246  35305.651297  34893.712285   \n",
       "Band_002  32497.976784  38015.721349  35480.348184  35122.901273   \n",
       "Band_003  32674.541423  38106.591786  35559.980432  35238.246404   \n",
       "\n",
       "Img_name         38867         38868         38869         38870  \n",
       "Band_001  36965.963712  41355.620445  42324.013017  33099.219507  \n",
       "Band_002  37215.449659  41625.077755  42554.751381  33318.580099  \n",
       "Band_003  37320.237273  41773.751780  42647.630588  33475.534631  \n",
       "\n",
       "[3 rows x 460 columns]"
      ]
     },
     "execution_count": 29,
     "metadata": {},
     "output_type": "execute_result"
    }
   ],
   "source": [
    "trans_data = dataset.transpose()\n",
    "trans_data.columns = dataset.Img_name.astype(str)\n",
    "trans_data = trans_data.drop(index = 'Img_name')\n",
    "trans_data.head(3)"
   ]
  },
  {
   "cell_type": "code",
   "execution_count": 30,
   "metadata": {},
   "outputs": [
    {
     "data": {
      "text/plain": [
       "<matplotlib.axes._subplots.AxesSubplot at 0x197c72af448>"
      ]
     },
     "execution_count": 30,
     "metadata": {},
     "output_type": "execute_result"
    },
    {
     "data": {
      "image/png": "[encoded data removed]",
      "text/plain": [
       "<Figure size 432x288 with 1 Axes>"
      ]
     },
     "metadata": {
      "needs_background": "light"
     },
     "output_type": "display_data"
    }
   ],
   "source": [
    "step = np.arange(1, 257)\n",
    "sns.scatterplot(step, '38371', data = trans_data) # try sns.lmplot\n",
    "sns.scatterplot(step, '38622', data = trans_data) \n",
    "sns.scatterplot(step, '38864', data = trans_data)\n",
    "sns.scatterplot(step, '38688', data = trans_data)\n",
    "sns.scatterplot(step, '38400', data = trans_data)"
   ]
  },
  {
   "cell_type": "code",
   "execution_count": 31,
   "metadata": {},
   "outputs": [],
   "source": [
    "cor1 = dataset.iloc[:, [1, 50, 100, 150, 200, 250]].corr()"
   ]
  },
  {
   "cell_type": "code",
   "execution_count": 32,
   "metadata": {},
   "outputs": [
    {
     "data": {
      "image/png": "[encoded data removed]",
      "text/plain": [
       "<Figure size 432x288 with 2 Axes>"
      ]
     },
     "metadata": {
      "needs_background": "light"
     },
     "output_type": "display_data"
    }
   ],
   "source": [
    "sns.heatmap(cor1, annot=True, cmap=plt.cm.Reds)\n",
    "plt.show()"
   ]
  },
  {
   "cell_type": "code",
   "execution_count": 33,
   "metadata": {},
   "outputs": [],
   "source": [
    "cor2 = target.iloc[:, [7, 8, 9, 10, 11, 12, 13, 14]].corr()"
   ]
  },
  {
   "cell_type": "code",
   "execution_count": 34,
   "metadata": {},
   "outputs": [
    {
     "data": {
      "image/png": "[encoded data removed]",
      "text/plain": [
       "<Figure size 432x288 with 2 Axes>"
      ]
     },
     "metadata": {
      "needs_background": "light"
     },
     "output_type": "display_data"
    }
   ],
   "source": [
    "sns.heatmap(cor2, annot=True, cmap=plt.cm.Reds)\n",
    "plt.show()"
   ]
  },
  {
   "cell_type": "code",
   "execution_count": 35,
   "metadata": {},
   "outputs": [
    {
     "data": {
      "text/plain": [
       "(200,)"
      ]
     },
     "execution_count": 35,
     "metadata": {},
     "output_type": "execute_result"
    }
   ],
   "source": [
    "target.Variety.unique().shape"
   ]
  },
  {
   "cell_type": "code",
   "execution_count": 36,
   "metadata": {},
   "outputs": [
    {
     "data": {
      "text/plain": [
       "(160,)"
      ]
     },
     "execution_count": 36,
     "metadata": {},
     "output_type": "execute_result"
    }
   ],
   "source": [
    "target.Variety_ID.unique().shape"
   ]
  },
  {
   "cell_type": "code",
   "execution_count": 37,
   "metadata": {},
   "outputs": [],
   "source": [
    "# sns.relplot('Band_001', 'Raffinose', data = df, hue = 'Maltose', size = 'Nystose')\n",
    "# sns.relplot('Band_200', 'Raffinose', data = df, hue = 'Maltose', size = 'Nystose')"
   ]
  },
  {
   "cell_type": "code",
   "execution_count": 38,
   "metadata": {},
   "outputs": [],
   "source": [
    "# sns.lmplot('Band_200', 'Raffinose', data = not_scaled_dataset, ci= False, height=6, line_kws={'color': 'red'})"
   ]
  },
  {
   "cell_type": "code",
   "execution_count": 39,
   "metadata": {},
   "outputs": [],
   "source": [
    "# sns.scatterplot('Band_120', 'Total_Fructan', data = min_max_scaled_dataset, ci= False)"
   ]
  },
  {
   "cell_type": "code",
   "execution_count": 40,
   "metadata": {},
   "outputs": [],
   "source": [
    "# target.columns"
   ]
  },
  {
   "cell_type": "code",
   "execution_count": 41,
   "metadata": {},
   "outputs": [],
   "source": [
    "# sns.regplot(x = , y = , data = )"
   ]
  },
  {
   "cell_type": "code",
   "execution_count": null,
   "metadata": {},
   "outputs": [],
   "source": []
  },
  {
   "cell_type": "markdown",
   "metadata": {},
   "source": [
    "## Datasets"
   ]
  },
  {
   "cell_type": "markdown",
   "metadata": {},
   "source": [
    "### Split based on Variety_ID"
   ]
  },
  {
   "cell_type": "code",
   "execution_count": 42,
   "metadata": {},
   "outputs": [],
   "source": [
    "# not_scaled_dataset\n",
    "# smpl_div_scaled_dataset\n",
    "# min_max_scaled_dataset\n",
    "\n",
    "dataset_test_no_scale = not_scaled_dataset[not_scaled_dataset.Variety_number == 1]\n",
    "dataset_train_no_scale = not_scaled_dataset[not_scaled_dataset.Variety_number > 1]\n",
    "\n",
    "dataset_test_smpl_div = smpl_div_scaled_dataset[smpl_div_scaled_dataset.Variety_number == 1]\n",
    "dataset_train_smpl_div = smpl_div_scaled_dataset[smpl_div_scaled_dataset.Variety_number > 1]\n",
    "\n",
    "dataset_test_min_max = min_max_scaled_dataset[min_max_scaled_dataset.Variety_number == 1]\n",
    "dataset_train_min_max = min_max_scaled_dataset[min_max_scaled_dataset.Variety_number > 1]"
   ]
  },
  {
   "cell_type": "code",
   "execution_count": 43,
   "metadata": {},
   "outputs": [],
   "source": [
    "# min_max_scaled_dataset.Variety_number.unique()\n",
    "# min_max_scaled_dataset.sort_values(by = ['Variety_ID'], axis=0, ascending=True, inplace=True, kind='quicksort', na_position='last')"
   ]
  },
  {
   "cell_type": "code",
   "execution_count": 44,
   "metadata": {},
   "outputs": [],
   "source": [
    "# ************************** no scaled training and test split based on varieties ***************************\n",
    "X_train_no_scale = dataset_train_no_scale.iloc[:,1:257]\n",
    "y_train_no_scale = dataset_train_no_scale.iloc[:,263:272]\n",
    "\n",
    "X_test_no_scale = dataset_test_no_scale.iloc[:,1:257]\n",
    "y_test_no_scale = dataset_test_no_scale.iloc[:,263:272]\n",
    "\n",
    "# *************************** smpl div training and test split based on varieties ***************************\n",
    "X_train_smpl_div = dataset_train_smpl_div.iloc[:,1:257]\n",
    "y_train_smpl_div = dataset_train_smpl_div.iloc[:,263:272]\n",
    "\n",
    "X_test_smpl_div = dataset_test_smpl_div.iloc[:,1:257]\n",
    "y_test_smpl_div = dataset_test_smpl_div.iloc[:,263:272]\n",
    "\n",
    "# *************************** min max training and test split based on varieties ****************************\n",
    "X_train_min_max = dataset_train_min_max.iloc[:,1:257]\n",
    "y_train_min_max = dataset_train_min_max.iloc[:,263:272]\n",
    "\n",
    "X_test_min_max = dataset_test_min_max.iloc[:,1:257]\n",
    "y_test_min_max = dataset_test_min_max.iloc[:,263:272]"
   ]
  },
  {
   "cell_type": "markdown",
   "metadata": {},
   "source": [
    "### Split randomly"
   ]
  },
  {
   "cell_type": "code",
   "execution_count": null,
   "metadata": {},
   "outputs": [],
   "source": []
  },
  {
   "cell_type": "code",
   "execution_count": null,
   "metadata": {},
   "outputs": [],
   "source": []
  },
  {
   "cell_type": "code",
   "execution_count": null,
   "metadata": {},
   "outputs": [],
   "source": []
  },
  {
   "cell_type": "markdown",
   "metadata": {},
   "source": [
    "# Algorithms"
   ]
  },
  {
   "cell_type": "markdown",
   "metadata": {},
   "source": [
    "## Ridge Regression"
   ]
  },
  {
   "cell_type": "code",
   "execution_count": 45,
   "metadata": {},
   "outputs": [
    {
     "data": {
      "text/plain": [
       "Index(['Barcode', 'Print_Info', 'Variety_ID', 'Variety', 'Batch', 'Sample',\n",
       "       'Glucose', 'Fructose', 'Sucrose', 'Raffinose', 'Kestose', 'Maltose',\n",
       "       'Nystose', 'Kestopentaose', 'Total_Fructan', 'Variety_counts',\n",
       "       'Variety_number'],\n",
       "      dtype='object')"
      ]
     },
     "execution_count": 45,
     "metadata": {},
     "output_type": "execute_result"
    }
   ],
   "source": [
    "target.columns"
   ]
  },
  {
   "cell_type": "code",
   "execution_count": 46,
   "metadata": {},
   "outputs": [],
   "source": [
    "y_train_min_max_Glucose = y_train_min_max.Glucose\n",
    "y_train_min_max_Fructose = y_train_min_max.Fructose\n",
    "y_train_min_max_Sucrose = y_train_min_max.Sucrose\n",
    "y_train_min_max_Raffinose = y_train_min_max.Raffinose\n",
    "y_train_min_max_Kestose = y_train_min_max.Kestose\n",
    "y_train_min_max_Maltose = y_train_min_max.Maltose\n",
    "y_train_min_max_Nystose = y_train_min_max.Nystose\n",
    "y_train_min_max_Kestopentaose = y_train_min_max.Kestopentaose\n",
    "y_train_min_max_Total_Fructan = y_train_min_max.Total_Fructan\n",
    "\n",
    "y_test_min_max_Glucose = y_test_min_max.Glucose\n",
    "y_test_min_max_Fructose = y_test_min_max.Fructose\n",
    "y_test_min_max_Sucrose = y_test_min_max.Sucrose\n",
    "y_test_min_max_Raffinose = y_test_min_max.Raffinose\n",
    "y_test_min_max_Kestose = y_test_min_max.Kestose\n",
    "y_test_min_max_Maltose = y_test_min_max.Maltose\n",
    "y_test_min_max_Nystose = y_test_min_max.Nystose\n",
    "y_test_min_max_Kestopentaose = y_test_min_max.Kestopentaose\n",
    "y_test_min_max_Total_Fructan = y_test_min_max.Total_Fructan"
   ]
  },
  {
   "cell_type": "code",
   "execution_count": 47,
   "metadata": {},
   "outputs": [],
   "source": [
    "ridge_min_max_Glucose = linear_model.Ridge(max_iter=100000, tol=0.001)\n",
    "ridge_min_max_Fructose = linear_model.Ridge(max_iter=100000, tol=0.001)\n",
    "ridge_min_max_Sucrose = linear_model.Ridge(max_iter=100000, tol=0.001)\n",
    "ridge_min_max_Raffinose = linear_model.Ridge(max_iter=100000, tol=0.001)\n",
    "ridge_min_max_Kestose = linear_model.Ridge(max_iter=100000, tol=0.001)\n",
    "ridge_min_max_Maltose = linear_model.Ridge(max_iter=100000, tol=0.001)\n",
    "ridge_min_max_Nystose = linear_model.Ridge(max_iter=100000, tol=0.001)\n",
    "ridge_min_max_Kestopentaose = linear_model.Ridge(max_iter=100000, tol=0.001)\n",
    "ridge_min_max_Total_Fructan = linear_model.Ridge(max_iter=100000, tol=0.001)"
   ]
  },
  {
   "cell_type": "code",
   "execution_count": 48,
   "metadata": {},
   "outputs": [
    {
     "name": "stderr",
     "output_type": "stream",
     "text": [
      "C:\\Users\\ahmad\\Anaconda3\\lib\\site-packages\\sklearn\\linear_model\\coordinate_descent.py:475: ConvergenceWarning: Objective did not converge. You might want to increase the number of iterations. Duality gap: 173.0962632911582, tolerance: 1.6247929290861747\n",
      "  positive)\n",
      "C:\\Users\\ahmad\\Anaconda3\\lib\\site-packages\\sklearn\\linear_model\\coordinate_descent.py:475: ConvergenceWarning: Objective did not converge. You might want to increase the number of iterations. Duality gap: 9.99595120075685, tolerance: 0.5581802772180995\n",
      "  positive)\n",
      "C:\\Users\\ahmad\\Anaconda3\\lib\\site-packages\\sklearn\\linear_model\\coordinate_descent.py:475: ConvergenceWarning: Objective did not converge. You might want to increase the number of iterations. Duality gap: 1.7030108367647756, tolerance: 0.24458650273255622\n",
      "  positive)\n",
      "C:\\Users\\ahmad\\Anaconda3\\lib\\site-packages\\sklearn\\linear_model\\coordinate_descent.py:475: ConvergenceWarning: Objective did not converge. You might want to increase the number of iterations. Duality gap: 2.6591220690345665, tolerance: 0.25535775452204273\n",
      "  positive)\n",
      "C:\\Users\\ahmad\\Anaconda3\\lib\\site-packages\\sklearn\\linear_model\\coordinate_descent.py:475: ConvergenceWarning: Objective did not converge. You might want to increase the number of iterations. Duality gap: 1191.2908291927483, tolerance: 6.122139856404478\n",
      "  positive)\n"
     ]
    },
    {
     "data": {
      "text/plain": [
       "Lasso(alpha=1.0, copy_X=True, fit_intercept=True, max_iter=100000,\n",
       "      normalize=False, positive=False, precompute=False, random_state=None,\n",
       "      selection='cyclic', tol=0.001, warm_start=False)"
      ]
     },
     "execution_count": 48,
     "metadata": {},
     "output_type": "execute_result"
    }
   ],
   "source": [
    "lasso_min_max_Glucose.fit(X_train_min_max, y_train_min_max_Glucose)\n",
    "lasso_min_max_Fructose.fit(X_train_min_max, y_train_min_max_Fructose)\n",
    "lasso_min_max_Sucrose.fit(X_train_min_max, y_train_min_max_Sucrose)\n",
    "lasso_min_max_Raffinose.fit(X_train_min_max, y_train_min_max_Raffinose)\n",
    "lasso_min_max_Kestose.fit(X_train_min_max, y_train_min_max_Kestose)\n",
    "lasso_min_max_Maltose.fit(X_train_min_max, y_train_min_max_Maltose)\n",
    "lasso_min_max_Nystose.fit(X_train_min_max, y_train_min_max_Nystose)\n",
    "lasso_min_max_Kestopentaose.fit(X_train_min_max, y_train_min_max_Kestopentaose)\n",
    "lasso_min_max_Total_Fructan.fit(X_train_min_max, y_train_min_max_Total_Fructan)"
   ]
  },
  {
   "cell_type": "code",
   "execution_count": 49,
   "metadata": {},
   "outputs": [],
   "source": [
    "prediction_min_max_Glucose = lasso_min_max_Glucose.predict(X_test_min_max)\n",
    "prediction_min_max_Fructose = lasso_min_max_Fructose.predict(X_test_min_max)\n",
    "prediction_min_max_Sucrose = lasso_min_max_Sucrose.predict(X_test_min_max)\n",
    "prediction_min_max_Raffinose = lasso_min_max_Raffinose.predict(X_test_min_max)\n",
    "prediction_min_max_Kestose = lasso_min_max_Kestose.predict(X_test_min_max)\n",
    "prediction_min_max_Maltose = lasso_min_max_Maltose.predict(X_test_min_max)\n",
    "prediction_min_max_Nystose = lasso_min_max_Nystose.predict(X_test_min_max)\n",
    "prediction_min_max_Kestopentaose = lasso_min_max_Kestopentaose.predict(X_test_min_max)\n",
    "prediction_min_max_Total_Fructan = lasso_min_max_Total_Fructan.predict(X_test_min_max)"
   ]
  },
  {
   "cell_type": "code",
   "execution_count": 50,
   "metadata": {},
   "outputs": [],
   "source": [
    "variance_min_max_Glucose = lasso_min_max_Glucose.score(X_test_min_max, y_test_min_max_Glucose)\n",
    "variance_min_max_Fructose = lasso_min_max_Fructose.score(X_test_min_max, y_test_min_max_Fructose)\n",
    "variance_min_max_Sucrose = lasso_min_max_Sucrose.score(X_test_min_max, y_test_min_max_Sucrose)\n",
    "variance_min_max_Raffinose = lasso_min_max_Raffinose.score(X_test_min_max, y_test_min_max_Raffinose)\n",
    "variance_min_max_Kestose = lasso_min_max_Kestose.score(X_test_min_max, y_test_min_max_Kestose)\n",
    "variance_min_max_Maltose = lasso_min_max_Maltose.score(X_test_min_max, y_test_min_max_Maltose)\n",
    "variance_min_max_Nystose = lasso_min_max_Nystose.score(X_test_min_max, y_test_min_max_Nystose)\n",
    "variance_min_max_Kestopentaose = lasso_min_max_Kestopentaose.score(X_test_min_max, y_test_min_max_Kestopentaose)\n",
    "variance_min_max_Total_Fructan = lasso_min_max_Total_Fructan.score(X_test_min_max, y_test_min_max_Total_Fructan)"
   ]
  },
  {
   "cell_type": "code",
   "execution_count": 51,
   "metadata": {},
   "outputs": [
    {
     "name": "stdout",
     "output_type": "stream",
     "text": [
      "-0.0533694180735369\n",
      "-0.05339051624349134\n",
      "-0.15176507723223986\n",
      "-0.008362016244671366\n",
      "-0.047968417110216814\n",
      "-0.04968352665478237\n",
      "-0.05749098768193428\n",
      "-0.09359062574704913\n",
      "-0.30661012288661715\n"
     ]
    }
   ],
   "source": [
    "print(variance_min_max_Glucose)\n",
    "print(variance_min_max_Fructose)\n",
    "print(variance_min_max_Sucrose)\n",
    "print(variance_min_max_Raffinose)\n",
    "print(variance_min_max_Kestose)\n",
    "print(variance_min_max_Maltose)\n",
    "print(variance_min_max_Nystose)\n",
    "print(variance_min_max_Kestopentaose)\n",
    "print(variance_min_max_Total_Fructan)"
   ]
  },
  {
   "cell_type": "code",
   "execution_count": 52,
   "metadata": {},
   "outputs": [],
   "source": [
    "# r2_score_min_max_Glucose = r2_score(y_test_min_max_Glucose, prediction_min_max_Glucose)\n",
    "# r2_score_min_max_Fructose = r2_score(y_test_min_max_Fructose, prediction_min_max_Fructose)\n",
    "# r2_score_min_max_Sucrose = r2_score(y_test_min_max_Sucrose, prediction_min_max_Sucrose)\n",
    "# r2_score_min_max_Raffinose = r2_score(y_test_min_max_Raffinose, prediction_min_max_Raffinose)\n",
    "# r2_score_min_max_Kestose = r2_score(y_test_min_max_Kestose, prediction_min_max_Kestose)\n",
    "# r2_score_min_max_Maltose = r2_score(y_test_min_max_Maltose, prediction_min_max_Maltose)\n",
    "# r2_score_min_max_Nystose = r2_score(y_test_min_max_Nystose, prediction_min_max_Nystose)\n",
    "# r2_score_min_max_Kestopentaose = r2_score(y_test_min_max_Kestopentaose, prediction_min_max_Kestopentaose)\n",
    "# r2_score_min_max_Total_Fructan = r2_score(y_test_min_max_Total_Fructan, prediction_min_max_Total_Fructan)"
   ]
  },
  {
   "cell_type": "code",
   "execution_count": 53,
   "metadata": {},
   "outputs": [],
   "source": [
    "# print(r2_score_min_max_Glucose)\n",
    "# print(r2_score_min_max_Fructose)\n",
    "# print(r2_score_min_max_Sucrose)\n",
    "# print(r2_score_min_max_Raffinose)\n",
    "# print(r2_score_min_max_Kestose)\n",
    "# print(r2_score_min_max_Maltose)\n",
    "# print(r2_score_min_max_Nystose)\n",
    "# print(r2_score_min_max_Kestopentaose)\n",
    "# print(r2_score_min_max_Total_Fructan)"
   ]
  },
  {
   "cell_type": "code",
   "execution_count": 54,
   "metadata": {},
   "outputs": [],
   "source": [
    "mean_absolute_error_min_max_Glucose = mean_absolute_error(y_test_min_max_Glucose, prediction_min_max_Glucose)\n",
    "mean_absolute_error_min_max_Fructose = mean_absolute_error(y_test_min_max_Fructose, prediction_min_max_Fructose)\n",
    "mean_absolute_error_min_max_Sucrose = mean_absolute_error(y_test_min_max_Sucrose, prediction_min_max_Sucrose)\n",
    "mean_absolute_error_min_max_Raffinose = mean_absolute_error(y_test_min_max_Raffinose, prediction_min_max_Raffinose)\n",
    "mean_absolute_error_min_max_Kestose = mean_absolute_error(y_test_min_max_Kestose, prediction_min_max_Kestose)\n",
    "mean_absolute_error_min_max_Maltose = mean_absolute_error(y_test_min_max_Maltose, prediction_min_max_Maltose)\n",
    "mean_absolute_error_min_max_Nystose = mean_absolute_error(y_test_min_max_Nystose, prediction_min_max_Nystose)\n",
    "mean_absolute_error_min_max_Kestopentaose = mean_absolute_error(y_test_min_max_Kestopentaose, prediction_min_max_Kestopentaose)\n",
    "mean_absolute_error_min_max_Total_Fructan = mean_absolute_error(y_test_min_max_Total_Fructan, prediction_min_max_Total_Fructan)"
   ]
  },
  {
   "cell_type": "code",
   "execution_count": 55,
   "metadata": {},
   "outputs": [
    {
     "name": "stdout",
     "output_type": "stream",
     "text": [
      "0.22319009417979255\n",
      "0.2647490700106212\n",
      "2.0499523196475273\n",
      "1.1617708511651927\n",
      "0.6628688193569323\n",
      "0.17602978787989543\n",
      "0.6123992029953765\n",
      "0.15877379642007153\n",
      "3.405794690511921\n"
     ]
    }
   ],
   "source": [
    "print(mean_absolute_error_min_max_Glucose)\n",
    "print(mean_absolute_error_min_max_Fructose)\n",
    "print(mean_absolute_error_min_max_Sucrose)\n",
    "print(mean_absolute_error_min_max_Raffinose)\n",
    "print(mean_absolute_error_min_max_Kestose)\n",
    "print(mean_absolute_error_min_max_Maltose)\n",
    "print(mean_absolute_error_min_max_Nystose)\n",
    "print(mean_absolute_error_min_max_Kestopentaose)\n",
    "print(mean_absolute_error_min_max_Total_Fructan)"
   ]
  },
  {
   "cell_type": "code",
   "execution_count": 56,
   "metadata": {},
   "outputs": [],
   "source": [
    "y_test_min_max_Glucose = y_test_min_max.Glucose\n",
    "y_test_min_max_Fructose = y_test_min_max.Fructose\n",
    "y_test_min_max_Sucrose = y_test_min_max.Sucrose\n",
    "y_test_min_max_Raffinose = y_test_min_max.Raffinose\n",
    "y_test_min_max_Kestose = y_test_min_max.Kestose\n",
    "y_test_min_max_Maltose = y_test_min_max.Maltose\n",
    "y_test_min_max_Nystose = y_test_min_max.Nystose\n",
    "y_test_min_max_Kestopentaose = y_test_min_max.Kestopentaose\n",
    "y_test_min_max_Total_Fructan = y_test_min_max.Total_Fructan"
   ]
  },
  {
   "cell_type": "code",
   "execution_count": 57,
   "metadata": {},
   "outputs": [],
   "source": [
    "mean_squared_error_Glucose = mean_squared_error(y_test_min_max_Glucose, prediction_min_max_Glucose)\n",
    "mean_squared_error_Fructose = mean_squared_error(y_test_min_max_Fructose, prediction_min_max_Fructose)\n",
    "mean_squared_error_Sucrose = mean_squared_error(y_test_min_max_Sucrose, prediction_min_max_Sucrose)\n",
    "mean_squared_error_Raffinose = mean_squared_error(y_test_min_max_Raffinose, prediction_min_max_Raffinose)\n",
    "mean_squared_error_Kestose = mean_squared_error(y_test_min_max_Kestose, prediction_min_max_Kestose)\n",
    "mean_squared_error_Maltose = mean_squared_error(y_test_min_max_Maltose, prediction_min_max_Maltose)\n",
    "mean_squared_error_Nystose = mean_squared_error(y_test_min_max_Nystose, prediction_min_max_Nystose)\n",
    "mean_squared_error_Kestopentaose = mean_squared_error(y_test_min_max_Kestopentaose, prediction_min_max_Kestopentaose)\n",
    "mean_squared_error_Total_Fructan = mean_squared_error(y_test_min_max_Total_Fructan, prediction_min_max_Total_Fructan)"
   ]
  },
  {
   "cell_type": "code",
   "execution_count": 58,
   "metadata": {},
   "outputs": [
    {
     "name": "stdout",
     "output_type": "stream",
     "text": [
      "0.09553032387957765\n",
      "0.15127048139356034\n",
      "6.472585939205116\n",
      "2.136231846110897\n",
      "0.7098038380556302\n",
      "0.05807418564084113\n",
      "0.600999182260387\n",
      "0.050569172523759566\n",
      "19.86132622249437\n"
     ]
    }
   ],
   "source": [
    "print(mean_squared_error_Glucose)\n",
    "print(mean_squared_error_Fructose)\n",
    "print(mean_squared_error_Sucrose)\n",
    "print(mean_squared_error_Raffinose)\n",
    "print(mean_squared_error_Kestose)\n",
    "print(mean_squared_error_Maltose)\n",
    "print(mean_squared_error_Nystose)\n",
    "print(mean_squared_error_Kestopentaose)\n",
    "print(mean_squared_error_Total_Fructan)"
   ]
  },
  {
   "cell_type": "markdown",
   "metadata": {},
   "source": [
    "##### visualization"
   ]
  },
  {
   "cell_type": "code",
   "execution_count": 59,
   "metadata": {},
   "outputs": [
    {
     "data": {
      "text/plain": [
       "<matplotlib.collections.PathCollection at 0x197c788e748>"
      ]
     },
     "execution_count": 59,
     "metadata": {},
     "output_type": "execute_result"
    },
    {
     "data": {
      "image/png": "[encoded data removed]",
      "text/plain": [
       "<Figure size 360x360 with 1 Axes>"
      ]
     },
     "metadata": {
      "needs_background": "light"
     },
     "output_type": "display_data"
    }
   ],
   "source": [
    "plt.figure(figsize=(5,5))\n",
    "plt.title(\"Lasso Regression \\n Glucose\")\n",
    "plt.xlabel(\"actual\")\n",
    "plt.ylabel(\"predicted\")\n",
    "plt.scatter(y_test_min_max_Glucose, prediction_min_max_Glucose)"
   ]
  },
  {
   "cell_type": "code",
   "execution_count": 60,
   "metadata": {},
   "outputs": [
    {
     "data": {
      "text/plain": [
       "<matplotlib.collections.PathCollection at 0x197c76fad88>"
      ]
     },
     "execution_count": 60,
     "metadata": {},
     "output_type": "execute_result"
    },
    {
     "data": {
      "image/png": "[encoded data removed]",
      "text/plain": [
       "<Figure size 360x360 with 1 Axes>"
      ]
     },
     "metadata": {
      "needs_background": "light"
     },
     "output_type": "display_data"
    }
   ],
   "source": [
    "plt.figure(figsize=(5,5))\n",
    "plt.title(\"Lasso Regression \\n Fructose\")\n",
    "plt.xlabel(\"actual\")\n",
    "plt.ylabel(\"predicted\")\n",
    "plt.scatter(y_test_min_max_Fructose, prediction_min_max_Fructose)"
   ]
  },
  {
   "cell_type": "code",
   "execution_count": 61,
   "metadata": {},
   "outputs": [
    {
     "data": {
      "text/plain": [
       "<matplotlib.collections.PathCollection at 0x197c777b188>"
      ]
     },
     "execution_count": 61,
     "metadata": {},
     "output_type": "execute_result"
    },
    {
     "data": {
      "image/png": "[encoded data removed]",
      "text/plain": [
       "<Figure size 360x360 with 1 Axes>"
      ]
     },
     "metadata": {
      "needs_background": "light"
     },
     "output_type": "display_data"
    }
   ],
   "source": [
    "plt.figure(figsize=(5,5))\n",
    "plt.title(\"Lasso Regression \\n Sucrose\")\n",
    "plt.xlabel(\"actual\")\n",
    "plt.ylabel(\"predicted\")\n",
    "plt.scatter(y_test_min_max_Sucrose, prediction_min_max_Sucrose)"
   ]
  },
  {
   "cell_type": "code",
   "execution_count": 62,
   "metadata": {},
   "outputs": [
    {
     "data": {
      "text/plain": [
       "<matplotlib.collections.PathCollection at 0x197c8d3b788>"
      ]
     },
     "execution_count": 62,
     "metadata": {},
     "output_type": "execute_result"
    },
    {
     "data": {
      "image/png": "[encoded data removed]",
      "text/plain": [
       "<Figure size 360x360 with 1 Axes>"
      ]
     },
     "metadata": {
      "needs_background": "light"
     },
     "output_type": "display_data"
    }
   ],
   "source": [
    "plt.figure(figsize=(5,5))\n",
    "plt.title(\"Lasso Regression \\n Raffinose\")\n",
    "plt.xlabel(\"actual\")\n",
    "plt.ylabel(\"predicted\")\n",
    "plt.scatter(y_test_min_max_Raffinose, prediction_min_max_Raffinose)"
   ]
  },
  {
   "cell_type": "code",
   "execution_count": 63,
   "metadata": {},
   "outputs": [
    {
     "data": {
      "text/plain": [
       "<matplotlib.collections.PathCollection at 0x197c8da87c8>"
      ]
     },
     "execution_count": 63,
     "metadata": {},
     "output_type": "execute_result"
    },
    {
     "data": {
      "image/png": "[encoded data removed]",
      "text/plain": [
       "<Figure size 360x360 with 1 Axes>"
      ]
     },
     "metadata": {
      "needs_background": "light"
     },
     "output_type": "display_data"
    }
   ],
   "source": [
    "plt.figure(figsize=(5,5))\n",
    "plt.title(\"Lasso Regression \\n Kestose\")\n",
    "plt.xlabel(\"actual\")\n",
    "plt.ylabel(\"predicted\")\n",
    "plt.scatter(y_test_min_max_Kestose, prediction_min_max_Kestose)"
   ]
  },
  {
   "cell_type": "code",
   "execution_count": 64,
   "metadata": {},
   "outputs": [
    {
     "data": {
      "text/plain": [
       "<matplotlib.collections.PathCollection at 0x197c8e12308>"
      ]
     },
     "execution_count": 64,
     "metadata": {},
     "output_type": "execute_result"
    },
    {
     "data": {
      "image/png": "[encoded data removed]",
      "text/plain": [
       "<Figure size 360x360 with 1 Axes>"
      ]
     },
     "metadata": {
      "needs_background": "light"
     },
     "output_type": "display_data"
    }
   ],
   "source": [
    "plt.figure(figsize=(5,5))\n",
    "plt.title(\"Lasso Regression \\n Maltose\")\n",
    "plt.xlabel(\"actual\")\n",
    "plt.ylabel(\"predicted\")\n",
    "plt.scatter(y_test_min_max_Maltose, prediction_min_max_Maltose)"
   ]
  },
  {
   "cell_type": "code",
   "execution_count": 65,
   "metadata": {},
   "outputs": [
    {
     "data": {
      "text/plain": [
       "<matplotlib.collections.PathCollection at 0x197c8e706c8>"
      ]
     },
     "execution_count": 65,
     "metadata": {},
     "output_type": "execute_result"
    },
    {
     "data": {
      "image/png": "[encoded data removed]",
      "text/plain": [
       "<Figure size 360x360 with 1 Axes>"
      ]
     },
     "metadata": {
      "needs_background": "light"
     },
     "output_type": "display_data"
    }
   ],
   "source": [
    "plt.figure(figsize=(5,5))\n",
    "plt.title(\"Lasso Regression \\n Nystose\")\n",
    "plt.xlabel(\"actual\")\n",
    "plt.ylabel(\"predicted\")\n",
    "plt.scatter(y_test_min_max_Nystose, prediction_min_max_Nystose)"
   ]
  },
  {
   "cell_type": "code",
   "execution_count": 66,
   "metadata": {},
   "outputs": [
    {
     "data": {
      "text/plain": [
       "<matplotlib.collections.PathCollection at 0x197c8ee31c8>"
      ]
     },
     "execution_count": 66,
     "metadata": {},
     "output_type": "execute_result"
    },
    {
     "data": {
      "image/png": "[encoded data removed]",
      "text/plain": [
       "<Figure size 360x360 with 1 Axes>"
      ]
     },
     "metadata": {
      "needs_background": "light"
     },
     "output_type": "display_data"
    }
   ],
   "source": [
    "plt.figure(figsize=(5,5))\n",
    "plt.title(\"Lasso Regression \\n Kestopentaose\")\n",
    "plt.xlabel(\"actual\")\n",
    "plt.ylabel(\"predicted\")\n",
    "plt.scatter(y_test_min_max_Kestopentaose, prediction_min_max_Kestopentaose)"
   ]
  },
  {
   "cell_type": "code",
   "execution_count": 67,
   "metadata": {},
   "outputs": [
    {
     "data": {
      "text/plain": [
       "<matplotlib.collections.PathCollection at 0x197c76a2ac8>"
      ]
     },
     "execution_count": 67,
     "metadata": {},
     "output_type": "execute_result"
    },
    {
     "data": {
      "image/png": "[encoded data removed]",
      "text/plain": [
       "<Figure size 360x360 with 1 Axes>"
      ]
     },
     "metadata": {
      "needs_background": "light"
     },
     "output_type": "display_data"
    }
   ],
   "source": [
    "plt.figure(figsize=(5,5))\n",
    "plt.title(\"Lasso Regression \\n Total_Fructan\")\n",
    "plt.xlabel(\"actual\")\n",
    "plt.ylabel(\"predicted\")\n",
    "plt.scatter(y_test_min_max_Total_Fructan, prediction_min_max_Total_Fructan)"
   ]
  },
  {
   "cell_type": "code",
   "execution_count": 68,
   "metadata": {},
   "outputs": [],
   "source": [
    "# slope = elasticNet.coef_\n",
    "# slope.max()"
   ]
  },
  {
   "cell_type": "code",
   "execution_count": 69,
   "metadata": {},
   "outputs": [],
   "source": [
    "# intercept = elasticNet.intercept_\n",
    "# print(intercept)"
   ]
  }
 ],
 "metadata": {
  "kernelspec": {
   "display_name": "Python 3",
   "language": "python",
   "name": "python3"
  },
  "language_info": {
   "codemirror_mode": {
    "name": "ipython",
    "version": 3
   },
   "file_extension": ".py",
   "mimetype": "text/x-python",
   "name": "python",
   "nbconvert_exporter": "python",
   "pygments_lexer": "ipython3",
   "version": "3.7.4"
  }
 },
 "nbformat": 4,
 "nbformat_minor": 2
}
