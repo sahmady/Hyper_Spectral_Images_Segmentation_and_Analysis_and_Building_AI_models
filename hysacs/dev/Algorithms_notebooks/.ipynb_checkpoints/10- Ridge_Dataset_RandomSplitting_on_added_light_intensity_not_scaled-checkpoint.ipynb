{
 "cells": [
  {
   "cell_type": "markdown",
   "metadata": {},
   "source": [
    "## Import Libraries"
   ]
  },
  {
   "cell_type": "code",
   "execution_count": 1,
   "metadata": {},
   "outputs": [],
   "source": [
    "import pandas as pd\n",
    "import numpy as np\n",
    "from sklearn import linear_model\n",
    "from sklearn.model_selection import train_test_split\n",
    "from sklearn.model_selection import cross_val_score\n",
    "from sklearn.model_selection import GridSearchCV\n",
    "from sklearn.preprocessing import MinMaxScaler\n",
    "from sklearn import metrics\n",
    "from sklearn.metrics import mean_squared_error\n",
    "from sklearn.metrics import mean_absolute_error\n",
    "from sklearn.metrics import r2_score\n",
    "import matplotlib.pyplot as plt\n",
    "%matplotlib inline\n",
    "import seaborn as sns"
   ]
  },
  {
   "cell_type": "markdown",
   "metadata": {},
   "source": [
    "## Import Data"
   ]
  },
  {
   "cell_type": "code",
   "execution_count": 2,
   "metadata": {},
   "outputs": [],
   "source": [
    "dataset = pd.read_excel(\"Prepared_Datasets/merged_VNIR_SWIR_add_light_intensity.xlsx\")\n",
    "target = pd.read_excel(\"Sugar_Quantities.xlsx\")"
   ]
  },
  {
   "cell_type": "code",
   "execution_count": 3,
   "metadata": {},
   "outputs": [
    {
     "data": {
      "text/html": [
       "<div>\n",
       "<style scoped>\n",
       "    .dataframe tbody tr th:only-of-type {\n",
       "        vertical-align: middle;\n",
       "    }\n",
       "\n",
       "    .dataframe tbody tr th {\n",
       "        vertical-align: top;\n",
       "    }\n",
       "\n",
       "    .dataframe thead th {\n",
       "        text-align: right;\n",
       "    }\n",
       "</style>\n",
       "<table border=\"1\" class=\"dataframe\">\n",
       "  <thead>\n",
       "    <tr style=\"text-align: right;\">\n",
       "      <th></th>\n",
       "      <th>Img_name</th>\n",
       "      <th>Band_1</th>\n",
       "      <th>Band_2</th>\n",
       "      <th>Band_3</th>\n",
       "      <th>Band_4</th>\n",
       "      <th>Band_5</th>\n",
       "      <th>Band_6</th>\n",
       "      <th>Band_7</th>\n",
       "      <th>Band_8</th>\n",
       "      <th>Band_9</th>\n",
       "      <th>...</th>\n",
       "      <th>Band_407</th>\n",
       "      <th>Band_408</th>\n",
       "      <th>Band_409</th>\n",
       "      <th>Band_410</th>\n",
       "      <th>Band_411</th>\n",
       "      <th>Band_412</th>\n",
       "      <th>Band_413</th>\n",
       "      <th>Band_414</th>\n",
       "      <th>Band_415</th>\n",
       "      <th>Band_416</th>\n",
       "    </tr>\n",
       "  </thead>\n",
       "  <tbody>\n",
       "    <tr>\n",
       "      <td>0</td>\n",
       "      <td>38367</td>\n",
       "      <td>2272.052376</td>\n",
       "      <td>2419.640964</td>\n",
       "      <td>2530.859162</td>\n",
       "      <td>2612.018388</td>\n",
       "      <td>2718.413619</td>\n",
       "      <td>2826.046004</td>\n",
       "      <td>2878.306089</td>\n",
       "      <td>3073.544431</td>\n",
       "      <td>3229.561130</td>\n",
       "      <td>...</td>\n",
       "      <td>2749.09</td>\n",
       "      <td>2683.93</td>\n",
       "      <td>2683.91</td>\n",
       "      <td>2628.19</td>\n",
       "      <td>2563.28</td>\n",
       "      <td>2437.80</td>\n",
       "      <td>2340.47</td>\n",
       "      <td>2268.82</td>\n",
       "      <td>2193.45</td>\n",
       "      <td>2151.58</td>\n",
       "    </tr>\n",
       "    <tr>\n",
       "      <td>1</td>\n",
       "      <td>38368</td>\n",
       "      <td>1822.574497</td>\n",
       "      <td>1917.456792</td>\n",
       "      <td>2003.750927</td>\n",
       "      <td>2079.778647</td>\n",
       "      <td>2153.134286</td>\n",
       "      <td>2230.324596</td>\n",
       "      <td>2276.387512</td>\n",
       "      <td>2428.686721</td>\n",
       "      <td>2552.277473</td>\n",
       "      <td>...</td>\n",
       "      <td>2170.60</td>\n",
       "      <td>2113.64</td>\n",
       "      <td>2120.91</td>\n",
       "      <td>2036.49</td>\n",
       "      <td>1966.49</td>\n",
       "      <td>1856.88</td>\n",
       "      <td>1804.88</td>\n",
       "      <td>1721.17</td>\n",
       "      <td>1650.61</td>\n",
       "      <td>1630.31</td>\n",
       "    </tr>\n",
       "    <tr>\n",
       "      <td>2</td>\n",
       "      <td>38369</td>\n",
       "      <td>1931.785921</td>\n",
       "      <td>2051.129682</td>\n",
       "      <td>2138.022522</td>\n",
       "      <td>2228.502649</td>\n",
       "      <td>2314.158989</td>\n",
       "      <td>2410.505299</td>\n",
       "      <td>2454.436973</td>\n",
       "      <td>2629.315374</td>\n",
       "      <td>2760.096754</td>\n",
       "      <td>...</td>\n",
       "      <td>2268.63</td>\n",
       "      <td>2224.43</td>\n",
       "      <td>2232.75</td>\n",
       "      <td>2172.08</td>\n",
       "      <td>2139.10</td>\n",
       "      <td>2025.87</td>\n",
       "      <td>1931.90</td>\n",
       "      <td>1871.97</td>\n",
       "      <td>1819.16</td>\n",
       "      <td>1791.44</td>\n",
       "    </tr>\n",
       "  </tbody>\n",
       "</table>\n",
       "<p>3 rows × 417 columns</p>\n",
       "</div>"
      ],
      "text/plain": [
       "   Img_name       Band_1       Band_2       Band_3       Band_4       Band_5  \\\n",
       "0     38367  2272.052376  2419.640964  2530.859162  2612.018388  2718.413619   \n",
       "1     38368  1822.574497  1917.456792  2003.750927  2079.778647  2153.134286   \n",
       "2     38369  1931.785921  2051.129682  2138.022522  2228.502649  2314.158989   \n",
       "\n",
       "        Band_6       Band_7       Band_8       Band_9  ...  Band_407  \\\n",
       "0  2826.046004  2878.306089  3073.544431  3229.561130  ...   2749.09   \n",
       "1  2230.324596  2276.387512  2428.686721  2552.277473  ...   2170.60   \n",
       "2  2410.505299  2454.436973  2629.315374  2760.096754  ...   2268.63   \n",
       "\n",
       "   Band_408  Band_409  Band_410  Band_411  Band_412  Band_413  Band_414  \\\n",
       "0   2683.93   2683.91   2628.19   2563.28   2437.80   2340.47   2268.82   \n",
       "1   2113.64   2120.91   2036.49   1966.49   1856.88   1804.88   1721.17   \n",
       "2   2224.43   2232.75   2172.08   2139.10   2025.87   1931.90   1871.97   \n",
       "\n",
       "   Band_415  Band_416  \n",
       "0   2193.45   2151.58  \n",
       "1   1650.61   1630.31  \n",
       "2   1819.16   1791.44  \n",
       "\n",
       "[3 rows x 417 columns]"
      ]
     },
     "execution_count": 3,
     "metadata": {},
     "output_type": "execute_result"
    }
   ],
   "source": [
    "dataset.head(3)"
   ]
  },
  {
   "cell_type": "code",
   "execution_count": 4,
   "metadata": {},
   "outputs": [],
   "source": [
    "target_columns = ['Barcode', 'Print_Info', 'Variety_ID', 'Variety', 'Batch', 'Sample', 'Glucose', 'Fructose', 'Sucrose', 'Raffinose',\n",
    "                 'Kestose', 'Maltose', 'Nystose', 'Kestopentaose', 'Total_Fructan']\n",
    "target.columns = target_columns"
   ]
  },
  {
   "cell_type": "code",
   "execution_count": 5,
   "metadata": {},
   "outputs": [],
   "source": [
    "# g = sns.pairplot(target[['Glucose','Fructose','Sucrose', 'Raffinose', 'Kestose', 'Maltose', 'Nystose', 'Kestopentaose']])"
   ]
  },
  {
   "cell_type": "code",
   "execution_count": 6,
   "metadata": {},
   "outputs": [],
   "source": [
    "cor2 = target.iloc[:, [7, 8, 9, 10, 11, 12, 13, 14]].corr()"
   ]
  },
  {
   "cell_type": "code",
   "execution_count": 7,
   "metadata": {
    "scrolled": true
   },
   "outputs": [
    {
     "data": {
      "image/png": "[encoded data removed]",
      "text/plain": [
       "<Figure size 432x288 with 2 Axes>"
      ]
     },
     "metadata": {
      "needs_background": "light"
     },
     "output_type": "display_data"
    }
   ],
   "source": [
    "sns.heatmap(cor2, annot=True, cmap=plt.cm.Reds)\n",
    "plt.show()"
   ]
  },
  {
   "cell_type": "markdown",
   "metadata": {},
   "source": [
    "### adding helper columns on target dataset"
   ]
  },
  {
   "cell_type": "markdown",
   "metadata": {},
   "source": [
    "#### adding counts of varieties"
   ]
  },
  {
   "cell_type": "code",
   "execution_count": 8,
   "metadata": {},
   "outputs": [],
   "source": [
    "counts = pd.value_counts(target['Variety_ID'])\n",
    "counts_index = np.array([counts.index]).reshape(-1, 1)\n",
    "counts_values = np.array([counts.values]).reshape(-1, 1)"
   ]
  },
  {
   "cell_type": "code",
   "execution_count": 9,
   "metadata": {},
   "outputs": [],
   "source": [
    "counts_data = np.concatenate((counts_index, counts_values),axis = 1)"
   ]
  },
  {
   "cell_type": "code",
   "execution_count": 10,
   "metadata": {},
   "outputs": [],
   "source": [
    "counts_df = pd.DataFrame(data = counts_data, columns = ['Variety_ID', 'Variety_counts'])"
   ]
  },
  {
   "cell_type": "code",
   "execution_count": 11,
   "metadata": {},
   "outputs": [],
   "source": [
    "target = pd.merge(left = target, right = counts_df, how = 'outer', left_on = 'Variety_ID', right_on = 'Variety_ID')"
   ]
  },
  {
   "cell_type": "code",
   "execution_count": 12,
   "metadata": {},
   "outputs": [],
   "source": [
    "# target.head(2)"
   ]
  },
  {
   "cell_type": "markdown",
   "metadata": {},
   "source": [
    "#### adding variety number of counts"
   ]
  },
  {
   "cell_type": "code",
   "execution_count": 13,
   "metadata": {},
   "outputs": [],
   "source": [
    "target.insert(loc = 16, column = \"Variety_number\", value = \"\")"
   ]
  },
  {
   "cell_type": "code",
   "execution_count": 14,
   "metadata": {},
   "outputs": [
    {
     "name": "stderr",
     "output_type": "stream",
     "text": [
      "C:\\Users\\ahmad\\Anaconda3\\lib\\site-packages\\ipykernel_launcher.py:7: SettingWithCopyWarning: \n",
      "A value is trying to be set on a copy of a slice from a DataFrame\n",
      "\n",
      "See the caveats in the documentation: http://pandas.pydata.org/pandas-docs/stable/user_guide/indexing.html#returning-a-view-versus-a-copy\n",
      "  import sys\n"
     ]
    }
   ],
   "source": [
    "for r in range(0, target.shape[0]):\n",
    "    num = 0\n",
    "    Variety_ID = target.Variety_ID[r]\n",
    "    for x in range(r, target.shape[0]):\n",
    "        if target.Variety_ID[x] == Variety_ID:\n",
    "            num = num + 1\n",
    "    target.Variety_number[r] = num"
   ]
  },
  {
   "cell_type": "code",
   "execution_count": 15,
   "metadata": {},
   "outputs": [
    {
     "data": {
      "text/html": [
       "<div>\n",
       "<style scoped>\n",
       "    .dataframe tbody tr th:only-of-type {\n",
       "        vertical-align: middle;\n",
       "    }\n",
       "\n",
       "    .dataframe tbody tr th {\n",
       "        vertical-align: top;\n",
       "    }\n",
       "\n",
       "    .dataframe thead th {\n",
       "        text-align: right;\n",
       "    }\n",
       "</style>\n",
       "<table border=\"1\" class=\"dataframe\">\n",
       "  <thead>\n",
       "    <tr style=\"text-align: right;\">\n",
       "      <th></th>\n",
       "      <th>Barcode</th>\n",
       "      <th>Print_Info</th>\n",
       "      <th>Variety_ID</th>\n",
       "      <th>Variety</th>\n",
       "      <th>Batch</th>\n",
       "      <th>Sample</th>\n",
       "      <th>Glucose</th>\n",
       "      <th>Fructose</th>\n",
       "      <th>Sucrose</th>\n",
       "      <th>Raffinose</th>\n",
       "      <th>Kestose</th>\n",
       "      <th>Maltose</th>\n",
       "      <th>Nystose</th>\n",
       "      <th>Kestopentaose</th>\n",
       "      <th>Total_Fructan</th>\n",
       "      <th>Variety_counts</th>\n",
       "      <th>Variety_number</th>\n",
       "    </tr>\n",
       "  </thead>\n",
       "  <tbody>\n",
       "    <tr>\n",
       "      <td>0</td>\n",
       "      <td>38368.0</td>\n",
       "      <td>Cabaret-R1_L1P3</td>\n",
       "      <td>26</td>\n",
       "      <td>Cabaret</td>\n",
       "      <td>1</td>\n",
       "      <td>1</td>\n",
       "      <td>0.525990</td>\n",
       "      <td>0.389049</td>\n",
       "      <td>14.139681</td>\n",
       "      <td>6.957827</td>\n",
       "      <td>2.297757</td>\n",
       "      <td>0.607435</td>\n",
       "      <td>0.838198</td>\n",
       "      <td>0.068990</td>\n",
       "      <td>7.209828</td>\n",
       "      <td>3</td>\n",
       "      <td>3</td>\n",
       "    </tr>\n",
       "    <tr>\n",
       "      <td>1</td>\n",
       "      <td>38632.0</td>\n",
       "      <td>Cabaret-R2_L12P3</td>\n",
       "      <td>26</td>\n",
       "      <td>Cabaret</td>\n",
       "      <td>11</td>\n",
       "      <td>251</td>\n",
       "      <td>0.587680</td>\n",
       "      <td>0.594920</td>\n",
       "      <td>14.475188</td>\n",
       "      <td>5.263027</td>\n",
       "      <td>2.500238</td>\n",
       "      <td>0.577737</td>\n",
       "      <td>0.980051</td>\n",
       "      <td>0.070338</td>\n",
       "      <td>6.219160</td>\n",
       "      <td>3</td>\n",
       "      <td>2</td>\n",
       "    </tr>\n",
       "    <tr>\n",
       "      <td>2</td>\n",
       "      <td>38765.0</td>\n",
       "      <td>Cabaret-R3_L17P16</td>\n",
       "      <td>26</td>\n",
       "      <td>Cabaret</td>\n",
       "      <td>18</td>\n",
       "      <td>413</td>\n",
       "      <td>0.383404</td>\n",
       "      <td>0.329895</td>\n",
       "      <td>9.469324</td>\n",
       "      <td>3.742113</td>\n",
       "      <td>1.605575</td>\n",
       "      <td>0.640902</td>\n",
       "      <td>0.251107</td>\n",
       "      <td>0.015643</td>\n",
       "      <td>4.087977</td>\n",
       "      <td>3</td>\n",
       "      <td>1</td>\n",
       "    </tr>\n",
       "  </tbody>\n",
       "</table>\n",
       "</div>"
      ],
      "text/plain": [
       "   Barcode         Print_Info  Variety_ID  Variety  Batch Sample   Glucose  \\\n",
       "0  38368.0    Cabaret-R1_L1P3          26  Cabaret      1      1  0.525990   \n",
       "1  38632.0   Cabaret-R2_L12P3          26  Cabaret     11    251  0.587680   \n",
       "2  38765.0  Cabaret-R3_L17P16          26  Cabaret     18    413  0.383404   \n",
       "\n",
       "   Fructose    Sucrose  Raffinose   Kestose   Maltose   Nystose  \\\n",
       "0  0.389049  14.139681   6.957827  2.297757  0.607435  0.838198   \n",
       "1  0.594920  14.475188   5.263027  2.500238  0.577737  0.980051   \n",
       "2  0.329895   9.469324   3.742113  1.605575  0.640902  0.251107   \n",
       "\n",
       "   Kestopentaose  Total_Fructan  Variety_counts Variety_number  \n",
       "0       0.068990       7.209828               3              3  \n",
       "1       0.070338       6.219160               3              2  \n",
       "2       0.015643       4.087977               3              1  "
      ]
     },
     "execution_count": 15,
     "metadata": {},
     "output_type": "execute_result"
    }
   ],
   "source": [
    "target.head(3)"
   ]
  },
  {
   "cell_type": "markdown",
   "metadata": {},
   "source": [
    "### Prepare dataset with different scalings to try each and find which one works better"
   ]
  },
  {
   "cell_type": "markdown",
   "metadata": {},
   "source": [
    "#### Max_min scaler, scaling dataset in the range of 0 and 1"
   ]
  },
  {
   "cell_type": "code",
   "execution_count": 16,
   "metadata": {},
   "outputs": [],
   "source": [
    "scaler = MinMaxScaler()\n",
    "scaled_dataset = dataset.iloc[:, 1:]\n",
    "min_max_scaled_dataset = scaler.fit_transform(scaled_dataset)"
   ]
  },
  {
   "cell_type": "code",
   "execution_count": 17,
   "metadata": {},
   "outputs": [],
   "source": [
    "min_max_scaled_dataset = pd.DataFrame(data = min_max_scaled_dataset)\n",
    "min_max_scaled_dataset.insert(loc = 0, column = \"img\", value = dataset.Img_name)\n",
    "min_max_scaled_dataset.columns = dataset.columns"
   ]
  },
  {
   "cell_type": "code",
   "execution_count": 18,
   "metadata": {},
   "outputs": [
    {
     "data": {
      "text/html": [
       "<div>\n",
       "<style scoped>\n",
       "    .dataframe tbody tr th:only-of-type {\n",
       "        vertical-align: middle;\n",
       "    }\n",
       "\n",
       "    .dataframe tbody tr th {\n",
       "        vertical-align: top;\n",
       "    }\n",
       "\n",
       "    .dataframe thead th {\n",
       "        text-align: right;\n",
       "    }\n",
       "</style>\n",
       "<table border=\"1\" class=\"dataframe\">\n",
       "  <thead>\n",
       "    <tr style=\"text-align: right;\">\n",
       "      <th></th>\n",
       "      <th>Img_name</th>\n",
       "      <th>Band_1</th>\n",
       "      <th>Band_2</th>\n",
       "      <th>Band_3</th>\n",
       "      <th>Band_4</th>\n",
       "      <th>Band_5</th>\n",
       "      <th>Band_6</th>\n",
       "      <th>Band_7</th>\n",
       "      <th>Band_8</th>\n",
       "      <th>Band_9</th>\n",
       "      <th>...</th>\n",
       "      <th>Fructose</th>\n",
       "      <th>Sucrose</th>\n",
       "      <th>Raffinose</th>\n",
       "      <th>Kestose</th>\n",
       "      <th>Maltose</th>\n",
       "      <th>Nystose</th>\n",
       "      <th>Kestopentaose</th>\n",
       "      <th>Total_Fructan</th>\n",
       "      <th>Variety_counts</th>\n",
       "      <th>Variety_number</th>\n",
       "    </tr>\n",
       "  </thead>\n",
       "  <tbody>\n",
       "    <tr>\n",
       "      <td>0</td>\n",
       "      <td>38367</td>\n",
       "      <td>0.453739</td>\n",
       "      <td>0.445624</td>\n",
       "      <td>0.444130</td>\n",
       "      <td>0.449550</td>\n",
       "      <td>0.458939</td>\n",
       "      <td>0.476805</td>\n",
       "      <td>0.513596</td>\n",
       "      <td>0.476022</td>\n",
       "      <td>0.478778</td>\n",
       "      <td>...</td>\n",
       "      <td>0.938528</td>\n",
       "      <td>11.580359</td>\n",
       "      <td>7.191522</td>\n",
       "      <td>2.508236</td>\n",
       "      <td>1.132254</td>\n",
       "      <td>0.454942</td>\n",
       "      <td>0.493446</td>\n",
       "      <td>7.451642</td>\n",
       "      <td>3</td>\n",
       "      <td>2</td>\n",
       "    </tr>\n",
       "    <tr>\n",
       "      <td>1</td>\n",
       "      <td>38368</td>\n",
       "      <td>0.336197</td>\n",
       "      <td>0.328566</td>\n",
       "      <td>0.328909</td>\n",
       "      <td>0.336866</td>\n",
       "      <td>0.342283</td>\n",
       "      <td>0.354602</td>\n",
       "      <td>0.383138</td>\n",
       "      <td>0.355403</td>\n",
       "      <td>0.357803</td>\n",
       "      <td>...</td>\n",
       "      <td>0.389049</td>\n",
       "      <td>14.139681</td>\n",
       "      <td>6.957827</td>\n",
       "      <td>2.297757</td>\n",
       "      <td>0.607435</td>\n",
       "      <td>0.838198</td>\n",
       "      <td>0.068990</td>\n",
       "      <td>7.209828</td>\n",
       "      <td>3</td>\n",
       "      <td>3</td>\n",
       "    </tr>\n",
       "    <tr>\n",
       "      <td>2</td>\n",
       "      <td>38369</td>\n",
       "      <td>0.364757</td>\n",
       "      <td>0.359725</td>\n",
       "      <td>0.358259</td>\n",
       "      <td>0.368353</td>\n",
       "      <td>0.375514</td>\n",
       "      <td>0.391563</td>\n",
       "      <td>0.421728</td>\n",
       "      <td>0.392930</td>\n",
       "      <td>0.394923</td>\n",
       "      <td>...</td>\n",
       "      <td>0.364791</td>\n",
       "      <td>11.247442</td>\n",
       "      <td>5.236240</td>\n",
       "      <td>2.417849</td>\n",
       "      <td>0.497984</td>\n",
       "      <td>1.378649</td>\n",
       "      <td>0.221425</td>\n",
       "      <td>8.311020</td>\n",
       "      <td>3</td>\n",
       "      <td>3</td>\n",
       "    </tr>\n",
       "  </tbody>\n",
       "</table>\n",
       "<p>3 rows × 434 columns</p>\n",
       "</div>"
      ],
      "text/plain": [
       "   Img_name    Band_1    Band_2    Band_3    Band_4    Band_5    Band_6  \\\n",
       "0     38367  0.453739  0.445624  0.444130  0.449550  0.458939  0.476805   \n",
       "1     38368  0.336197  0.328566  0.328909  0.336866  0.342283  0.354602   \n",
       "2     38369  0.364757  0.359725  0.358259  0.368353  0.375514  0.391563   \n",
       "\n",
       "     Band_7    Band_8    Band_9  ...  Fructose    Sucrose  Raffinose  \\\n",
       "0  0.513596  0.476022  0.478778  ...  0.938528  11.580359   7.191522   \n",
       "1  0.383138  0.355403  0.357803  ...  0.389049  14.139681   6.957827   \n",
       "2  0.421728  0.392930  0.394923  ...  0.364791  11.247442   5.236240   \n",
       "\n",
       "    Kestose   Maltose   Nystose  Kestopentaose  Total_Fructan  Variety_counts  \\\n",
       "0  2.508236  1.132254  0.454942       0.493446       7.451642               3   \n",
       "1  2.297757  0.607435  0.838198       0.068990       7.209828               3   \n",
       "2  2.417849  0.497984  1.378649       0.221425       8.311020               3   \n",
       "\n",
       "   Variety_number  \n",
       "0               2  \n",
       "1               3  \n",
       "2               3  \n",
       "\n",
       "[3 rows x 434 columns]"
      ]
     },
     "execution_count": 18,
     "metadata": {},
     "output_type": "execute_result"
    }
   ],
   "source": [
    "min_max_scaled_dataset = pd.merge(left = min_max_scaled_dataset, right = target, how = \"inner\", left_on = \"Img_name\", right_on = \"Barcode\")\n",
    "min_max_scaled_dataset.head(3)"
   ]
  },
  {
   "cell_type": "markdown",
   "metadata": {},
   "source": [
    "#### not scaled dataset"
   ]
  },
  {
   "cell_type": "code",
   "execution_count": 19,
   "metadata": {},
   "outputs": [
    {
     "data": {
      "text/html": [
       "<div>\n",
       "<style scoped>\n",
       "    .dataframe tbody tr th:only-of-type {\n",
       "        vertical-align: middle;\n",
       "    }\n",
       "\n",
       "    .dataframe tbody tr th {\n",
       "        vertical-align: top;\n",
       "    }\n",
       "\n",
       "    .dataframe thead th {\n",
       "        text-align: right;\n",
       "    }\n",
       "</style>\n",
       "<table border=\"1\" class=\"dataframe\">\n",
       "  <thead>\n",
       "    <tr style=\"text-align: right;\">\n",
       "      <th></th>\n",
       "      <th>Img_name</th>\n",
       "      <th>Band_1</th>\n",
       "      <th>Band_2</th>\n",
       "      <th>Band_3</th>\n",
       "      <th>Band_4</th>\n",
       "      <th>Band_5</th>\n",
       "      <th>Band_6</th>\n",
       "      <th>Band_7</th>\n",
       "      <th>Band_8</th>\n",
       "      <th>Band_9</th>\n",
       "      <th>...</th>\n",
       "      <th>Fructose</th>\n",
       "      <th>Sucrose</th>\n",
       "      <th>Raffinose</th>\n",
       "      <th>Kestose</th>\n",
       "      <th>Maltose</th>\n",
       "      <th>Nystose</th>\n",
       "      <th>Kestopentaose</th>\n",
       "      <th>Total_Fructan</th>\n",
       "      <th>Variety_counts</th>\n",
       "      <th>Variety_number</th>\n",
       "    </tr>\n",
       "  </thead>\n",
       "  <tbody>\n",
       "    <tr>\n",
       "      <td>0</td>\n",
       "      <td>38367</td>\n",
       "      <td>2272.052376</td>\n",
       "      <td>2419.640964</td>\n",
       "      <td>2530.859162</td>\n",
       "      <td>2612.018388</td>\n",
       "      <td>2718.413619</td>\n",
       "      <td>2826.046004</td>\n",
       "      <td>2878.306089</td>\n",
       "      <td>3073.544431</td>\n",
       "      <td>3229.561130</td>\n",
       "      <td>...</td>\n",
       "      <td>0.938528</td>\n",
       "      <td>11.580359</td>\n",
       "      <td>7.191522</td>\n",
       "      <td>2.508236</td>\n",
       "      <td>1.132254</td>\n",
       "      <td>0.454942</td>\n",
       "      <td>0.493446</td>\n",
       "      <td>7.451642</td>\n",
       "      <td>3</td>\n",
       "      <td>2</td>\n",
       "    </tr>\n",
       "    <tr>\n",
       "      <td>1</td>\n",
       "      <td>38368</td>\n",
       "      <td>1822.574497</td>\n",
       "      <td>1917.456792</td>\n",
       "      <td>2003.750927</td>\n",
       "      <td>2079.778647</td>\n",
       "      <td>2153.134286</td>\n",
       "      <td>2230.324596</td>\n",
       "      <td>2276.387512</td>\n",
       "      <td>2428.686721</td>\n",
       "      <td>2552.277473</td>\n",
       "      <td>...</td>\n",
       "      <td>0.389049</td>\n",
       "      <td>14.139681</td>\n",
       "      <td>6.957827</td>\n",
       "      <td>2.297757</td>\n",
       "      <td>0.607435</td>\n",
       "      <td>0.838198</td>\n",
       "      <td>0.068990</td>\n",
       "      <td>7.209828</td>\n",
       "      <td>3</td>\n",
       "      <td>3</td>\n",
       "    </tr>\n",
       "    <tr>\n",
       "      <td>2</td>\n",
       "      <td>38369</td>\n",
       "      <td>1931.785921</td>\n",
       "      <td>2051.129682</td>\n",
       "      <td>2138.022522</td>\n",
       "      <td>2228.502649</td>\n",
       "      <td>2314.158989</td>\n",
       "      <td>2410.505299</td>\n",
       "      <td>2454.436973</td>\n",
       "      <td>2629.315374</td>\n",
       "      <td>2760.096754</td>\n",
       "      <td>...</td>\n",
       "      <td>0.364791</td>\n",
       "      <td>11.247442</td>\n",
       "      <td>5.236240</td>\n",
       "      <td>2.417849</td>\n",
       "      <td>0.497984</td>\n",
       "      <td>1.378649</td>\n",
       "      <td>0.221425</td>\n",
       "      <td>8.311020</td>\n",
       "      <td>3</td>\n",
       "      <td>3</td>\n",
       "    </tr>\n",
       "  </tbody>\n",
       "</table>\n",
       "<p>3 rows × 434 columns</p>\n",
       "</div>"
      ],
      "text/plain": [
       "   Img_name       Band_1       Band_2       Band_3       Band_4       Band_5  \\\n",
       "0     38367  2272.052376  2419.640964  2530.859162  2612.018388  2718.413619   \n",
       "1     38368  1822.574497  1917.456792  2003.750927  2079.778647  2153.134286   \n",
       "2     38369  1931.785921  2051.129682  2138.022522  2228.502649  2314.158989   \n",
       "\n",
       "        Band_6       Band_7       Band_8       Band_9  ...  Fructose  \\\n",
       "0  2826.046004  2878.306089  3073.544431  3229.561130  ...  0.938528   \n",
       "1  2230.324596  2276.387512  2428.686721  2552.277473  ...  0.389049   \n",
       "2  2410.505299  2454.436973  2629.315374  2760.096754  ...  0.364791   \n",
       "\n",
       "     Sucrose  Raffinose   Kestose   Maltose   Nystose  Kestopentaose  \\\n",
       "0  11.580359   7.191522  2.508236  1.132254  0.454942       0.493446   \n",
       "1  14.139681   6.957827  2.297757  0.607435  0.838198       0.068990   \n",
       "2  11.247442   5.236240  2.417849  0.497984  1.378649       0.221425   \n",
       "\n",
       "   Total_Fructan  Variety_counts  Variety_number  \n",
       "0       7.451642               3               2  \n",
       "1       7.209828               3               3  \n",
       "2       8.311020               3               3  \n",
       "\n",
       "[3 rows x 434 columns]"
      ]
     },
     "execution_count": 19,
     "metadata": {},
     "output_type": "execute_result"
    }
   ],
   "source": [
    "not_scaled_dataset = pd.merge(left = dataset, right = target, how = \"inner\", left_on = \"Img_name\", right_on = \"Barcode\")\n",
    "not_scaled_dataset.head(3)"
   ]
  },
  {
   "cell_type": "markdown",
   "metadata": {},
   "source": [
    "## Datasets"
   ]
  },
  {
   "cell_type": "markdown",
   "metadata": {},
   "source": [
    "### Randomly Splitting dataset"
   ]
  },
  {
   "cell_type": "code",
   "execution_count": 20,
   "metadata": {},
   "outputs": [],
   "source": [
    "X_not_scaled = not_scaled_dataset.iloc[:, 1:417]\n",
    "y_not_scaled = not_scaled_dataset.iloc[:, 423:432]"
   ]
  },
  {
   "cell_type": "code",
   "execution_count": 25,
   "metadata": {},
   "outputs": [],
   "source": [
    "X_min_max = min_max_scaled_dataset.iloc[:, 1:417]\n",
    "y_min_max = min_max_scaled_dataset.iloc[:, 423:432]"
   ]
  },
  {
   "cell_type": "code",
   "execution_count": 26,
   "metadata": {},
   "outputs": [],
   "source": [
    "# ************************** no scaled training and test split based on varieties ***************************\n",
    "\n",
    "X_train_not_scaled, X_test_not_scaled, y_train_not_scaled, y_test_not_scaled = train_test_split(X_not_scaled, y_not_scaled, test_size=0.25)\n",
    "\n",
    "# *************************** min max training and test split based on varieties ****************************\n",
    "\n",
    "# X_train_min_max, X_test_min_max, y_train_min_max, y_test_min_max = train_test_split(X_min_max, y_min_max, test_size=0.25)"
   ]
  },
  {
   "cell_type": "markdown",
   "metadata": {},
   "source": [
    "# Algorithms"
   ]
  },
  {
   "cell_type": "markdown",
   "metadata": {},
   "source": [
    "## Lasso"
   ]
  },
  {
   "cell_type": "code",
   "execution_count": 27,
   "metadata": {},
   "outputs": [
    {
     "data": {
      "text/plain": [
       "Index(['Barcode', 'Print_Info', 'Variety_ID', 'Variety', 'Batch', 'Sample',\n",
       "       'Glucose', 'Fructose', 'Sucrose', 'Raffinose', 'Kestose', 'Maltose',\n",
       "       'Nystose', 'Kestopentaose', 'Total_Fructan', 'Variety_counts',\n",
       "       'Variety_number'],\n",
       "      dtype='object')"
      ]
     },
     "execution_count": 27,
     "metadata": {},
     "output_type": "execute_result"
    }
   ],
   "source": [
    "target.columns"
   ]
  },
  {
   "cell_type": "code",
   "execution_count": 28,
   "metadata": {},
   "outputs": [],
   "source": [
    "y_train_not_scaled_Glucose = y_train_not_scaled.Glucose\n",
    "y_train_not_scaled_Fructose = y_train_not_scaled.Fructose\n",
    "y_train_not_scaled_Sucrose = y_train_not_scaled.Sucrose\n",
    "y_train_not_scaled_Raffinose = y_train_not_scaled.Raffinose\n",
    "y_train_not_scaled_Kestose = y_train_not_scaled.Kestose\n",
    "y_train_not_scaled_Maltose = y_train_not_scaled.Maltose\n",
    "y_train_not_scaled_Nystose = y_train_not_scaled.Nystose\n",
    "y_train_not_scaled_Kestopentaose = y_train_not_scaled.Kestopentaose\n",
    "y_train_not_scaled_Total_Fructan = y_train_not_scaled.Total_Fructan\n",
    "\n",
    "y_test_not_scaled_Glucose = y_test_not_scaled.Glucose\n",
    "y_test_not_scaled_Fructose = y_test_not_scaled.Fructose\n",
    "y_test_not_scaled_Sucrose = y_test_not_scaled.Sucrose\n",
    "y_test_not_scaled_Raffinose = y_test_not_scaled.Raffinose\n",
    "y_test_not_scaled_Kestose = y_test_not_scaled.Kestose\n",
    "y_test_not_scaled_Maltose = y_test_not_scaled.Maltose\n",
    "y_test_not_scaled_Nystose = y_test_not_scaled.Nystose\n",
    "y_test_not_scaled_Kestopentaose = y_test_not_scaled.Kestopentaose\n",
    "y_test_not_scaled_Total_Fructan = y_test_not_scaled.Total_Fructan"
   ]
  },
  {
   "cell_type": "code",
   "execution_count": 29,
   "metadata": {},
   "outputs": [],
   "source": [
    "lasso_not_scaled_Glucose = linear_model.Lasso(max_iter=100000, tol=0.001)\n",
    "lasso_not_scaled_Fructose = linear_model.Lasso(max_iter=100000, tol=0.001)\n",
    "lasso_not_scaled_Sucrose = linear_model.Lasso(max_iter=100000, tol=0.001)\n",
    "lasso_not_scaled_Raffinose = linear_model.Lasso(max_iter=100000, tol=0.001)\n",
    "lasso_not_scaled_Kestose = linear_model.Lasso(max_iter=100000, tol=0.001)\n",
    "lasso_not_scaled_Maltose = linear_model.Lasso(max_iter=100000, tol=0.001)\n",
    "lasso_not_scaled_Nystose = linear_model.Lasso(max_iter=100000, tol=0.001)\n",
    "lasso_not_scaled_Kestopentaose = linear_model.Lasso(max_iter=100000, tol=0.001)\n",
    "lasso_not_scaled_Total_Fructan = linear_model.Lasso(max_iter=100000, tol=0.001)"
   ]
  },
  {
   "cell_type": "code",
   "execution_count": 30,
   "metadata": {},
   "outputs": [
    {
     "name": "stderr",
     "output_type": "stream",
     "text": [
      "C:\\Users\\ahmad\\Anaconda3\\lib\\site-packages\\sklearn\\linear_model\\coordinate_descent.py:475: ConvergenceWarning: Objective did not converge. You might want to increase the number of iterations. Duality gap: 299.4048267104209, tolerance: 1.9558149282916897\n",
      "  positive)\n",
      "C:\\Users\\ahmad\\Anaconda3\\lib\\site-packages\\sklearn\\linear_model\\coordinate_descent.py:475: ConvergenceWarning: Objective did not converge. You might want to increase the number of iterations. Duality gap: 30.018081617815483, tolerance: 0.7306707454899025\n",
      "  positive)\n",
      "C:\\Users\\ahmad\\Anaconda3\\lib\\site-packages\\sklearn\\linear_model\\coordinate_descent.py:475: ConvergenceWarning: Objective did not converge. You might want to increase the number of iterations. Duality gap: 1.4581295149988023, tolerance: 0.28658753067947035\n",
      "  positive)\n",
      "C:\\Users\\ahmad\\Anaconda3\\lib\\site-packages\\sklearn\\linear_model\\coordinate_descent.py:475: ConvergenceWarning: Objective did not converge. You might want to increase the number of iterations. Duality gap: 2.361869588765785, tolerance: 0.2726356827925105\n",
      "  positive)\n",
      "C:\\Users\\ahmad\\Anaconda3\\lib\\site-packages\\sklearn\\linear_model\\coordinate_descent.py:475: ConvergenceWarning: Objective did not converge. You might want to increase the number of iterations. Duality gap: 1465.922621861856, tolerance: 6.824601067275991\n",
      "  positive)\n"
     ]
    },
    {
     "data": {
      "text/plain": [
       "Lasso(alpha=1.0, copy_X=True, fit_intercept=True, max_iter=100000,\n",
       "      normalize=False, positive=False, precompute=False, random_state=None,\n",
       "      selection='cyclic', tol=0.001, warm_start=False)"
      ]
     },
     "execution_count": 30,
     "metadata": {},
     "output_type": "execute_result"
    }
   ],
   "source": [
    "lasso_not_scaled_Glucose.fit(X_train_not_scaled, y_train_not_scaled_Glucose)\n",
    "lasso_not_scaled_Fructose.fit(X_train_not_scaled, y_train_not_scaled_Fructose)\n",
    "lasso_not_scaled_Sucrose.fit(X_train_not_scaled, y_train_not_scaled_Sucrose)\n",
    "lasso_not_scaled_Raffinose.fit(X_train_not_scaled, y_train_not_scaled_Raffinose)\n",
    "lasso_not_scaled_Kestose.fit(X_train_not_scaled, y_train_not_scaled_Kestose)\n",
    "lasso_not_scaled_Maltose.fit(X_train_not_scaled, y_train_not_scaled_Maltose)\n",
    "lasso_not_scaled_Nystose.fit(X_train_not_scaled, y_train_not_scaled_Nystose)\n",
    "lasso_not_scaled_Kestopentaose.fit(X_train_not_scaled, y_train_not_scaled_Kestopentaose)\n",
    "lasso_not_scaled_Total_Fructan.fit(X_train_not_scaled, y_train_not_scaled_Total_Fructan)"
   ]
  },
  {
   "cell_type": "code",
   "execution_count": 31,
   "metadata": {},
   "outputs": [],
   "source": [
    "prediction_not_scaled_Glucose = lasso_not_scaled_Glucose.predict(X_test_not_scaled)\n",
    "prediction_not_scaled_Fructose = lasso_not_scaled_Fructose.predict(X_test_not_scaled)\n",
    "prediction_not_scaled_Sucrose = lasso_not_scaled_Sucrose.predict(X_test_not_scaled)\n",
    "prediction_not_scaled_Raffinose = lasso_not_scaled_Raffinose.predict(X_test_not_scaled)\n",
    "prediction_not_scaled_Kestose = lasso_not_scaled_Kestose.predict(X_test_not_scaled)\n",
    "prediction_not_scaled_Maltose = lasso_not_scaled_Maltose.predict(X_test_not_scaled)\n",
    "prediction_not_scaled_Nystose = lasso_not_scaled_Nystose.predict(X_test_not_scaled)\n",
    "prediction_not_scaled_Kestopentaose = lasso_not_scaled_Kestopentaose.predict(X_test_not_scaled)\n",
    "prediction_not_scaled_Total_Fructan = lasso_not_scaled_Total_Fructan.predict(X_test_not_scaled)"
   ]
  },
  {
   "cell_type": "code",
   "execution_count": 32,
   "metadata": {},
   "outputs": [],
   "source": [
    "variance_not_scaled_Glucose = lasso_not_scaled_Glucose.score(X_test_not_scaled, y_test_not_scaled_Glucose)\n",
    "variance_not_scaled_Fructose = lasso_not_scaled_Fructose.score(X_test_not_scaled, y_test_not_scaled_Fructose)\n",
    "variance_not_scaled_Sucrose = lasso_not_scaled_Sucrose.score(X_test_not_scaled, y_test_not_scaled_Sucrose)\n",
    "variance_not_scaled_Raffinose = lasso_not_scaled_Raffinose.score(X_test_not_scaled, y_test_not_scaled_Raffinose)\n",
    "variance_not_scaled_Kestose = lasso_not_scaled_Kestose.score(X_test_not_scaled, y_test_not_scaled_Kestose)\n",
    "variance_not_scaled_Maltose = lasso_not_scaled_Maltose.score(X_test_not_scaled, y_test_not_scaled_Maltose)\n",
    "variance_not_scaled_Nystose = lasso_not_scaled_Nystose.score(X_test_not_scaled, y_test_not_scaled_Nystose)\n",
    "variance_not_scaled_Kestopentaose = lasso_not_scaled_Kestopentaose.score(X_test_not_scaled, y_test_not_scaled_Kestopentaose)\n",
    "variance_not_scaled_Total_Fructan = lasso_not_scaled_Total_Fructan.score(X_test_not_scaled, y_test_not_scaled_Total_Fructan)"
   ]
  },
  {
   "cell_type": "code",
   "execution_count": 33,
   "metadata": {},
   "outputs": [
    {
     "name": "stdout",
     "output_type": "stream",
     "text": [
      "0.00801053182182676\n",
      "0.001329250275322269\n",
      "-0.21549367016523835\n",
      "-0.09150020414786475\n",
      "-0.2581450115989823\n",
      "0.06848176440770448\n",
      "-0.13238415914446144\n",
      "-0.026344329345600714\n",
      "-0.3655196146977803\n"
     ]
    }
   ],
   "source": [
    "print(variance_not_scaled_Glucose)\n",
    "print(variance_not_scaled_Fructose)\n",
    "print(variance_not_scaled_Sucrose)\n",
    "print(variance_not_scaled_Raffinose)\n",
    "print(variance_not_scaled_Kestose)\n",
    "print(variance_not_scaled_Maltose)\n",
    "print(variance_not_scaled_Nystose)\n",
    "print(variance_not_scaled_Kestopentaose)\n",
    "print(variance_not_scaled_Total_Fructan)"
   ]
  },
  {
   "cell_type": "code",
   "execution_count": 34,
   "metadata": {},
   "outputs": [],
   "source": [
    "# r2_score_min_max_Glucose = r2_score(y_test_min_max_Glucose, prediction_min_max_Glucose)\n",
    "# r2_score_min_max_Fructose = r2_score(y_test_min_max_Fructose, prediction_min_max_Fructose)\n",
    "# r2_score_min_max_Sucrose = r2_score(y_test_min_max_Sucrose, prediction_min_max_Sucrose)\n",
    "# r2_score_min_max_Raffinose = r2_score(y_test_min_max_Raffinose, prediction_min_max_Raffinose)\n",
    "# r2_score_min_max_Kestose = r2_score(y_test_min_max_Kestose, prediction_min_max_Kestose)\n",
    "# r2_score_min_max_Maltose = r2_score(y_test_min_max_Maltose, prediction_min_max_Maltose)\n",
    "# r2_score_min_max_Nystose = r2_score(y_test_min_max_Nystose, prediction_min_max_Nystose)\n",
    "# r2_score_min_max_Kestopentaose = r2_score(y_test_min_max_Kestopentaose, prediction_min_max_Kestopentaose)\n",
    "# r2_score_min_max_Total_Fructan = r2_score(y_test_min_max_Total_Fructan, prediction_min_max_Total_Fructan)"
   ]
  },
  {
   "cell_type": "code",
   "execution_count": 35,
   "metadata": {},
   "outputs": [],
   "source": [
    "# print(r2_score_min_max_Glucose)\n",
    "# print(r2_score_min_max_Fructose)\n",
    "# print(r2_score_min_max_Sucrose)\n",
    "# print(r2_score_min_max_Raffinose)\n",
    "# print(r2_score_min_max_Kestose)\n",
    "# print(r2_score_min_max_Maltose)\n",
    "# print(r2_score_min_max_Nystose)\n",
    "# print(r2_score_min_max_Kestopentaose)\n",
    "# print(r2_score_min_max_Total_Fructan)"
   ]
  },
  {
   "cell_type": "code",
   "execution_count": 36,
   "metadata": {},
   "outputs": [],
   "source": [
    "mean_absolute_error_not_scaled_Glucose = mean_absolute_error(y_test_not_scaled_Glucose, prediction_not_scaled_Glucose)\n",
    "mean_absolute_error_not_scaled_Fructose = mean_absolute_error(y_test_not_scaled_Fructose, prediction_not_scaled_Fructose)\n",
    "mean_absolute_error_not_scaled_Sucrose = mean_absolute_error(y_test_not_scaled_Sucrose, prediction_not_scaled_Sucrose)\n",
    "mean_absolute_error_not_scaled_Raffinose = mean_absolute_error(y_test_not_scaled_Raffinose, prediction_not_scaled_Raffinose)\n",
    "mean_absolute_error_not_scaled_Kestose = mean_absolute_error(y_test_not_scaled_Kestose, prediction_not_scaled_Kestose)\n",
    "mean_absolute_error_not_scaled_Maltose = mean_absolute_error(y_test_not_scaled_Maltose, prediction_not_scaled_Maltose)\n",
    "mean_absolute_error_not_scaled_Nystose = mean_absolute_error(y_test_not_scaled_Nystose, prediction_not_scaled_Nystose)\n",
    "mean_absolute_error_not_scaled_Kestopentaose = mean_absolute_error(y_test_not_scaled_Kestopentaose, prediction_not_scaled_Kestopentaose)\n",
    "mean_absolute_error_not_scaled_Total_Fructan = mean_absolute_error(y_test_not_scaled_Total_Fructan, prediction_not_scaled_Total_Fructan)"
   ]
  },
  {
   "cell_type": "code",
   "execution_count": 37,
   "metadata": {},
   "outputs": [
    {
     "name": "stdout",
     "output_type": "stream",
     "text": [
      "0.2114520170357746\n",
      "0.2619866163159974\n",
      "1.9246175066297402\n",
      "0.952037473353029\n",
      "0.6734195099034119\n",
      "0.1722448675581592\n",
      "0.6518017733415485\n",
      "0.20613925389532012\n",
      "3.3749288866568317\n"
     ]
    }
   ],
   "source": [
    "print(mean_absolute_error_not_scaled_Glucose)\n",
    "print(mean_absolute_error_not_scaled_Fructose)\n",
    "print(mean_absolute_error_not_scaled_Sucrose)\n",
    "print(mean_absolute_error_not_scaled_Raffinose)\n",
    "print(mean_absolute_error_not_scaled_Kestose)\n",
    "print(mean_absolute_error_not_scaled_Maltose)\n",
    "print(mean_absolute_error_not_scaled_Nystose)\n",
    "print(mean_absolute_error_not_scaled_Kestopentaose)\n",
    "print(mean_absolute_error_not_scaled_Total_Fructan)"
   ]
  },
  {
   "cell_type": "code",
   "execution_count": 38,
   "metadata": {},
   "outputs": [],
   "source": [
    "y_test_not_scaled_Glucose = y_test_not_scaled.Glucose\n",
    "y_test_not_scaled_Fructose = y_test_not_scaled.Fructose\n",
    "y_test_not_scaled_Sucrose = y_test_not_scaled.Sucrose\n",
    "y_test_not_scaled_Raffinose = y_test_not_scaled.Raffinose\n",
    "y_test_not_scaled_Kestose = y_test_not_scaled.Kestose\n",
    "y_test_not_scaled_Maltose = y_test_not_scaled.Maltose\n",
    "y_test_not_scaled_Nystose = y_test_not_scaled.Nystose\n",
    "y_test_not_scaled_Kestopentaose = y_test_not_scaled.Kestopentaose\n",
    "y_test_not_scaled_Total_Fructan = y_test_not_scaled.Total_Fructan"
   ]
  },
  {
   "cell_type": "code",
   "execution_count": 39,
   "metadata": {},
   "outputs": [],
   "source": [
    "mean_squared_error_Glucose = mean_squared_error(y_test_not_scaled_Glucose, prediction_not_scaled_Glucose)\n",
    "mean_squared_error_Fructose = mean_squared_error(y_test_not_scaled_Fructose, prediction_not_scaled_Fructose)\n",
    "mean_squared_error_Sucrose = mean_squared_error(y_test_not_scaled_Sucrose, prediction_not_scaled_Sucrose)\n",
    "mean_squared_error_Raffinose = mean_squared_error(y_test_not_scaled_Raffinose, prediction_not_scaled_Raffinose)\n",
    "mean_squared_error_Kestose = mean_squared_error(y_test_not_scaled_Kestose, prediction_not_scaled_Kestose)\n",
    "mean_squared_error_Maltose = mean_squared_error(y_test_not_scaled_Maltose, prediction_not_scaled_Maltose)\n",
    "mean_squared_error_Nystose = mean_squared_error(y_test_not_scaled_Nystose, prediction_not_scaled_Nystose)\n",
    "mean_squared_error_Kestopentaose = mean_squared_error(y_test_not_scaled_Kestopentaose, prediction_not_scaled_Kestopentaose)\n",
    "mean_squared_error_Total_Fructan = mean_squared_error(y_test_not_scaled_Total_Fructan, prediction_not_scaled_Total_Fructan)"
   ]
  },
  {
   "cell_type": "code",
   "execution_count": 40,
   "metadata": {},
   "outputs": [
    {
     "name": "stdout",
     "output_type": "stream",
     "text": [
      "0.07373341770299019\n",
      "0.11532887285201587\n",
      "5.414433369817864\n",
      "1.402225526804981\n",
      "0.6778266318995044\n",
      "0.051875682195227986\n",
      "0.6828186828914197\n",
      "0.07557722478744937\n",
      "18.558572170938287\n"
     ]
    }
   ],
   "source": [
    "print(mean_squared_error_Glucose)\n",
    "print(mean_squared_error_Fructose)\n",
    "print(mean_squared_error_Sucrose)\n",
    "print(mean_squared_error_Raffinose)\n",
    "print(mean_squared_error_Kestose)\n",
    "print(mean_squared_error_Maltose)\n",
    "print(mean_squared_error_Nystose)\n",
    "print(mean_squared_error_Kestopentaose)\n",
    "print(mean_squared_error_Total_Fructan)"
   ]
  },
  {
   "cell_type": "markdown",
   "metadata": {},
   "source": [
    "##### visualization"
   ]
  },
  {
   "cell_type": "code",
   "execution_count": 41,
   "metadata": {},
   "outputs": [
    {
     "data": {
      "text/plain": [
       "<matplotlib.collections.PathCollection at 0x1ee268aac48>"
      ]
     },
     "execution_count": 41,
     "metadata": {},
     "output_type": "execute_result"
    },
    {
     "data": {
      "image/png": "[encoded data removed]",
      "text/plain": [
       "<Figure size 360x360 with 1 Axes>"
      ]
     },
     "metadata": {
      "needs_background": "light"
     },
     "output_type": "display_data"
    }
   ],
   "source": [
    "plt.figure(figsize=(5,5))\n",
    "plt.title(\"Lasso Regression \\n Glucose\")\n",
    "plt.xlabel(\"actual\")\n",
    "plt.ylabel(\"predicted\")\n",
    "plt.scatter(y_test_not_scaled_Glucose, prediction_not_scaled_Glucose)"
   ]
  },
  {
   "cell_type": "code",
   "execution_count": 42,
   "metadata": {},
   "outputs": [
    {
     "data": {
      "text/plain": [
       "<matplotlib.collections.PathCollection at 0x1ee285345c8>"
      ]
     },
     "execution_count": 42,
     "metadata": {},
     "output_type": "execute_result"
    },
    {
     "data": {
      "image/png": "[encoded data removed]",
      "text/plain": [
       "<Figure size 360x360 with 1 Axes>"
      ]
     },
     "metadata": {
      "needs_background": "light"
     },
     "output_type": "display_data"
    }
   ],
   "source": [
    "plt.figure(figsize=(5,5))\n",
    "plt.title(\"Lasso Regression \\n Fructose\")\n",
    "plt.xlabel(\"actual\")\n",
    "plt.ylabel(\"predicted\")\n",
    "plt.scatter(y_test_not_scaled_Fructose, prediction_not_scaled_Fructose)"
   ]
  },
  {
   "cell_type": "code",
   "execution_count": 43,
   "metadata": {},
   "outputs": [
    {
     "data": {
      "text/plain": [
       "<matplotlib.collections.PathCollection at 0x1ee2860f188>"
      ]
     },
     "execution_count": 43,
     "metadata": {},
     "output_type": "execute_result"
    },
    {
     "data": {
      "image/png": "[encoded data removed]",
      "text/plain": [
       "<Figure size 360x360 with 1 Axes>"
      ]
     },
     "metadata": {
      "needs_background": "light"
     },
     "output_type": "display_data"
    }
   ],
   "source": [
    "plt.figure(figsize=(5,5))\n",
    "plt.title(\"Lasso Regression \\n Sucrose\")\n",
    "plt.xlabel(\"actual\")\n",
    "plt.ylabel(\"predicted\")\n",
    "plt.scatter(y_test_not_scaled_Sucrose, prediction_not_scaled_Sucrose)"
   ]
  },
  {
   "cell_type": "code",
   "execution_count": 44,
   "metadata": {},
   "outputs": [
    {
     "data": {
      "text/plain": [
       "<matplotlib.collections.PathCollection at 0x1ee28600ec8>"
      ]
     },
     "execution_count": 44,
     "metadata": {},
     "output_type": "execute_result"
    },
    {
     "data": {
      "image/png": "[encoded data removed]",
      "text/plain": [
       "<Figure size 360x360 with 1 Axes>"
      ]
     },
     "metadata": {
      "needs_background": "light"
     },
     "output_type": "display_data"
    }
   ],
   "source": [
    "plt.figure(figsize=(5,5))\n",
    "plt.title(\"Lasso Regression \\n Raffinose\")\n",
    "plt.xlabel(\"actual\")\n",
    "plt.ylabel(\"predicted\")\n",
    "plt.scatter(y_test_not_scaled_Raffinose, prediction_not_scaled_Raffinose)"
   ]
  },
  {
   "cell_type": "code",
   "execution_count": 45,
   "metadata": {},
   "outputs": [
    {
     "data": {
      "text/plain": [
       "<matplotlib.collections.PathCollection at 0x1ee2793fcc8>"
      ]
     },
     "execution_count": 45,
     "metadata": {},
     "output_type": "execute_result"
    },
    {
     "data": {
      "image/png": "[encoded data removed]",
      "text/plain": [
       "<Figure size 360x360 with 1 Axes>"
      ]
     },
     "metadata": {
      "needs_background": "light"
     },
     "output_type": "display_data"
    }
   ],
   "source": [
    "plt.figure(figsize=(5,5))\n",
    "plt.title(\"Lasso Regression \\n Kestose\")\n",
    "plt.xlabel(\"actual\")\n",
    "plt.ylabel(\"predicted\")\n",
    "plt.scatter(y_test_not_scaled_Kestose, prediction_not_scaled_Kestose)"
   ]
  },
  {
   "cell_type": "code",
   "execution_count": 46,
   "metadata": {},
   "outputs": [
    {
     "data": {
      "text/plain": [
       "<matplotlib.collections.PathCollection at 0x1ee26c7b7c8>"
      ]
     },
     "execution_count": 46,
     "metadata": {},
     "output_type": "execute_result"
    },
    {
     "data": {
      "image/png": "[encoded data removed]",
      "text/plain": [
       "<Figure size 360x360 with 1 Axes>"
      ]
     },
     "metadata": {
      "needs_background": "light"
     },
     "output_type": "display_data"
    }
   ],
   "source": [
    "plt.figure(figsize=(5,5))\n",
    "plt.title(\"Lasso Regression \\n Maltose\")\n",
    "plt.xlabel(\"actual\")\n",
    "plt.ylabel(\"predicted\")\n",
    "plt.scatter(y_test_not_scaled_Maltose, prediction_not_scaled_Maltose)"
   ]
  },
  {
   "cell_type": "code",
   "execution_count": 47,
   "metadata": {},
   "outputs": [
    {
     "data": {
      "text/plain": [
       "<matplotlib.collections.PathCollection at 0x1ee26d2df88>"
      ]
     },
     "execution_count": 47,
     "metadata": {},
     "output_type": "execute_result"
    },
    {
     "data": {
      "image/png": "[encoded data removed]",
      "text/plain": [
       "<Figure size 360x360 with 1 Axes>"
      ]
     },
     "metadata": {
      "needs_background": "light"
     },
     "output_type": "display_data"
    }
   ],
   "source": [
    "plt.figure(figsize=(5,5))\n",
    "plt.title(\"Lasso Regression \\n Nystose\")\n",
    "plt.xlabel(\"actual\")\n",
    "plt.ylabel(\"predicted\")\n",
    "plt.scatter(y_test_not_scaled_Nystose, prediction_not_scaled_Nystose)"
   ]
  },
  {
   "cell_type": "code",
   "execution_count": 48,
   "metadata": {},
   "outputs": [
    {
     "data": {
      "text/plain": [
       "<matplotlib.collections.PathCollection at 0x1ee2732e448>"
      ]
     },
     "execution_count": 48,
     "metadata": {},
     "output_type": "execute_result"
    },
    {
     "data": {
      "image/png": "[encoded data removed]",
      "text/plain": [
       "<Figure size 360x360 with 1 Axes>"
      ]
     },
     "metadata": {
      "needs_background": "light"
     },
     "output_type": "display_data"
    }
   ],
   "source": [
    "plt.figure(figsize=(5,5))\n",
    "plt.title(\"Lasso Regression \\n Kestopentaose\")\n",
    "plt.xlabel(\"actual\")\n",
    "plt.ylabel(\"predicted\")\n",
    "plt.scatter(y_test_not_scaled_Kestopentaose, prediction_not_scaled_Kestopentaose)"
   ]
  },
  {
   "cell_type": "code",
   "execution_count": 49,
   "metadata": {},
   "outputs": [
    {
     "data": {
      "text/plain": [
       "<matplotlib.collections.PathCollection at 0x1ee26cff388>"
      ]
     },
     "execution_count": 49,
     "metadata": {},
     "output_type": "execute_result"
    },
    {
     "data": {
      "image/png": "[encoded data removed]",
      "text/plain": [
       "<Figure size 360x360 with 1 Axes>"
      ]
     },
     "metadata": {
      "needs_background": "light"
     },
     "output_type": "display_data"
    }
   ],
   "source": [
    "plt.figure(figsize=(5,5))\n",
    "plt.title(\"Lasso Regression \\n Total_Fructan\")\n",
    "plt.xlabel(\"actual\")\n",
    "plt.ylabel(\"predicted\")\n",
    "plt.scatter(y_test_not_scaled_Total_Fructan, prediction_not_scaled_Total_Fructan)"
   ]
  },
  {
   "cell_type": "code",
   "execution_count": 46,
   "metadata": {},
   "outputs": [],
   "source": [
    "# slope = elasticNet.coef_\n",
    "# slope.max()"
   ]
  },
  {
   "cell_type": "code",
   "execution_count": 47,
   "metadata": {},
   "outputs": [],
   "source": [
    "# intercept = elasticNet.intercept_\n",
    "# print(intercept)"
   ]
  }
 ],
 "metadata": {
  "kernelspec": {
   "display_name": "Python 3",
   "language": "python",
   "name": "python3"
  },
  "language_info": {
   "codemirror_mode": {
    "name": "ipython",
    "version": 3
   },
   "file_extension": ".py",
   "mimetype": "text/x-python",
   "name": "python",
   "nbconvert_exporter": "python",
   "pygments_lexer": "ipython3",
   "version": "3.7.4"
  }
 },
 "nbformat": 4,
 "nbformat_minor": 2
}
