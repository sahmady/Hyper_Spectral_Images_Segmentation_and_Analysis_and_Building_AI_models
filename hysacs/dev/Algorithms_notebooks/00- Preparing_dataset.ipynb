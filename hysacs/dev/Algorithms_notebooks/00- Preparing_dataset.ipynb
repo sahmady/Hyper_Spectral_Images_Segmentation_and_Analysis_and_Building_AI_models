{
 "cells": [
  {
   "cell_type": "markdown",
   "metadata": {},
   "source": [
    "## Importing libraraies and datasets"
   ]
  },
  {
   "cell_type": "code",
   "execution_count": 1,
   "metadata": {},
   "outputs": [],
   "source": [
    "import pandas as pd\n",
    "import numpy as np\n",
    "import matplotlib.pyplot as plt"
   ]
  },
  {
   "cell_type": "code",
   "execution_count": 2,
   "metadata": {},
   "outputs": [],
   "source": [
    "SWIR = pd.read_csv(\"Extracted_Datasets/SWIR_dataset_basedon_mean_stddev.csv\")\n",
    "VNIR = pd.read_csv(\"Extracted_Datasets/VNIR_dataset_basedon_mean_stddev.csv\")\n",
    "SWIR_light_intensity = pd.read_csv(\"Extracted_Datasets/dayLightIntensity_of_SWIR_images.csv\")\n",
    "VNIR_light_intensity = pd.read_csv(\"Extracted_Datasets/dayLightIntensity_of_VNIR_images.csv\")"
   ]
  },
  {
   "cell_type": "markdown",
   "metadata": {},
   "source": [
    "## Manipulating Dataset"
   ]
  },
  {
   "cell_type": "markdown",
   "metadata": {},
   "source": [
    "### Keeping only mean values and drop standard_deviation and duplicate images"
   ]
  },
  {
   "cell_type": "code",
   "execution_count": 3,
   "metadata": {},
   "outputs": [],
   "source": [
    "# selecting only mean values (dropping standard deviation) for further process\n",
    "# SWIR = SWIR[SWIR.Var_name == \"mean\"]\n",
    "# VNIR = VNIR[VNIR.Var_name == \"mean\"]\n",
    "SWIR = pd.DataFrame(data = SWIR[SWIR.Var_name == \"mean\"].values, columns = SWIR.columns)\n",
    "SWIR.drop('Var_name', axis = 1, inplace = True)\n",
    "\n",
    "VNIR = pd.DataFrame(data = VNIR[VNIR.Var_name == \"mean\"].values, columns = VNIR.columns)\n",
    "VNIR.drop('Var_name', axis = 1, inplace = True)"
   ]
  },
  {
   "cell_type": "markdown",
   "metadata": {},
   "source": [
    "#### SWIR"
   ]
  },
  {
   "cell_type": "code",
   "execution_count": 4,
   "metadata": {},
   "outputs": [],
   "source": [
    "# drop duplicated Img_names\n",
    "SWIR.drop_duplicates(subset = 'Img_name', inplace = True)"
   ]
  },
  {
   "cell_type": "code",
   "execution_count": 5,
   "metadata": {},
   "outputs": [
    {
     "data": {
      "text/html": [
       "<div>\n",
       "<style scoped>\n",
       "    .dataframe tbody tr th:only-of-type {\n",
       "        vertical-align: middle;\n",
       "    }\n",
       "\n",
       "    .dataframe tbody tr th {\n",
       "        vertical-align: top;\n",
       "    }\n",
       "\n",
       "    .dataframe thead th {\n",
       "        text-align: right;\n",
       "    }\n",
       "</style>\n",
       "<table border=\"1\" class=\"dataframe\">\n",
       "  <thead>\n",
       "    <tr style=\"text-align: right;\">\n",
       "      <th></th>\n",
       "      <th>Img_name</th>\n",
       "      <th>Band_001</th>\n",
       "      <th>Band_002</th>\n",
       "      <th>Band_003</th>\n",
       "      <th>Band_004</th>\n",
       "      <th>Band_005</th>\n",
       "      <th>Band_006</th>\n",
       "      <th>Band_007</th>\n",
       "      <th>Band_008</th>\n",
       "      <th>Band_009</th>\n",
       "      <th>...</th>\n",
       "      <th>Band_247</th>\n",
       "      <th>Band_248</th>\n",
       "      <th>Band_249</th>\n",
       "      <th>Band_250</th>\n",
       "      <th>Band_251</th>\n",
       "      <th>Band_252</th>\n",
       "      <th>Band_253</th>\n",
       "      <th>Band_254</th>\n",
       "      <th>Band_255</th>\n",
       "      <th>Band_256</th>\n",
       "    </tr>\n",
       "  </thead>\n",
       "  <tbody>\n",
       "  </tbody>\n",
       "</table>\n",
       "<p>0 rows × 257 columns</p>\n",
       "</div>"
      ],
      "text/plain": [
       "Empty DataFrame\n",
       "Columns: [Img_name, Band_001, Band_002, Band_003, Band_004, Band_005, Band_006, Band_007, Band_008, Band_009, Band_010, Band_011, Band_012, Band_013, Band_014, Band_015, Band_016, Band_017, Band_018, Band_019, Band_020, Band_021, Band_022, Band_023, Band_024, Band_025, Band_026, Band_027, Band_028, Band_029, Band_030, Band_031, Band_032, Band_033, Band_034, Band_035, Band_036, Band_037, Band_038, Band_039, Band_040, Band_041, Band_042, Band_043, Band_044, Band_045, Band_046, Band_047, Band_048, Band_049, Band_050, Band_051, Band_052, Band_053, Band_054, Band_055, Band_056, Band_057, Band_058, Band_059, Band_060, Band_061, Band_062, Band_063, Band_064, Band_065, Band_066, Band_067, Band_068, Band_069, Band_070, Band_071, Band_072, Band_073, Band_074, Band_075, Band_076, Band_077, Band_078, Band_079, Band_080, Band_081, Band_082, Band_083, Band_084, Band_085, Band_086, Band_087, Band_088, Band_089, Band_090, Band_091, Band_092, Band_093, Band_094, Band_095, Band_096, Band_097, Band_098, Band_099, ...]\n",
       "Index: []\n",
       "\n",
       "[0 rows x 257 columns]"
      ]
     },
     "execution_count": 5,
     "metadata": {},
     "output_type": "execute_result"
    }
   ],
   "source": [
    "# Check no remaining duplicates\n",
    "SWIR[SWIR.Img_name.duplicated() == True]"
   ]
  },
  {
   "cell_type": "code",
   "execution_count": 6,
   "metadata": {},
   "outputs": [],
   "source": [
    "# SWIR.head(3)"
   ]
  },
  {
   "cell_type": "code",
   "execution_count": 7,
   "metadata": {},
   "outputs": [],
   "source": [
    "# drop duplicated Img_names\n",
    "SWIR_light_intensity.drop_duplicates(subset = 'Img_name', inplace = True)"
   ]
  },
  {
   "cell_type": "code",
   "execution_count": 8,
   "metadata": {
    "scrolled": true
   },
   "outputs": [
    {
     "data": {
      "text/html": [
       "<div>\n",
       "<style scoped>\n",
       "    .dataframe tbody tr th:only-of-type {\n",
       "        vertical-align: middle;\n",
       "    }\n",
       "\n",
       "    .dataframe tbody tr th {\n",
       "        vertical-align: top;\n",
       "    }\n",
       "\n",
       "    .dataframe thead th {\n",
       "        text-align: right;\n",
       "    }\n",
       "</style>\n",
       "<table border=\"1\" class=\"dataframe\">\n",
       "  <thead>\n",
       "    <tr style=\"text-align: right;\">\n",
       "      <th></th>\n",
       "      <th>Img_name</th>\n",
       "      <th>Band_001</th>\n",
       "      <th>Band_002</th>\n",
       "      <th>Band_003</th>\n",
       "      <th>Band_004</th>\n",
       "      <th>Band_005</th>\n",
       "      <th>Band_006</th>\n",
       "      <th>Band_007</th>\n",
       "      <th>Band_008</th>\n",
       "      <th>Band_009</th>\n",
       "      <th>...</th>\n",
       "      <th>Band_247</th>\n",
       "      <th>Band_248</th>\n",
       "      <th>Band_249</th>\n",
       "      <th>Band_250</th>\n",
       "      <th>Band_251</th>\n",
       "      <th>Band_252</th>\n",
       "      <th>Band_253</th>\n",
       "      <th>Band_254</th>\n",
       "      <th>Band_255</th>\n",
       "      <th>Band_256</th>\n",
       "    </tr>\n",
       "  </thead>\n",
       "  <tbody>\n",
       "  </tbody>\n",
       "</table>\n",
       "<p>0 rows × 257 columns</p>\n",
       "</div>"
      ],
      "text/plain": [
       "Empty DataFrame\n",
       "Columns: [Img_name, Band_001, Band_002, Band_003, Band_004, Band_005, Band_006, Band_007, Band_008, Band_009, Band_010, Band_011, Band_012, Band_013, Band_014, Band_015, Band_016, Band_017, Band_018, Band_019, Band_020, Band_021, Band_022, Band_023, Band_024, Band_025, Band_026, Band_027, Band_028, Band_029, Band_030, Band_031, Band_032, Band_033, Band_034, Band_035, Band_036, Band_037, Band_038, Band_039, Band_040, Band_041, Band_042, Band_043, Band_044, Band_045, Band_046, Band_047, Band_048, Band_049, Band_050, Band_051, Band_052, Band_053, Band_054, Band_055, Band_056, Band_057, Band_058, Band_059, Band_060, Band_061, Band_062, Band_063, Band_064, Band_065, Band_066, Band_067, Band_068, Band_069, Band_070, Band_071, Band_072, Band_073, Band_074, Band_075, Band_076, Band_077, Band_078, Band_079, Band_080, Band_081, Band_082, Band_083, Band_084, Band_085, Band_086, Band_087, Band_088, Band_089, Band_090, Band_091, Band_092, Band_093, Band_094, Band_095, Band_096, Band_097, Band_098, Band_099, ...]\n",
       "Index: []\n",
       "\n",
       "[0 rows x 257 columns]"
      ]
     },
     "execution_count": 8,
     "metadata": {},
     "output_type": "execute_result"
    }
   ],
   "source": [
    "SWIR_light_intensity[SWIR_light_intensity.Img_name.duplicated() == True]"
   ]
  },
  {
   "cell_type": "code",
   "execution_count": 9,
   "metadata": {},
   "outputs": [],
   "source": [
    "# SWIR_light_intensity.head(3)"
   ]
  },
  {
   "cell_type": "markdown",
   "metadata": {},
   "source": [
    "#### VNIR"
   ]
  },
  {
   "cell_type": "code",
   "execution_count": 10,
   "metadata": {},
   "outputs": [],
   "source": [
    "# drop duplicated Img_names\n",
    "VNIR.drop_duplicates(subset = 'Img_name', inplace = True)"
   ]
  },
  {
   "cell_type": "code",
   "execution_count": 11,
   "metadata": {},
   "outputs": [
    {
     "data": {
      "text/html": [
       "<div>\n",
       "<style scoped>\n",
       "    .dataframe tbody tr th:only-of-type {\n",
       "        vertical-align: middle;\n",
       "    }\n",
       "\n",
       "    .dataframe tbody tr th {\n",
       "        vertical-align: top;\n",
       "    }\n",
       "\n",
       "    .dataframe thead th {\n",
       "        text-align: right;\n",
       "    }\n",
       "</style>\n",
       "<table border=\"1\" class=\"dataframe\">\n",
       "  <thead>\n",
       "    <tr style=\"text-align: right;\">\n",
       "      <th></th>\n",
       "      <th>Img_name</th>\n",
       "      <th>Band_001</th>\n",
       "      <th>Band_002</th>\n",
       "      <th>Band_003</th>\n",
       "      <th>Band_004</th>\n",
       "      <th>Band_005</th>\n",
       "      <th>Band_006</th>\n",
       "      <th>Band_007</th>\n",
       "      <th>Band_008</th>\n",
       "      <th>Band_009</th>\n",
       "      <th>...</th>\n",
       "      <th>Band_151</th>\n",
       "      <th>Band_152</th>\n",
       "      <th>Band_153</th>\n",
       "      <th>Band_154</th>\n",
       "      <th>Band_155</th>\n",
       "      <th>Band_156</th>\n",
       "      <th>Band_157</th>\n",
       "      <th>Band_158</th>\n",
       "      <th>Band_159</th>\n",
       "      <th>Band_160</th>\n",
       "    </tr>\n",
       "  </thead>\n",
       "  <tbody>\n",
       "  </tbody>\n",
       "</table>\n",
       "<p>0 rows × 161 columns</p>\n",
       "</div>"
      ],
      "text/plain": [
       "Empty DataFrame\n",
       "Columns: [Img_name, Band_001, Band_002, Band_003, Band_004, Band_005, Band_006, Band_007, Band_008, Band_009, Band_010, Band_011, Band_012, Band_013, Band_014, Band_015, Band_016, Band_017, Band_018, Band_019, Band_020, Band_021, Band_022, Band_023, Band_024, Band_025, Band_026, Band_027, Band_028, Band_029, Band_030, Band_031, Band_032, Band_033, Band_034, Band_035, Band_036, Band_037, Band_038, Band_039, Band_040, Band_041, Band_042, Band_043, Band_044, Band_045, Band_046, Band_047, Band_048, Band_049, Band_050, Band_051, Band_052, Band_053, Band_054, Band_055, Band_056, Band_057, Band_058, Band_059, Band_060, Band_061, Band_062, Band_063, Band_064, Band_065, Band_066, Band_067, Band_068, Band_069, Band_070, Band_071, Band_072, Band_073, Band_074, Band_075, Band_076, Band_077, Band_078, Band_079, Band_080, Band_081, Band_082, Band_083, Band_084, Band_085, Band_086, Band_087, Band_088, Band_089, Band_090, Band_091, Band_092, Band_093, Band_094, Band_095, Band_096, Band_097, Band_098, Band_099, ...]\n",
       "Index: []\n",
       "\n",
       "[0 rows x 161 columns]"
      ]
     },
     "execution_count": 11,
     "metadata": {},
     "output_type": "execute_result"
    }
   ],
   "source": [
    "# Check no remaining duplicates\n",
    "VNIR[VNIR.Img_name.duplicated() == True]"
   ]
  },
  {
   "cell_type": "code",
   "execution_count": 12,
   "metadata": {},
   "outputs": [],
   "source": [
    "# VNIR.head(3)"
   ]
  },
  {
   "cell_type": "code",
   "execution_count": 13,
   "metadata": {},
   "outputs": [],
   "source": [
    "# drop duplicated Img_names\n",
    "VNIR_light_intensity.drop_duplicates(subset = 'Img_name', inplace = True)"
   ]
  },
  {
   "cell_type": "code",
   "execution_count": 14,
   "metadata": {},
   "outputs": [
    {
     "data": {
      "text/html": [
       "<div>\n",
       "<style scoped>\n",
       "    .dataframe tbody tr th:only-of-type {\n",
       "        vertical-align: middle;\n",
       "    }\n",
       "\n",
       "    .dataframe tbody tr th {\n",
       "        vertical-align: top;\n",
       "    }\n",
       "\n",
       "    .dataframe thead th {\n",
       "        text-align: right;\n",
       "    }\n",
       "</style>\n",
       "<table border=\"1\" class=\"dataframe\">\n",
       "  <thead>\n",
       "    <tr style=\"text-align: right;\">\n",
       "      <th></th>\n",
       "      <th>Img_name</th>\n",
       "      <th>Band_001</th>\n",
       "      <th>Band_002</th>\n",
       "      <th>Band_003</th>\n",
       "      <th>Band_004</th>\n",
       "      <th>Band_005</th>\n",
       "      <th>Band_006</th>\n",
       "      <th>Band_007</th>\n",
       "      <th>Band_008</th>\n",
       "      <th>Band_009</th>\n",
       "      <th>...</th>\n",
       "      <th>Band_151</th>\n",
       "      <th>Band_152</th>\n",
       "      <th>Band_153</th>\n",
       "      <th>Band_154</th>\n",
       "      <th>Band_155</th>\n",
       "      <th>Band_156</th>\n",
       "      <th>Band_157</th>\n",
       "      <th>Band_158</th>\n",
       "      <th>Band_159</th>\n",
       "      <th>Band_160</th>\n",
       "    </tr>\n",
       "  </thead>\n",
       "  <tbody>\n",
       "  </tbody>\n",
       "</table>\n",
       "<p>0 rows × 161 columns</p>\n",
       "</div>"
      ],
      "text/plain": [
       "Empty DataFrame\n",
       "Columns: [Img_name, Band_001, Band_002, Band_003, Band_004, Band_005, Band_006, Band_007, Band_008, Band_009, Band_010, Band_011, Band_012, Band_013, Band_014, Band_015, Band_016, Band_017, Band_018, Band_019, Band_020, Band_021, Band_022, Band_023, Band_024, Band_025, Band_026, Band_027, Band_028, Band_029, Band_030, Band_031, Band_032, Band_033, Band_034, Band_035, Band_036, Band_037, Band_038, Band_039, Band_040, Band_041, Band_042, Band_043, Band_044, Band_045, Band_046, Band_047, Band_048, Band_049, Band_050, Band_051, Band_052, Band_053, Band_054, Band_055, Band_056, Band_057, Band_058, Band_059, Band_060, Band_061, Band_062, Band_063, Band_064, Band_065, Band_066, Band_067, Band_068, Band_069, Band_070, Band_071, Band_072, Band_073, Band_074, Band_075, Band_076, Band_077, Band_078, Band_079, Band_080, Band_081, Band_082, Band_083, Band_084, Band_085, Band_086, Band_087, Band_088, Band_089, Band_090, Band_091, Band_092, Band_093, Band_094, Band_095, Band_096, Band_097, Band_098, Band_099, ...]\n",
       "Index: []\n",
       "\n",
       "[0 rows x 161 columns]"
      ]
     },
     "execution_count": 14,
     "metadata": {},
     "output_type": "execute_result"
    }
   ],
   "source": [
    "VNIR_light_intensity[VNIR_light_intensity.Img_name.duplicated() == True]"
   ]
  },
  {
   "cell_type": "code",
   "execution_count": 15,
   "metadata": {},
   "outputs": [],
   "source": [
    "# VNIR_light_intensity.head(3)"
   ]
  },
  {
   "cell_type": "markdown",
   "metadata": {},
   "source": [
    "### Matching each image type with its particular intensity level"
   ]
  },
  {
   "cell_type": "code",
   "execution_count": 16,
   "metadata": {},
   "outputs": [],
   "source": [
    "SWIR = pd.merge(left = SWIR, right = SWIR_light_intensity.Img_name, how = 'inner', left_on = 'Img_name', right_on = 'Img_name')"
   ]
  },
  {
   "cell_type": "code",
   "execution_count": 17,
   "metadata": {},
   "outputs": [],
   "source": [
    "SWIR_light_intensity = pd.merge(left = SWIR_light_intensity, right = SWIR.Img_name, how = 'inner', left_on = 'Img_name', right_on = 'Img_name')"
   ]
  },
  {
   "cell_type": "code",
   "execution_count": 18,
   "metadata": {},
   "outputs": [],
   "source": [
    "VNIR = pd.merge(left = VNIR, right = VNIR_light_intensity.Img_name, how = 'inner', left_on = 'Img_name', right_on = 'Img_name')"
   ]
  },
  {
   "cell_type": "code",
   "execution_count": 19,
   "metadata": {},
   "outputs": [],
   "source": [
    "VNIR_light_intensity = pd.merge(left = VNIR_light_intensity, right = VNIR.Img_name, how = 'inner', left_on = 'Img_name', right_on = 'Img_name')"
   ]
  },
  {
   "cell_type": "markdown",
   "metadata": {},
   "source": [
    "## Integrate daylight intensity level with dataset"
   ]
  },
  {
   "cell_type": "markdown",
   "metadata": {},
   "source": [
    "### Adding differences on top of each particular image"
   ]
  },
  {
   "cell_type": "markdown",
   "metadata": {},
   "source": [
    "#### SWIR"
   ]
  },
  {
   "cell_type": "code",
   "execution_count": 20,
   "metadata": {},
   "outputs": [
    {
     "data": {
      "text/plain": [
       "209"
      ]
     },
     "execution_count": 20,
     "metadata": {},
     "output_type": "execute_result"
    }
   ],
   "source": [
    "SWIR_min_intensity_index = SWIR_light_intensity.Band_001.idxmin()\n",
    "SWIR_min_intensity_index"
   ]
  },
  {
   "cell_type": "code",
   "execution_count": 21,
   "metadata": {},
   "outputs": [],
   "source": [
    "SWIR_min_intensity_array = SWIR_light_intensity.iloc[SWIR_min_intensity_index:SWIR_min_intensity_index+1,1:]"
   ]
  },
  {
   "cell_type": "code",
   "execution_count": 22,
   "metadata": {},
   "outputs": [
    {
     "data": {
      "text/html": [
       "<div>\n",
       "<style scoped>\n",
       "    .dataframe tbody tr th:only-of-type {\n",
       "        vertical-align: middle;\n",
       "    }\n",
       "\n",
       "    .dataframe tbody tr th {\n",
       "        vertical-align: top;\n",
       "    }\n",
       "\n",
       "    .dataframe thead th {\n",
       "        text-align: right;\n",
       "    }\n",
       "</style>\n",
       "<table border=\"1\" class=\"dataframe\">\n",
       "  <thead>\n",
       "    <tr style=\"text-align: right;\">\n",
       "      <th></th>\n",
       "      <th>Img_name</th>\n",
       "      <th>Band_001</th>\n",
       "      <th>Band_002</th>\n",
       "      <th>Band_003</th>\n",
       "      <th>Band_004</th>\n",
       "      <th>Band_005</th>\n",
       "      <th>Band_006</th>\n",
       "      <th>Band_007</th>\n",
       "      <th>Band_008</th>\n",
       "      <th>Band_009</th>\n",
       "      <th>...</th>\n",
       "      <th>Band_247</th>\n",
       "      <th>Band_248</th>\n",
       "      <th>Band_249</th>\n",
       "      <th>Band_250</th>\n",
       "      <th>Band_251</th>\n",
       "      <th>Band_252</th>\n",
       "      <th>Band_253</th>\n",
       "      <th>Band_254</th>\n",
       "      <th>Band_255</th>\n",
       "      <th>Band_256</th>\n",
       "    </tr>\n",
       "  </thead>\n",
       "  <tbody>\n",
       "    <tr>\n",
       "      <td>209</td>\n",
       "      <td>38592</td>\n",
       "      <td>26932.64</td>\n",
       "      <td>27109.66</td>\n",
       "      <td>27184.07</td>\n",
       "      <td>27093.55</td>\n",
       "      <td>27359.38</td>\n",
       "      <td>27521.46</td>\n",
       "      <td>27419.33</td>\n",
       "      <td>27284.31</td>\n",
       "      <td>27368.96</td>\n",
       "      <td>...</td>\n",
       "      <td>6101.77</td>\n",
       "      <td>6051.95</td>\n",
       "      <td>5951.85</td>\n",
       "      <td>5887.8</td>\n",
       "      <td>5725.21</td>\n",
       "      <td>5599.06</td>\n",
       "      <td>5404.49</td>\n",
       "      <td>5228.64</td>\n",
       "      <td>5038.93</td>\n",
       "      <td>4774.77</td>\n",
       "    </tr>\n",
       "  </tbody>\n",
       "</table>\n",
       "<p>1 rows × 257 columns</p>\n",
       "</div>"
      ],
      "text/plain": [
       "    Img_name  Band_001  Band_002  Band_003  Band_004  Band_005  Band_006  \\\n",
       "209    38592  26932.64  27109.66  27184.07  27093.55  27359.38  27521.46   \n",
       "\n",
       "     Band_007  Band_008  Band_009  ...  Band_247  Band_248  Band_249  \\\n",
       "209  27419.33  27284.31  27368.96  ...   6101.77   6051.95   5951.85   \n",
       "\n",
       "     Band_250  Band_251  Band_252  Band_253  Band_254  Band_255  Band_256  \n",
       "209    5887.8   5725.21   5599.06   5404.49   5228.64   5038.93   4774.77  \n",
       "\n",
       "[1 rows x 257 columns]"
      ]
     },
     "execution_count": 22,
     "metadata": {},
     "output_type": "execute_result"
    }
   ],
   "source": [
    "SWIR_min_intensity_array.insert(loc = 0, column = 'Img_name', value = SWIR_light_intensity.Img_name)\n",
    "SWIR_min_intensity_array"
   ]
  },
  {
   "cell_type": "code",
   "execution_count": 23,
   "metadata": {},
   "outputs": [],
   "source": [
    "# build the difference values of intensity level to be added on top of dataset\n",
    "SWIR_differences = SWIR_light_intensity.subtract(SWIR_min_intensity_array.squeeze())\n",
    "SWIR_differences.Img_name = SWIR_light_intensity.Img_name"
   ]
  },
  {
   "cell_type": "code",
   "execution_count": 24,
   "metadata": {},
   "outputs": [
    {
     "data": {
      "text/html": [
       "<div>\n",
       "<style scoped>\n",
       "    .dataframe tbody tr th:only-of-type {\n",
       "        vertical-align: middle;\n",
       "    }\n",
       "\n",
       "    .dataframe tbody tr th {\n",
       "        vertical-align: top;\n",
       "    }\n",
       "\n",
       "    .dataframe thead th {\n",
       "        text-align: right;\n",
       "    }\n",
       "</style>\n",
       "<table border=\"1\" class=\"dataframe\">\n",
       "  <thead>\n",
       "    <tr style=\"text-align: right;\">\n",
       "      <th></th>\n",
       "      <th>Img_name</th>\n",
       "      <th>Band_001</th>\n",
       "      <th>Band_002</th>\n",
       "      <th>Band_003</th>\n",
       "      <th>Band_004</th>\n",
       "      <th>Band_005</th>\n",
       "      <th>Band_006</th>\n",
       "      <th>Band_007</th>\n",
       "      <th>Band_008</th>\n",
       "      <th>Band_009</th>\n",
       "      <th>...</th>\n",
       "      <th>Band_247</th>\n",
       "      <th>Band_248</th>\n",
       "      <th>Band_249</th>\n",
       "      <th>Band_250</th>\n",
       "      <th>Band_251</th>\n",
       "      <th>Band_252</th>\n",
       "      <th>Band_253</th>\n",
       "      <th>Band_254</th>\n",
       "      <th>Band_255</th>\n",
       "      <th>Band_256</th>\n",
       "    </tr>\n",
       "  </thead>\n",
       "  <tbody>\n",
       "    <tr>\n",
       "      <td>0</td>\n",
       "      <td>38367</td>\n",
       "      <td>8552.46</td>\n",
       "      <td>8624.52</td>\n",
       "      <td>8602.24</td>\n",
       "      <td>8718.07</td>\n",
       "      <td>8686.28</td>\n",
       "      <td>8728.19</td>\n",
       "      <td>8773.72</td>\n",
       "      <td>8748.06</td>\n",
       "      <td>8767.43</td>\n",
       "      <td>...</td>\n",
       "      <td>1656.98</td>\n",
       "      <td>1616.15</td>\n",
       "      <td>1637.79</td>\n",
       "      <td>1597.02</td>\n",
       "      <td>1554.85</td>\n",
       "      <td>1489.46</td>\n",
       "      <td>1415.83</td>\n",
       "      <td>1359.08</td>\n",
       "      <td>1309.23</td>\n",
       "      <td>1274.51</td>\n",
       "    </tr>\n",
       "    <tr>\n",
       "      <td>1</td>\n",
       "      <td>38368</td>\n",
       "      <td>7263.60</td>\n",
       "      <td>7320.36</td>\n",
       "      <td>7324.58</td>\n",
       "      <td>7407.32</td>\n",
       "      <td>7346.68</td>\n",
       "      <td>7417.34</td>\n",
       "      <td>7417.25</td>\n",
       "      <td>7466.54</td>\n",
       "      <td>7439.94</td>\n",
       "      <td>...</td>\n",
       "      <td>1351.99</td>\n",
       "      <td>1322.09</td>\n",
       "      <td>1348.54</td>\n",
       "      <td>1287.07</td>\n",
       "      <td>1263.72</td>\n",
       "      <td>1180.49</td>\n",
       "      <td>1157.18</td>\n",
       "      <td>1103.68</td>\n",
       "      <td>1034.61</td>\n",
       "      <td>1032.95</td>\n",
       "    </tr>\n",
       "    <tr>\n",
       "      <td>2</td>\n",
       "      <td>38369</td>\n",
       "      <td>6960.73</td>\n",
       "      <td>7002.79</td>\n",
       "      <td>7004.61</td>\n",
       "      <td>7100.93</td>\n",
       "      <td>7045.93</td>\n",
       "      <td>7100.28</td>\n",
       "      <td>7102.51</td>\n",
       "      <td>7117.58</td>\n",
       "      <td>7116.44</td>\n",
       "      <td>...</td>\n",
       "      <td>1310.56</td>\n",
       "      <td>1293.33</td>\n",
       "      <td>1315.48</td>\n",
       "      <td>1275.55</td>\n",
       "      <td>1260.04</td>\n",
       "      <td>1184.27</td>\n",
       "      <td>1132.51</td>\n",
       "      <td>1082.68</td>\n",
       "      <td>1047.20</td>\n",
       "      <td>1028.82</td>\n",
       "    </tr>\n",
       "  </tbody>\n",
       "</table>\n",
       "<p>3 rows × 257 columns</p>\n",
       "</div>"
      ],
      "text/plain": [
       "  Img_name  Band_001  Band_002  Band_003  Band_004  Band_005  Band_006  \\\n",
       "0    38367   8552.46   8624.52   8602.24   8718.07   8686.28   8728.19   \n",
       "1    38368   7263.60   7320.36   7324.58   7407.32   7346.68   7417.34   \n",
       "2    38369   6960.73   7002.79   7004.61   7100.93   7045.93   7100.28   \n",
       "\n",
       "   Band_007  Band_008  Band_009  ...  Band_247  Band_248  Band_249  Band_250  \\\n",
       "0   8773.72   8748.06   8767.43  ...   1656.98   1616.15   1637.79   1597.02   \n",
       "1   7417.25   7466.54   7439.94  ...   1351.99   1322.09   1348.54   1287.07   \n",
       "2   7102.51   7117.58   7116.44  ...   1310.56   1293.33   1315.48   1275.55   \n",
       "\n",
       "   Band_251  Band_252  Band_253  Band_254  Band_255  Band_256  \n",
       "0   1554.85   1489.46   1415.83   1359.08   1309.23   1274.51  \n",
       "1   1263.72   1180.49   1157.18   1103.68   1034.61   1032.95  \n",
       "2   1260.04   1184.27   1132.51   1082.68   1047.20   1028.82  \n",
       "\n",
       "[3 rows x 257 columns]"
      ]
     },
     "execution_count": 24,
     "metadata": {},
     "output_type": "execute_result"
    }
   ],
   "source": [
    "SWIR_differences.head(3)"
   ]
  },
  {
   "cell_type": "code",
   "execution_count": 25,
   "metadata": {},
   "outputs": [
    {
     "data": {
      "text/html": [
       "<div>\n",
       "<style scoped>\n",
       "    .dataframe tbody tr th:only-of-type {\n",
       "        vertical-align: middle;\n",
       "    }\n",
       "\n",
       "    .dataframe tbody tr th {\n",
       "        vertical-align: top;\n",
       "    }\n",
       "\n",
       "    .dataframe thead th {\n",
       "        text-align: right;\n",
       "    }\n",
       "</style>\n",
       "<table border=\"1\" class=\"dataframe\">\n",
       "  <thead>\n",
       "    <tr style=\"text-align: right;\">\n",
       "      <th></th>\n",
       "      <th>Img_name</th>\n",
       "      <th>Band_001</th>\n",
       "      <th>Band_002</th>\n",
       "      <th>Band_003</th>\n",
       "      <th>Band_004</th>\n",
       "      <th>Band_005</th>\n",
       "      <th>Band_006</th>\n",
       "      <th>Band_007</th>\n",
       "      <th>Band_008</th>\n",
       "      <th>Band_009</th>\n",
       "      <th>...</th>\n",
       "      <th>Band_247</th>\n",
       "      <th>Band_248</th>\n",
       "      <th>Band_249</th>\n",
       "      <th>Band_250</th>\n",
       "      <th>Band_251</th>\n",
       "      <th>Band_252</th>\n",
       "      <th>Band_253</th>\n",
       "      <th>Band_254</th>\n",
       "      <th>Band_255</th>\n",
       "      <th>Band_256</th>\n",
       "    </tr>\n",
       "  </thead>\n",
       "  <tbody>\n",
       "    <tr>\n",
       "      <td>0</td>\n",
       "      <td>38367</td>\n",
       "      <td>42411.8</td>\n",
       "      <td>42731.8</td>\n",
       "      <td>42856.2</td>\n",
       "      <td>43142.7</td>\n",
       "      <td>43646.4</td>\n",
       "      <td>44281.2</td>\n",
       "      <td>44694.4</td>\n",
       "      <td>44954.2</td>\n",
       "      <td>45487</td>\n",
       "      <td>...</td>\n",
       "      <td>2749.09</td>\n",
       "      <td>2683.93</td>\n",
       "      <td>2683.91</td>\n",
       "      <td>2628.19</td>\n",
       "      <td>2563.28</td>\n",
       "      <td>2437.8</td>\n",
       "      <td>2340.47</td>\n",
       "      <td>2268.82</td>\n",
       "      <td>2193.45</td>\n",
       "      <td>2151.58</td>\n",
       "    </tr>\n",
       "    <tr>\n",
       "      <td>1</td>\n",
       "      <td>38368</td>\n",
       "      <td>37435.8</td>\n",
       "      <td>37658.3</td>\n",
       "      <td>37786.2</td>\n",
       "      <td>37971.5</td>\n",
       "      <td>38311.6</td>\n",
       "      <td>38920</td>\n",
       "      <td>39198.8</td>\n",
       "      <td>39486.6</td>\n",
       "      <td>39846.4</td>\n",
       "      <td>...</td>\n",
       "      <td>2170.6</td>\n",
       "      <td>2113.64</td>\n",
       "      <td>2120.91</td>\n",
       "      <td>2036.49</td>\n",
       "      <td>1966.49</td>\n",
       "      <td>1856.88</td>\n",
       "      <td>1804.88</td>\n",
       "      <td>1721.17</td>\n",
       "      <td>1650.61</td>\n",
       "      <td>1630.31</td>\n",
       "    </tr>\n",
       "    <tr>\n",
       "      <td>2</td>\n",
       "      <td>38369</td>\n",
       "      <td>35867.3</td>\n",
       "      <td>36086.5</td>\n",
       "      <td>36225.7</td>\n",
       "      <td>36443.1</td>\n",
       "      <td>36836.4</td>\n",
       "      <td>37429</td>\n",
       "      <td>37698.6</td>\n",
       "      <td>37978.8</td>\n",
       "      <td>38431.4</td>\n",
       "      <td>...</td>\n",
       "      <td>2268.63</td>\n",
       "      <td>2224.43</td>\n",
       "      <td>2232.75</td>\n",
       "      <td>2172.08</td>\n",
       "      <td>2139.1</td>\n",
       "      <td>2025.87</td>\n",
       "      <td>1931.9</td>\n",
       "      <td>1871.97</td>\n",
       "      <td>1819.16</td>\n",
       "      <td>1791.44</td>\n",
       "    </tr>\n",
       "  </tbody>\n",
       "</table>\n",
       "<p>3 rows × 257 columns</p>\n",
       "</div>"
      ],
      "text/plain": [
       "  Img_name Band_001 Band_002 Band_003 Band_004 Band_005 Band_006 Band_007  \\\n",
       "0    38367  42411.8  42731.8  42856.2  43142.7  43646.4  44281.2  44694.4   \n",
       "1    38368  37435.8  37658.3  37786.2  37971.5  38311.6    38920  39198.8   \n",
       "2    38369  35867.3  36086.5  36225.7  36443.1  36836.4    37429  37698.6   \n",
       "\n",
       "  Band_008 Band_009  ... Band_247 Band_248 Band_249 Band_250 Band_251  \\\n",
       "0  44954.2    45487  ...  2749.09  2683.93  2683.91  2628.19  2563.28   \n",
       "1  39486.6  39846.4  ...   2170.6  2113.64  2120.91  2036.49  1966.49   \n",
       "2  37978.8  38431.4  ...  2268.63  2224.43  2232.75  2172.08   2139.1   \n",
       "\n",
       "  Band_252 Band_253 Band_254 Band_255 Band_256  \n",
       "0   2437.8  2340.47  2268.82  2193.45  2151.58  \n",
       "1  1856.88  1804.88  1721.17  1650.61  1630.31  \n",
       "2  2025.87   1931.9  1871.97  1819.16  1791.44  \n",
       "\n",
       "[3 rows x 257 columns]"
      ]
     },
     "execution_count": 25,
     "metadata": {},
     "output_type": "execute_result"
    }
   ],
   "source": [
    "SWIR_dataset_add_light_intensity = SWIR + SWIR_differences\n",
    "SWIR_dataset_add_light_intensity.Img_name = SWIR.Img_name\n",
    "SWIR_dataset_add_light_intensity.head(3)"
   ]
  },
  {
   "cell_type": "markdown",
   "metadata": {},
   "source": [
    "#### VNIR"
   ]
  },
  {
   "cell_type": "code",
   "execution_count": 26,
   "metadata": {},
   "outputs": [
    {
     "data": {
      "text/plain": [
       "345"
      ]
     },
     "execution_count": 26,
     "metadata": {},
     "output_type": "execute_result"
    }
   ],
   "source": [
    "VNIR_min_intensity_index = VNIR_light_intensity.Band_001.idxmin()\n",
    "VNIR_min_intensity_index"
   ]
  },
  {
   "cell_type": "code",
   "execution_count": 27,
   "metadata": {},
   "outputs": [],
   "source": [
    "VNIR_min_intensity_array = VNIR_light_intensity.iloc[VNIR_min_intensity_index:VNIR_min_intensity_index+1,1:]"
   ]
  },
  {
   "cell_type": "code",
   "execution_count": 28,
   "metadata": {},
   "outputs": [
    {
     "data": {
      "text/html": [
       "<div>\n",
       "<style scoped>\n",
       "    .dataframe tbody tr th:only-of-type {\n",
       "        vertical-align: middle;\n",
       "    }\n",
       "\n",
       "    .dataframe tbody tr th {\n",
       "        vertical-align: top;\n",
       "    }\n",
       "\n",
       "    .dataframe thead th {\n",
       "        text-align: right;\n",
       "    }\n",
       "</style>\n",
       "<table border=\"1\" class=\"dataframe\">\n",
       "  <thead>\n",
       "    <tr style=\"text-align: right;\">\n",
       "      <th></th>\n",
       "      <th>Img_name</th>\n",
       "      <th>Band_001</th>\n",
       "      <th>Band_002</th>\n",
       "      <th>Band_003</th>\n",
       "      <th>Band_004</th>\n",
       "      <th>Band_005</th>\n",
       "      <th>Band_006</th>\n",
       "      <th>Band_007</th>\n",
       "      <th>Band_008</th>\n",
       "      <th>Band_009</th>\n",
       "      <th>...</th>\n",
       "      <th>Band_151</th>\n",
       "      <th>Band_152</th>\n",
       "      <th>Band_153</th>\n",
       "      <th>Band_154</th>\n",
       "      <th>Band_155</th>\n",
       "      <th>Band_156</th>\n",
       "      <th>Band_157</th>\n",
       "      <th>Band_158</th>\n",
       "      <th>Band_159</th>\n",
       "      <th>Band_160</th>\n",
       "    </tr>\n",
       "  </thead>\n",
       "  <tbody>\n",
       "    <tr>\n",
       "      <td>345</td>\n",
       "      <td>38747</td>\n",
       "      <td>727.58</td>\n",
       "      <td>749.6</td>\n",
       "      <td>776.36</td>\n",
       "      <td>810.31</td>\n",
       "      <td>848.94</td>\n",
       "      <td>882.42</td>\n",
       "      <td>919.84</td>\n",
       "      <td>987.78</td>\n",
       "      <td>1036.17</td>\n",
       "      <td>...</td>\n",
       "      <td>10175.65</td>\n",
       "      <td>10247.82</td>\n",
       "      <td>10274.18</td>\n",
       "      <td>10215.85</td>\n",
       "      <td>10235.4</td>\n",
       "      <td>10229.26</td>\n",
       "      <td>10328.59</td>\n",
       "      <td>10403.08</td>\n",
       "      <td>10487.33</td>\n",
       "      <td>10577.34</td>\n",
       "    </tr>\n",
       "  </tbody>\n",
       "</table>\n",
       "<p>1 rows × 161 columns</p>\n",
       "</div>"
      ],
      "text/plain": [
       "    Img_name  Band_001  Band_002  Band_003  Band_004  Band_005  Band_006  \\\n",
       "345    38747    727.58     749.6    776.36    810.31    848.94    882.42   \n",
       "\n",
       "     Band_007  Band_008  Band_009  ...  Band_151  Band_152  Band_153  \\\n",
       "345    919.84    987.78   1036.17  ...  10175.65  10247.82  10274.18   \n",
       "\n",
       "     Band_154  Band_155  Band_156  Band_157  Band_158  Band_159  Band_160  \n",
       "345  10215.85   10235.4  10229.26  10328.59  10403.08  10487.33  10577.34  \n",
       "\n",
       "[1 rows x 161 columns]"
      ]
     },
     "execution_count": 28,
     "metadata": {},
     "output_type": "execute_result"
    }
   ],
   "source": [
    "VNIR_min_intensity_array.insert(loc = 0, column = 'Img_name', value = VNIR_light_intensity.Img_name)\n",
    "VNIR_min_intensity_array"
   ]
  },
  {
   "cell_type": "code",
   "execution_count": 29,
   "metadata": {},
   "outputs": [],
   "source": [
    "# build the difference values of intensity level to be added on top of dataset\n",
    "VNIR_differences = VNIR_light_intensity.subtract(VNIR_min_intensity_array.squeeze())\n",
    "VNIR_differences.Img_name = VNIR_light_intensity.Img_name"
   ]
  },
  {
   "cell_type": "code",
   "execution_count": 30,
   "metadata": {},
   "outputs": [
    {
     "data": {
      "text/html": [
       "<div>\n",
       "<style scoped>\n",
       "    .dataframe tbody tr th:only-of-type {\n",
       "        vertical-align: middle;\n",
       "    }\n",
       "\n",
       "    .dataframe tbody tr th {\n",
       "        vertical-align: top;\n",
       "    }\n",
       "\n",
       "    .dataframe thead th {\n",
       "        text-align: right;\n",
       "    }\n",
       "</style>\n",
       "<table border=\"1\" class=\"dataframe\">\n",
       "  <thead>\n",
       "    <tr style=\"text-align: right;\">\n",
       "      <th></th>\n",
       "      <th>Img_name</th>\n",
       "      <th>Band_001</th>\n",
       "      <th>Band_002</th>\n",
       "      <th>Band_003</th>\n",
       "      <th>Band_004</th>\n",
       "      <th>Band_005</th>\n",
       "      <th>Band_006</th>\n",
       "      <th>Band_007</th>\n",
       "      <th>Band_008</th>\n",
       "      <th>Band_009</th>\n",
       "      <th>...</th>\n",
       "      <th>Band_151</th>\n",
       "      <th>Band_152</th>\n",
       "      <th>Band_153</th>\n",
       "      <th>Band_154</th>\n",
       "      <th>Band_155</th>\n",
       "      <th>Band_156</th>\n",
       "      <th>Band_157</th>\n",
       "      <th>Band_158</th>\n",
       "      <th>Band_159</th>\n",
       "      <th>Band_160</th>\n",
       "    </tr>\n",
       "  </thead>\n",
       "  <tbody>\n",
       "    <tr>\n",
       "      <td>0</td>\n",
       "      <td>38367</td>\n",
       "      <td>1986.32</td>\n",
       "      <td>2151.54</td>\n",
       "      <td>2263.33</td>\n",
       "      <td>2350.78</td>\n",
       "      <td>2446.05</td>\n",
       "      <td>2544.49</td>\n",
       "      <td>2597.05</td>\n",
       "      <td>2777.86</td>\n",
       "      <td>2920.55</td>\n",
       "      <td>...</td>\n",
       "      <td>23027.21</td>\n",
       "      <td>23153.84</td>\n",
       "      <td>23184.12</td>\n",
       "      <td>23269.32</td>\n",
       "      <td>23301.96</td>\n",
       "      <td>23425.25</td>\n",
       "      <td>23421.07</td>\n",
       "      <td>23655.14</td>\n",
       "      <td>23826.71</td>\n",
       "      <td>23912.60</td>\n",
       "    </tr>\n",
       "    <tr>\n",
       "      <td>1</td>\n",
       "      <td>38368</td>\n",
       "      <td>1542.24</td>\n",
       "      <td>1645.89</td>\n",
       "      <td>1748.28</td>\n",
       "      <td>1827.62</td>\n",
       "      <td>1899.68</td>\n",
       "      <td>1979.86</td>\n",
       "      <td>2026.23</td>\n",
       "      <td>2163.00</td>\n",
       "      <td>2276.75</td>\n",
       "      <td>...</td>\n",
       "      <td>18537.27</td>\n",
       "      <td>18641.77</td>\n",
       "      <td>18613.44</td>\n",
       "      <td>18725.86</td>\n",
       "      <td>18755.67</td>\n",
       "      <td>18820.20</td>\n",
       "      <td>18828.72</td>\n",
       "      <td>18983.52</td>\n",
       "      <td>19156.12</td>\n",
       "      <td>19168.76</td>\n",
       "    </tr>\n",
       "    <tr>\n",
       "      <td>2</td>\n",
       "      <td>38369</td>\n",
       "      <td>2247.21</td>\n",
       "      <td>2405.35</td>\n",
       "      <td>2526.76</td>\n",
       "      <td>2641.77</td>\n",
       "      <td>2749.89</td>\n",
       "      <td>2867.89</td>\n",
       "      <td>2919.44</td>\n",
       "      <td>3125.68</td>\n",
       "      <td>3283.18</td>\n",
       "      <td>...</td>\n",
       "      <td>26110.75</td>\n",
       "      <td>26236.05</td>\n",
       "      <td>26242.83</td>\n",
       "      <td>26341.39</td>\n",
       "      <td>26375.81</td>\n",
       "      <td>26492.83</td>\n",
       "      <td>26567.34</td>\n",
       "      <td>26777.69</td>\n",
       "      <td>26998.03</td>\n",
       "      <td>27057.54</td>\n",
       "    </tr>\n",
       "  </tbody>\n",
       "</table>\n",
       "<p>3 rows × 161 columns</p>\n",
       "</div>"
      ],
      "text/plain": [
       "  Img_name  Band_001  Band_002  Band_003  Band_004  Band_005  Band_006  \\\n",
       "0    38367   1986.32   2151.54   2263.33   2350.78   2446.05   2544.49   \n",
       "1    38368   1542.24   1645.89   1748.28   1827.62   1899.68   1979.86   \n",
       "2    38369   2247.21   2405.35   2526.76   2641.77   2749.89   2867.89   \n",
       "\n",
       "   Band_007  Band_008  Band_009  ...  Band_151  Band_152  Band_153  Band_154  \\\n",
       "0   2597.05   2777.86   2920.55  ...  23027.21  23153.84  23184.12  23269.32   \n",
       "1   2026.23   2163.00   2276.75  ...  18537.27  18641.77  18613.44  18725.86   \n",
       "2   2919.44   3125.68   3283.18  ...  26110.75  26236.05  26242.83  26341.39   \n",
       "\n",
       "   Band_155  Band_156  Band_157  Band_158  Band_159  Band_160  \n",
       "0  23301.96  23425.25  23421.07  23655.14  23826.71  23912.60  \n",
       "1  18755.67  18820.20  18828.72  18983.52  19156.12  19168.76  \n",
       "2  26375.81  26492.83  26567.34  26777.69  26998.03  27057.54  \n",
       "\n",
       "[3 rows x 161 columns]"
      ]
     },
     "execution_count": 30,
     "metadata": {},
     "output_type": "execute_result"
    }
   ],
   "source": [
    "VNIR_differences.head(3)"
   ]
  },
  {
   "cell_type": "code",
   "execution_count": 31,
   "metadata": {},
   "outputs": [
    {
     "data": {
      "text/html": [
       "<div>\n",
       "<style scoped>\n",
       "    .dataframe tbody tr th:only-of-type {\n",
       "        vertical-align: middle;\n",
       "    }\n",
       "\n",
       "    .dataframe tbody tr th {\n",
       "        vertical-align: top;\n",
       "    }\n",
       "\n",
       "    .dataframe thead th {\n",
       "        text-align: right;\n",
       "    }\n",
       "</style>\n",
       "<table border=\"1\" class=\"dataframe\">\n",
       "  <thead>\n",
       "    <tr style=\"text-align: right;\">\n",
       "      <th></th>\n",
       "      <th>Img_name</th>\n",
       "      <th>Band_001</th>\n",
       "      <th>Band_002</th>\n",
       "      <th>Band_003</th>\n",
       "      <th>Band_004</th>\n",
       "      <th>Band_005</th>\n",
       "      <th>Band_006</th>\n",
       "      <th>Band_007</th>\n",
       "      <th>Band_008</th>\n",
       "      <th>Band_009</th>\n",
       "      <th>...</th>\n",
       "      <th>Band_151</th>\n",
       "      <th>Band_152</th>\n",
       "      <th>Band_153</th>\n",
       "      <th>Band_154</th>\n",
       "      <th>Band_155</th>\n",
       "      <th>Band_156</th>\n",
       "      <th>Band_157</th>\n",
       "      <th>Band_158</th>\n",
       "      <th>Band_159</th>\n",
       "      <th>Band_160</th>\n",
       "    </tr>\n",
       "  </thead>\n",
       "  <tbody>\n",
       "    <tr>\n",
       "      <td>0</td>\n",
       "      <td>38367</td>\n",
       "      <td>2350.74</td>\n",
       "      <td>2503.44</td>\n",
       "      <td>2618.51</td>\n",
       "      <td>2702.48</td>\n",
       "      <td>2812.56</td>\n",
       "      <td>2923.92</td>\n",
       "      <td>2977.99</td>\n",
       "      <td>3179.99</td>\n",
       "      <td>3341.41</td>\n",
       "      <td>...</td>\n",
       "      <td>43322.1</td>\n",
       "      <td>43235.8</td>\n",
       "      <td>43079.6</td>\n",
       "      <td>43033.6</td>\n",
       "      <td>43024.2</td>\n",
       "      <td>43113.7</td>\n",
       "      <td>43204.2</td>\n",
       "      <td>43545</td>\n",
       "      <td>43935.2</td>\n",
       "      <td>43880.6</td>\n",
       "    </tr>\n",
       "    <tr>\n",
       "      <td>1</td>\n",
       "      <td>38368</td>\n",
       "      <td>1943.93</td>\n",
       "      <td>2045.13</td>\n",
       "      <td>2137.17</td>\n",
       "      <td>2218.26</td>\n",
       "      <td>2296.5</td>\n",
       "      <td>2378.83</td>\n",
       "      <td>2427.96</td>\n",
       "      <td>2590.4</td>\n",
       "      <td>2722.22</td>\n",
       "      <td>...</td>\n",
       "      <td>39903.8</td>\n",
       "      <td>39712.5</td>\n",
       "      <td>39435.3</td>\n",
       "      <td>39370.4</td>\n",
       "      <td>39304.8</td>\n",
       "      <td>39306.1</td>\n",
       "      <td>39363.9</td>\n",
       "      <td>39600.4</td>\n",
       "      <td>39972.8</td>\n",
       "      <td>39928.4</td>\n",
       "    </tr>\n",
       "    <tr>\n",
       "      <td>2</td>\n",
       "      <td>38369</td>\n",
       "      <td>2687.16</td>\n",
       "      <td>2853.17</td>\n",
       "      <td>2974.04</td>\n",
       "      <td>3099.9</td>\n",
       "      <td>3219.05</td>\n",
       "      <td>3353.07</td>\n",
       "      <td>3414.18</td>\n",
       "      <td>3657.44</td>\n",
       "      <td>3839.36</td>\n",
       "      <td>...</td>\n",
       "      <td>49363.8</td>\n",
       "      <td>49242.3</td>\n",
       "      <td>49010.1</td>\n",
       "      <td>48908</td>\n",
       "      <td>48938.2</td>\n",
       "      <td>49031.5</td>\n",
       "      <td>49079.4</td>\n",
       "      <td>49483.7</td>\n",
       "      <td>49973.2</td>\n",
       "      <td>49892.3</td>\n",
       "    </tr>\n",
       "    <tr>\n",
       "      <td>3</td>\n",
       "      <td>38370</td>\n",
       "      <td>2726.67</td>\n",
       "      <td>2884.5</td>\n",
       "      <td>3007.42</td>\n",
       "      <td>3112.5</td>\n",
       "      <td>3236.91</td>\n",
       "      <td>3354.31</td>\n",
       "      <td>3420.33</td>\n",
       "      <td>3660.37</td>\n",
       "      <td>3845.82</td>\n",
       "      <td>...</td>\n",
       "      <td>53884.1</td>\n",
       "      <td>53723.4</td>\n",
       "      <td>53467.7</td>\n",
       "      <td>53464.4</td>\n",
       "      <td>53467.1</td>\n",
       "      <td>53481</td>\n",
       "      <td>53596.2</td>\n",
       "      <td>54131</td>\n",
       "      <td>54474</td>\n",
       "      <td>54711.5</td>\n",
       "    </tr>\n",
       "    <tr>\n",
       "      <td>4</td>\n",
       "      <td>38371</td>\n",
       "      <td>2278.29</td>\n",
       "      <td>2397.81</td>\n",
       "      <td>2496.96</td>\n",
       "      <td>2570.03</td>\n",
       "      <td>2656.55</td>\n",
       "      <td>2756.62</td>\n",
       "      <td>2810.46</td>\n",
       "      <td>3001.04</td>\n",
       "      <td>3137.45</td>\n",
       "      <td>...</td>\n",
       "      <td>48058.2</td>\n",
       "      <td>47834.3</td>\n",
       "      <td>47576.7</td>\n",
       "      <td>47401.9</td>\n",
       "      <td>47391.8</td>\n",
       "      <td>47453.7</td>\n",
       "      <td>47499.1</td>\n",
       "      <td>47852.6</td>\n",
       "      <td>48180</td>\n",
       "      <td>48351.7</td>\n",
       "    </tr>\n",
       "    <tr>\n",
       "      <td>...</td>\n",
       "      <td>...</td>\n",
       "      <td>...</td>\n",
       "      <td>...</td>\n",
       "      <td>...</td>\n",
       "      <td>...</td>\n",
       "      <td>...</td>\n",
       "      <td>...</td>\n",
       "      <td>...</td>\n",
       "      <td>...</td>\n",
       "      <td>...</td>\n",
       "      <td>...</td>\n",
       "      <td>...</td>\n",
       "      <td>...</td>\n",
       "      <td>...</td>\n",
       "      <td>...</td>\n",
       "      <td>...</td>\n",
       "      <td>...</td>\n",
       "      <td>...</td>\n",
       "      <td>...</td>\n",
       "      <td>...</td>\n",
       "      <td>...</td>\n",
       "    </tr>\n",
       "    <tr>\n",
       "      <td>456</td>\n",
       "      <td>38866</td>\n",
       "      <td>2032.55</td>\n",
       "      <td>2183.77</td>\n",
       "      <td>2272.29</td>\n",
       "      <td>2360.29</td>\n",
       "      <td>2427.18</td>\n",
       "      <td>2501.8</td>\n",
       "      <td>2493.27</td>\n",
       "      <td>2729.65</td>\n",
       "      <td>2858.42</td>\n",
       "      <td>...</td>\n",
       "      <td>32781</td>\n",
       "      <td>32657.9</td>\n",
       "      <td>32589.6</td>\n",
       "      <td>32631.8</td>\n",
       "      <td>32726.7</td>\n",
       "      <td>32870.7</td>\n",
       "      <td>32864.5</td>\n",
       "      <td>33118</td>\n",
       "      <td>33331.7</td>\n",
       "      <td>33347.5</td>\n",
       "    </tr>\n",
       "    <tr>\n",
       "      <td>457</td>\n",
       "      <td>38867</td>\n",
       "      <td>2698.61</td>\n",
       "      <td>2876.38</td>\n",
       "      <td>3018.12</td>\n",
       "      <td>3134.15</td>\n",
       "      <td>3257.3</td>\n",
       "      <td>3353.12</td>\n",
       "      <td>3385.23</td>\n",
       "      <td>3674.89</td>\n",
       "      <td>3858.28</td>\n",
       "      <td>...</td>\n",
       "      <td>46623.5</td>\n",
       "      <td>46498.5</td>\n",
       "      <td>46359.8</td>\n",
       "      <td>46414</td>\n",
       "      <td>46546.4</td>\n",
       "      <td>46696.7</td>\n",
       "      <td>46752.1</td>\n",
       "      <td>47016.3</td>\n",
       "      <td>47352.7</td>\n",
       "      <td>47293.8</td>\n",
       "    </tr>\n",
       "    <tr>\n",
       "      <td>458</td>\n",
       "      <td>38868</td>\n",
       "      <td>2829.88</td>\n",
       "      <td>3002.01</td>\n",
       "      <td>3174.5</td>\n",
       "      <td>3288.61</td>\n",
       "      <td>3406.89</td>\n",
       "      <td>3525.53</td>\n",
       "      <td>3565.77</td>\n",
       "      <td>3875.22</td>\n",
       "      <td>4065.92</td>\n",
       "      <td>...</td>\n",
       "      <td>50096.8</td>\n",
       "      <td>50027.3</td>\n",
       "      <td>49936.3</td>\n",
       "      <td>49905.4</td>\n",
       "      <td>50068.2</td>\n",
       "      <td>50231.8</td>\n",
       "      <td>50254.8</td>\n",
       "      <td>50713.5</td>\n",
       "      <td>50966.9</td>\n",
       "      <td>51075.7</td>\n",
       "    </tr>\n",
       "    <tr>\n",
       "      <td>459</td>\n",
       "      <td>38869</td>\n",
       "      <td>2583.88</td>\n",
       "      <td>2707.24</td>\n",
       "      <td>2832</td>\n",
       "      <td>2942.8</td>\n",
       "      <td>3062.6</td>\n",
       "      <td>3180.27</td>\n",
       "      <td>3252</td>\n",
       "      <td>3487.45</td>\n",
       "      <td>3654.84</td>\n",
       "      <td>...</td>\n",
       "      <td>52371.3</td>\n",
       "      <td>52180.6</td>\n",
       "      <td>51959.3</td>\n",
       "      <td>51888.3</td>\n",
       "      <td>51867.9</td>\n",
       "      <td>51932.1</td>\n",
       "      <td>51980.2</td>\n",
       "      <td>52319.6</td>\n",
       "      <td>52638.7</td>\n",
       "      <td>52639</td>\n",
       "    </tr>\n",
       "    <tr>\n",
       "      <td>460</td>\n",
       "      <td>38870</td>\n",
       "      <td>2514.71</td>\n",
       "      <td>2671.35</td>\n",
       "      <td>2818.99</td>\n",
       "      <td>2920.09</td>\n",
       "      <td>3036.39</td>\n",
       "      <td>3125.79</td>\n",
       "      <td>3152.47</td>\n",
       "      <td>3429.9</td>\n",
       "      <td>3602.92</td>\n",
       "      <td>...</td>\n",
       "      <td>44939.4</td>\n",
       "      <td>44852.6</td>\n",
       "      <td>44826.8</td>\n",
       "      <td>44906.5</td>\n",
       "      <td>44978</td>\n",
       "      <td>45214.6</td>\n",
       "      <td>45295.8</td>\n",
       "      <td>45559.4</td>\n",
       "      <td>45974.8</td>\n",
       "      <td>45954.1</td>\n",
       "    </tr>\n",
       "  </tbody>\n",
       "</table>\n",
       "<p>461 rows × 161 columns</p>\n",
       "</div>"
      ],
      "text/plain": [
       "    Img_name Band_001 Band_002 Band_003 Band_004 Band_005 Band_006 Band_007  \\\n",
       "0      38367  2350.74  2503.44  2618.51  2702.48  2812.56  2923.92  2977.99   \n",
       "1      38368  1943.93  2045.13  2137.17  2218.26   2296.5  2378.83  2427.96   \n",
       "2      38369  2687.16  2853.17  2974.04   3099.9  3219.05  3353.07  3414.18   \n",
       "3      38370  2726.67   2884.5  3007.42   3112.5  3236.91  3354.31  3420.33   \n",
       "4      38371  2278.29  2397.81  2496.96  2570.03  2656.55  2756.62  2810.46   \n",
       "..       ...      ...      ...      ...      ...      ...      ...      ...   \n",
       "456    38866  2032.55  2183.77  2272.29  2360.29  2427.18   2501.8  2493.27   \n",
       "457    38867  2698.61  2876.38  3018.12  3134.15   3257.3  3353.12  3385.23   \n",
       "458    38868  2829.88  3002.01   3174.5  3288.61  3406.89  3525.53  3565.77   \n",
       "459    38869  2583.88  2707.24     2832   2942.8   3062.6  3180.27     3252   \n",
       "460    38870  2514.71  2671.35  2818.99  2920.09  3036.39  3125.79  3152.47   \n",
       "\n",
       "    Band_008 Band_009  ... Band_151 Band_152 Band_153 Band_154 Band_155  \\\n",
       "0    3179.99  3341.41  ...  43322.1  43235.8  43079.6  43033.6  43024.2   \n",
       "1     2590.4  2722.22  ...  39903.8  39712.5  39435.3  39370.4  39304.8   \n",
       "2    3657.44  3839.36  ...  49363.8  49242.3  49010.1    48908  48938.2   \n",
       "3    3660.37  3845.82  ...  53884.1  53723.4  53467.7  53464.4  53467.1   \n",
       "4    3001.04  3137.45  ...  48058.2  47834.3  47576.7  47401.9  47391.8   \n",
       "..       ...      ...  ...      ...      ...      ...      ...      ...   \n",
       "456  2729.65  2858.42  ...    32781  32657.9  32589.6  32631.8  32726.7   \n",
       "457  3674.89  3858.28  ...  46623.5  46498.5  46359.8    46414  46546.4   \n",
       "458  3875.22  4065.92  ...  50096.8  50027.3  49936.3  49905.4  50068.2   \n",
       "459  3487.45  3654.84  ...  52371.3  52180.6  51959.3  51888.3  51867.9   \n",
       "460   3429.9  3602.92  ...  44939.4  44852.6  44826.8  44906.5    44978   \n",
       "\n",
       "    Band_156 Band_157 Band_158 Band_159 Band_160  \n",
       "0    43113.7  43204.2    43545  43935.2  43880.6  \n",
       "1    39306.1  39363.9  39600.4  39972.8  39928.4  \n",
       "2    49031.5  49079.4  49483.7  49973.2  49892.3  \n",
       "3      53481  53596.2    54131    54474  54711.5  \n",
       "4    47453.7  47499.1  47852.6    48180  48351.7  \n",
       "..       ...      ...      ...      ...      ...  \n",
       "456  32870.7  32864.5    33118  33331.7  33347.5  \n",
       "457  46696.7  46752.1  47016.3  47352.7  47293.8  \n",
       "458  50231.8  50254.8  50713.5  50966.9  51075.7  \n",
       "459  51932.1  51980.2  52319.6  52638.7    52639  \n",
       "460  45214.6  45295.8  45559.4  45974.8  45954.1  \n",
       "\n",
       "[461 rows x 161 columns]"
      ]
     },
     "execution_count": 31,
     "metadata": {},
     "output_type": "execute_result"
    }
   ],
   "source": [
    "VNIR_dataset_add_light_intensity = VNIR + VNIR_differences\n",
    "VNIR_dataset_add_light_intensity.Img_name = VNIR.Img_name\n",
    "VNIR_dataset_add_light_intensity"
   ]
  },
  {
   "cell_type": "markdown",
   "metadata": {},
   "source": [
    "### Preparing dataset by dividing over intensity level"
   ]
  },
  {
   "cell_type": "markdown",
   "metadata": {},
   "source": [
    "#### SWIR"
   ]
  },
  {
   "cell_type": "code",
   "execution_count": 32,
   "metadata": {},
   "outputs": [],
   "source": [
    "SWIR_dataset_div_light_intensity = SWIR / SWIR_light_intensity\n",
    "SWIR_dataset_div_light_intensity.Img_name = SWIR.Img_name"
   ]
  },
  {
   "cell_type": "code",
   "execution_count": 33,
   "metadata": {},
   "outputs": [
    {
     "data": {
      "text/html": [
       "<div>\n",
       "<style scoped>\n",
       "    .dataframe tbody tr th:only-of-type {\n",
       "        vertical-align: middle;\n",
       "    }\n",
       "\n",
       "    .dataframe tbody tr th {\n",
       "        vertical-align: top;\n",
       "    }\n",
       "\n",
       "    .dataframe thead th {\n",
       "        text-align: right;\n",
       "    }\n",
       "</style>\n",
       "<table border=\"1\" class=\"dataframe\">\n",
       "  <thead>\n",
       "    <tr style=\"text-align: right;\">\n",
       "      <th></th>\n",
       "      <th>Img_name</th>\n",
       "      <th>Band_001</th>\n",
       "      <th>Band_002</th>\n",
       "      <th>Band_003</th>\n",
       "      <th>Band_004</th>\n",
       "      <th>Band_005</th>\n",
       "      <th>Band_006</th>\n",
       "      <th>Band_007</th>\n",
       "      <th>Band_008</th>\n",
       "      <th>Band_009</th>\n",
       "      <th>...</th>\n",
       "      <th>Band_247</th>\n",
       "      <th>Band_248</th>\n",
       "      <th>Band_249</th>\n",
       "      <th>Band_250</th>\n",
       "      <th>Band_251</th>\n",
       "      <th>Band_252</th>\n",
       "      <th>Band_253</th>\n",
       "      <th>Band_254</th>\n",
       "      <th>Band_255</th>\n",
       "      <th>Band_256</th>\n",
       "    </tr>\n",
       "  </thead>\n",
       "  <tbody>\n",
       "    <tr>\n",
       "      <td>0</td>\n",
       "      <td>38367</td>\n",
       "      <td>0.954184</td>\n",
       "      <td>0.954472</td>\n",
       "      <td>0.957179</td>\n",
       "      <td>0.96127</td>\n",
       "      <td>0.969885</td>\n",
       "      <td>0.980781</td>\n",
       "      <td>0.992475</td>\n",
       "      <td>1.00482</td>\n",
       "      <td>1.01614</td>\n",
       "      <td>...</td>\n",
       "      <td>0.140758</td>\n",
       "      <td>0.13925</td>\n",
       "      <td>0.137835</td>\n",
       "      <td>0.137768</td>\n",
       "      <td>0.138519</td>\n",
       "      <td>0.133785</td>\n",
       "      <td>0.135571</td>\n",
       "      <td>0.138096</td>\n",
       "      <td>0.139288</td>\n",
       "      <td>0.144988</td>\n",
       "    </tr>\n",
       "    <tr>\n",
       "      <td>1</td>\n",
       "      <td>38368</td>\n",
       "      <td>0.882325</td>\n",
       "      <td>0.881148</td>\n",
       "      <td>0.882723</td>\n",
       "      <td>0.885894</td>\n",
       "      <td>0.892205</td>\n",
       "      <td>0.901652</td>\n",
       "      <td>0.912304</td>\n",
       "      <td>0.921419</td>\n",
       "      <td>0.930982</td>\n",
       "      <td>...</td>\n",
       "      <td>0.109825</td>\n",
       "      <td>0.107343</td>\n",
       "      <td>0.105798</td>\n",
       "      <td>0.104451</td>\n",
       "      <td>0.100555</td>\n",
       "      <td>0.0997692</td>\n",
       "      <td>0.0987096</td>\n",
       "      <td>0.097514</td>\n",
       "      <td>0.101424</td>\n",
       "      <td>0.102856</td>\n",
       "    </tr>\n",
       "    <tr>\n",
       "      <td>2</td>\n",
       "      <td>38369</td>\n",
       "      <td>0.852869</td>\n",
       "      <td>0.852584</td>\n",
       "      <td>0.8547</td>\n",
       "      <td>0.858096</td>\n",
       "      <td>0.865869</td>\n",
       "      <td>0.876003</td>\n",
       "      <td>0.886284</td>\n",
       "      <td>0.897079</td>\n",
       "      <td>0.908064</td>\n",
       "      <td>...</td>\n",
       "      <td>0.129254</td>\n",
       "      <td>0.126762</td>\n",
       "      <td>0.126218</td>\n",
       "      <td>0.125155</td>\n",
       "      <td>0.125845</td>\n",
       "      <td>0.124069</td>\n",
       "      <td>0.122287</td>\n",
       "      <td>0.125059</td>\n",
       "      <td>0.126839</td>\n",
       "      <td>0.131405</td>\n",
       "    </tr>\n",
       "  </tbody>\n",
       "</table>\n",
       "<p>3 rows × 257 columns</p>\n",
       "</div>"
      ],
      "text/plain": [
       "  Img_name  Band_001  Band_002  Band_003  Band_004  Band_005  Band_006  \\\n",
       "0    38367  0.954184  0.954472  0.957179   0.96127  0.969885  0.980781   \n",
       "1    38368  0.882325  0.881148  0.882723  0.885894  0.892205  0.901652   \n",
       "2    38369  0.852869  0.852584    0.8547  0.858096  0.865869  0.876003   \n",
       "\n",
       "   Band_007  Band_008  Band_009  ...  Band_247  Band_248  Band_249  Band_250  \\\n",
       "0  0.992475   1.00482   1.01614  ...  0.140758   0.13925  0.137835  0.137768   \n",
       "1  0.912304  0.921419  0.930982  ...  0.109825  0.107343  0.105798  0.104451   \n",
       "2  0.886284  0.897079  0.908064  ...  0.129254  0.126762  0.126218  0.125155   \n",
       "\n",
       "   Band_251   Band_252   Band_253  Band_254  Band_255  Band_256  \n",
       "0  0.138519   0.133785   0.135571  0.138096  0.139288  0.144988  \n",
       "1  0.100555  0.0997692  0.0987096  0.097514  0.101424  0.102856  \n",
       "2  0.125845   0.124069   0.122287  0.125059  0.126839  0.131405  \n",
       "\n",
       "[3 rows x 257 columns]"
      ]
     },
     "execution_count": 33,
     "metadata": {},
     "output_type": "execute_result"
    }
   ],
   "source": [
    "# SWIR_light_intensity\n",
    "SWIR_dataset_div_light_intensity.head(3)"
   ]
  },
  {
   "cell_type": "markdown",
   "metadata": {},
   "source": [
    "#### VNIR"
   ]
  },
  {
   "cell_type": "code",
   "execution_count": 34,
   "metadata": {},
   "outputs": [],
   "source": [
    "VNIR_dataset_div_light_intensity = VNIR / VNIR_light_intensity\n",
    "VNIR_dataset_div_light_intensity.Img_name = VNIR.Img_name"
   ]
  },
  {
   "cell_type": "code",
   "execution_count": 35,
   "metadata": {},
   "outputs": [
    {
     "data": {
      "text/html": [
       "<div>\n",
       "<style scoped>\n",
       "    .dataframe tbody tr th:only-of-type {\n",
       "        vertical-align: middle;\n",
       "    }\n",
       "\n",
       "    .dataframe tbody tr th {\n",
       "        vertical-align: top;\n",
       "    }\n",
       "\n",
       "    .dataframe thead th {\n",
       "        text-align: right;\n",
       "    }\n",
       "</style>\n",
       "<table border=\"1\" class=\"dataframe\">\n",
       "  <thead>\n",
       "    <tr style=\"text-align: right;\">\n",
       "      <th></th>\n",
       "      <th>Img_name</th>\n",
       "      <th>Band_001</th>\n",
       "      <th>Band_002</th>\n",
       "      <th>Band_003</th>\n",
       "      <th>Band_004</th>\n",
       "      <th>Band_005</th>\n",
       "      <th>Band_006</th>\n",
       "      <th>Band_007</th>\n",
       "      <th>Band_008</th>\n",
       "      <th>Band_009</th>\n",
       "      <th>...</th>\n",
       "      <th>Band_151</th>\n",
       "      <th>Band_152</th>\n",
       "      <th>Band_153</th>\n",
       "      <th>Band_154</th>\n",
       "      <th>Band_155</th>\n",
       "      <th>Band_156</th>\n",
       "      <th>Band_157</th>\n",
       "      <th>Band_158</th>\n",
       "      <th>Band_159</th>\n",
       "      <th>Band_160</th>\n",
       "    </tr>\n",
       "  </thead>\n",
       "  <tbody>\n",
       "    <tr>\n",
       "      <td>0</td>\n",
       "      <td>38367</td>\n",
       "      <td>0.134279</td>\n",
       "      <td>0.121297</td>\n",
       "      <td>0.116847</td>\n",
       "      <td>0.111259</td>\n",
       "      <td>0.111233</td>\n",
       "      <td>0.110721</td>\n",
       "      <td>0.108317</td>\n",
       "      <td>0.106789</td>\n",
       "      <td>0.106366</td>\n",
       "      <td>...</td>\n",
       "      <td>0.611239</td>\n",
       "      <td>0.601225</td>\n",
       "      <td>0.594636</td>\n",
       "      <td>0.590238</td>\n",
       "      <td>0.588069</td>\n",
       "      <td>0.585017</td>\n",
       "      <td>0.586174</td>\n",
       "      <td>0.583996</td>\n",
       "      <td>0.586013</td>\n",
       "      <td>0.578952</td>\n",
       "    </tr>\n",
       "    <tr>\n",
       "      <td>1</td>\n",
       "      <td>38368</td>\n",
       "      <td>0.17697</td>\n",
       "      <td>0.166663</td>\n",
       "      <td>0.154038</td>\n",
       "      <td>0.148086</td>\n",
       "      <td>0.144371</td>\n",
       "      <td>0.139389</td>\n",
       "      <td>0.136361</td>\n",
       "      <td>0.135649</td>\n",
       "      <td>0.134464</td>\n",
       "      <td>...</td>\n",
       "      <td>0.744145</td>\n",
       "      <td>0.729353</td>\n",
       "      <td>0.720788</td>\n",
       "      <td>0.713315</td>\n",
       "      <td>0.708808</td>\n",
       "      <td>0.705209</td>\n",
       "      <td>0.70429</td>\n",
       "      <td>0.701576</td>\n",
       "      <td>0.702237</td>\n",
       "      <td>0.697896</td>\n",
       "    </tr>\n",
       "    <tr>\n",
       "      <td>2</td>\n",
       "      <td>38369</td>\n",
       "      <td>0.147893</td>\n",
       "      <td>0.141942</td>\n",
       "      <td>0.135411</td>\n",
       "      <td>0.132711</td>\n",
       "      <td>0.130365</td>\n",
       "      <td>0.129371</td>\n",
       "      <td>0.128863</td>\n",
       "      <td>0.129273</td>\n",
       "      <td>0.128765</td>\n",
       "      <td>...</td>\n",
       "      <td>0.64082</td>\n",
       "      <td>0.630587</td>\n",
       "      <td>0.62347</td>\n",
       "      <td>0.617294</td>\n",
       "      <td>0.616271</td>\n",
       "      <td>0.613764</td>\n",
       "      <td>0.610149</td>\n",
       "      <td>0.610691</td>\n",
       "      <td>0.612912</td>\n",
       "      <td>0.606745</td>\n",
       "    </tr>\n",
       "  </tbody>\n",
       "</table>\n",
       "<p>3 rows × 161 columns</p>\n",
       "</div>"
      ],
      "text/plain": [
       "  Img_name  Band_001  Band_002  Band_003  Band_004  Band_005  Band_006  \\\n",
       "0    38367  0.134279  0.121297  0.116847  0.111259  0.111233  0.110721   \n",
       "1    38368   0.17697  0.166663  0.154038  0.148086  0.144371  0.139389   \n",
       "2    38369  0.147893  0.141942  0.135411  0.132711  0.130365  0.129371   \n",
       "\n",
       "   Band_007  Band_008  Band_009  ...  Band_151  Band_152  Band_153  Band_154  \\\n",
       "0  0.108317  0.106789  0.106366  ...  0.611239  0.601225  0.594636  0.590238   \n",
       "1  0.136361  0.135649  0.134464  ...  0.744145  0.729353  0.720788  0.713315   \n",
       "2  0.128863  0.129273  0.128765  ...   0.64082  0.630587   0.62347  0.617294   \n",
       "\n",
       "   Band_155  Band_156  Band_157  Band_158  Band_159  Band_160  \n",
       "0  0.588069  0.585017  0.586174  0.583996  0.586013  0.578952  \n",
       "1  0.708808  0.705209   0.70429  0.701576  0.702237  0.697896  \n",
       "2  0.616271  0.613764  0.610149  0.610691  0.612912  0.606745  \n",
       "\n",
       "[3 rows x 161 columns]"
      ]
     },
     "execution_count": 35,
     "metadata": {},
     "output_type": "execute_result"
    }
   ],
   "source": [
    "VNIR_dataset_div_light_intensity.head(3)"
   ]
  },
  {
   "cell_type": "markdown",
   "metadata": {},
   "source": [
    "## Export dataset as excel files"
   ]
  },
  {
   "cell_type": "code",
   "execution_count": 36,
   "metadata": {},
   "outputs": [],
   "source": [
    "SWIR_dataset_add_light_intensity.to_excel(\"Prepared_Datasets/SWIR_dataset_add_light_intensity.xlsx\")"
   ]
  },
  {
   "cell_type": "code",
   "execution_count": 37,
   "metadata": {},
   "outputs": [],
   "source": [
    "VNIR_dataset_add_light_intensity.to_excel(\"Prepared_Datasets/VNIR_dataset_add_light_intensity.xlsx\")"
   ]
  },
  {
   "cell_type": "code",
   "execution_count": 38,
   "metadata": {},
   "outputs": [],
   "source": [
    "SWIR_dataset_div_light_intensity.to_excel(\"Prepared_Datasets/SWIR_dataset_div_light_intensity.xlsx\")"
   ]
  },
  {
   "cell_type": "code",
   "execution_count": 39,
   "metadata": {},
   "outputs": [],
   "source": [
    "VNIR_dataset_div_light_intensity.to_excel(\"Prepared_Datasets/VNIR_dataset_div_light_intensity.xlsx\")"
   ]
  },
  {
   "cell_type": "markdown",
   "metadata": {},
   "source": [
    "## Merging VNIR and SWIR"
   ]
  },
  {
   "cell_type": "markdown",
   "metadata": {},
   "source": [
    "### Inital state of merged VNIR and SWIR datasets"
   ]
  },
  {
   "cell_type": "code",
   "execution_count": 113,
   "metadata": {},
   "outputs": [],
   "source": [
    "merged_VNIR_SWIR = pd.merge(left = VNIR_dataset_add_light_intensity, right = SWIR_dataset_add_light_intensity,\n",
    "                how = 'inner', left_on = \"Img_name\", right_on = \"Img_name\")"
   ]
  },
  {
   "cell_type": "code",
   "execution_count": 114,
   "metadata": {},
   "outputs": [],
   "source": [
    "# renaming columns name \n",
    "columns_name = ['Img_name']\n",
    "name = np.arange(1, 417)\n",
    "for i in range(0, 416):\n",
    "    columns_name = np.append(columns_name, \"Band_{}\".format(name[i]))\n",
    "# inone.head(3)\n",
    "\n",
    "merged_VNIR_SWIR.columns = columns_name"
   ]
  },
  {
   "cell_type": "code",
   "execution_count": 115,
   "metadata": {},
   "outputs": [],
   "source": [
    "steps = np.arange(0, 416)"
   ]
  },
  {
   "cell_type": "code",
   "execution_count": 116,
   "metadata": {},
   "outputs": [
    {
     "data": {
      "image/png": "[encoded data removed]",
      "text/plain": [
       "<Figure size 864x432 with 1 Axes>"
      ]
     },
     "metadata": {
      "needs_background": "light"
     },
     "output_type": "display_data"
    }
   ],
   "source": [
    "plt.figure(figsize=(12,6))\n",
    "plt.scatter(steps, merged_VNIR_SWIR.iloc[0:1, 1:417])\n",
    "plt.scatter(steps, merged_VNIR_SWIR.iloc[1:2, 1:417])\n",
    "plt.scatter(steps, merged_VNIR_SWIR.iloc[2:3, 1:417])\n",
    "plt.show()"
   ]
  },
  {
   "cell_type": "code",
   "execution_count": 45,
   "metadata": {},
   "outputs": [],
   "source": [
    "# merged_VNIR_SWIR.to_excel(\"Prepared_Datasets/remove.xlsx\")"
   ]
  },
  {
   "cell_type": "markdown",
   "metadata": {},
   "source": [
    "### preparing dataset by adding differences on top of each particular image"
   ]
  },
  {
   "cell_type": "code",
   "execution_count": 107,
   "metadata": {},
   "outputs": [],
   "source": [
    "# fixing both datasets rows to the exactly same number of images\n",
    "SWIR_dataset_add_light_intensity = pd.merge(left = SWIR_dataset_add_light_intensity,\n",
    "                                           right = VNIR_dataset_add_light_intensity.Img_name,\n",
    "                                           how = \"inner\", left_on = \"Img_name\", right_on = \"Img_name\")\n",
    "VNIR_dataset_add_light_intensity = pd.merge(left = VNIR_dataset_add_light_intensity,\n",
    "                                           right = SWIR_dataset_add_light_intensity.Img_name,\n",
    "                                           how = \"inner\", left_on = \"Img_name\", right_on = \"Img_name\")"
   ]
  },
  {
   "cell_type": "code",
   "execution_count": 126,
   "metadata": {},
   "outputs": [],
   "source": [
    "ratio_add_light_intensity =  SWIR_dataset_add_light_intensity.Band_001 / VNIR_dataset_add_light_intensity.Band_160"
   ]
  },
  {
   "cell_type": "code",
   "execution_count": 127,
   "metadata": {},
   "outputs": [],
   "source": [
    "adjusted_VNIR_dataset_add_light_intensity = VNIR_dataset_add_light_intensity.iloc[:,1:161].mul(\n",
    "                                                            ratio_add_light_intensity, axis=\"index\")"
   ]
  },
  {
   "cell_type": "code",
   "execution_count": 128,
   "metadata": {},
   "outputs": [],
   "source": [
    "adjusted_VNIR_dataset_add_light_intensity.insert(loc = 0, column = 'Img_name', \n",
    "                                                 value = VNIR_dataset_add_light_intensity.Img_name)"
   ]
  },
  {
   "cell_type": "code",
   "execution_count": 129,
   "metadata": {},
   "outputs": [],
   "source": [
    "merged_VNIR_SWIR_add_light_intensity = pd.merge(left = adjusted_VNIR_dataset_add_light_intensity,\n",
    "                                                right = SWIR_dataset_add_light_intensity,\n",
    "                                                how = 'inner', left_on = \"Img_name\", right_on = \"Img_name\")"
   ]
  },
  {
   "cell_type": "code",
   "execution_count": 130,
   "metadata": {},
   "outputs": [],
   "source": [
    "# renaming columns name \n",
    "columns_name = ['Img_name']\n",
    "name = np.arange(1, 417)\n",
    "for i in range(0, 416):\n",
    "    columns_name = np.append(columns_name, \"Band_{}\".format(name[i]))\n",
    "# inone.head(3)\n",
    "\n",
    "merged_VNIR_SWIR_add_light_intensity.columns = columns_name"
   ]
  },
  {
   "cell_type": "code",
   "execution_count": 131,
   "metadata": {},
   "outputs": [],
   "source": [
    "steps = np.arange(0, 416)"
   ]
  },
  {
   "cell_type": "code",
   "execution_count": 132,
   "metadata": {},
   "outputs": [
    {
     "data": {
      "image/png": "[encoded data removed]",
      "text/plain": [
       "<Figure size 864x432 with 1 Axes>"
      ]
     },
     "metadata": {
      "needs_background": "light"
     },
     "output_type": "display_data"
    }
   ],
   "source": [
    "plt.figure(figsize=(12,6))\n",
    "plt.scatter(steps, merged_VNIR_SWIR_add_light_intensity.iloc[0:1, 1:417])\n",
    "plt.scatter(steps, merged_VNIR_SWIR_add_light_intensity.iloc[1:2, 1:417])\n",
    "plt.scatter(steps, merged_VNIR_SWIR_add_light_intensity.iloc[2:3, 1:417])\n",
    "plt.show()"
   ]
  },
  {
   "cell_type": "code",
   "execution_count": 121,
   "metadata": {},
   "outputs": [],
   "source": [
    "merged_VNIR_SWIR_add_light_intensity.to_excel(\"Prepared_Datasets/merged_VNIR_SWIR_add_light_intensity.xlsx\")"
   ]
  },
  {
   "cell_type": "markdown",
   "metadata": {},
   "source": [
    "### Preparing dataset by dividing dataset over intensity level"
   ]
  },
  {
   "cell_type": "code",
   "execution_count": 122,
   "metadata": {},
   "outputs": [],
   "source": [
    "# fixing both datasets rows to the exactly same number of images\n",
    "SWIR_dataset_div_light_intensity = pd.merge(left = SWIR_dataset_div_light_intensity,\n",
    "                                           right = VNIR_dataset_div_light_intensity.Img_name,\n",
    "                                           how = \"inner\", left_on = \"Img_name\", right_on = \"Img_name\")\n",
    "VNIR_dataset_div_light_intensity = pd.merge(left = VNIR_dataset_div_light_intensity,\n",
    "                                           right = SWIR_dataset_div_light_intensity.Img_name,\n",
    "                                           how = \"inner\", left_on = \"Img_name\", right_on = \"Img_name\")"
   ]
  },
  {
   "cell_type": "code",
   "execution_count": 133,
   "metadata": {},
   "outputs": [],
   "source": [
    "ratio_div_light_intensity =  SWIR_dataset_div_light_intensity.Band_001 / VNIR_dataset_div_light_intensity.Band_160"
   ]
  },
  {
   "cell_type": "code",
   "execution_count": 137,
   "metadata": {},
   "outputs": [],
   "source": [
    "adjusted_VNIR_dataset_div_light_intensity = VNIR_dataset_div_light_intensity.iloc[:,1:161].mul(\n",
    "                                                            ratio_div_light_intensity, axis=\"index\")"
   ]
  },
  {
   "cell_type": "code",
   "execution_count": 139,
   "metadata": {},
   "outputs": [],
   "source": [
    "adjusted_VNIR_dataset_div_light_intensity.insert(loc = 0, column = 'Img_name', \n",
    "                                                 value = VNIR_dataset_div_light_intensity.Img_name)"
   ]
  },
  {
   "cell_type": "code",
   "execution_count": 141,
   "metadata": {},
   "outputs": [],
   "source": [
    "merged_VNIR_SWIR_div_light_intensity = pd.merge(left = adjusted_VNIR_dataset_div_light_intensity,\n",
    "                                                right = SWIR_dataset_div_light_intensity,\n",
    "                                                how = 'inner', left_on = \"Img_name\", right_on = \"Img_name\")"
   ]
  },
  {
   "cell_type": "code",
   "execution_count": 143,
   "metadata": {},
   "outputs": [],
   "source": [
    "# renaming columns name \n",
    "columns_name = ['Img_name']\n",
    "name = np.arange(1, 417)\n",
    "for i in range(0, 416):\n",
    "    columns_name = np.append(columns_name, \"Band_{}\".format(name[i]))\n",
    "# inone.head(3)\n",
    "\n",
    "merged_VNIR_SWIR_div_light_intensity.columns = columns_name"
   ]
  },
  {
   "cell_type": "code",
   "execution_count": 144,
   "metadata": {},
   "outputs": [],
   "source": [
    "steps = np.arange(0, 416)"
   ]
  },
  {
   "cell_type": "code",
   "execution_count": 145,
   "metadata": {},
   "outputs": [
    {
     "data": {
      "image/png": "[encoded data removed]",
      "text/plain": [
       "<Figure size 864x432 with 1 Axes>"
      ]
     },
     "metadata": {
      "needs_background": "light"
     },
     "output_type": "display_data"
    }
   ],
   "source": [
    "plt.figure(figsize=(12,6))\n",
    "plt.scatter(steps, merged_VNIR_SWIR_div_light_intensity.iloc[0:1, 1:417])\n",
    "plt.scatter(steps, merged_VNIR_SWIR_div_light_intensity.iloc[1:2, 1:417])\n",
    "plt.scatter(steps, merged_VNIR_SWIR_div_light_intensity.iloc[2:3, 1:417])\n",
    "plt.show()"
   ]
  },
  {
   "cell_type": "code",
   "execution_count": 147,
   "metadata": {},
   "outputs": [],
   "source": [
    "merged_VNIR_SWIR_div_light_intensity.to_excel(\"Prepared_Datasets/merged_VNIR_SWIR_div_light_intensity.xlsx\")"
   ]
  },
  {
   "cell_type": "code",
   "execution_count": null,
   "metadata": {},
   "outputs": [],
   "source": []
  }
 ],
 "metadata": {
  "kernelspec": {
   "display_name": "Python 3",
   "language": "python",
   "name": "python3"
  },
  "language_info": {
   "codemirror_mode": {
    "name": "ipython",
    "version": 3
   },
   "file_extension": ".py",
   "mimetype": "text/x-python",
   "name": "python",
   "nbconvert_exporter": "python",
   "pygments_lexer": "ipython3",
   "version": "3.7.4"
  }
 },
 "nbformat": 4,
 "nbformat_minor": 2
}
